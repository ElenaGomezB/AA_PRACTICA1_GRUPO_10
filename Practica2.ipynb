{
  "nbformat": 4,
  "nbformat_minor": 0,
  "metadata": {
    "colab": {
      "name": "Untitled1.ipynb",
      "provenance": [],
      "authorship_tag": "ABX9TyNC1Zy9DeDqKv0/QMpyo6kZ",
      "include_colab_link": true
    },
    "kernelspec": {
      "name": "python3",
      "display_name": "Python 3"
    },
    "language_info": {
      "name": "python"
    },
    "accelerator": "GPU"
  },
  "cells": [
    {
      "cell_type": "markdown",
      "metadata": {
        "id": "view-in-github",
        "colab_type": "text"
      },
      "source": [
        "<a href=\"https://colab.research.google.com/github/ElenaGomezB/AA_PRACTICA1_GRUPO_10/blob/main/Practica2.ipynb\" target=\"_parent\"><img src=\"https://colab.research.google.com/assets/colab-badge.svg\" alt=\"Open In Colab\"/></a>"
      ]
    },
    {
      "cell_type": "markdown",
      "metadata": {
        "id": "RwFK2WEZgRje"
      },
      "source": [
        "#**PRÁCTICA 2 - REDES CONVOLUCIONALES**\n",
        "Grupo 10\n",
        "\n",
        "Elena Gómez \n",
        "\n",
        "Ana Muñoz"
      ]
    },
    {
      "cell_type": "markdown",
      "metadata": {
        "id": "z9JmR5mHgx7g"
      },
      "source": [
        "# **Objetivo**\n",
        "\n",
        "El  objetivo  de  esta  práctica  es  diseñar,  configurar  y  entrenar  un  modelo    Redes  de Neuronas Convolucionales. \n",
        "\n",
        "Crearemos un modelo  de Red  de  Neuronas  Convolucionales  que  sea  capaz  de  reconocer  y clasificar imágenes  de  ropa  en  sus  diferentes  tipologías.  Este  modelo  será  definido, \n",
        "configurado, entrenado, evaluado y mejorado para posteriormente usarlo para hacer predicciones.  \n",
        "\n",
        "Usaremos el conjunto de datos Fashion-MNIST, precargado en Keras.\n",
        "Fashion-MNIST  es  un  conjunto  de  datos  de  las  imágenes  de  los  artículos  de  Zalando. El conjunto de datos contiene 70K imágenes en escala de grises en 10 categorías.  Estas  imágenes  muestran  prendas  individuales  de  ropa  en  baja  resolución (28 x 28 píxeles)\n",
        "\n",
        "Se usan 60K imágenes para entrenar la red y 10K imágenes para evaluar la precisión con la que la red aprende a clasificar las imágenes"
      ]
    },
    {
      "cell_type": "markdown",
      "metadata": {
        "id": "T0Gvr5NQhkV0"
      },
      "source": [
        "- Importamos **tensorflow** y comprobamos que la versión es 2.0.0 o superior "
      ]
    },
    {
      "cell_type": "code",
      "metadata": {
        "id": "5h3urD15hq78",
        "colab": {
          "base_uri": "https://localhost:8080/"
        },
        "outputId": "47530b3f-5240-42b9-c873-04647a7f32c8"
      },
      "source": [
        "%tensorflow_version 2.x\n",
        "import tensorflow as tf\n",
        "from tensorflow import keras\n",
        "\n",
        "import numpy as np\n",
        "import matplotlib.pyplot as plt\n",
        "\n",
        "print(tf.__version__)#"
      ],
      "execution_count": 1,
      "outputs": [
        {
          "output_type": "stream",
          "name": "stdout",
          "text": [
            "2.7.0\n"
          ]
        }
      ]
    },
    {
      "cell_type": "markdown",
      "metadata": {
        "id": "3nrh1HnEhuTv"
      },
      "source": [
        "- **Datos Fashion-MNIST**\n",
        "\n",
        "A continuación, cargamos las imágenes y creamos un vector de 10 elementos en el que a cada posición se le asigna el nombre de cada prenda. ('class_names')\n",
        "\n",
        "\n",
        "\n"
      ]
    },
    {
      "cell_type": "code",
      "metadata": {
        "id": "JRKzeG_Oh2G0"
      },
      "source": [
        "# Importamos las imágenes\n",
        "from keras.datasets import fashion_mnist\n",
        "\n",
        "\n",
        "(train_images, train_labels), (test_images, test_labels) = fashion_mnist.load_data()\n",
        "\n",
        "# Creamos vector con las prendas\n",
        "class_names = ['T-shirt/top', 'Trouser', 'Pullover', 'Dress', 'Coat',\n",
        "               'Sandal', 'Shirt', 'Sneaker', 'Bag', 'Ankle boot']\n"
      ],
      "execution_count": 25,
      "outputs": []
    },
    {
      "cell_type": "markdown",
      "metadata": {
        "id": "9FvI-2EGiI3D"
      },
      "source": [
        "- **Creamos redes convolucionales**"
      ]
    },
    {
      "cell_type": "markdown",
      "metadata": {
        "id": "4KXtB23zmEVb"
      },
      "source": [
        "**Caso 2**"
      ]
    },
    {
      "cell_type": "code",
      "metadata": {
        "id": "8qBtzuGsiRU_",
        "colab": {
          "base_uri": "https://localhost:8080/"
        },
        "outputId": "be333cfd-9a2c-454c-af10-86f04f5e2e60"
      },
      "source": [
        "\n",
        "from tensorflow.keras import Sequential\n",
        "from tensorflow.keras.layers import Conv2D\n",
        "from tensorflow.keras.layers import MaxPooling2D\n",
        "\n",
        "model2 = Sequential()\n",
        "model2.add(Conv2D(64, (7, 7), padding='same', activation='relu', input_shape=(28, 28, 1)))\n",
        "model2.add(MaxPooling2D((2, 2)))\n",
        "model2.summary()\n",
        "#Explicacion summary:\n",
        "# [(7*7)+1]*64 = 3200 --> Obtenemos 64 matrices de 28*28 al añadirle padding\n",
        "#7*7 --> Tamaño de la ventana + 1--> umbral\n",
        "#Lo anterior * 64 filtros\n",
        "#En el maxpooling obtenemos 64 matriz de 14*14, no sale ningun parámetro ya que \n",
        "#no devuelve nada, simplemente aplica operaciones y reduce su tamaño"
      ],
      "execution_count": 5,
      "outputs": [
        {
          "output_type": "stream",
          "name": "stdout",
          "text": [
            "Model: \"sequential_1\"\n",
            "_________________________________________________________________\n",
            " Layer (type)                Output Shape              Param #   \n",
            "=================================================================\n",
            " conv2d_2 (Conv2D)           (None, 28, 28, 64)        3200      \n",
            "                                                                 \n",
            " max_pooling2d_2 (MaxPooling  (None, 14, 14, 64)       0         \n",
            " 2D)                                                             \n",
            "                                                                 \n",
            "=================================================================\n",
            "Total params: 3,200\n",
            "Trainable params: 3,200\n",
            "Non-trainable params: 0\n",
            "_________________________________________________________________\n"
          ]
        }
      ]
    },
    {
      "cell_type": "code",
      "metadata": {
        "id": "TzYLdIEGi3Da",
        "colab": {
          "base_uri": "https://localhost:8080/"
        },
        "outputId": "c8b77985-d718-4e31-d13b-f128a95ba289"
      },
      "source": [
        "#añadimos una segunda capa convolucional\n",
        "model2.add(Conv2D(128, (3, 3), padding='same', activation='relu'))\n",
        "model2.add(MaxPooling2D((2, 2)))\n",
        "model2.summary()\n",
        "#73856 =((3*3*64)+1)*128 --> matrices de 14*14\n",
        "#3*3(tamaño ventana)*64(filtros anteriores)+1(umbral)*128(filtros nuevos)\n",
        "#Con el Maxpooling obtenemos matrices de 7*7"
      ],
      "execution_count": 6,
      "outputs": [
        {
          "output_type": "stream",
          "name": "stdout",
          "text": [
            "Model: \"sequential_1\"\n",
            "_________________________________________________________________\n",
            " Layer (type)                Output Shape              Param #   \n",
            "=================================================================\n",
            " conv2d_2 (Conv2D)           (None, 28, 28, 64)        3200      \n",
            "                                                                 \n",
            " max_pooling2d_2 (MaxPooling  (None, 14, 14, 64)       0         \n",
            " 2D)                                                             \n",
            "                                                                 \n",
            " conv2d_3 (Conv2D)           (None, 14, 14, 128)       73856     \n",
            "                                                                 \n",
            " max_pooling2d_3 (MaxPooling  (None, 7, 7, 128)        0         \n",
            " 2D)                                                             \n",
            "                                                                 \n",
            "=================================================================\n",
            "Total params: 77,056\n",
            "Trainable params: 77,056\n",
            "Non-trainable params: 0\n",
            "_________________________________________________________________\n"
          ]
        }
      ]
    },
    {
      "cell_type": "code",
      "metadata": {
        "id": "wW5PWc2EkeP7",
        "colab": {
          "base_uri": "https://localhost:8080/"
        },
        "outputId": "bd61ec08-fe6b-4e3f-ebba-e68d7ecae0c3"
      },
      "source": [
        "from tensorflow.keras.layers import Dense\n",
        "from tensorflow.keras.layers import Flatten\n",
        "\n",
        "model2.add(Flatten())\n",
        "model2.add(Dense(65, activation='relu'))\n",
        "model2.add(Dense(10, activation='softmax'))\n",
        "model2.summary()\n",
        "#Flatten:\n",
        "#Antes tenemos que ajustar los tensores a la entrada de la capa\n",
        "#densa. Pasar de un tensor 3D a uno 1D (aplanar).\n",
        "#Nuestra salida (4,4,128) se debe pasar a un vector de \n",
        "#(4x4x128=2048) antes de aplicar softmax)\n",
        "#Primera capa densa:\n",
        "#(65*2048)+65 = 133185\n",
        "#Segunda capa densa(softmax):\n",
        "#(10*65)+10 = 660"
      ],
      "execution_count": 7,
      "outputs": [
        {
          "output_type": "stream",
          "name": "stdout",
          "text": [
            "Model: \"sequential_1\"\n",
            "_________________________________________________________________\n",
            " Layer (type)                Output Shape              Param #   \n",
            "=================================================================\n",
            " conv2d_2 (Conv2D)           (None, 28, 28, 64)        3200      \n",
            "                                                                 \n",
            " max_pooling2d_2 (MaxPooling  (None, 14, 14, 64)       0         \n",
            " 2D)                                                             \n",
            "                                                                 \n",
            " conv2d_3 (Conv2D)           (None, 14, 14, 128)       73856     \n",
            "                                                                 \n",
            " max_pooling2d_3 (MaxPooling  (None, 7, 7, 128)        0         \n",
            " 2D)                                                             \n",
            "                                                                 \n",
            " flatten (Flatten)           (None, 6272)              0         \n",
            "                                                                 \n",
            " dense (Dense)               (None, 65)                407745    \n",
            "                                                                 \n",
            " dense_1 (Dense)             (None, 10)                660       \n",
            "                                                                 \n",
            "=================================================================\n",
            "Total params: 485,461\n",
            "Trainable params: 485,461\n",
            "Non-trainable params: 0\n",
            "_________________________________________________________________\n"
          ]
        }
      ]
    },
    {
      "cell_type": "code",
      "metadata": {
        "id": "mBNlBRLGk2iQ",
        "colab": {
          "base_uri": "https://localhost:8080/"
        },
        "outputId": "01b0d9ad-ab0b-4718-c5e7-fa3a3d8bdfe0"
      },
      "source": [
        "#Antes de compilar y entrenar los modelos, preparamos los datos\n",
        "from keras.utils.np_utils import to_categorical\n",
        "import tensorflow as tf\n",
        "\n",
        "#fashion_mnist = tf.keras.datasets.fashion_mnist\n",
        "#(train_images, train_labels), (test_images, test_labels) = fashion_mnist.load_data()\n",
        "\n",
        "print (train_images.shape)\n",
        "print (train_labels.shape)\n",
        "train_images = train_images.reshape((60000, 28, 28, 1))\n",
        "train_images = train_images.astype('float32') / 255\n",
        "\n",
        "test_images = test_images.reshape((10000, 28, 28, 1))\n",
        "test_images = test_images.astype('float32') / 255\n",
        "\n",
        "#etiquetas\n",
        "#model2.add(Flatten(input_shape=(28,28)))\n",
        "\n",
        "print (train_images.shape)\n",
        "print (train_labels.shape)\n",
        "\n"
      ],
      "execution_count": 26,
      "outputs": [
        {
          "output_type": "stream",
          "name": "stdout",
          "text": [
            "(60000, 28, 28)\n",
            "(60000,)\n",
            "(60000, 28, 28, 1)\n",
            "(60000,)\n"
          ]
        }
      ]
    },
    {
      "cell_type": "code",
      "metadata": {
        "id": "VhnBDxB2k-X1",
        "colab": {
          "base_uri": "https://localhost:8080/"
        },
        "outputId": "fb8ab025-901c-4fb0-fea3-61df82afe136"
      },
      "source": [
        "model2.compile(loss='sparse_categorical_crossentropy',\n",
        "              optimizer='sgd',\n",
        "              metrics=['accuracy'])\n",
        "\n",
        "model2.fit(train_images, train_labels,\n",
        "          batch_size=100,\n",
        "          epochs=5,\n",
        "          verbose=1)\n",
        "\n",
        "test_loss, test_acc = model2.evaluate(test_images, test_labels)\n",
        "\n",
        "print('Test accuracy:', test_acc)"
      ],
      "execution_count": 9,
      "outputs": [
        {
          "output_type": "stream",
          "name": "stdout",
          "text": [
            "Epoch 1/5\n",
            "600/600 [==============================] - 16s 12ms/step - loss: 1.1104 - accuracy: 0.6062\n",
            "Epoch 2/5\n",
            "600/600 [==============================] - 7s 12ms/step - loss: 0.6666 - accuracy: 0.7550\n",
            "Epoch 3/5\n",
            "600/600 [==============================] - 7s 12ms/step - loss: 0.5833 - accuracy: 0.7868\n",
            "Epoch 4/5\n",
            "600/600 [==============================] - 7s 12ms/step - loss: 0.5308 - accuracy: 0.8081\n",
            "Epoch 5/5\n",
            "600/600 [==============================] - 7s 12ms/step - loss: 0.4930 - accuracy: 0.8213\n",
            "313/313 [==============================] - 2s 5ms/step - loss: 0.4835 - accuracy: 0.8315\n",
            "Test accuracy: 0.8314999938011169\n"
          ]
        }
      ]
    },
    {
      "cell_type": "markdown",
      "metadata": {
        "id": "ELH-qLY8mBXN"
      },
      "source": [
        "**Caso 3**"
      ]
    },
    {
      "cell_type": "code",
      "metadata": {
        "id": "rh38lCKpmAtt",
        "colab": {
          "base_uri": "https://localhost:8080/"
        },
        "outputId": "e3c6377e-7d12-4625-f56d-bb70cbcbf21b"
      },
      "source": [
        "#from tensorflow.keras import Sequential\n",
        "#from tensorflow.keras.layers import Conv2D\n",
        "#from tensorflow.keras.layers import MaxPooling2D\n",
        "\n",
        "model3 = Sequential()\n",
        "model3.add(Conv2D(64, (7, 7), padding = 'same', activation='relu', input_shape=(28, 28, 1)))\n",
        "model3.add(MaxPooling2D((2, 2)))\n",
        "model3.summary()\n",
        "#Explicacion summary:\n",
        "# [(7*7)+1]*64 = 3200 --> Obtenemos 64 matrices de 22*22\n",
        "#7*7 --> Tamaño de la ventana + 1--> umbral\n",
        "#Lo anterior * 64 filtros\n",
        "#En el maxpooling obtenemos 64 matriz de 11*11, no sale ningun parámetro ya que \n",
        "#no devuelve nada, simplemente aplica operaciones y reduce su tamaño"
      ],
      "execution_count": 11,
      "outputs": [
        {
          "output_type": "stream",
          "name": "stdout",
          "text": [
            "Model: \"sequential_3\"\n",
            "_________________________________________________________________\n",
            " Layer (type)                Output Shape              Param #   \n",
            "=================================================================\n",
            " conv2d_5 (Conv2D)           (None, 28, 28, 64)        3200      \n",
            "                                                                 \n",
            " max_pooling2d_5 (MaxPooling  (None, 14, 14, 64)       0         \n",
            " 2D)                                                             \n",
            "                                                                 \n",
            "=================================================================\n",
            "Total params: 3,200\n",
            "Trainable params: 3,200\n",
            "Non-trainable params: 0\n",
            "_________________________________________________________________\n"
          ]
        }
      ]
    },
    {
      "cell_type": "code",
      "metadata": {
        "id": "YqE71nAvmK_U",
        "colab": {
          "base_uri": "https://localhost:8080/"
        },
        "outputId": "b66cbb54-c58e-42cb-de54-b45dfe830fd4"
      },
      "source": [
        "model3.add(Conv2D(128, (3, 3), padding = 'same', activation='relu'))\n",
        "model3.add(MaxPooling2D((2, 2)))\n",
        "model3.summary()\n",
        "#73856 = ((3*3*64)+1)*128 --> matrices de 14*14\n",
        "#3*3(tamaño ventana)*64(filtros anteriores)+1(umbral)*128(filtros nuevos)\n",
        "#Con el Maxpooling obtenemos matrices de 7*7"
      ],
      "execution_count": 12,
      "outputs": [
        {
          "output_type": "stream",
          "name": "stdout",
          "text": [
            "Model: \"sequential_3\"\n",
            "_________________________________________________________________\n",
            " Layer (type)                Output Shape              Param #   \n",
            "=================================================================\n",
            " conv2d_5 (Conv2D)           (None, 28, 28, 64)        3200      \n",
            "                                                                 \n",
            " max_pooling2d_5 (MaxPooling  (None, 14, 14, 64)       0         \n",
            " 2D)                                                             \n",
            "                                                                 \n",
            " conv2d_6 (Conv2D)           (None, 14, 14, 128)       73856     \n",
            "                                                                 \n",
            " max_pooling2d_6 (MaxPooling  (None, 7, 7, 128)        0         \n",
            " 2D)                                                             \n",
            "                                                                 \n",
            "=================================================================\n",
            "Total params: 77,056\n",
            "Trainable params: 77,056\n",
            "Non-trainable params: 0\n",
            "_________________________________________________________________\n"
          ]
        }
      ]
    },
    {
      "cell_type": "code",
      "metadata": {
        "id": "nh2QJumhmSfh",
        "colab": {
          "base_uri": "https://localhost:8080/"
        },
        "outputId": "42b6a5cf-56bb-46aa-efd6-8c50fa251279"
      },
      "source": [
        "from tensorflow.keras.layers import Dense\n",
        "from tensorflow.keras.layers import Flatten\n",
        "\n",
        "model3.add(Flatten())\n",
        "model3.add(Dense(65, activation='relu'))\n",
        "model3.add(Dense(10, activation='softmax'))\n",
        "model3.summary()\n",
        "#Flatten:\n",
        "#Antes tenemos que ajustar los tensores a la entrada de la capa\n",
        "#densa. Pasar de un tensor 3D a uno 1D (aplanar).\n",
        "#Nuestra salida (4,4,128) se debe pasar a un vector de \n",
        "#(4x4x128=2048) antes de aplicar softmax)\n",
        "#Primera capa densa:\n",
        "#(65*2048)+65 = 133185\n",
        "#Segunda capa densa(softmax):\n",
        "#(10*65)+10 = 660"
      ],
      "execution_count": 13,
      "outputs": [
        {
          "output_type": "stream",
          "name": "stdout",
          "text": [
            "Model: \"sequential_3\"\n",
            "_________________________________________________________________\n",
            " Layer (type)                Output Shape              Param #   \n",
            "=================================================================\n",
            " conv2d_5 (Conv2D)           (None, 28, 28, 64)        3200      \n",
            "                                                                 \n",
            " max_pooling2d_5 (MaxPooling  (None, 14, 14, 64)       0         \n",
            " 2D)                                                             \n",
            "                                                                 \n",
            " conv2d_6 (Conv2D)           (None, 14, 14, 128)       73856     \n",
            "                                                                 \n",
            " max_pooling2d_6 (MaxPooling  (None, 7, 7, 128)        0         \n",
            " 2D)                                                             \n",
            "                                                                 \n",
            " flatten_1 (Flatten)         (None, 6272)              0         \n",
            "                                                                 \n",
            " dense_2 (Dense)             (None, 65)                407745    \n",
            "                                                                 \n",
            " dense_3 (Dense)             (None, 10)                660       \n",
            "                                                                 \n",
            "=================================================================\n",
            "Total params: 485,461\n",
            "Trainable params: 485,461\n",
            "Non-trainable params: 0\n",
            "_________________________________________________________________\n"
          ]
        }
      ]
    },
    {
      "cell_type": "code",
      "metadata": {
        "id": "A_HTXR5wmYVe",
        "colab": {
          "base_uri": "https://localhost:8080/"
        },
        "outputId": "22b6b8b7-9100-4a3e-b99a-cea89a21f2bf"
      },
      "source": [
        "model3.compile(loss='sparse_categorical_crossentropy',\n",
        "              optimizer='adam',\n",
        "              metrics=['accuracy'])\n",
        "\n",
        "model3.fit(train_images, train_labels,\n",
        "          batch_size=100,\n",
        "          epochs=5,\n",
        "          verbose=1)\n",
        "\n",
        "test_loss, test_acc = model3.evaluate(test_images, test_labels)\n",
        "\n",
        "print('Test accuracy:', test_acc)"
      ],
      "execution_count": 14,
      "outputs": [
        {
          "output_type": "stream",
          "name": "stdout",
          "text": [
            "Epoch 1/5\n",
            "600/600 [==============================] - 8s 12ms/step - loss: 0.4699 - accuracy: 0.8314\n",
            "Epoch 2/5\n",
            "600/600 [==============================] - 7s 12ms/step - loss: 0.3002 - accuracy: 0.8931\n",
            "Epoch 3/5\n",
            "600/600 [==============================] - 7s 12ms/step - loss: 0.2571 - accuracy: 0.9068\n",
            "Epoch 4/5\n",
            "600/600 [==============================] - 7s 12ms/step - loss: 0.2255 - accuracy: 0.9165\n",
            "Epoch 5/5\n",
            "600/600 [==============================] - 7s 12ms/step - loss: 0.2020 - accuracy: 0.9256\n",
            "313/313 [==============================] - 2s 5ms/step - loss: 0.2518 - accuracy: 0.9102\n",
            "Test accuracy: 0.9101999998092651\n"
          ]
        }
      ]
    },
    {
      "cell_type": "markdown",
      "metadata": {
        "id": "6eFvA2nxdVZf"
      },
      "source": [
        "#**PREDICCIONES**"
      ]
    },
    {
      "cell_type": "code",
      "metadata": {
        "id": "0SDMixJUdpCN",
        "colab": {
          "base_uri": "https://localhost:8080/",
          "height": 369
        },
        "outputId": "350f4086-9a9a-41fc-8eba-21f06a0e9868"
      },
      "source": [
        "# Veamos el elemento 6 de test y pintémoslo con matplotlib\n",
        "from keras.datasets import fashion_mnist\n",
        "(train_images, train_labels), (test_images, test_labels) = fashion_mnist.load_data()\n",
        "import matplotlib.pyplot as plt\n",
        "\n",
        "digit = test_images[5]\n",
        "plt.imshow(digit, cmap=plt.cm.binary)\n",
        "plt.show()\n",
        "print (train_images.shape)\n",
        "print (train_labels.shape)\n",
        "train_images = train_images.reshape((60000, 28, 28, 1))\n",
        "train_images = train_images.astype('float32') / 255\n",
        "\n",
        "test_images = test_images.reshape((10000, 28, 28, 1))\n",
        "test_images = test_images.astype('float32') / 255\n",
        "print (train_images.shape)\n",
        "print (train_labels.shape)\n",
        "\n",
        "from keras.utils.np_utils import to_categorical\n",
        "\n",
        "print(test_labels)\n",
        "print(test_labels[5])\n",
        "\n",
        "\n",
        "\n"
      ],
      "execution_count": 15,
      "outputs": [
        {
          "output_type": "display_data",
          "data": {
            "image/png": "[encoded data removed]",
            "text/plain": [
              "<Figure size 432x288 with 1 Axes>"
            ]
          },
          "metadata": {
            "needs_background": "light"
          }
        },
        {
          "output_type": "stream",
          "name": "stdout",
          "text": [
            "(60000, 28, 28)\n",
            "(60000,)\n",
            "(60000, 28, 28, 1)\n",
            "(60000,)\n",
            "[9 2 1 ... 8 1 5]\n",
            "1\n"
          ]
        }
      ]
    },
    {
      "cell_type": "markdown",
      "metadata": {
        "id": "E5Gi_G66fPBq"
      },
      "source": [
        "**modelo 2**"
      ]
    },
    {
      "cell_type": "code",
      "metadata": {
        "id": "PhvsXQUvdaI_",
        "colab": {
          "base_uri": "https://localhost:8080/"
        },
        "outputId": "06aa4936-d3bd-4060-e5de-6c39e427b19b"
      },
      "source": [
        "\n",
        "predictions2 = model2.predict(test_images)\n",
        "print(np.argmax(predictions2[5]))\n",
        "print(predictions2[5])\n",
        "np.sum(predictions2[5])\n",
        "print(predictions2)"
      ],
      "execution_count": 17,
      "outputs": [
        {
          "output_type": "stream",
          "name": "stdout",
          "text": [
            "1\n",
            "[8.1256911e-04 9.9199003e-01 3.7360680e-04 6.3452491e-04 5.5950931e-03\n",
            " 2.3128417e-08 5.7758007e-04 5.4779485e-07 1.5117234e-05 1.0165229e-06]\n",
            "[[4.8753568e-06 1.0492531e-06 3.4360862e-06 ... 2.9159436e-01\n",
            "  2.6160257e-03 6.2838560e-01]\n",
            " [1.4516161e-04 1.1501964e-05 9.2922390e-01 ... 1.3699228e-09\n",
            "  8.4860447e-05 8.1146867e-09]\n",
            " [2.6048852e-05 9.9963236e-01 1.0719565e-05 ... 8.4444615e-08\n",
            "  8.2729179e-07 1.5262565e-07]\n",
            " ...\n",
            " [4.3851426e-03 2.2133572e-06 9.8862883e-04 ... 5.0423601e-05\n",
            "  9.3653429e-01 1.1824948e-05]\n",
            " [8.8348729e-04 9.4913942e-01 4.2376501e-04 ... 6.5571570e-05\n",
            "  5.4106378e-05 1.8346997e-04]\n",
            " [9.6310716e-05 2.6024845e-05 2.9694574e-04 ... 3.0974213e-02\n",
            "  1.6774492e-02 1.8676055e-03]]\n"
          ]
        }
      ]
    },
    {
      "cell_type": "markdown",
      "metadata": {
        "id": "g1eD8bqwmezD"
      },
      "source": [
        "**modelo 3**"
      ]
    },
    {
      "cell_type": "code",
      "metadata": {
        "id": "2oglU-uafUVj",
        "colab": {
          "base_uri": "https://localhost:8080/"
        },
        "outputId": "dd3c1371-0c64-4c5a-b85d-db2efb988bd1"
      },
      "source": [
        "\n",
        "predictions3 = model3.predict(test_images)\n",
        "print(np.argmax(predictions3[5]))\n",
        "print(predictions3[5])\n",
        "np.sum(predictions3[5])\n",
        "print(predictions3)"
      ],
      "execution_count": 18,
      "outputs": [
        {
          "output_type": "stream",
          "name": "stdout",
          "text": [
            "1\n",
            "[6.1181236e-05 9.9984229e-01 1.9802586e-05 2.8242108e-05 1.2945108e-05\n",
            " 4.9368141e-06 1.3147102e-06 1.0623098e-09 2.8540373e-05 7.3584721e-07]\n",
            "[[5.8233439e-08 4.1165373e-07 9.4232786e-07 ... 2.1885652e-03\n",
            "  4.6638588e-06 9.9666935e-01]\n",
            " [3.7233232e-05 5.4547058e-08 9.9990177e-01 ... 1.3572654e-12\n",
            "  5.2310742e-07 1.0846212e-08]\n",
            " [1.0864288e-06 9.9999130e-01 9.9590620e-09 ... 5.9909235e-12\n",
            "  2.7995366e-08 3.4445053e-09]\n",
            " ...\n",
            " [1.4224303e-05 7.6980005e-09 6.2978779e-06 ... 2.7980157e-08\n",
            "  9.9996865e-01 1.8889497e-09]\n",
            " [6.0011575e-06 9.9998522e-01 4.1311761e-08 ... 1.3438154e-09\n",
            "  5.1779088e-09 5.8584885e-07]\n",
            " [4.7036689e-03 9.5714879e-04 2.3293367e-03 ... 2.9930741e-01\n",
            "  1.8812753e-01 1.4136704e-02]]\n"
          ]
        }
      ]
    },
    {
      "cell_type": "markdown",
      "metadata": {
        "id": "T6l9DKTcHUHk"
      },
      "source": [
        "14 primeras imagenes"
      ]
    },
    {
      "cell_type": "code",
      "metadata": {
        "id": "A6xcm9_IHTpa"
      },
      "source": [
        "def plot_image(i, predictions_array, true_label, img):\n",
        "  predictions_array, true_label, img = predictions_array, true_label[i], img[i]\n",
        "  plt.grid(False)\n",
        "  plt.xticks([])\n",
        "  plt.yticks([])\n",
        "\n",
        "  plt.imshow(img, cmap=plt.cm.binary)    \n",
        "\n",
        "  predicted_label = np.argmax(predictions_array)\n",
        "  if predicted_label.all() == true_label.all():\n",
        "    color = 'blue'\n",
        "  else:\n",
        "    color = 'red'\n",
        "\n",
        "  plt.xlabel(\"{} {:2.0f}% ({})\".format(predicted_label,\n",
        "                                100*np.max(predictions_array),\n",
        "                                true_label),\n",
        "                                color=color)\n",
        "\n",
        "def plot_value_array(i, predictions_array, true_label):\n",
        "  predictions_array, true_label = predictions_array, true_label[i]\n",
        "  plt.grid(False)\n",
        "  plt.xticks(range(10))\n",
        "  plt.yticks([])\n",
        "  thisplot = plt.bar(range(10), predictions_array, color=\"#00FF00\")\n",
        "  plt.ylim([0, 1])\n",
        "  predicted_label = np.argmax(predictions_array)\n",
        "\n",
        "  thisplot[predicted_label].set_color('red')\n",
        "  thisplot[true_label].set_color('black')"
      ],
      "execution_count": 19,
      "outputs": []
    },
    {
      "cell_type": "code",
      "metadata": {
        "id": "OslNHKdFH1Eh",
        "outputId": "99bd4b21-f544-49ef-a2a8-82b8918d8b9b",
        "colab": {
          "base_uri": "https://localhost:8080/",
          "height": 1000
        }
      },
      "source": [
        "for i in range(14):\n",
        "    plt.figure(figsize=(6,3))\n",
        "    plt.subplot(1,2,1)\n",
        "    plot_image(i, predictions2[i], test_labels, test_images.reshape(10000,28,28))\n",
        "    plt.subplot(1,2,2)\n",
        "    plot_value_array(i, predictions2[i],  test_labels)\n",
        "    plt.show()\n",
        "    plt.clf()"
      ],
      "execution_count": 20,
      "outputs": [
        {
          "output_type": "display_data",
          "data": {
            "image/png": "[encoded data removed]",
            "text/plain": [
              "<Figure size 432x216 with 2 Axes>"
            ]
          },
          "metadata": {
            "needs_background": "light"
          }
        },
        {
          "output_type": "display_data",
          "data": {
            "text/plain": [
              "<Figure size 432x288 with 0 Axes>"
            ]
          },
          "metadata": {}
        },
        {
          "output_type": "display_data",
          "data": {
            "image/png": "[encoded data removed]",
            "text/plain": [
              "<Figure size 432x216 with 2 Axes>"
            ]
          },
          "metadata": {
            "needs_background": "light"
          }
        },
        {
          "output_type": "display_data",
          "data": {
            "text/plain": [
              "<Figure size 432x288 with 0 Axes>"
            ]
          },
          "metadata": {}
        },
        {
          "output_type": "display_data",
          "data": {
            "image/png": "[encoded data removed]",
            "text/plain": [
              "<Figure size 432x216 with 2 Axes>"
            ]
          },
          "metadata": {
            "needs_background": "light"
          }
        },
        {
          "output_type": "display_data",
          "data": {
            "text/plain": [
              "<Figure size 432x288 with 0 Axes>"
            ]
          },
          "metadata": {}
        },
        {
          "output_type": "display_data",
          "data": {
            "image/png": "[encoded data removed]",
            "text/plain": [
              "<Figure size 432x216 with 2 Axes>"
            ]
          },
          "metadata": {
            "needs_background": "light"
          }
        },
        {
          "output_type": "display_data",
          "data": {
            "text/plain": [
              "<Figure size 432x288 with 0 Axes>"
            ]
          },
          "metadata": {}
        },
        {
          "output_type": "display_data",
          "data": {
            "image/png": "[encoded data removed]",
            "text/plain": [
              "<Figure size 432x216 with 2 Axes>"
            ]
          },
          "metadata": {
            "needs_background": "light"
          }
        },
        {
          "output_type": "display_data",
          "data": {
            "text/plain": [
              "<Figure size 432x288 with 0 Axes>"
            ]
          },
          "metadata": {}
        },
        {
          "output_type": "display_data",
          "data": {
            "image/png": "[encoded data removed]",
            "text/plain": [
              "<Figure size 432x216 with 2 Axes>"
            ]
          },
          "metadata": {
            "needs_background": "light"
          }
        },
        {
          "output_type": "display_data",
          "data": {
            "text/plain": [
              "<Figure size 432x288 with 0 Axes>"
            ]
          },
          "metadata": {}
        },
        {
          "output_type": "display_data",
          "data": {
            "image/png": "[encoded data removed]",
            "text/plain": [
              "<Figure size 432x216 with 2 Axes>"
            ]
          },
          "metadata": {
            "needs_background": "light"
          }
        },
        {
          "output_type": "display_data",
          "data": {
            "text/plain": [
              "<Figure size 432x288 with 0 Axes>"
            ]
          },
          "metadata": {}
        },
        {
          "output_type": "display_data",
          "data": {
            "image/png": "[encoded data removed]",
            "text/plain": [
              "<Figure size 432x216 with 2 Axes>"
            ]
          },
          "metadata": {
            "needs_background": "light"
          }
        },
        {
          "output_type": "display_data",
          "data": {
            "text/plain": [
              "<Figure size 432x288 with 0 Axes>"
            ]
          },
          "metadata": {}
        },
        {
          "output_type": "display_data",
          "data": {
            "image/png": "[encoded data removed]",
            "text/plain": [
              "<Figure size 432x216 with 2 Axes>"
            ]
          },
          "metadata": {
            "needs_background": "light"
          }
        },
        {
          "output_type": "display_data",
          "data": {
            "text/plain": [
              "<Figure size 432x288 with 0 Axes>"
            ]
          },
          "metadata": {}
        },
        {
          "output_type": "display_data",
          "data": {
            "image/png": "[encoded data removed]",
            "text/plain": [
              "<Figure size 432x216 with 2 Axes>"
            ]
          },
          "metadata": {
            "needs_background": "light"
          }
        },
        {
          "output_type": "display_data",
          "data": {
            "text/plain": [
              "<Figure size 432x288 with 0 Axes>"
            ]
          },
          "metadata": {}
        },
        {
          "output_type": "display_data",
          "data": {
            "image/png": "[encoded data removed]",
            "text/plain": [
              "<Figure size 432x216 with 2 Axes>"
            ]
          },
          "metadata": {
            "needs_background": "light"
          }
        },
        {
          "output_type": "display_data",
          "data": {
            "text/plain": [
              "<Figure size 432x288 with 0 Axes>"
            ]
          },
          "metadata": {}
        },
        {
          "output_type": "display_data",
          "data": {
            "image/png": "[encoded data removed]",
            "text/plain": [
              "<Figure size 432x216 with 2 Axes>"
            ]
          },
          "metadata": {
            "needs_background": "light"
          }
        },
        {
          "output_type": "display_data",
          "data": {
            "text/plain": [
              "<Figure size 432x288 with 0 Axes>"
            ]
          },
          "metadata": {}
        },
        {
          "output_type": "display_data",
          "data": {
            "image/png": "[encoded data removed]",
            "text/plain": [
              "<Figure size 432x216 with 2 Axes>"
            ]
          },
          "metadata": {
            "needs_background": "light"
          }
        },
        {
          "output_type": "display_data",
          "data": {
            "text/plain": [
              "<Figure size 432x288 with 0 Axes>"
            ]
          },
          "metadata": {}
        },
        {
          "output_type": "display_data",
          "data": {
            "image/png": "[encoded data removed]",
            "text/plain": [
              "<Figure size 432x216 with 2 Axes>"
            ]
          },
          "metadata": {
            "needs_background": "light"
          }
        },
        {
          "output_type": "display_data",
          "data": {
            "text/plain": [
              "<Figure size 432x288 with 0 Axes>"
            ]
          },
          "metadata": {}
        }
      ]
    },
    {
      "cell_type": "code",
      "metadata": {
        "id": "rT2SnGPlIGEF",
        "outputId": "dce42668-d255-4d8d-d190-703e5c02b3b6",
        "colab": {
          "base_uri": "https://localhost:8080/",
          "height": 1000
        }
      },
      "source": [
        "for i in range(14):\n",
        "    plt.figure(figsize=(6,3))\n",
        "    plt.subplot(1,2,1)\n",
        "    plot_image(i, predictions3[i], test_labels, test_images.reshape(10000,28,28))\n",
        "    plt.subplot(1,2,2)\n",
        "    plot_value_array(i, predictions3[i],  test_labels)\n",
        "    plt.show()\n",
        "    plt.clf()"
      ],
      "execution_count": 21,
      "outputs": [
        {
          "output_type": "display_data",
          "data": {
            "image/png": "[encoded data removed]",
            "text/plain": [
              "<Figure size 432x216 with 2 Axes>"
            ]
          },
          "metadata": {
            "needs_background": "light"
          }
        },
        {
          "output_type": "display_data",
          "data": {
            "text/plain": [
              "<Figure size 432x288 with 0 Axes>"
            ]
          },
          "metadata": {}
        },
        {
          "output_type": "display_data",
          "data": {
            "image/png": "[encoded data removed]",
            "text/plain": [
              "<Figure size 432x216 with 2 Axes>"
            ]
          },
          "metadata": {
            "needs_background": "light"
          }
        },
        {
          "output_type": "display_data",
          "data": {
            "text/plain": [
              "<Figure size 432x288 with 0 Axes>"
            ]
          },
          "metadata": {}
        },
        {
          "output_type": "display_data",
          "data": {
            "image/png": "[encoded data removed]",
            "text/plain": [
              "<Figure size 432x216 with 2 Axes>"
            ]
          },
          "metadata": {
            "needs_background": "light"
          }
        },
        {
          "output_type": "display_data",
          "data": {
            "text/plain": [
              "<Figure size 432x288 with 0 Axes>"
            ]
          },
          "metadata": {}
        },
        {
          "output_type": "display_data",
          "data": {
            "image/png": "[encoded data removed]",
            "text/plain": [
              "<Figure size 432x216 with 2 Axes>"
            ]
          },
          "metadata": {
            "needs_background": "light"
          }
        },
        {
          "output_type": "display_data",
          "data": {
            "text/plain": [
              "<Figure size 432x288 with 0 Axes>"
            ]
          },
          "metadata": {}
        },
        {
          "output_type": "display_data",
          "data": {
            "image/png": "[encoded data removed]",
            "text/plain": [
              "<Figure size 432x216 with 2 Axes>"
            ]
          },
          "metadata": {
            "needs_background": "light"
          }
        },
        {
          "output_type": "display_data",
          "data": {
            "text/plain": [
              "<Figure size 432x288 with 0 Axes>"
            ]
          },
          "metadata": {}
        },
        {
          "output_type": "display_data",
          "data": {
            "image/png": "[encoded data removed]",
            "text/plain": [
              "<Figure size 432x216 with 2 Axes>"
            ]
          },
          "metadata": {
            "needs_background": "light"
          }
        },
        {
          "output_type": "display_data",
          "data": {
            "text/plain": [
              "<Figure size 432x288 with 0 Axes>"
            ]
          },
          "metadata": {}
        },
        {
          "output_type": "display_data",
          "data": {
            "image/png": "[encoded data removed]",
            "text/plain": [
              "<Figure size 432x216 with 2 Axes>"
            ]
          },
          "metadata": {
            "needs_background": "light"
          }
        },
        {
          "output_type": "display_data",
          "data": {
            "text/plain": [
              "<Figure size 432x288 with 0 Axes>"
            ]
          },
          "metadata": {}
        },
        {
          "output_type": "display_data",
          "data": {
            "image/png": "[encoded data removed]",
            "text/plain": [
              "<Figure size 432x216 with 2 Axes>"
            ]
          },
          "metadata": {
            "needs_background": "light"
          }
        },
        {
          "output_type": "display_data",
          "data": {
            "text/plain": [
              "<Figure size 432x288 with 0 Axes>"
            ]
          },
          "metadata": {}
        },
        {
          "output_type": "display_data",
          "data": {
            "image/png": "[encoded data removed]",
            "text/plain": [
              "<Figure size 432x216 with 2 Axes>"
            ]
          },
          "metadata": {
            "needs_background": "light"
          }
        },
        {
          "output_type": "display_data",
          "data": {
            "text/plain": [
              "<Figure size 432x288 with 0 Axes>"
            ]
          },
          "metadata": {}
        },
        {
          "output_type": "display_data",
          "data": {
            "image/png": "[encoded data removed]",
            "text/plain": [
              "<Figure size 432x216 with 2 Axes>"
            ]
          },
          "metadata": {
            "needs_background": "light"
          }
        },
        {
          "output_type": "display_data",
          "data": {
            "text/plain": [
              "<Figure size 432x288 with 0 Axes>"
            ]
          },
          "metadata": {}
        },
        {
          "output_type": "display_data",
          "data": {
            "image/png": "[encoded data removed]",
            "text/plain": [
              "<Figure size 432x216 with 2 Axes>"
            ]
          },
          "metadata": {
            "needs_background": "light"
          }
        },
        {
          "output_type": "display_data",
          "data": {
            "text/plain": [
              "<Figure size 432x288 with 0 Axes>"
            ]
          },
          "metadata": {}
        },
        {
          "output_type": "display_data",
          "data": {
            "image/png": "[encoded data removed]",
            "text/plain": [
              "<Figure size 432x216 with 2 Axes>"
            ]
          },
          "metadata": {
            "needs_background": "light"
          }
        },
        {
          "output_type": "display_data",
          "data": {
            "text/plain": [
              "<Figure size 432x288 with 0 Axes>"
            ]
          },
          "metadata": {}
        },
        {
          "output_type": "display_data",
          "data": {
            "image/png": "[encoded data removed]",
            "text/plain": [
              "<Figure size 432x216 with 2 Axes>"
            ]
          },
          "metadata": {
            "needs_background": "light"
          }
        },
        {
          "output_type": "display_data",
          "data": {
            "text/plain": [
              "<Figure size 432x288 with 0 Axes>"
            ]
          },
          "metadata": {}
        },
        {
          "output_type": "display_data",
          "data": {
            "image/png": "[encoded data removed]",
            "text/plain": [
              "<Figure size 432x216 with 2 Axes>"
            ]
          },
          "metadata": {
            "needs_background": "light"
          }
        },
        {
          "output_type": "display_data",
          "data": {
            "text/plain": [
              "<Figure size 432x288 with 0 Axes>"
            ]
          },
          "metadata": {}
        }
      ]
    },
    {
      "cell_type": "markdown",
      "metadata": {
        "id": "zi1OxQpxOz5Y"
      },
      "source": [
        "# **Callbacks API**\n",
        "Una \"callback\" o devolución de llamada es un objeto que puede realizar acciones en varias etapas del entrenamiento (por ejemplo, al comienzo o al final de una época, antes o después de un solo lote, etc.).\n",
        "\n",
        "Puede usar devoluciones de llamada para:\n",
        "\n",
        " \n",
        "\n",
        "*   Escribir registros de TensorBoard después de cada lote de entrenamiento     para monitorear sus métricas\n",
        "*   Guarde periódicamente el modelo en el disco\n",
        "*   Hacer paradas tempranas\n",
        "*   Obtener una vista de los estados internos y las estadísticas de un modelo durante el entrenamiento\n",
        "*   etc\n"
      ]
    },
    {
      "cell_type": "markdown",
      "metadata": {
        "id": "QAFAtYe6QVKV"
      },
      "source": [
        "*   **Creamos un modelo implementando callback**"
      ]
    },
    {
      "cell_type": "code",
      "metadata": {
        "id": "uFlyh5x5QDoq",
        "outputId": "46aa8d61-4f38-4e4d-a18c-5e057dc49162",
        "colab": {
          "base_uri": "https://localhost:8080/"
        }
      },
      "source": [
        "from tensorflow.keras import Sequential\n",
        "from tensorflow.keras.layers import Conv2D\n",
        "from tensorflow.keras.layers import MaxPooling2D\n",
        "from tensorflow.keras.layers import Dense\n",
        "from tensorflow.keras.layers import Flatten\n",
        "\n",
        "modelnuevo = Sequential()\n",
        "modelnuevo.add(Conv2D(64, (7, 7), padding='same', activation='relu', input_shape=(28, 28, 1)))\n",
        "modelnuevo.add(MaxPooling2D((2, 2)))\n",
        "\n",
        "modelnuevo.add(Conv2D(128, (3, 3), padding='same', activation='relu'))\n",
        "modelnuevo.add(MaxPooling2D((2, 2)))\n",
        "\n",
        "modelnuevo.add(Flatten())\n",
        "modelnuevo.add(Dense(65, activation='relu'))\n",
        "modelnuevo.add(Dense(10, activation='softmax'))\n",
        "modelnuevo.summary()\n",
        "\n",
        "#Antes de compilar y entrenar los modelos, preparamos los datos\n",
        "from keras.utils.np_utils import to_categorical\n",
        "import tensorflow as tf\n",
        "\n",
        "train_images = train_images.reshape((60000, 28, 28, 1))\n",
        "train_images = train_images.astype('float32') / 255\n",
        "\n",
        "test_images = test_images.reshape((10000, 28, 28, 1))\n",
        "test_images = test_images.astype('float32') / 255\n",
        "\n",
        "modelnuevo.compile(loss='sparse_categorical_crossentropy',\n",
        "              optimizer='sgd',\n",
        "              metrics=['accuracy'])\n",
        "\n",
        "tensorboard_callback = tf.keras.callbacks.TensorBoard(log_dir=\"./logs\")\n",
        "\n",
        "modelnuevo.fit(train_images, train_labels,\n",
        "          batch_size=100,\n",
        "          epochs=5,\n",
        "          callbacks=[tensorboard_callback])\n",
        "\n",
        "test_loss, test_acc = modelnuevo.evaluate(test_images, test_labels)\n",
        "\n",
        "print('Test accuracy:', test_acc)"
      ],
      "execution_count": 33,
      "outputs": [
        {
          "output_type": "stream",
          "name": "stdout",
          "text": [
            "Model: \"sequential_9\"\n",
            "_________________________________________________________________\n",
            " Layer (type)                Output Shape              Param #   \n",
            "=================================================================\n",
            " conv2d_17 (Conv2D)          (None, 28, 28, 64)        3200      \n",
            "                                                                 \n",
            " max_pooling2d_17 (MaxPoolin  (None, 14, 14, 64)       0         \n",
            " g2D)                                                            \n",
            "                                                                 \n",
            " conv2d_18 (Conv2D)          (None, 14, 14, 128)       73856     \n",
            "                                                                 \n",
            " max_pooling2d_18 (MaxPoolin  (None, 7, 7, 128)        0         \n",
            " g2D)                                                            \n",
            "                                                                 \n",
            " flatten_7 (Flatten)         (None, 6272)              0         \n",
            "                                                                 \n",
            " dense_14 (Dense)            (None, 65)                407745    \n",
            "                                                                 \n",
            " dense_15 (Dense)            (None, 10)                660       \n",
            "                                                                 \n",
            "=================================================================\n",
            "Total params: 485,461\n",
            "Trainable params: 485,461\n",
            "Non-trainable params: 0\n",
            "_________________________________________________________________\n",
            "Epoch 1/5\n",
            "600/600 [==============================] - 8s 12ms/step - loss: 2.3026 - accuracy: 0.0963\n",
            "Epoch 2/5\n",
            "600/600 [==============================] - 7s 12ms/step - loss: 2.3026 - accuracy: 0.0960\n",
            "Epoch 3/5\n",
            "600/600 [==============================] - 7s 12ms/step - loss: 2.3026 - accuracy: 0.0987\n",
            "Epoch 4/5\n",
            "600/600 [==============================] - 7s 12ms/step - loss: 2.3026 - accuracy: 0.0980\n",
            "Epoch 5/5\n",
            "600/600 [==============================] - 7s 12ms/step - loss: 2.3026 - accuracy: 0.0971\n",
            "313/313 [==============================] - 2s 5ms/step - loss: 2.3026 - accuracy: 0.1000\n",
            "Test accuracy: 0.10000000149011612\n"
          ]
        }
      ]
    }
  ]
}