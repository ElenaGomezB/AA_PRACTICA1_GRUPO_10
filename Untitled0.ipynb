{
  "nbformat": 4,
  "nbformat_minor": 0,
  "metadata": {
    "colab": {
      "name": "Untitled0.ipynb",
      "provenance": [],
      "authorship_tag": "ABX9TyOykITDPXrWDeuDUug25VYz",
      "include_colab_link": true
    },
    "kernelspec": {
      "name": "python3",
      "display_name": "Python 3"
    },
    "language_info": {
      "name": "python"
    },
    "accelerator": "GPU"
  },
  "cells": [
    {
      "cell_type": "markdown",
      "metadata": {
        "id": "view-in-github",
        "colab_type": "text"
      },
      "source": [
        "<a href=\"https://colab.research.google.com/github/ElenaGomezB/AA_PRACTICA1_GRUPO_10/blob/main/Untitled0.ipynb\" target=\"_parent\"><img src=\"https://colab.research.google.com/assets/colab-badge.svg\" alt=\"Open In Colab\"/></a>"
      ]
    },
    {
      "cell_type": "markdown",
      "metadata": {
        "id": "SAnnkoDQ0o1N"
      },
      "source": [
        "#**Grupo 10**\n",
        "\n",
        "`Elena Gomez `\n",
        "\n",
        "`Ana Muñoz`"
      ]
    },
    {
      "cell_type": "markdown",
      "metadata": {
        "id": "E1ffu0Gu1qr0"
      },
      "source": [
        "##Objeto\n",
        "Crear un modelo de Red de Neuronas Artificiales que sea capaz de reconocer y clasificar imágenes de ropa en sus diferentes tipologías. Este modelo será definido, configurado, entrenado, evaluado y mejorado para posteriormente usarlo para hacer predicciones. \n",
        "\n",
        "El conjunto de datos viene dado en Fashion-MNIST, imágenes de los artículos de Zalando, tienda de moda online alemana especializada en ventas de ropa y zapatos. El conjunto de datos contiene 70K imágenes en escala de grises en 10 categorías. Estas imágenes muestran prendas individuales de ropa en baja resolución (28 x 28 píxeles)\n",
        "\n",
        "Usaremos 60K imágenes para entrenar la red y 10K imágenes para evaluar la precisión con la que la red aprende a clasificar las imágenes."
      ]
    },
    {
      "cell_type": "markdown",
      "metadata": {
        "id": "LmoxxGef222n"
      },
      "source": [
        "Importamos **tensorflow** y comprobamos que su versión es 2.0 superior"
      ]
    },
    {
      "cell_type": "code",
      "metadata": {
        "colab": {
          "base_uri": "https://localhost:8080/"
        },
        "id": "CabHKxmkLANO",
        "outputId": "4eb8e79b-b9cb-477c-d9aa-3e5d57e767b4"
      },
      "source": [
        "# 1._ IMPORTAMOS KERAS\n",
        "%tensorflow_version 2.x\n",
        "import tensorflow as tf\n",
        "from tensorflow import keras\n",
        "print(tf.keras.__version__)\n",
        "print(\"GPU Available:\", tf.config.list_physical_devices('GPU'))\n",
        "print(tf.__version__)"
      ],
      "execution_count": 2,
      "outputs": [
        {
          "output_type": "stream",
          "name": "stdout",
          "text": [
            "2.6.0\n",
            "GPU Available: [PhysicalDevice(name='/physical_device:GPU:0', device_type='GPU')]\n",
            "2.6.0\n"
          ]
        }
      ]
    },
    {
      "cell_type": "markdown",
      "metadata": {
        "id": "X_bDPaU33Nmc"
      },
      "source": [
        "A continuación, cargamos las imágenes y creamos un vector del 0 al 9 en el que cada posición de asigna el nombre de cada prenda (class_names)"
      ]
    },
    {
      "cell_type": "code",
      "metadata": {
        "id": "r3AzS-hD_3q-",
        "colab": {
          "base_uri": "https://localhost:8080/"
        },
        "outputId": "c65f3ec7-054e-43a9-e388-ea2bcc3c951c"
      },
      "source": [
        "# 2.- CARGAMOS EL CONJUNTO DE DATOS MINIST EN KERAS\n",
        "\n",
        "from keras.datasets import fashion_mnist\n",
        "\n",
        "(train_images, train_labels), (test_images, test_labels) = fashion_mnist.load_data()"
      ],
      "execution_count": 3,
      "outputs": [
        {
          "output_type": "stream",
          "name": "stdout",
          "text": [
            "Downloading data from https://storage.googleapis.com/tensorflow/tf-keras-datasets/train-labels-idx1-ubyte.gz\n",
            "32768/29515 [=================================] - 0s 0us/step\n",
            "40960/29515 [=========================================] - 0s 0us/step\n",
            "Downloading data from https://storage.googleapis.com/tensorflow/tf-keras-datasets/train-images-idx3-ubyte.gz\n",
            "26427392/26421880 [==============================] - 0s 0us/step\n",
            "26435584/26421880 [==============================] - 0s 0us/step\n",
            "Downloading data from https://storage.googleapis.com/tensorflow/tf-keras-datasets/t10k-labels-idx1-ubyte.gz\n",
            "16384/5148 [===============================================================================================] - 0s 0us/step\n",
            "Downloading data from https://storage.googleapis.com/tensorflow/tf-keras-datasets/t10k-images-idx3-ubyte.gz\n",
            "4423680/4422102 [==============================] - 0s 0us/step\n",
            "4431872/4422102 [==============================] - 0s 0us/step\n"
          ]
        }
      ]
    },
    {
      "cell_type": "code",
      "metadata": {
        "id": "AhEnDfCoChqn"
      },
      "source": [
        "\n",
        "class_names = ['T-shirt/top', 'Trouser', 'Pullover', 'Dress', 'Coat',\n",
        "               'Sandal', 'Shirt', 'Sneaker', 'Bag', 'Ankle boot']"
      ],
      "execution_count": 4,
      "outputs": []
    },
    {
      "cell_type": "markdown",
      "metadata": {
        "id": "YI2gP91VDmyG"
      },
      "source": [
        "Estudiamos y analizamos los datos de entrenamiento"
      ]
    },
    {
      "cell_type": "code",
      "metadata": {
        "colab": {
          "base_uri": "https://localhost:8080/"
        },
        "id": "62qhqxUaBIXC",
        "outputId": "006ce52b-fe4b-4fc2-cb0a-b7120582dfa9"
      },
      "source": [
        "print(train_images.shape)"
      ],
      "execution_count": 5,
      "outputs": [
        {
          "output_type": "stream",
          "name": "stdout",
          "text": [
            "(60000, 28, 28)\n"
          ]
        }
      ]
    },
    {
      "cell_type": "code",
      "metadata": {
        "colab": {
          "base_uri": "https://localhost:8080/"
        },
        "id": "e9MZl4k-DvjU",
        "outputId": "1618955a-72f9-419c-f8bf-ed180ba2f507"
      },
      "source": [
        "# Vemos la matriz de la imagen número 5.000 (28x28)\n",
        "train_images[5000]"
      ],
      "execution_count": 6,
      "outputs": [
        {
          "output_type": "execute_result",
          "data": {
            "text/plain": [
              "array([[  0,   0,   0,   0,   0,   0,   0,   0,   0,   0,   0,   0,   0,\n",
              "          0,   0,   0,   0,   0,   0,   1,   0,   0,   0,   0,   0,   0,\n",
              "          0,   0],\n",
              "       [  0,   0,   0,   0,   0,   0,   0,   0,   0,   0,   0,  44, 127,\n",
              "        182, 185, 161, 120,  55,   0,   0,   0,   0,   0,   0,   0,   0,\n",
              "          0,   0],\n",
              "       [  0,   0,   0,   0,   0,   0,   0,   0,   0,  42, 198, 251, 255,\n",
              "        251, 249, 247, 255, 252, 214, 100,   0,   0,   0,   0,   0,   0,\n",
              "          0,   0],\n",
              "       [  0,   0,   0,   0,   0,   0,   2,   0,   0, 233, 252, 237, 239,\n",
              "        234, 237, 235, 237, 237, 254, 227,   0,   0,   0,   0,   1,   0,\n",
              "          0,   0],\n",
              "       [  0,   0,   0,   0,   0,   2,   0,   0,  16, 210, 225, 215, 175,\n",
              "        217, 216, 193, 196, 226, 221, 209,  50,   0,   0,   2,   0,   0,\n",
              "          0,   0],\n",
              "       [  0,   0,   0,   0,   2,   0,   0, 199, 229, 232, 230, 245, 204,\n",
              "        219, 253, 245, 207, 194, 223, 231, 236, 235,   0,   0,   3,   0,\n",
              "          0,   0],\n",
              "       [  0,   0,   0,   0,   1,   0, 137, 235, 204, 209, 201, 209, 234,\n",
              "        190, 234, 218, 215, 238, 239, 204, 189, 224, 154,   0,   0,   0,\n",
              "          0,   0],\n",
              "       [  0,   0,   0,   0,   0,   0, 194, 201, 200, 209, 202, 193, 205,\n",
              "        194, 183, 218, 231, 197, 172, 181, 193, 205, 199,   0,   0,   0,\n",
              "          0,   0],\n",
              "       [  0,   0,   0,   0,   0,   3, 212, 203, 188, 189, 196, 198, 198,\n",
              "        201, 196, 217, 179, 167, 183, 217, 197, 202, 219,  30,   0,   0,\n",
              "          0,   0],\n",
              "       [  0,   0,   0,   0,   0,  34, 225, 200, 194, 190, 188, 192, 196,\n",
              "        192, 170, 202, 190, 201, 195, 200, 201, 209, 227,  50,   0,   0,\n",
              "          0,   0],\n",
              "       [  0,   0,   0,   0,   0,  68, 225, 210, 211, 198, 192, 196, 204,\n",
              "        196, 181, 212, 197, 195, 192, 206, 220, 210, 229,  93,   0,   0,\n",
              "          0,   0],\n",
              "       [  0,   0,   0,   0,   0, 111, 223, 227, 253, 209, 196, 204, 211,\n",
              "        206, 183, 216, 206, 210, 203, 215, 244, 224, 227, 150,   0,   0,\n",
              "          0,   0],\n",
              "       [  0,   0,   0,   0,   0, 139, 225, 224, 255, 202, 206, 212, 209,\n",
              "        211, 190, 213, 202, 207, 206, 222, 255, 230, 220, 190,   0,   0,\n",
              "          0,   0],\n",
              "       [  0,   0,   0,   0,   0, 180, 226, 224, 255, 199, 204, 207, 214,\n",
              "        214, 190, 216, 206, 203, 205, 219, 243, 224, 214, 234,   0,   0,\n",
              "          0,   0],\n",
              "       [  0,   0,   0,   0,   0, 225, 223, 228, 254, 209, 206, 208, 213,\n",
              "        210, 191, 215, 207, 204, 208, 211, 249, 226, 214, 255,  38,   0,\n",
              "          0,   0],\n",
              "       [  0,   0,   0,   0,   0, 250, 232, 240, 239, 211, 203, 209, 205,\n",
              "        211, 197, 215, 208, 208, 214, 213, 239, 231, 219, 255,  81,   0,\n",
              "          0,   0],\n",
              "       [  0,   0,   0,   0,   0, 248, 236, 247, 240, 203, 200, 208, 206,\n",
              "        214, 193, 213, 212, 208, 212, 211, 243, 242, 225, 254,  66,   0,\n",
              "          0,   0],\n",
              "       [  0,   0,   0,   0,   0, 247, 230, 252, 226, 199, 211, 202, 211,\n",
              "        213, 182, 213, 212, 206, 202, 219, 207, 247, 222, 237, 104,   0,\n",
              "          0,   0],\n",
              "       [  0,   0,   0,   0,  10, 244, 219, 250, 205, 199, 209, 202, 209,\n",
              "        211, 189, 214, 206, 210, 200, 212, 154, 240, 208, 219, 140,   0,\n",
              "          0,   0],\n",
              "       [  0,   0,   0,   0,  21, 255, 222, 238, 184, 210, 192, 206, 209,\n",
              "        210, 189, 213, 211, 209, 192, 228, 155, 226, 238, 241, 166,   0,\n",
              "          0,   0],\n",
              "       [  0,   0,   0,   0,  37, 245, 226, 241, 150, 197, 189, 204, 209,\n",
              "        210, 183, 213, 213, 201, 184, 215, 146, 216, 236, 225, 154,   0,\n",
              "          0,   0],\n",
              "       [  0,   0,   0,   0,  58, 239, 227, 255, 158, 193, 195, 204, 209,\n",
              "        213, 180, 207, 217, 199, 194, 211, 158, 219, 236, 216, 151,   0,\n",
              "          0,   0],\n",
              "       [  0,   0,   0,   0,  68, 233, 226, 243, 139, 200, 193, 205, 210,\n",
              "        208, 180, 205, 212, 203, 196, 216, 157, 179, 255, 216, 155,   0,\n",
              "          0,   0],\n",
              "       [  0,   0,   0,   0,  81, 225, 224, 211, 138, 219, 185, 201, 213,\n",
              "        207, 197, 226, 212, 200, 190, 215, 183,  90, 255, 211, 147,   0,\n",
              "          0,   0],\n",
              "       [  0,   0,   0,   0,  91, 210, 230, 158, 114, 205, 187, 208, 209,\n",
              "        206, 193, 210, 211, 204, 195, 204, 181,  23, 255, 213, 158,   0,\n",
              "          0,   0],\n",
              "       [  0,   0,   0,   0,  87, 205, 232, 109, 164, 255, 214, 224, 222,\n",
              "        210, 197, 214, 225, 222, 211, 220, 217,   0, 234, 216, 169,   0,\n",
              "          0,   0],\n",
              "       [  0,   0,   0,   0,  92, 213, 232, 146,   5, 134, 151, 162, 170,\n",
              "        183, 182, 164, 166, 178, 162, 156,  98,   0, 240, 225, 210,   0,\n",
              "          0,   0],\n",
              "       [  0,   0,   0,   0,  43, 164, 206, 141,   0,   0,   0,   0,   0,\n",
              "          0,   0,   0,   0,   0,   0,   0,   0,   0, 127, 125,  76,   0,\n",
              "          0,   0]], dtype=uint8)"
            ]
          },
          "metadata": {},
          "execution_count": 6
        }
      ]
    },
    {
      "cell_type": "code",
      "metadata": {
        "colab": {
          "base_uri": "https://localhost:8080/"
        },
        "id": "WtyF8clTEA3r",
        "outputId": "1ac955f3-b89a-4304-b805-c1342588a3f6"
      },
      "source": [
        "# Sacamos la etiqueta de la imagen nº 5000\n",
        "train_labels[5000]"
      ],
      "execution_count": 7,
      "outputs": [
        {
          "output_type": "execute_result",
          "data": {
            "text/plain": [
              "4"
            ]
          },
          "metadata": {},
          "execution_count": 7
        }
      ]
    },
    {
      "cell_type": "markdown",
      "metadata": {
        "id": "sYg8Oj-R4MLa"
      },
      "source": [
        "Pintamos la imagen 5000 usando matplotlib y vemos que su imagen corresponde con la etiqueta anterior, en este caso la etiqueta es 4 = Coat."
      ]
    },
    {
      "cell_type": "code",
      "metadata": {
        "colab": {
          "base_uri": "https://localhost:8080/",
          "height": 265
        },
        "id": "pEd7yIheBQM_",
        "outputId": "ed12d2db-76f0-44d5-c343-81467fd3583a"
      },
      "source": [
        "\n",
        "import matplotlib.pyplot as plt\n",
        "digit = train_images[5000]\n",
        "plt.imshow(digit, cmap=plt.cm.binary)\n",
        "plt.show()"
      ],
      "execution_count": 8,
      "outputs": [
        {
          "output_type": "display_data",
          "data": {
            "image/png": "[encoded data removed]",
            "text/plain": [
              "<Figure size 432x288 with 1 Axes>"
            ]
          },
          "metadata": {
            "needs_background": "light"
          }
        }
      ]
    },
    {
      "cell_type": "code",
      "metadata": {
        "colab": {
          "base_uri": "https://localhost:8080/"
        },
        "id": "VK13H_muCVfB",
        "outputId": "abe97412-b516-4d26-a0b3-e9ed98eb48cb"
      },
      "source": [
        "#Sacamos las etiquetas de todas las imagenes de entrenamiento\n",
        "train_labels"
      ],
      "execution_count": 9,
      "outputs": [
        {
          "output_type": "execute_result",
          "data": {
            "text/plain": [
              "array([9, 0, 0, ..., 3, 0, 5], dtype=uint8)"
            ]
          },
          "metadata": {},
          "execution_count": 9
        }
      ]
    },
    {
      "cell_type": "markdown",
      "metadata": {
        "id": "ODXEGqJ2FQGj"
      },
      "source": [
        "Estudiamos ahora los datos de prueba"
      ]
    },
    {
      "cell_type": "code",
      "metadata": {
        "colab": {
          "base_uri": "https://localhost:8080/"
        },
        "id": "7AGLoJY6FUro",
        "outputId": "6a0e4d4e-8f4d-420f-f750-3f5dccc4b907"
      },
      "source": [
        "print(test_images.shape)"
      ],
      "execution_count": 10,
      "outputs": [
        {
          "output_type": "stream",
          "name": "stdout",
          "text": [
            "(10000, 28, 28)\n"
          ]
        }
      ]
    },
    {
      "cell_type": "code",
      "metadata": {
        "colab": {
          "base_uri": "https://localhost:8080/"
        },
        "id": "Hzpk9clJFhgN",
        "outputId": "aa904d1c-2f89-42bc-9c78-d4f36f8e2099"
      },
      "source": [
        "# Vemos la matriz de la imagen número 8.000 (28x28)\n",
        "test_images[8000]"
      ],
      "execution_count": 11,
      "outputs": [
        {
          "output_type": "execute_result",
          "data": {
            "text/plain": [
              "array([[  0,   0,   0,   0,   0,   0,   0,   0,   0,   0,   0,   0,   0,\n",
              "          0,   0,   0,   0,   0,   0,   0,   0,   0,   0,   0,   0,   0,\n",
              "          0,   0],\n",
              "       [  0,   0,   0,   0,   0,   0,   0,   0,   0,   0,   0,   0,   0,\n",
              "          0,   0,   0,   0,   0,   0,   0,   0,   0,   0,   0,   0,   0,\n",
              "          0,   0],\n",
              "       [  0,   0,   0,   0,   0,   0,   0,   0,   0,   0,   0,   0,   0,\n",
              "          0,   0,   0,   0,   0,   0,   0,   0,   0,   0,   0,   0,   0,\n",
              "          0,   0],\n",
              "       [  0,   0,   0,   0,   0,   0,   0,   0,   0,   0,   0,   0,   0,\n",
              "          0,   0,   0,   0,   0,   0,   0,   0,   0,   0,   0,   0,   0,\n",
              "          0,   0],\n",
              "       [  0,   0,   0,   0,   0,   0,   0,   0,   0,   0,   0,   0,   0,\n",
              "          0,   0,   0,   0,   0,   0,   0,   0,   0,   0,   0,   0,   0,\n",
              "          0,   0],\n",
              "       [  0,   0,   0,   0,   0,   0,   0,   0,   0,   0,   0,   0,   0,\n",
              "          0,   0,   0,   0,   0,   0,   0,   0,   0,   0,   0,   0,   0,\n",
              "          0,   0],\n",
              "       [  0,   0,   0,   0,   0,   0,   0,   0,   0,   0,   0,   0,   0,\n",
              "          0,   0,   0,   0,   0,   0,   0,   0,   0,   0,   0,   0,   0,\n",
              "          0,   0],\n",
              "       [  0,   0,   0,   0,   0,   0,   0,   0,   0,   0,   0,   0,   1,\n",
              "          0,   0,   0,  93, 153,   0,   0,   1,   0,   5,   7,   0,   1,\n",
              "          0,   0],\n",
              "       [  0,   0,   0,   0,   0,   0,   0,   0,   0,   0,   6,   0,   0,\n",
              "          0,   0, 148, 213, 229,  63,   0,   0,   0,   0,   0,   0,   0,\n",
              "         19,   0],\n",
              "       [  0,   0,   0,   0,   0,   0,   0,   0,   2,   0,   0,   0,   0,\n",
              "        165, 255, 225, 179, 196,  12,   0,   0,   0,   0, 172, 183, 100,\n",
              "        108,   0],\n",
              "       [  0,   0,   0,   0,   0,   0,   0,   0,   0,   0,  25, 108, 241,\n",
              "        222, 178, 178, 184, 192, 248,  57,   0,   0, 109, 228, 195, 174,\n",
              "          0,   0],\n",
              "       [  1,   0,   0,   0,   2,   3,   4,   0,   0,  97, 244, 215, 179,\n",
              "        152, 186, 207, 226, 217, 209, 255, 158,  96, 234, 201, 191, 191,\n",
              "         21,   0],\n",
              "       [  2,   3,   5,   0,   0,   0,   0,   9, 212, 219, 154, 123, 186,\n",
              "        203, 229, 241, 213, 211, 214, 211, 237, 250, 216, 191, 185, 208,\n",
              "         75,   0],\n",
              "       [  0,   0,   0,   0,   0,  14,  54, 133, 182, 143, 194, 217, 213,\n",
              "        211, 188, 171, 178, 218, 209, 212, 209, 196, 194, 185, 190, 189,\n",
              "         59,   0],\n",
              "       [  0,  28, 158, 198, 230, 210, 213, 200, 207, 218, 205, 197, 197,\n",
              "        205, 180, 214, 199, 208, 212, 214, 208, 194, 197, 202, 199, 182,\n",
              "         54,   0],\n",
              "       [ 66, 165, 169, 153, 168, 176, 173, 199, 203, 199, 196, 204, 213,\n",
              "        218, 218, 229, 226, 222, 222, 216, 202, 202, 199, 200, 194, 208,\n",
              "        156,   0],\n",
              "       [140, 187, 175, 176, 165, 166, 164, 158, 190, 215, 216, 211, 217,\n",
              "        210, 214, 207, 209, 208, 210, 200, 214, 205, 212, 210, 170, 170,\n",
              "        184,   0],\n",
              "       [ 38, 190, 177, 170, 187, 198, 196, 201, 196, 208, 198, 198, 191,\n",
              "        184, 188, 182, 187, 185, 174, 178, 170, 144, 137, 107, 131, 140,\n",
              "         50,   0],\n",
              "       [  0,  98, 183, 189, 178, 172, 164, 163, 164, 156, 115, 111, 104,\n",
              "        109, 132, 127,  96,  79, 112,  78,  96,  88,  90,  61, 102, 110,\n",
              "          0,  36],\n",
              "       [  0,   0,   1,  96, 154, 209, 218, 225, 211, 182, 187, 198, 174,\n",
              "        198, 214, 205, 194, 186, 234, 154, 163, 180, 163, 197, 179, 192,\n",
              "        180,  70],\n",
              "       [  0,   0,   0,   0,   0,   6,  36,  67,  73, 117,  98, 116, 124,\n",
              "        104,  57,  33,  34,  35,  39, 115, 130, 122, 121, 104,  90,  51,\n",
              "          0,   0],\n",
              "       [  0,   0,   0,   0,   0,   0,   0,   0,   0,   0,   0,   0,   0,\n",
              "          0,   0,   0,   0,   0,   0,   0,   0,   0,   0,   0,   0,   0,\n",
              "          0,   0],\n",
              "       [  0,   0,   0,   0,   0,   0,   0,   0,   0,   0,   0,   0,   0,\n",
              "          0,   0,   0,   0,   0,   0,   0,   0,   0,   0,   0,   0,   0,\n",
              "          0,   0],\n",
              "       [  0,   0,   0,   0,   0,   0,   0,   0,   0,   0,   0,   0,   0,\n",
              "          0,   0,   0,   0,   0,   0,   0,   0,   0,   0,   0,   0,   0,\n",
              "          0,   0],\n",
              "       [  0,   0,   0,   0,   0,   0,   0,   0,   0,   0,   0,   0,   0,\n",
              "          0,   0,   0,   0,   0,   0,   0,   0,   0,   0,   0,   0,   0,\n",
              "          0,   0],\n",
              "       [  0,   0,   0,   0,   0,   0,   0,   0,   0,   0,   0,   0,   0,\n",
              "          0,   0,   0,   0,   0,   0,   0,   0,   0,   0,   0,   0,   0,\n",
              "          0,   0],\n",
              "       [  0,   0,   0,   0,   0,   0,   0,   0,   0,   0,   0,   0,   0,\n",
              "          0,   0,   0,   0,   0,   0,   0,   0,   0,   0,   0,   0,   0,\n",
              "          0,   0],\n",
              "       [  0,   0,   0,   0,   0,   0,   0,   0,   0,   0,   0,   0,   0,\n",
              "          0,   0,   0,   0,   0,   0,   0,   0,   0,   0,   0,   0,   0,\n",
              "          0,   0]], dtype=uint8)"
            ]
          },
          "metadata": {},
          "execution_count": 11
        }
      ]
    },
    {
      "cell_type": "code",
      "metadata": {
        "colab": {
          "base_uri": "https://localhost:8080/"
        },
        "id": "CVV_dvK8FoPG",
        "outputId": "12f43b4c-595c-49d9-f231-a47b913a0c22"
      },
      "source": [
        "# Vemos su etiqueta \n",
        "test_labels[8000]"
      ],
      "execution_count": 12,
      "outputs": [
        {
          "output_type": "execute_result",
          "data": {
            "text/plain": [
              "7"
            ]
          },
          "metadata": {},
          "execution_count": 12
        }
      ]
    },
    {
      "cell_type": "code",
      "metadata": {
        "colab": {
          "base_uri": "https://localhost:8080/",
          "height": 265
        },
        "id": "4UE6bd_TFu_1",
        "outputId": "60ed9bbf-a2f0-4d5a-c978-11e93cad71b2"
      },
      "source": [
        "# Veamos el elemento 9000 y lo pintamos usando matplotlib\n",
        "import matplotlib.pyplot as plt\n",
        "digit = test_images[8000]\n",
        "plt.imshow(digit, cmap=plt.cm.binary)\n",
        "plt.show()"
      ],
      "execution_count": 13,
      "outputs": [
        {
          "output_type": "display_data",
          "data": {
            "image/png": "[encoded data removed]",
            "text/plain": [
              "<Figure size 432x288 with 1 Axes>"
            ]
          },
          "metadata": {
            "needs_background": "light"
          }
        }
      ]
    },
    {
      "cell_type": "code",
      "metadata": {
        "colab": {
          "base_uri": "https://localhost:8080/"
        },
        "id": "z_LS4pHIF68J",
        "outputId": "6f40800e-9932-4988-eaaa-1468e03a126d"
      },
      "source": [
        "#Vemos las etiquetas de todas las imagenes segun esten ordenadas\n",
        "test_labels"
      ],
      "execution_count": 14,
      "outputs": [
        {
          "output_type": "execute_result",
          "data": {
            "text/plain": [
              "array([9, 2, 1, ..., 8, 1, 5], dtype=uint8)"
            ]
          },
          "metadata": {},
          "execution_count": 14
        }
      ]
    },
    {
      "cell_type": "markdown",
      "metadata": {
        "id": "sWJfN8bZGCPN"
      },
      "source": [
        "#CONSTRUIMOS NUESTRA RNA\n"
      ]
    },
    {
      "cell_type": "markdown",
      "metadata": {
        "id": "U1AM84Qs64A7"
      },
      "source": [
        "Vamos a crear 8 modelos diferentes, para todos la red sera secuencial (sin ciclos) y tendrá dos capas tipo Dense (densamente conectadas). Cambiaremos el optimizador, la función de activación y el número de neuronas de la primera capa.\n",
        "\n",
        "Cada una de las neuronas de la capa de entrada están conectadas con los 784 píxeles = 28*28. Dolo lo definimos para la primera capa; para la segunda capa y posteriores, Keras lo deduce.\n",
        "\n",
        "Para la segunda capa, la función de activación será siempre **softmax** ya que necesitamos la probabilidad de la clase a la que pertenece y 10 neuronas ya que tenemos 10 clases de prendas. La función *softmax* se basa en calcular **las evidencias** de que una determinada imagen pertenece a una clase en particular y luego se convierten estas evidencias en probabilidades de que pertenezca a cada una de las posibles clases"
      ]
    },
    {
      "cell_type": "markdown",
      "metadata": {
        "id": "yyplA3cM7-G3"
      },
      "source": [
        "Los cuatro últimos modelos tendrán todos 512 neuronas en la primera capa\n"
      ]
    },
    {
      "cell_type": "code",
      "metadata": {
        "id": "A4paXhP0xqk4"
      },
      "source": [
        "from keras import models\n",
        "from keras import layers"
      ],
      "execution_count": 15,
      "outputs": []
    },
    {
      "cell_type": "markdown",
      "metadata": {
        "id": "oybrQEEm6aes"
      },
      "source": [
        "**Modelo 5**"
      ]
    },
    {
      "cell_type": "code",
      "metadata": {
        "colab": {
          "base_uri": "https://localhost:8080/"
        },
        "id": "sM75Szl7GHFV",
        "outputId": "3b931200-69cb-4071-92ae-50074b0f0552"
      },
      "source": [
        "#Funcion activacion: relu\n",
        "#Optimizador: sgd\n",
        "\n",
        "\n",
        "network5 = models.Sequential()\n",
        "network5.add(layers.Dense(512, activation='relu', input_shape=(28*28,), name = 'capa1'))\n",
        "network5.add(layers.Dense(10, activation='softmax', name = 'capa2'))\n",
        "network5.summary()"
      ],
      "execution_count": 16,
      "outputs": [
        {
          "output_type": "stream",
          "name": "stdout",
          "text": [
            "Model: \"sequential\"\n",
            "_________________________________________________________________\n",
            "Layer (type)                 Output Shape              Param #   \n",
            "=================================================================\n",
            "capa1 (Dense)                (None, 512)               401920    \n",
            "_________________________________________________________________\n",
            "capa2 (Dense)                (None, 10)                5130      \n",
            "=================================================================\n",
            "Total params: 407,050\n",
            "Trainable params: 407,050\n",
            "Non-trainable params: 0\n",
            "_________________________________________________________________\n"
          ]
        }
      ]
    },
    {
      "cell_type": "markdown",
      "metadata": {
        "id": "wjdmPDoA-gxX"
      },
      "source": [
        "Como podemos ver, de la primera capa salen 401920 resultados; esto se debe a: (28* 28)*512+512"
      ]
    },
    {
      "cell_type": "markdown",
      "metadata": {
        "id": "LNKsLGdv-laI"
      },
      "source": [
        "**Modelo 6**"
      ]
    },
    {
      "cell_type": "code",
      "metadata": {
        "id": "x-vBv9_YP3BX",
        "colab": {
          "base_uri": "https://localhost:8080/"
        },
        "outputId": "f5635ad2-eceb-4fac-8ba5-1cdf1a514b4e"
      },
      "source": [
        "#Funcion activacion: relu\n",
        "#Optimizador: rmsprop\n",
        "\n",
        "network6 = models.Sequential()\n",
        "network6.add(layers.Dense(512, activation='relu', input_shape=(28*28,), name = 'capa1'))\n",
        "network6.add(layers.Dense(10, activation='softmax', name = 'capa2'))\n",
        "network6.summary()"
      ],
      "execution_count": 17,
      "outputs": [
        {
          "output_type": "stream",
          "name": "stdout",
          "text": [
            "Model: \"sequential_1\"\n",
            "_________________________________________________________________\n",
            "Layer (type)                 Output Shape              Param #   \n",
            "=================================================================\n",
            "capa1 (Dense)                (None, 512)               401920    \n",
            "_________________________________________________________________\n",
            "capa2 (Dense)                (None, 10)                5130      \n",
            "=================================================================\n",
            "Total params: 407,050\n",
            "Trainable params: 407,050\n",
            "Non-trainable params: 0\n",
            "_________________________________________________________________\n"
          ]
        }
      ]
    },
    {
      "cell_type": "markdown",
      "metadata": {
        "id": "Mqm3Og5w_CgS"
      },
      "source": [
        "**Modelo 7**"
      ]
    },
    {
      "cell_type": "code",
      "metadata": {
        "id": "uwNV4AraP-lS",
        "colab": {
          "base_uri": "https://localhost:8080/"
        },
        "outputId": "b2c232ec-4d7f-4bc5-832b-cf64c6a72fe6"
      },
      "source": [
        "#Funcion activacion: sigmoid\n",
        "#Optimizador: sgd\n",
        "\n",
        "network7 = models.Sequential()\n",
        "network7.add(layers.Dense(512, activation='sigmoid', input_shape=(28*28,), name = 'capa1'))\n",
        "network7.add(layers.Dense(10, activation='softmax', name = 'capa2'))\n",
        "network7.summary()"
      ],
      "execution_count": 18,
      "outputs": [
        {
          "output_type": "stream",
          "name": "stdout",
          "text": [
            "Model: \"sequential_2\"\n",
            "_________________________________________________________________\n",
            "Layer (type)                 Output Shape              Param #   \n",
            "=================================================================\n",
            "capa1 (Dense)                (None, 512)               401920    \n",
            "_________________________________________________________________\n",
            "capa2 (Dense)                (None, 10)                5130      \n",
            "=================================================================\n",
            "Total params: 407,050\n",
            "Trainable params: 407,050\n",
            "Non-trainable params: 0\n",
            "_________________________________________________________________\n"
          ]
        }
      ]
    },
    {
      "cell_type": "markdown",
      "metadata": {
        "id": "U8g-bk6n_NgQ"
      },
      "source": [
        "**Modelo 8**"
      ]
    },
    {
      "cell_type": "code",
      "metadata": {
        "id": "hUPJtZ6eQGHH",
        "colab": {
          "base_uri": "https://localhost:8080/"
        },
        "outputId": "665c778a-2ca7-48fd-93cf-5b72783ca2a4"
      },
      "source": [
        "#Funcion activacion: sigmoid\n",
        "#Optimizador: rmsprop\n",
        "\n",
        "network8 = models.Sequential()\n",
        "network8.add(layers.Dense(512, activation='sigmoid', input_shape=(28*28,), name = 'capa1'))\n",
        "network8.add(layers.Dense(10, activation='softmax', name = 'capa2'))\n",
        "network8.summary()"
      ],
      "execution_count": 19,
      "outputs": [
        {
          "output_type": "stream",
          "name": "stdout",
          "text": [
            "Model: \"sequential_3\"\n",
            "_________________________________________________________________\n",
            "Layer (type)                 Output Shape              Param #   \n",
            "=================================================================\n",
            "capa1 (Dense)                (None, 512)               401920    \n",
            "_________________________________________________________________\n",
            "capa2 (Dense)                (None, 10)                5130      \n",
            "=================================================================\n",
            "Total params: 407,050\n",
            "Trainable params: 407,050\n",
            "Non-trainable params: 0\n",
            "_________________________________________________________________\n"
          ]
        }
      ]
    },
    {
      "cell_type": "markdown",
      "metadata": {
        "id": "nrRJmz7_AFun"
      },
      "source": [
        "#**COMPILAMOS**"
      ]
    },
    {
      "cell_type": "markdown",
      "metadata": {
        "id": "-_QD3ftLAzrz"
      },
      "source": [
        "Como algoritmo optimizador usamos tanto **rmsprop** (Root Mean Square Propagation) como **sgd** (Stocastic Gradient Descendent).\n",
        "\n",
        "Para la función de perdida elegimos **spars_categorical_crossentropy** que se utiliza como señal de retroalimentación para aprender los tensores de peso y que la fase de entrenamiento intentará minimizar.\n",
        "\n",
        "Para la precisión utilizaremos **accuracy**: Solo tendremos en cuenta la fracción de imágenes que son correctamente clasificadas "
      ]
    },
    {
      "cell_type": "code",
      "metadata": {
        "id": "d1m6fRte_53v"
      },
      "source": [
        "network5.compile(optimizer='sgd', \n",
        "                loss='sparse_categorical_crossentropy',\n",
        "                metrics=['accuracy'])"
      ],
      "execution_count": 20,
      "outputs": []
    },
    {
      "cell_type": "code",
      "metadata": {
        "id": "niUJ5Txb_5ur"
      },
      "source": [
        "network6.compile(optimizer='rmsprop', \n",
        "                loss='sparse_categorical_crossentropy',\n",
        "                metrics=['accuracy'])"
      ],
      "execution_count": 21,
      "outputs": []
    },
    {
      "cell_type": "code",
      "metadata": {
        "id": "UcqqMkwi_5gx"
      },
      "source": [
        "network7.compile(optimizer='sgd', \n",
        "                loss='sparse_categorical_crossentropy',\n",
        "                metrics=['accuracy'])"
      ],
      "execution_count": 22,
      "outputs": []
    },
    {
      "cell_type": "code",
      "metadata": {
        "id": "rKw6wsvmQkp9"
      },
      "source": [
        "network8.compile(optimizer='rmsprop', \n",
        "                loss='sparse_categorical_crossentropy',\n",
        "                metrics=['accuracy'])"
      ],
      "execution_count": 23,
      "outputs": []
    },
    {
      "cell_type": "markdown",
      "metadata": {
        "id": "UZqgwKO2Bsfz"
      },
      "source": [
        "##PREPARAMOS LOS DATOS DE IMAGEN. NORMALIZACION"
      ]
    },
    {
      "cell_type": "markdown",
      "metadata": {
        "id": "0SVlAHsbB5p_"
      },
      "source": [
        "Antes del entrenamiento, preprocesaremos nuestros datos dándoles la forma que espera la red y escalando para que todos los valores estén en el intervalo [0, 1].Pasando de una matriz de forma (60000, 28, 28) con valores en el intervalo [0, 255] a una matriz de forma float32 con forma (60000, 28 * 28) con valores entre 0 y 1.\n",
        "\n",
        "\n"
      ]
    },
    {
      "cell_type": "code",
      "metadata": {
        "colab": {
          "base_uri": "https://localhost:8080/"
        },
        "id": "VqTUWf0CZZm2",
        "outputId": "f2852d5c-b7d0-4960-b2ed-070c6b17cf7b"
      },
      "source": [
        "# Los tensores transformados tienen la misma cantidad de datos total que el \n",
        "# tensor inicial\n",
        "train_images = train_images.reshape((60000, 28 * 28))\n",
        "train_images, len(train_images), train_images.shape, train_images[3000]"
      ],
      "execution_count": 24,
      "outputs": [
        {
          "output_type": "execute_result",
          "data": {
            "text/plain": [
              "(array([[0, 0, 0, ..., 0, 0, 0],\n",
              "        [0, 0, 0, ..., 0, 0, 0],\n",
              "        [0, 0, 0, ..., 0, 0, 0],\n",
              "        ...,\n",
              "        [0, 0, 0, ..., 0, 0, 0],\n",
              "        [0, 0, 0, ..., 0, 0, 0],\n",
              "        [0, 0, 0, ..., 0, 0, 0]], dtype=uint8),\n",
              " 60000,\n",
              " (60000, 784),\n",
              " array([  0,   0,   0,   0,   0,   0,   0,   0,   1,   1,   0,   0, 120,\n",
              "        131,  91, 147,  30,   0,   0,   1,   1,   0,   0,   0,   0,   0,\n",
              "          0,   0,   0,   0,   0,   0,   0,   0,   1,   3,   0,   0,   0,\n",
              "          0, 251, 199, 172, 195, 152,   0,   0,   0,   0,   3,   1,   0,\n",
              "          0,   0,   0,   0,   0,   0,   0,   0,   0,   0,   0,   0,   0,\n",
              "         43, 124, 193, 166, 239, 255, 216, 172, 228, 126,  61,   0,   0,\n",
              "          0,   0,   0,   0,   0,   0,   0,   0,   0,   0,   0,   0,   0,\n",
              "         96, 167, 155, 159, 171, 178, 211, 215, 210, 196, 189, 158, 164,\n",
              "        159, 108,   0,   0,   0,   0,   0,   0,   0,   0,   0,   0,   0,\n",
              "          0,  83, 157, 131, 117, 120, 148, 148, 145, 178, 159, 174, 160,\n",
              "        123, 132, 142, 172,  38,   0,   0,   0,   0,   0,   0,   0,   0,\n",
              "          0,   0,   0, 159, 128, 118, 120, 122, 112,  93, 124, 161, 109,\n",
              "        128, 128, 129, 146, 138, 167, 122,   0,   0,   0,   0,   0,   0,\n",
              "          0,   0,   0,   0,   0, 171, 135, 120, 114, 118, 119, 107, 125,\n",
              "        123, 117, 124, 124, 119, 145, 147, 166, 148,   0,   0,   0,   0,\n",
              "          0,   0,   0,   0,   0,   0,   4, 171, 138, 126, 120, 117, 118,\n",
              "        102, 122, 145, 111, 120, 122, 120, 152, 154, 155, 170,   0,   0,\n",
              "          0,   0,   0,   0,   0,   0,   0,   0,  31, 170, 129, 138, 125,\n",
              "        113, 106, 103, 118, 137, 108, 135, 130, 158, 182, 138, 143, 186,\n",
              "          0,   0,   0,   0,   0,   0,   0,   0,   0,   0,  58, 163, 114,\n",
              "        137, 143, 119, 103, 100, 109, 118, 109, 129, 134, 172, 181, 131,\n",
              "        136, 190,   0,   0,   0,   0,   0,   0,   0,   0,   0,   0,  76,\n",
              "        160, 113, 141, 148, 128, 111, 101, 116, 137, 111, 131, 142, 167,\n",
              "        183, 136, 120, 186,  12,   0,   0,   0,   0,   0,   0,   0,   0,\n",
              "          0, 100, 148, 108, 147, 147, 134, 120, 105, 116, 131, 116, 136,\n",
              "        137, 165, 192, 137, 113, 187,  30,   0,   0,   0,   0,   0,   0,\n",
              "          0,   0,   0, 114, 143, 108, 158, 147, 130, 125, 106, 114, 122,\n",
              "        119, 129, 134, 160, 196, 136, 109, 182,  51,   0,   0,   0,   0,\n",
              "          0,   0,   0,   0,   0, 120, 140, 117, 151, 148, 131, 124, 109,\n",
              "        120, 143, 120, 130, 128, 159, 188, 111, 108, 178,  66,   0,   0,\n",
              "          0,   0,   0,   0,   0,   0,   0, 125, 129, 128, 112, 145, 140,\n",
              "        122, 113, 118, 134, 117, 132, 128, 166, 157,  91, 120, 170,  74,\n",
              "          0,   0,   0,   0,   0,   0,   0,   0,   0, 126, 123, 138,  74,\n",
              "        140, 143, 124, 111, 112, 126, 120, 130, 129, 175, 120,  88, 128,\n",
              "        164,  91,   0,   0,   0,   0,   0,   0,   0,   0,   0, 124, 123,\n",
              "        157,  45, 145, 143, 124, 113, 119, 148, 122, 131, 129, 183,  90,\n",
              "         73, 137, 155,  99,   0,   0,   0,   0,   0,   0,   0,   0,   0,\n",
              "        118, 122, 167,   0, 143, 149, 122, 112, 118, 137, 116, 132, 126,\n",
              "        183,  73,  50, 152, 147, 101,   0,   0,   0,   0,   0,   0,   0,\n",
              "          0,   0, 111, 128, 164,   0, 142, 151, 122, 111, 117, 132, 120,\n",
              "        136, 125, 182,  90,  18, 164, 145, 107,   0,   0,   0,   0,   0,\n",
              "          0,   0,   0,   0, 109, 132, 158,   0, 146, 148, 120, 108, 125,\n",
              "        157, 120, 136, 131, 176, 111,   0, 164, 143, 118,   0,   0,   0,\n",
              "          0,   0,   0,   0,   0,   0, 111, 141, 140,   0, 148, 149, 120,\n",
              "        114, 123, 137, 124, 137, 131, 171, 135,   0, 157, 147, 125,   0,\n",
              "          0,   0,   0,   0,   0,   0,   0,   0, 111, 154, 111,   0, 155,\n",
              "        148, 118, 116, 124, 143, 123, 131, 129, 167, 155,   0, 129, 157,\n",
              "        129,   0,   0,   0,   0,   0,   0,   0,   0,   0, 109, 155,  87,\n",
              "          0, 157, 145, 119, 117, 126, 154, 126, 130, 123, 161, 160,   0,\n",
              "         97, 163, 130,   0,   0,   0,   0,   0,   0,   0,   0,   0, 124,\n",
              "        142,  54,   0, 149, 141, 119, 119, 124, 136, 129, 126, 120, 153,\n",
              "        175,   0,  76, 145, 137,   0,   0,   0,   0,   0,   0,   0,   0,\n",
              "          0, 136, 151,  47,   0, 149, 137, 119, 118, 126, 143, 132, 130,\n",
              "        123, 153, 172,   0,  66, 148, 154,   0,   0,   0,   0,   0,   0,\n",
              "          0,   0,   0, 109, 174,  48,   0, 154, 138, 119, 117, 124, 138,\n",
              "        130, 129, 125, 159, 167,   0,  58, 174, 128,   0,   0,   0,   0,\n",
              "          0,   0,   0,   0,   0,   0,   0,   0,   0,  85, 182, 147, 136,\n",
              "        143, 158, 146, 148, 153, 199,  70,   0,   0,   0,   0,   0,   0,\n",
              "          0,   0,   0,   0,   0,   0,   0,   0,   0,   0,   0,   0,  26,\n",
              "         54,  72,  83,  96,  85,  80,  61,  14,   0,   0,   0,   0,   0,\n",
              "          0,   0,   0,   0], dtype=uint8))"
            ]
          },
          "metadata": {},
          "execution_count": 24
        }
      ]
    },
    {
      "cell_type": "code",
      "metadata": {
        "id": "2Gv3HJbOZhxd",
        "outputId": "15187e18-2706-4f50-85ce-e840706b8137",
        "colab": {
          "base_uri": "https://localhost:8080/"
        }
      },
      "source": [
        "train_images = train_images.astype('float32') / 255\n",
        "train_images, len(train_images), train_images.shape, train_images[3000]"
      ],
      "execution_count": 25,
      "outputs": [
        {
          "output_type": "execute_result",
          "data": {
            "text/plain": [
              "(array([[0., 0., 0., ..., 0., 0., 0.],\n",
              "        [0., 0., 0., ..., 0., 0., 0.],\n",
              "        [0., 0., 0., ..., 0., 0., 0.],\n",
              "        ...,\n",
              "        [0., 0., 0., ..., 0., 0., 0.],\n",
              "        [0., 0., 0., ..., 0., 0., 0.],\n",
              "        [0., 0., 0., ..., 0., 0., 0.]], dtype=float32),\n",
              " 60000,\n",
              " (60000, 784),\n",
              " array([0.        , 0.        , 0.        , 0.        , 0.        ,\n",
              "        0.        , 0.        , 0.        , 0.00392157, 0.00392157,\n",
              "        0.        , 0.        , 0.47058824, 0.5137255 , 0.35686275,\n",
              "        0.5764706 , 0.11764706, 0.        , 0.        , 0.00392157,\n",
              "        0.00392157, 0.        , 0.        , 0.        , 0.        ,\n",
              "        0.        , 0.        , 0.        , 0.        , 0.        ,\n",
              "        0.        , 0.        , 0.        , 0.        , 0.00392157,\n",
              "        0.01176471, 0.        , 0.        , 0.        , 0.        ,\n",
              "        0.9843137 , 0.78039217, 0.6745098 , 0.7647059 , 0.59607846,\n",
              "        0.        , 0.        , 0.        , 0.        , 0.01176471,\n",
              "        0.00392157, 0.        , 0.        , 0.        , 0.        ,\n",
              "        0.        , 0.        , 0.        , 0.        , 0.        ,\n",
              "        0.        , 0.        , 0.        , 0.        , 0.        ,\n",
              "        0.16862746, 0.4862745 , 0.75686276, 0.6509804 , 0.9372549 ,\n",
              "        1.        , 0.84705883, 0.6745098 , 0.89411765, 0.49411765,\n",
              "        0.23921569, 0.        , 0.        , 0.        , 0.        ,\n",
              "        0.        , 0.        , 0.        , 0.        , 0.        ,\n",
              "        0.        , 0.        , 0.        , 0.        , 0.        ,\n",
              "        0.        , 0.3764706 , 0.654902  , 0.60784316, 0.62352943,\n",
              "        0.67058825, 0.69803923, 0.827451  , 0.84313726, 0.8235294 ,\n",
              "        0.76862746, 0.7411765 , 0.61960787, 0.6431373 , 0.62352943,\n",
              "        0.42352942, 0.        , 0.        , 0.        , 0.        ,\n",
              "        0.        , 0.        , 0.        , 0.        , 0.        ,\n",
              "        0.        , 0.        , 0.        , 0.3254902 , 0.6156863 ,\n",
              "        0.5137255 , 0.45882353, 0.47058824, 0.5803922 , 0.5803922 ,\n",
              "        0.5686275 , 0.69803923, 0.62352943, 0.68235296, 0.627451  ,\n",
              "        0.48235294, 0.5176471 , 0.5568628 , 0.6745098 , 0.14901961,\n",
              "        0.        , 0.        , 0.        , 0.        , 0.        ,\n",
              "        0.        , 0.        , 0.        , 0.        , 0.        ,\n",
              "        0.        , 0.62352943, 0.5019608 , 0.4627451 , 0.47058824,\n",
              "        0.47843137, 0.4392157 , 0.3647059 , 0.4862745 , 0.6313726 ,\n",
              "        0.42745098, 0.5019608 , 0.5019608 , 0.5058824 , 0.57254905,\n",
              "        0.5411765 , 0.654902  , 0.47843137, 0.        , 0.        ,\n",
              "        0.        , 0.        , 0.        , 0.        , 0.        ,\n",
              "        0.        , 0.        , 0.        , 0.        , 0.67058825,\n",
              "        0.5294118 , 0.47058824, 0.44705883, 0.4627451 , 0.46666667,\n",
              "        0.41960785, 0.49019608, 0.48235294, 0.45882353, 0.4862745 ,\n",
              "        0.4862745 , 0.46666667, 0.5686275 , 0.5764706 , 0.6509804 ,\n",
              "        0.5803922 , 0.        , 0.        , 0.        , 0.        ,\n",
              "        0.        , 0.        , 0.        , 0.        , 0.        ,\n",
              "        0.        , 0.01568628, 0.67058825, 0.5411765 , 0.49411765,\n",
              "        0.47058824, 0.45882353, 0.4627451 , 0.4       , 0.47843137,\n",
              "        0.5686275 , 0.43529412, 0.47058824, 0.47843137, 0.47058824,\n",
              "        0.59607846, 0.6039216 , 0.60784316, 0.6666667 , 0.        ,\n",
              "        0.        , 0.        , 0.        , 0.        , 0.        ,\n",
              "        0.        , 0.        , 0.        , 0.        , 0.12156863,\n",
              "        0.6666667 , 0.5058824 , 0.5411765 , 0.49019608, 0.44313726,\n",
              "        0.41568628, 0.40392157, 0.4627451 , 0.5372549 , 0.42352942,\n",
              "        0.5294118 , 0.50980395, 0.61960787, 0.7137255 , 0.5411765 ,\n",
              "        0.56078434, 0.7294118 , 0.        , 0.        , 0.        ,\n",
              "        0.        , 0.        , 0.        , 0.        , 0.        ,\n",
              "        0.        , 0.        , 0.22745098, 0.6392157 , 0.44705883,\n",
              "        0.5372549 , 0.56078434, 0.46666667, 0.40392157, 0.39215687,\n",
              "        0.42745098, 0.4627451 , 0.42745098, 0.5058824 , 0.5254902 ,\n",
              "        0.6745098 , 0.70980394, 0.5137255 , 0.53333336, 0.74509805,\n",
              "        0.        , 0.        , 0.        , 0.        , 0.        ,\n",
              "        0.        , 0.        , 0.        , 0.        , 0.        ,\n",
              "        0.29803923, 0.627451  , 0.44313726, 0.5529412 , 0.5803922 ,\n",
              "        0.5019608 , 0.43529412, 0.39607844, 0.45490196, 0.5372549 ,\n",
              "        0.43529412, 0.5137255 , 0.5568628 , 0.654902  , 0.7176471 ,\n",
              "        0.53333336, 0.47058824, 0.7294118 , 0.04705882, 0.        ,\n",
              "        0.        , 0.        , 0.        , 0.        , 0.        ,\n",
              "        0.        , 0.        , 0.        , 0.39215687, 0.5803922 ,\n",
              "        0.42352942, 0.5764706 , 0.5764706 , 0.5254902 , 0.47058824,\n",
              "        0.4117647 , 0.45490196, 0.5137255 , 0.45490196, 0.53333336,\n",
              "        0.5372549 , 0.64705884, 0.7529412 , 0.5372549 , 0.44313726,\n",
              "        0.73333335, 0.11764706, 0.        , 0.        , 0.        ,\n",
              "        0.        , 0.        , 0.        , 0.        , 0.        ,\n",
              "        0.        , 0.44705883, 0.56078434, 0.42352942, 0.61960787,\n",
              "        0.5764706 , 0.50980395, 0.49019608, 0.41568628, 0.44705883,\n",
              "        0.47843137, 0.46666667, 0.5058824 , 0.5254902 , 0.627451  ,\n",
              "        0.76862746, 0.53333336, 0.42745098, 0.7137255 , 0.2       ,\n",
              "        0.        , 0.        , 0.        , 0.        , 0.        ,\n",
              "        0.        , 0.        , 0.        , 0.        , 0.47058824,\n",
              "        0.54901963, 0.45882353, 0.5921569 , 0.5803922 , 0.5137255 ,\n",
              "        0.4862745 , 0.42745098, 0.47058824, 0.56078434, 0.47058824,\n",
              "        0.50980395, 0.5019608 , 0.62352943, 0.7372549 , 0.43529412,\n",
              "        0.42352942, 0.69803923, 0.25882354, 0.        , 0.        ,\n",
              "        0.        , 0.        , 0.        , 0.        , 0.        ,\n",
              "        0.        , 0.        , 0.49019608, 0.5058824 , 0.5019608 ,\n",
              "        0.4392157 , 0.5686275 , 0.54901963, 0.47843137, 0.44313726,\n",
              "        0.4627451 , 0.5254902 , 0.45882353, 0.5176471 , 0.5019608 ,\n",
              "        0.6509804 , 0.6156863 , 0.35686275, 0.47058824, 0.6666667 ,\n",
              "        0.2901961 , 0.        , 0.        , 0.        , 0.        ,\n",
              "        0.        , 0.        , 0.        , 0.        , 0.        ,\n",
              "        0.49411765, 0.48235294, 0.5411765 , 0.2901961 , 0.54901963,\n",
              "        0.56078434, 0.4862745 , 0.43529412, 0.4392157 , 0.49411765,\n",
              "        0.47058824, 0.50980395, 0.5058824 , 0.6862745 , 0.47058824,\n",
              "        0.34509805, 0.5019608 , 0.6431373 , 0.35686275, 0.        ,\n",
              "        0.        , 0.        , 0.        , 0.        , 0.        ,\n",
              "        0.        , 0.        , 0.        , 0.4862745 , 0.48235294,\n",
              "        0.6156863 , 0.1764706 , 0.5686275 , 0.56078434, 0.4862745 ,\n",
              "        0.44313726, 0.46666667, 0.5803922 , 0.47843137, 0.5137255 ,\n",
              "        0.5058824 , 0.7176471 , 0.3529412 , 0.28627452, 0.5372549 ,\n",
              "        0.60784316, 0.3882353 , 0.        , 0.        , 0.        ,\n",
              "        0.        , 0.        , 0.        , 0.        , 0.        ,\n",
              "        0.        , 0.4627451 , 0.47843137, 0.654902  , 0.        ,\n",
              "        0.56078434, 0.58431375, 0.47843137, 0.4392157 , 0.4627451 ,\n",
              "        0.5372549 , 0.45490196, 0.5176471 , 0.49411765, 0.7176471 ,\n",
              "        0.28627452, 0.19607843, 0.59607846, 0.5764706 , 0.39607844,\n",
              "        0.        , 0.        , 0.        , 0.        , 0.        ,\n",
              "        0.        , 0.        , 0.        , 0.        , 0.43529412,\n",
              "        0.5019608 , 0.6431373 , 0.        , 0.5568628 , 0.5921569 ,\n",
              "        0.47843137, 0.43529412, 0.45882353, 0.5176471 , 0.47058824,\n",
              "        0.53333336, 0.49019608, 0.7137255 , 0.3529412 , 0.07058824,\n",
              "        0.6431373 , 0.5686275 , 0.41960785, 0.        , 0.        ,\n",
              "        0.        , 0.        , 0.        , 0.        , 0.        ,\n",
              "        0.        , 0.        , 0.42745098, 0.5176471 , 0.61960787,\n",
              "        0.        , 0.57254905, 0.5803922 , 0.47058824, 0.42352942,\n",
              "        0.49019608, 0.6156863 , 0.47058824, 0.53333336, 0.5137255 ,\n",
              "        0.6901961 , 0.43529412, 0.        , 0.6431373 , 0.56078434,\n",
              "        0.4627451 , 0.        , 0.        , 0.        , 0.        ,\n",
              "        0.        , 0.        , 0.        , 0.        , 0.        ,\n",
              "        0.43529412, 0.5529412 , 0.54901963, 0.        , 0.5803922 ,\n",
              "        0.58431375, 0.47058824, 0.44705883, 0.48235294, 0.5372549 ,\n",
              "        0.4862745 , 0.5372549 , 0.5137255 , 0.67058825, 0.5294118 ,\n",
              "        0.        , 0.6156863 , 0.5764706 , 0.49019608, 0.        ,\n",
              "        0.        , 0.        , 0.        , 0.        , 0.        ,\n",
              "        0.        , 0.        , 0.        , 0.43529412, 0.6039216 ,\n",
              "        0.43529412, 0.        , 0.60784316, 0.5803922 , 0.4627451 ,\n",
              "        0.45490196, 0.4862745 , 0.56078434, 0.48235294, 0.5137255 ,\n",
              "        0.5058824 , 0.654902  , 0.60784316, 0.        , 0.5058824 ,\n",
              "        0.6156863 , 0.5058824 , 0.        , 0.        , 0.        ,\n",
              "        0.        , 0.        , 0.        , 0.        , 0.        ,\n",
              "        0.        , 0.42745098, 0.60784316, 0.34117648, 0.        ,\n",
              "        0.6156863 , 0.5686275 , 0.46666667, 0.45882353, 0.49411765,\n",
              "        0.6039216 , 0.49411765, 0.50980395, 0.48235294, 0.6313726 ,\n",
              "        0.627451  , 0.        , 0.38039216, 0.6392157 , 0.50980395,\n",
              "        0.        , 0.        , 0.        , 0.        , 0.        ,\n",
              "        0.        , 0.        , 0.        , 0.        , 0.4862745 ,\n",
              "        0.5568628 , 0.21176471, 0.        , 0.58431375, 0.5529412 ,\n",
              "        0.46666667, 0.46666667, 0.4862745 , 0.53333336, 0.5058824 ,\n",
              "        0.49411765, 0.47058824, 0.6       , 0.6862745 , 0.        ,\n",
              "        0.29803923, 0.5686275 , 0.5372549 , 0.        , 0.        ,\n",
              "        0.        , 0.        , 0.        , 0.        , 0.        ,\n",
              "        0.        , 0.        , 0.53333336, 0.5921569 , 0.18431373,\n",
              "        0.        , 0.58431375, 0.5372549 , 0.46666667, 0.4627451 ,\n",
              "        0.49411765, 0.56078434, 0.5176471 , 0.50980395, 0.48235294,\n",
              "        0.6       , 0.6745098 , 0.        , 0.25882354, 0.5803922 ,\n",
              "        0.6039216 , 0.        , 0.        , 0.        , 0.        ,\n",
              "        0.        , 0.        , 0.        , 0.        , 0.        ,\n",
              "        0.42745098, 0.68235296, 0.1882353 , 0.        , 0.6039216 ,\n",
              "        0.5411765 , 0.46666667, 0.45882353, 0.4862745 , 0.5411765 ,\n",
              "        0.50980395, 0.5058824 , 0.49019608, 0.62352943, 0.654902  ,\n",
              "        0.        , 0.22745098, 0.68235296, 0.5019608 , 0.        ,\n",
              "        0.        , 0.        , 0.        , 0.        , 0.        ,\n",
              "        0.        , 0.        , 0.        , 0.        , 0.        ,\n",
              "        0.        , 0.        , 0.33333334, 0.7137255 , 0.5764706 ,\n",
              "        0.53333336, 0.56078434, 0.61960787, 0.57254905, 0.5803922 ,\n",
              "        0.6       , 0.78039217, 0.27450982, 0.        , 0.        ,\n",
              "        0.        , 0.        , 0.        , 0.        , 0.        ,\n",
              "        0.        , 0.        , 0.        , 0.        , 0.        ,\n",
              "        0.        , 0.        , 0.        , 0.        , 0.        ,\n",
              "        0.        , 0.10196079, 0.21176471, 0.28235295, 0.3254902 ,\n",
              "        0.3764706 , 0.33333334, 0.3137255 , 0.23921569, 0.05490196,\n",
              "        0.        , 0.        , 0.        , 0.        , 0.        ,\n",
              "        0.        , 0.        , 0.        , 0.        ], dtype=float32))"
            ]
          },
          "metadata": {},
          "execution_count": 25
        }
      ]
    },
    {
      "cell_type": "code",
      "metadata": {
        "id": "Ke16AU59ZvNo"
      },
      "source": [
        "test_images = test_images.reshape((10000, 28 * 28))\n",
        "test_images = test_images.astype('float32') / 255"
      ],
      "execution_count": 26,
      "outputs": []
    },
    {
      "cell_type": "markdown",
      "metadata": {
        "id": "FSRvw7UXCpLv"
      },
      "source": [
        "##Preparación de etiquetas"
      ]
    },
    {
      "cell_type": "markdown",
      "metadata": {
        "id": "uxRe5M7ACswv"
      },
      "source": [
        "Como hemos elegido la función de pérdida **spars_categorical_cossentropy** no necesitamos preprocesamiento de los datos, es decir, nos permite usar numeros enteros, por ello usamos la función Flatten"
      ]
    },
    {
      "cell_type": "code",
      "metadata": {
        "id": "VEWRVeYWw7JK",
        "colab": {
          "base_uri": "https://localhost:8080/"
        },
        "outputId": "b9dcef9c-089a-46ee-8434-4061755aa9e7"
      },
      "source": [
        "network5.add(layers.Flatten(input_shape=(28,28)))\n",
        "network6.add(layers.Flatten(input_shape=(28,28)))\n",
        "network7.add(layers.Flatten(input_shape=(28,28)))\n",
        "network8.add(layers.Flatten(input_shape=(28,28)))\n",
        "train_labels[5000] "
      ],
      "execution_count": 27,
      "outputs": [
        {
          "output_type": "execute_result",
          "data": {
            "text/plain": [
              "4"
            ]
          },
          "metadata": {},
          "execution_count": 27
        }
      ]
    },
    {
      "cell_type": "markdown",
      "metadata": {
        "id": "_hzZ9RxUDDwJ"
      },
      "source": [
        "Como hemos visto antes, la imagen 5000 corresponde con la etiqueta 4, y como podemos observar, el 1 aparece en la posición 4 del vector."
      ]
    },
    {
      "cell_type": "markdown",
      "metadata": {
        "id": "Z2evGrbizKDz"
      },
      "source": [
        "# **Entrenamos las redes**"
      ]
    },
    {
      "cell_type": "code",
      "metadata": {
        "colab": {
          "base_uri": "https://localhost:8080/"
        },
        "id": "YS-GMLs2aBQz",
        "outputId": "e9e153cc-56ed-4d27-bed8-6c501fba7c4b"
      },
      "source": [
        "#Caso 5\n",
        "network5.fit(train_images, train_labels, epochs=5, batch_size=128)\n"
      ],
      "execution_count": 28,
      "outputs": [
        {
          "output_type": "stream",
          "name": "stdout",
          "text": [
            "Epoch 1/5\n",
            "469/469 [==============================] - 4s 3ms/step - loss: 1.0075 - accuracy: 0.6988\n",
            "Epoch 2/5\n",
            "469/469 [==============================] - 2s 3ms/step - loss: 0.6558 - accuracy: 0.7931\n",
            "Epoch 3/5\n",
            "469/469 [==============================] - 2s 3ms/step - loss: 0.5781 - accuracy: 0.8134\n",
            "Epoch 4/5\n",
            "469/469 [==============================] - 2s 3ms/step - loss: 0.5368 - accuracy: 0.8233\n",
            "Epoch 5/5\n",
            "469/469 [==============================] - 2s 3ms/step - loss: 0.5101 - accuracy: 0.8299\n"
          ]
        },
        {
          "output_type": "execute_result",
          "data": {
            "text/plain": [
              "<keras.callbacks.History at 0x7f8ca03d3a90>"
            ]
          },
          "metadata": {},
          "execution_count": 28
        }
      ]
    },
    {
      "cell_type": "code",
      "metadata": {
        "colab": {
          "base_uri": "https://localhost:8080/"
        },
        "id": "fNpPHtf4aQHf",
        "outputId": "1f0e88f4-388f-47fb-c299-77a86f5cd879"
      },
      "source": [
        "network6.fit(train_images, train_labels, epochs=5, batch_size=128)"
      ],
      "execution_count": 29,
      "outputs": [
        {
          "output_type": "stream",
          "name": "stdout",
          "text": [
            "Epoch 1/5\n",
            "469/469 [==============================] - 2s 4ms/step - loss: 0.5597 - accuracy: 0.8009\n",
            "Epoch 2/5\n",
            "469/469 [==============================] - 2s 4ms/step - loss: 0.3804 - accuracy: 0.8595\n",
            "Epoch 3/5\n",
            "469/469 [==============================] - 2s 4ms/step - loss: 0.3378 - accuracy: 0.8769\n",
            "Epoch 4/5\n",
            "469/469 [==============================] - 2s 4ms/step - loss: 0.3108 - accuracy: 0.8847\n",
            "Epoch 5/5\n",
            "469/469 [==============================] - 2s 4ms/step - loss: 0.2930 - accuracy: 0.8923\n"
          ]
        },
        {
          "output_type": "execute_result",
          "data": {
            "text/plain": [
              "<keras.callbacks.History at 0x7f8ca0489950>"
            ]
          },
          "metadata": {},
          "execution_count": 29
        }
      ]
    },
    {
      "cell_type": "code",
      "metadata": {
        "colab": {
          "base_uri": "https://localhost:8080/"
        },
        "id": "y1ReFXMLaTpC",
        "outputId": "df6fdbb5-52ac-4a5f-c22f-bd74cb7ceee3"
      },
      "source": [
        "network7.fit(train_images, train_labels, epochs=5, batch_size=128)"
      ],
      "execution_count": 30,
      "outputs": [
        {
          "output_type": "stream",
          "name": "stdout",
          "text": [
            "Epoch 1/5\n",
            "469/469 [==============================] - 2s 3ms/step - loss: 1.6986 - accuracy: 0.5849\n",
            "Epoch 2/5\n",
            "469/469 [==============================] - 2s 3ms/step - loss: 1.1303 - accuracy: 0.7101\n",
            "Epoch 3/5\n",
            "469/469 [==============================] - 2s 3ms/step - loss: 0.9258 - accuracy: 0.7303\n",
            "Epoch 4/5\n",
            "469/469 [==============================] - 2s 3ms/step - loss: 0.8240 - accuracy: 0.7430\n",
            "Epoch 5/5\n",
            "469/469 [==============================] - 2s 3ms/step - loss: 0.7624 - accuracy: 0.7517\n"
          ]
        },
        {
          "output_type": "execute_result",
          "data": {
            "text/plain": [
              "<keras.callbacks.History at 0x7f8ca0149a90>"
            ]
          },
          "metadata": {},
          "execution_count": 30
        }
      ]
    },
    {
      "cell_type": "code",
      "metadata": {
        "colab": {
          "base_uri": "https://localhost:8080/"
        },
        "id": "DL95dy3TaWgb",
        "outputId": "834762f4-3013-4e8e-c2ad-f31ee1b72f14"
      },
      "source": [
        "network8.fit(train_images, train_labels, epochs=5, batch_size=128)"
      ],
      "execution_count": 31,
      "outputs": [
        {
          "output_type": "stream",
          "name": "stdout",
          "text": [
            "Epoch 1/5\n",
            "469/469 [==============================] - 2s 4ms/step - loss: 0.5979 - accuracy: 0.7917\n",
            "Epoch 2/5\n",
            "469/469 [==============================] - 2s 4ms/step - loss: 0.4286 - accuracy: 0.8443\n",
            "Epoch 3/5\n",
            "469/469 [==============================] - 2s 4ms/step - loss: 0.3869 - accuracy: 0.8597\n",
            "Epoch 4/5\n",
            "469/469 [==============================] - 2s 4ms/step - loss: 0.3602 - accuracy: 0.8680\n",
            "Epoch 5/5\n",
            "469/469 [==============================] - 2s 4ms/step - loss: 0.3397 - accuracy: 0.8758\n"
          ]
        },
        {
          "output_type": "execute_result",
          "data": {
            "text/plain": [
              "<keras.callbacks.History at 0x7f8ca002c9d0>"
            ]
          },
          "metadata": {},
          "execution_count": 31
        }
      ]
    },
    {
      "cell_type": "markdown",
      "metadata": {
        "id": "-A4R_vGYOd56"
      },
      "source": [
        "Verificamos nuestro modelo ya entrenado con las imágenes de test (que nunca ha visto)"
      ]
    },
    {
      "cell_type": "code",
      "metadata": {
        "colab": {
          "base_uri": "https://localhost:8080/"
        },
        "id": "RR11VhpydMrE",
        "outputId": "70086e49-5ee2-479a-ee2b-323b2b1ef7a3"
      },
      "source": [
        "test_loss, test_acc = network5.evaluate(test_images, test_labels)\n",
        "test_loss, test_acc = network6.evaluate(test_images, test_labels)\n",
        "test_loss, test_acc = network7.evaluate(test_images, test_labels)\n",
        "test_loss, test_acc = network8.evaluate(test_images, test_labels)"
      ],
      "execution_count": 32,
      "outputs": [
        {
          "output_type": "stream",
          "name": "stdout",
          "text": [
            "313/313 [==============================] - 1s 3ms/step - loss: 0.5275 - accuracy: 0.8205\n",
            "313/313 [==============================] - 1s 3ms/step - loss: 0.3515 - accuracy: 0.8728\n",
            "313/313 [==============================] - 1s 3ms/step - loss: 0.7526 - accuracy: 0.7479\n",
            "313/313 [==============================] - 1s 3ms/step - loss: 0.3784 - accuracy: 0.8620\n"
          ]
        }
      ]
    },
    {
      "cell_type": "code",
      "metadata": {
        "colab": {
          "base_uri": "https://localhost:8080/"
        },
        "id": "gcK6AcBAdef5",
        "outputId": "d482f4d5-5845-4ab4-fd06-3c102a42997e"
      },
      "source": [
        "print('test_acc:', test_acc)"
      ],
      "execution_count": 33,
      "outputs": [
        {
          "output_type": "stream",
          "name": "stdout",
          "text": [
            "test_acc: 0.8619999885559082\n"
          ]
        }
      ]
    },
    {
      "cell_type": "markdown",
      "metadata": {
        "id": "m4rOZTXE6cXd"
      },
      "source": [
        "# PREDICCIONES\n"
      ]
    },
    {
      "cell_type": "code",
      "metadata": {
        "colab": {
          "base_uri": "https://localhost:8080/",
          "height": 265
        },
        "id": "3sepKWtkdtxt",
        "outputId": "47c4398a-17d9-46b3-c5c4-e02fe81ade46"
      },
      "source": [
        "#Predicciones\n",
        "# Veamos el elemento 5 de test y pintémoslo con matplotlib\n",
        "from keras.datasets import fashion_mnist\n",
        "(train_images, train_labels), (test_images, test_labels) = fashion_mnist.load_data()\n",
        "import matplotlib.pyplot as plt\n",
        "digit = test_images[5]\n",
        "plt.imshow(digit, cmap=plt.cm.binary)\n",
        "plt.show()"
      ],
      "execution_count": 34,
      "outputs": [
        {
          "output_type": "display_data",
          "data": {
            "image/png": "[encoded data removed]",
            "text/plain": [
              "<Figure size 432x288 with 1 Axes>"
            ]
          },
          "metadata": {
            "needs_background": "light"
          }
        }
      ]
    },
    {
      "cell_type": "code",
      "metadata": {
        "colab": {
          "base_uri": "https://localhost:8080/"
        },
        "id": "25i_zkZwfFL0",
        "outputId": "5f96b199-5e98-4919-fe5a-497fc0e65baf"
      },
      "source": [
        "train_images = train_images.reshape((60000, 28 * 28))\n",
        "test_images = test_images.reshape((10000, 28 * 28))\n",
        "\n",
        "train_images = train_images.astype('float32') / 255\n",
        "test_images = test_images.astype('float32') / 255\n",
        "\n",
        "import numpy as np\n",
        "from keras.utils.np_utils import to_categorical\n",
        "\n",
        "\n",
        "print(test_labels)\n",
        "# train_labels = to_categorical(train_labels)\n",
        "test_labels = to_categorical(test_labels)\n",
        "print(test_labels)\n",
        "\n",
        "\n",
        "predictions5 = network5.predict(test_images)\n",
        "print(np.argmax(predictions5[5]))\n",
        "print(predictions5[5])\n",
        "np.sum(predictions5[5])\n",
        "print(predictions5)"
      ],
      "execution_count": 35,
      "outputs": [
        {
          "output_type": "stream",
          "name": "stdout",
          "text": [
            "[9 2 1 ... 8 1 5]\n",
            "[[0. 0. 0. ... 0. 0. 1.]\n",
            " [0. 0. 1. ... 0. 0. 0.]\n",
            " [0. 1. 0. ... 0. 0. 0.]\n",
            " ...\n",
            " [0. 0. 0. ... 0. 1. 0.]\n",
            " [0. 1. 0. ... 0. 0. 0.]\n",
            " [0. 0. 0. ... 0. 0. 0.]]\n",
            "1\n",
            "[4.2229029e-03 9.8150426e-01 1.3480692e-03 2.8921962e-03 8.7301536e-03\n",
            " 9.2877026e-06 1.2505708e-03 8.1820526e-06 2.7966518e-05 6.4333722e-06]\n",
            "[[1.3144173e-04 6.2296691e-05 3.9769910e-04 ... 2.7669984e-01\n",
            "  1.5241790e-02 5.4841226e-01]\n",
            " [3.4548520e-04 1.4571218e-05 9.3316877e-01 ... 4.0125919e-08\n",
            "  5.4937842e-05 4.5711377e-07]\n",
            " [8.3332634e-05 9.9946731e-01 5.7213136e-05 ... 9.9710314e-07\n",
            "  1.3563669e-06 3.2200870e-07]\n",
            " ...\n",
            " [1.0682693e-01 4.1545942e-04 4.3008481e-03 ... 1.0127085e-03\n",
            "  6.3202369e-01 1.2386070e-03]\n",
            " [8.1085326e-04 9.7351134e-01 5.1149027e-04 ... 4.7117068e-05\n",
            "  2.9028537e-05 1.3132097e-04]\n",
            " [1.6442611e-03 1.8728089e-03 5.1753721e-03 ... 4.2652628e-01\n",
            "  4.9245413e-02 6.2669314e-02]]\n"
          ]
        }
      ]
    },
    {
      "cell_type": "code",
      "metadata": {
        "colab": {
          "base_uri": "https://localhost:8080/"
        },
        "id": "79QpL5JygMjK",
        "outputId": "8cfd6e81-c68c-4b24-ed26-ea7fca5d867a"
      },
      "source": [
        "predictions6 = network6.predict(test_images)\n",
        "print(np.argmax(predictions6[5]))\n",
        "print(predictions6[5])\n",
        "np.sum(predictions6[5])\n",
        "print(predictions6)"
      ],
      "execution_count": 36,
      "outputs": [
        {
          "output_type": "stream",
          "name": "stdout",
          "text": [
            "1\n",
            "[2.4021482e-04 9.9975771e-01 7.4008170e-08 8.1062961e-07 6.7489560e-07\n",
            " 5.5953625e-13 5.3889630e-07 6.1001460e-16 5.1677707e-10 6.5594007e-15]\n",
            "[[1.4230134e-06 4.9433557e-10 2.5510680e-08 ... 1.5739853e-02\n",
            "  2.4309845e-06 9.6568698e-01]\n",
            " [5.5826499e-06 4.4930691e-13 9.9985135e-01 ... 2.0019973e-15\n",
            "  2.5455421e-11 2.1863666e-13]\n",
            " [2.7368546e-07 9.9999976e-01 9.2713288e-11 ... 4.5900247e-19\n",
            "  1.4217655e-12 2.5335678e-18]\n",
            " ...\n",
            " [2.0586310e-03 3.8440093e-10 1.3882347e-04 ... 5.9128705e-08\n",
            "  9.9690884e-01 2.6518279e-09]\n",
            " [9.9684151e-08 9.9996233e-01 9.9954778e-10 ... 5.2224648e-12\n",
            "  1.3854152e-09 4.5744891e-11]\n",
            " [2.3490531e-04 5.3350925e-07 2.1970989e-04 ... 2.6996195e-02\n",
            "  3.3014398e-03 7.7993266e-04]]\n"
          ]
        }
      ]
    },
    {
      "cell_type": "code",
      "metadata": {
        "colab": {
          "base_uri": "https://localhost:8080/"
        },
        "id": "gc6hz2hzgNnB",
        "outputId": "9448ecb3-022d-4f4f-8b2b-96f486bbfb47"
      },
      "source": [
        "predictions7 = network7.predict(test_images)\n",
        "print(np.argmax(predictions7[5]))\n",
        "print(predictions7[5])\n",
        "np.sum(predictions7[5])\n",
        "print(predictions7)"
      ],
      "execution_count": 37,
      "outputs": [
        {
          "output_type": "stream",
          "name": "stdout",
          "text": [
            "1\n",
            "[5.5619288e-02 8.0032802e-01 1.1973387e-02 6.1291557e-02 3.7115928e-02\n",
            " 6.4034847e-04 3.1559963e-02 3.1616309e-04 9.0576411e-04 2.4961011e-04]\n",
            "[[1.2812624e-03 6.1485550e-04 2.9186676e-03 ... 2.1579528e-01\n",
            "  7.9794675e-02 3.3959442e-01]\n",
            " [9.4403103e-03 1.9923078e-04 6.9018525e-01 ... 7.2404073e-05\n",
            "  1.0272982e-02 7.6525524e-04]\n",
            " [6.0246573e-03 9.5738780e-01 1.3478445e-03 ... 8.5336527e-05\n",
            "  1.0156710e-04 4.9774833e-05]\n",
            " ...\n",
            " [2.3940863e-01 8.4466645e-03 1.0349011e-02 ... 5.6564687e-03\n",
            "  2.1774283e-01 1.2796463e-02]\n",
            " [1.2279217e-02 7.1931255e-01 3.2910458e-03 ... 9.3459326e-04\n",
            "  3.8810473e-04 8.2374981e-04]\n",
            " [5.0637326e-03 4.4523720e-03 1.4448803e-02 ... 3.1562272e-01\n",
            "  9.3202867e-02 5.0328605e-02]]\n"
          ]
        }
      ]
    },
    {
      "cell_type": "code",
      "metadata": {
        "colab": {
          "base_uri": "https://localhost:8080/"
        },
        "id": "B2g1_bpNgSpO",
        "outputId": "3865b018-5739-4fe8-8ed7-1d68ed21912e"
      },
      "source": [
        "predictions8 = network8.predict(test_images)\n",
        "print(np.argmax(predictions8[5]))\n",
        "print(predictions8[5])\n",
        "np.sum(predictions8[5])\n",
        "print(predictions8)"
      ],
      "execution_count": 38,
      "outputs": [
        {
          "output_type": "stream",
          "name": "stdout",
          "text": [
            "1\n",
            "[1.9010935e-03 9.9726343e-01 1.3226860e-04 2.5971673e-04 3.2321256e-04\n",
            " 7.1112725e-09 1.1631247e-04 4.1694011e-07 3.5633420e-06 2.0838964e-09]\n",
            "[[8.56229235e-06 2.10880685e-07 1.50215892e-05 ... 1.57507122e-01\n",
            "  4.12972970e-03 6.19564116e-01]\n",
            " [6.75434072e-04 2.08706297e-06 9.55805182e-01 ... 4.22917914e-08\n",
            "  2.00751183e-05 3.45651863e-08]\n",
            " [4.36148621e-05 9.99916911e-01 6.21675599e-06 ... 1.07281586e-07\n",
            "  3.39779461e-07 1.39297726e-10]\n",
            " ...\n",
            " [8.42305459e-03 7.67068613e-08 1.68464880e-03 ... 1.42977835e-04\n",
            "  9.54803228e-01 1.70413372e-07]\n",
            " [1.79400786e-06 9.99738395e-01 1.98287512e-06 ... 8.82135396e-07\n",
            "  1.61417134e-07 1.83402307e-07]\n",
            " [5.64416314e-06 3.15802907e-07 1.04867358e-04 ... 7.51328841e-03\n",
            "  2.45786062e-03 1.69818359e-05]]\n"
          ]
        }
      ]
    },
    {
      "cell_type": "code",
      "metadata": {
        "id": "n7majqJih8Fd"
      },
      "source": [
        "#Esto es para el apartado 6\n",
        "def plot_image(i, predictions_array, true_label, img):\n",
        "  predictions_array, true_label, img = predictions_array, true_label[i], img[i]\n",
        "  plt.grid(False)\n",
        "  plt.xticks([])\n",
        "  plt.yticks([])\n",
        "\n",
        "  plt.imshow(img, cmap=plt.cm.binary)    \n",
        "\n",
        "  predicted_label = np.argmax(predictions_array)\n",
        "  if predicted_label.all() == true_label.all():\n",
        "    color = 'blue'\n",
        "  else:\n",
        "    color = 'red'\n",
        "\n",
        "  plt.xlabel(\"{} {:2.0f}% ({})\".format(predicted_label,\n",
        "                                100*np.max(predictions_array),\n",
        "                                true_label),\n",
        "                                color=color)\n",
        "\n",
        "def plot_value_array(i, predictions_array, true_label):\n",
        "  predictions_array, true_label = predictions_array, true_label[i]\n",
        "  plt.grid(False)\n",
        "  plt.xticks(range(10))\n",
        "  plt.yticks([])\n",
        "  thisplot = plt.bar(range(10), predictions_array, color=\"#00FF00\")\n",
        "  plt.ylim([0, 1])\n",
        "  predicted_label = np.argmax(predictions_array)\n",
        "\n",
        "  thisplot[predicted_label].set_color('red')\n",
        "  thisplot[true_label].set_color('black')\n",
        "  \n",
        "  "
      ],
      "execution_count": 39,
      "outputs": []
    },
    {
      "cell_type": "code",
      "metadata": {
        "id": "TjZ4N5DLuf-w"
      },
      "source": [
        "from keras.datasets import fashion_mnist\n",
        "(train_images, train_labels), (test_images, test_labels) = fashion_mnist.load_data()\n",
        "train_images = train_images.reshape((60000, 28 * 28))\n",
        "test_images = test_images.reshape((10000, 28 * 28))\n",
        "\n",
        "train_images = train_images.astype('float32') / 255\n",
        "test_images = test_images.astype('float32') / 255"
      ],
      "execution_count": 40,
      "outputs": []
    },
    {
      "cell_type": "code",
      "metadata": {
        "colab": {
          "base_uri": "https://localhost:8080/",
          "height": 211
        },
        "id": "SeLfSbaYc_xT",
        "outputId": "4f63ce4f-2514-449b-d65c-354c9f40eb35"
      },
      "source": [
        "i = 5\n",
        "plt.figure(figsize=(6,3))\n",
        "plt.subplot(1,2,1)\n",
        "plot_image(i, predictions5[i], test_labels, test_images.reshape(10000,28,28))\n",
        "plt.subplot(1,2,2)\n",
        "plot_value_array(i, predictions5[i],  test_labels)\n",
        "plt.show()"
      ],
      "execution_count": 41,
      "outputs": [
        {
          "output_type": "display_data",
          "data": {
            "image/png": "[encoded data removed]",
            "text/plain": [
              "<Figure size 432x216 with 2 Axes>"
            ]
          },
          "metadata": {
            "needs_background": "light"
          }
        }
      ]
    },
    {
      "cell_type": "code",
      "metadata": {
        "colab": {
          "base_uri": "https://localhost:8080/",
          "height": 211
        },
        "id": "dZSSh1TpgekF",
        "outputId": "fe70c6e1-590c-4dc0-a8c8-124731247ddf"
      },
      "source": [
        "i = 5\n",
        "plt.figure(figsize=(6,3))\n",
        "plt.subplot(1,2,1)\n",
        "plot_image(i, predictions6[i], test_labels, test_images.reshape(10000,28,28))\n",
        "plt.subplot(1,2,2)\n",
        "plot_value_array(i, predictions6[i],  test_labels)\n",
        "plt.show()"
      ],
      "execution_count": 42,
      "outputs": [
        {
          "output_type": "display_data",
          "data": {
            "image/png": "[encoded data removed]",
            "text/plain": [
              "<Figure size 432x216 with 2 Axes>"
            ]
          },
          "metadata": {
            "needs_background": "light"
          }
        }
      ]
    },
    {
      "cell_type": "code",
      "metadata": {
        "colab": {
          "base_uri": "https://localhost:8080/",
          "height": 211
        },
        "id": "bCZV1keKghMJ",
        "outputId": "9f6dc5be-321b-4a3f-d4ba-2f9b0cca8ae3"
      },
      "source": [
        "i = 5\n",
        "plt.figure(figsize=(6,3))\n",
        "plt.subplot(1,2,1)\n",
        "plot_image(i, predictions7[i], test_labels, test_images.reshape(10000,28,28))\n",
        "plt.subplot(1,2,2)\n",
        "plot_value_array(i, predictions7[i],  test_labels)\n",
        "plt.show()"
      ],
      "execution_count": 43,
      "outputs": [
        {
          "output_type": "display_data",
          "data": {
            "image/png": "[encoded data removed]",
            "text/plain": [
              "<Figure size 432x216 with 2 Axes>"
            ]
          },
          "metadata": {
            "needs_background": "light"
          }
        }
      ]
    },
    {
      "cell_type": "code",
      "metadata": {
        "colab": {
          "base_uri": "https://localhost:8080/",
          "height": 211
        },
        "id": "nfLDSohrgi_j",
        "outputId": "1bab7881-1a85-4c06-e240-a1df46f05acc"
      },
      "source": [
        "i = 5\n",
        "plt.figure(figsize=(6,3))\n",
        "plt.subplot(1,2,1)\n",
        "plot_image(i, predictions8[i], test_labels, test_images.reshape(10000,28,28))\n",
        "plt.subplot(1,2,2)\n",
        "plot_value_array(i, predictions8[i],  test_labels)\n",
        "plt.show()"
      ],
      "execution_count": 44,
      "outputs": [
        {
          "output_type": "display_data",
          "data": {
            "image/png": "[encoded data removed]",
            "text/plain": [
              "<Figure size 432x216 with 2 Axes>"
            ]
          },
          "metadata": {
            "needs_background": "light"
          }
        }
      ]
    },
    {
      "cell_type": "markdown",
      "metadata": {
        "id": "3FuH5WsT6UMH"
      },
      "source": [
        "# apartado 6b"
      ]
    },
    {
      "cell_type": "code",
      "metadata": {
        "id": "Tg4UNUwFxa6G",
        "outputId": "a3a27635-3b63-4878-cc39-29c87917fca5",
        "colab": {
          "base_uri": "https://localhost:8080/",
          "height": 1000
        }
      },
      "source": [
        "#predicciones 10 primeras del modelo 5 - 8\n",
        "\n",
        "for i in range(10):\n",
        "  plt.figure(figsize=(6,3))\n",
        "  plt.subplot(1,2,1)\n",
        "  plot_image(i, predictions5[i], test_labels, test_images.reshape(10000,28,28))\n",
        "  plt.subplot(1,2,2)\n",
        "  plot_value_array(i, predictions5[i],  test_labels)\n",
        "  plt.show()\n",
        "  plt.clf()"
      ],
      "execution_count": 45,
      "outputs": [
        {
          "output_type": "display_data",
          "data": {
            "image/png": "[encoded data removed]",
            "text/plain": [
              "<Figure size 432x216 with 2 Axes>"
            ]
          },
          "metadata": {
            "needs_background": "light"
          }
        },
        {
          "output_type": "display_data",
          "data": {
            "text/plain": [
              "<Figure size 432x288 with 0 Axes>"
            ]
          },
          "metadata": {}
        },
        {
          "output_type": "display_data",
          "data": {
            "image/png": "[encoded data removed]",
            "text/plain": [
              "<Figure size 432x216 with 2 Axes>"
            ]
          },
          "metadata": {
            "needs_background": "light"
          }
        },
        {
          "output_type": "display_data",
          "data": {
            "text/plain": [
              "<Figure size 432x288 with 0 Axes>"
            ]
          },
          "metadata": {}
        },
        {
          "output_type": "display_data",
          "data": {
            "image/png": "[encoded data removed]",
            "text/plain": [
              "<Figure size 432x216 with 2 Axes>"
            ]
          },
          "metadata": {
            "needs_background": "light"
          }
        },
        {
          "output_type": "display_data",
          "data": {
            "text/plain": [
              "<Figure size 432x288 with 0 Axes>"
            ]
          },
          "metadata": {}
        },
        {
          "output_type": "display_data",
          "data": {
            "image/png": "[encoded data removed]",
            "text/plain": [
              "<Figure size 432x216 with 2 Axes>"
            ]
          },
          "metadata": {
            "needs_background": "light"
          }
        },
        {
          "output_type": "display_data",
          "data": {
            "text/plain": [
              "<Figure size 432x288 with 0 Axes>"
            ]
          },
          "metadata": {}
        },
        {
          "output_type": "display_data",
          "data": {
            "image/png": "[encoded data removed]",
            "text/plain": [
              "<Figure size 432x216 with 2 Axes>"
            ]
          },
          "metadata": {
            "needs_background": "light"
          }
        },
        {
          "output_type": "display_data",
          "data": {
            "text/plain": [
              "<Figure size 432x288 with 0 Axes>"
            ]
          },
          "metadata": {}
        },
        {
          "output_type": "display_data",
          "data": {
            "image/png": "[encoded data removed]",
            "text/plain": [
              "<Figure size 432x216 with 2 Axes>"
            ]
          },
          "metadata": {
            "needs_background": "light"
          }
        },
        {
          "output_type": "display_data",
          "data": {
            "text/plain": [
              "<Figure size 432x288 with 0 Axes>"
            ]
          },
          "metadata": {}
        },
        {
          "output_type": "display_data",
          "data": {
            "image/png": "[encoded data removed]",
            "text/plain": [
              "<Figure size 432x216 with 2 Axes>"
            ]
          },
          "metadata": {
            "needs_background": "light"
          }
        },
        {
          "output_type": "display_data",
          "data": {
            "text/plain": [
              "<Figure size 432x288 with 0 Axes>"
            ]
          },
          "metadata": {}
        },
        {
          "output_type": "display_data",
          "data": {
            "image/png": "[encoded data removed]",
            "text/plain": [
              "<Figure size 432x216 with 2 Axes>"
            ]
          },
          "metadata": {
            "needs_background": "light"
          }
        },
        {
          "output_type": "display_data",
          "data": {
            "text/plain": [
              "<Figure size 432x288 with 0 Axes>"
            ]
          },
          "metadata": {}
        },
        {
          "output_type": "display_data",
          "data": {
            "image/png": "[encoded data removed]",
            "text/plain": [
              "<Figure size 432x216 with 2 Axes>"
            ]
          },
          "metadata": {
            "needs_background": "light"
          }
        },
        {
          "output_type": "display_data",
          "data": {
            "text/plain": [
              "<Figure size 432x288 with 0 Axes>"
            ]
          },
          "metadata": {}
        },
        {
          "output_type": "display_data",
          "data": {
            "image/png": "[encoded data removed]",
            "text/plain": [
              "<Figure size 432x216 with 2 Axes>"
            ]
          },
          "metadata": {
            "needs_background": "light"
          }
        },
        {
          "output_type": "display_data",
          "data": {
            "text/plain": [
              "<Figure size 432x288 with 0 Axes>"
            ]
          },
          "metadata": {}
        }
      ]
    },
    {
      "cell_type": "code",
      "metadata": {
        "id": "rr-3tROIx1yh",
        "outputId": "4a6dec59-ebee-4cdf-cb0d-faccfe353fcf",
        "colab": {
          "base_uri": "https://localhost:8080/",
          "height": 1000
        }
      },
      "source": [
        "for i in range(10):\n",
        "  plt.figure(figsize=(6,3))\n",
        "  plt.subplot(1,2,1)\n",
        "  plot_image(i, predictions6[i], test_labels, test_images.reshape(10000,28,28))\n",
        "  plt.subplot(1,2,2)\n",
        "  plot_value_array(i, predictions6[i],  test_labels)\n",
        "  plt.show()\n",
        "  plt.clf()"
      ],
      "execution_count": 46,
      "outputs": [
        {
          "output_type": "display_data",
          "data": {
            "image/png": "[encoded data removed]",
            "text/plain": [
              "<Figure size 432x216 with 2 Axes>"
            ]
          },
          "metadata": {
            "needs_background": "light"
          }
        },
        {
          "output_type": "display_data",
          "data": {
            "text/plain": [
              "<Figure size 432x288 with 0 Axes>"
            ]
          },
          "metadata": {}
        },
        {
          "output_type": "display_data",
          "data": {
            "image/png": "[encoded data removed]",
            "text/plain": [
              "<Figure size 432x216 with 2 Axes>"
            ]
          },
          "metadata": {
            "needs_background": "light"
          }
        },
        {
          "output_type": "display_data",
          "data": {
            "text/plain": [
              "<Figure size 432x288 with 0 Axes>"
            ]
          },
          "metadata": {}
        },
        {
          "output_type": "display_data",
          "data": {
            "image/png": "[encoded data removed]",
            "text/plain": [
              "<Figure size 432x216 with 2 Axes>"
            ]
          },
          "metadata": {
            "needs_background": "light"
          }
        },
        {
          "output_type": "display_data",
          "data": {
            "text/plain": [
              "<Figure size 432x288 with 0 Axes>"
            ]
          },
          "metadata": {}
        },
        {
          "output_type": "display_data",
          "data": {
            "image/png": "[encoded data removed]",
            "text/plain": [
              "<Figure size 432x216 with 2 Axes>"
            ]
          },
          "metadata": {
            "needs_background": "light"
          }
        },
        {
          "output_type": "display_data",
          "data": {
            "text/plain": [
              "<Figure size 432x288 with 0 Axes>"
            ]
          },
          "metadata": {}
        },
        {
          "output_type": "display_data",
          "data": {
            "image/png": "[encoded data removed]",
            "text/plain": [
              "<Figure size 432x216 with 2 Axes>"
            ]
          },
          "metadata": {
            "needs_background": "light"
          }
        },
        {
          "output_type": "display_data",
          "data": {
            "text/plain": [
              "<Figure size 432x288 with 0 Axes>"
            ]
          },
          "metadata": {}
        },
        {
          "output_type": "display_data",
          "data": {
            "image/png": "[encoded data removed]",
            "text/plain": [
              "<Figure size 432x216 with 2 Axes>"
            ]
          },
          "metadata": {
            "needs_background": "light"
          }
        },
        {
          "output_type": "display_data",
          "data": {
            "text/plain": [
              "<Figure size 432x288 with 0 Axes>"
            ]
          },
          "metadata": {}
        },
        {
          "output_type": "display_data",
          "data": {
            "image/png": "[encoded data removed]",
            "text/plain": [
              "<Figure size 432x216 with 2 Axes>"
            ]
          },
          "metadata": {
            "needs_background": "light"
          }
        },
        {
          "output_type": "display_data",
          "data": {
            "text/plain": [
              "<Figure size 432x288 with 0 Axes>"
            ]
          },
          "metadata": {}
        },
        {
          "output_type": "display_data",
          "data": {
            "image/png": "[encoded data removed]",
            "text/plain": [
              "<Figure size 432x216 with 2 Axes>"
            ]
          },
          "metadata": {
            "needs_background": "light"
          }
        },
        {
          "output_type": "display_data",
          "data": {
            "text/plain": [
              "<Figure size 432x288 with 0 Axes>"
            ]
          },
          "metadata": {}
        },
        {
          "output_type": "display_data",
          "data": {
            "image/png": "[encoded data removed]",
            "text/plain": [
              "<Figure size 432x216 with 2 Axes>"
            ]
          },
          "metadata": {
            "needs_background": "light"
          }
        },
        {
          "output_type": "display_data",
          "data": {
            "text/plain": [
              "<Figure size 432x288 with 0 Axes>"
            ]
          },
          "metadata": {}
        },
        {
          "output_type": "display_data",
          "data": {
            "image/png": "[encoded data removed]",
            "text/plain": [
              "<Figure size 432x216 with 2 Axes>"
            ]
          },
          "metadata": {
            "needs_background": "light"
          }
        },
        {
          "output_type": "display_data",
          "data": {
            "text/plain": [
              "<Figure size 432x288 with 0 Axes>"
            ]
          },
          "metadata": {}
        }
      ]
    },
    {
      "cell_type": "markdown",
      "metadata": {
        "id": "5EBIqtHvI8Kc"
      },
      "source": [
        "Observamos que el modelo de la red neuronal 6 hace muy buenas predicciones, si nos fijamos su precisión al entrenarla era de 0.8923 y su pérdida de 0.2930. Vemos que en lo que más se confunde es entre camisetas y camisas, lo cual es lógico ya que tienen mucho parecido; en lo demás lo predice casi al 100% correctamente."
      ]
    },
    {
      "cell_type": "code",
      "metadata": {
        "id": "wd97Urszx3t0",
        "outputId": "4fdece94-1c1d-41d1-c68d-b4abac7254bb",
        "colab": {
          "base_uri": "https://localhost:8080/",
          "height": 1000
        }
      },
      "source": [
        "for i in range(10):\n",
        "  plt.figure(figsize=(6,3))\n",
        "  plt.subplot(1,2,1)\n",
        "  plot_image(i, predictions7[i], test_labels, test_images.reshape(10000,28,28))\n",
        "  plt.subplot(1,2,2)\n",
        "  plot_value_array(i, predictions7[i],  test_labels)\n",
        "  plt.show()\n",
        "  plt.clf()"
      ],
      "execution_count": 47,
      "outputs": [
        {
          "output_type": "display_data",
          "data": {
            "image/png": "[encoded data removed]",
            "text/plain": [
              "<Figure size 432x216 with 2 Axes>"
            ]
          },
          "metadata": {
            "needs_background": "light"
          }
        },
        {
          "output_type": "display_data",
          "data": {
            "text/plain": [
              "<Figure size 432x288 with 0 Axes>"
            ]
          },
          "metadata": {}
        },
        {
          "output_type": "display_data",
          "data": {
            "image/png": "[encoded data removed]",
            "text/plain": [
              "<Figure size 432x216 with 2 Axes>"
            ]
          },
          "metadata": {
            "needs_background": "light"
          }
        },
        {
          "output_type": "display_data",
          "data": {
            "text/plain": [
              "<Figure size 432x288 with 0 Axes>"
            ]
          },
          "metadata": {}
        },
        {
          "output_type": "display_data",
          "data": {
            "image/png": "[encoded data removed]",
            "text/plain": [
              "<Figure size 432x216 with 2 Axes>"
            ]
          },
          "metadata": {
            "needs_background": "light"
          }
        },
        {
          "output_type": "display_data",
          "data": {
            "text/plain": [
              "<Figure size 432x288 with 0 Axes>"
            ]
          },
          "metadata": {}
        },
        {
          "output_type": "display_data",
          "data": {
            "image/png": "[encoded data removed]",
            "text/plain": [
              "<Figure size 432x216 with 2 Axes>"
            ]
          },
          "metadata": {
            "needs_background": "light"
          }
        },
        {
          "output_type": "display_data",
          "data": {
            "text/plain": [
              "<Figure size 432x288 with 0 Axes>"
            ]
          },
          "metadata": {}
        },
        {
          "output_type": "display_data",
          "data": {
            "image/png": "[encoded data removed]",
            "text/plain": [
              "<Figure size 432x216 with 2 Axes>"
            ]
          },
          "metadata": {
            "needs_background": "light"
          }
        },
        {
          "output_type": "display_data",
          "data": {
            "text/plain": [
              "<Figure size 432x288 with 0 Axes>"
            ]
          },
          "metadata": {}
        },
        {
          "output_type": "display_data",
          "data": {
            "image/png": "[encoded data removed]",
            "text/plain": [
              "<Figure size 432x216 with 2 Axes>"
            ]
          },
          "metadata": {
            "needs_background": "light"
          }
        },
        {
          "output_type": "display_data",
          "data": {
            "text/plain": [
              "<Figure size 432x288 with 0 Axes>"
            ]
          },
          "metadata": {}
        },
        {
          "output_type": "display_data",
          "data": {
            "image/png": "[encoded data removed]",
            "text/plain": [
              "<Figure size 432x216 with 2 Axes>"
            ]
          },
          "metadata": {
            "needs_background": "light"
          }
        },
        {
          "output_type": "display_data",
          "data": {
            "text/plain": [
              "<Figure size 432x288 with 0 Axes>"
            ]
          },
          "metadata": {}
        },
        {
          "output_type": "display_data",
          "data": {
            "image/png": "[encoded data removed]",
            "text/plain": [
              "<Figure size 432x216 with 2 Axes>"
            ]
          },
          "metadata": {
            "needs_background": "light"
          }
        },
        {
          "output_type": "display_data",
          "data": {
            "text/plain": [
              "<Figure size 432x288 with 0 Axes>"
            ]
          },
          "metadata": {}
        },
        {
          "output_type": "display_data",
          "data": {
            "image/png": "[encoded data removed]",
            "text/plain": [
              "<Figure size 432x216 with 2 Axes>"
            ]
          },
          "metadata": {
            "needs_background": "light"
          }
        },
        {
          "output_type": "display_data",
          "data": {
            "text/plain": [
              "<Figure size 432x288 with 0 Axes>"
            ]
          },
          "metadata": {}
        },
        {
          "output_type": "display_data",
          "data": {
            "image/png": "[encoded data removed]",
            "text/plain": [
              "<Figure size 432x216 with 2 Axes>"
            ]
          },
          "metadata": {
            "needs_background": "light"
          }
        },
        {
          "output_type": "display_data",
          "data": {
            "text/plain": [
              "<Figure size 432x288 with 0 Axes>"
            ]
          },
          "metadata": {}
        }
      ]
    },
    {
      "cell_type": "markdown",
      "metadata": {
        "id": "ezCD5Yj-IMWZ"
      },
      "source": [
        "Como podemos ver, esta red tenia: loss: 0.7624 y accuracy: 0.7517, a esto se debe que confunde varias imagenes como puede ser las camisetas con chaquetas, camisas o jerseys. "
      ]
    },
    {
      "cell_type": "code",
      "metadata": {
        "id": "PxlXIH_sx8J4",
        "outputId": "9d08f395-813e-4411-8be2-0a95ea7b5a40",
        "colab": {
          "base_uri": "https://localhost:8080/",
          "height": 1000
        }
      },
      "source": [
        "for i in range(10):\n",
        "  plt.figure(figsize=(6,3))\n",
        "  plt.subplot(1,2,1)\n",
        "  plot_image(i, predictions8[i], test_labels, test_images.reshape(10000,28,28))\n",
        "  plt.subplot(1,2,2)\n",
        "  plot_value_array(i, predictions8[i],  test_labels)\n",
        "  plt.show()\n",
        "  plt.clf()"
      ],
      "execution_count": 48,
      "outputs": [
        {
          "output_type": "display_data",
          "data": {
            "image/png": "[encoded data removed]",
            "text/plain": [
              "<Figure size 432x216 with 2 Axes>"
            ]
          },
          "metadata": {
            "needs_background": "light"
          }
        },
        {
          "output_type": "display_data",
          "data": {
            "text/plain": [
              "<Figure size 432x288 with 0 Axes>"
            ]
          },
          "metadata": {}
        },
        {
          "output_type": "display_data",
          "data": {
            "image/png": "[encoded data removed]",
            "text/plain": [
              "<Figure size 432x216 with 2 Axes>"
            ]
          },
          "metadata": {
            "needs_background": "light"
          }
        },
        {
          "output_type": "display_data",
          "data": {
            "text/plain": [
              "<Figure size 432x288 with 0 Axes>"
            ]
          },
          "metadata": {}
        },
        {
          "output_type": "display_data",
          "data": {
            "image/png": "[encoded data removed]",
            "text/plain": [
              "<Figure size 432x216 with 2 Axes>"
            ]
          },
          "metadata": {
            "needs_background": "light"
          }
        },
        {
          "output_type": "display_data",
          "data": {
            "text/plain": [
              "<Figure size 432x288 with 0 Axes>"
            ]
          },
          "metadata": {}
        },
        {
          "output_type": "display_data",
          "data": {
            "image/png": "[encoded data removed]",
            "text/plain": [
              "<Figure size 432x216 with 2 Axes>"
            ]
          },
          "metadata": {
            "needs_background": "light"
          }
        },
        {
          "output_type": "display_data",
          "data": {
            "text/plain": [
              "<Figure size 432x288 with 0 Axes>"
            ]
          },
          "metadata": {}
        },
        {
          "output_type": "display_data",
          "data": {
            "image/png": "[encoded data removed]",
            "text/plain": [
              "<Figure size 432x216 with 2 Axes>"
            ]
          },
          "metadata": {
            "needs_background": "light"
          }
        },
        {
          "output_type": "display_data",
          "data": {
            "text/plain": [
              "<Figure size 432x288 with 0 Axes>"
            ]
          },
          "metadata": {}
        },
        {
          "output_type": "display_data",
          "data": {
            "image/png": "[encoded data removed]",
            "text/plain": [
              "<Figure size 432x216 with 2 Axes>"
            ]
          },
          "metadata": {
            "needs_background": "light"
          }
        },
        {
          "output_type": "display_data",
          "data": {
            "text/plain": [
              "<Figure size 432x288 with 0 Axes>"
            ]
          },
          "metadata": {}
        },
        {
          "output_type": "display_data",
          "data": {
            "image/png": "[encoded data removed]",
            "text/plain": [
              "<Figure size 432x216 with 2 Axes>"
            ]
          },
          "metadata": {
            "needs_background": "light"
          }
        },
        {
          "output_type": "display_data",
          "data": {
            "text/plain": [
              "<Figure size 432x288 with 0 Axes>"
            ]
          },
          "metadata": {}
        },
        {
          "output_type": "display_data",
          "data": {
            "image/png": "[encoded data removed]",
            "text/plain": [
              "<Figure size 432x216 with 2 Axes>"
            ]
          },
          "metadata": {
            "needs_background": "light"
          }
        },
        {
          "output_type": "display_data",
          "data": {
            "text/plain": [
              "<Figure size 432x288 with 0 Axes>"
            ]
          },
          "metadata": {}
        },
        {
          "output_type": "display_data",
          "data": {
            "image/png": "[encoded data removed]",
            "text/plain": [
              "<Figure size 432x216 with 2 Axes>"
            ]
          },
          "metadata": {
            "needs_background": "light"
          }
        },
        {
          "output_type": "display_data",
          "data": {
            "text/plain": [
              "<Figure size 432x288 with 0 Axes>"
            ]
          },
          "metadata": {}
        },
        {
          "output_type": "display_data",
          "data": {
            "image/png": "[encoded data removed]",
            "text/plain": [
              "<Figure size 432x216 with 2 Axes>"
            ]
          },
          "metadata": {
            "needs_background": "light"
          }
        },
        {
          "output_type": "display_data",
          "data": {
            "text/plain": [
              "<Figure size 432x288 with 0 Axes>"
            ]
          },
          "metadata": {}
        }
      ]
    },
    {
      "cell_type": "markdown",
      "metadata": {
        "id": "LOq6fYYy59-h"
      },
      "source": [
        "# APARTADO 3"
      ]
    },
    {
      "cell_type": "markdown",
      "metadata": {
        "id": "OS48a3sC8NUj"
      },
      "source": [
        "Creamos una \"copia\" de la red 7 para poder hacer las 25 iteraciones, si le aplicamos las 25 iteraciones a la red 7, al ya estar entrenada no empieza desde 0, en nuestro caso empieza con las 5 iteraciones ya hechas, por lo que no estaría haciendo 25 sino 30."
      ]
    },
    {
      "cell_type": "code",
      "metadata": {
        "id": "UVJyutKnzaxO",
        "colab": {
          "base_uri": "https://localhost:8080/"
        },
        "outputId": "23b3d45e-6d34-463f-f36f-49fec246bd14"
      },
      "source": [
        "\n",
        "network71 = models.Sequential()\n",
        "network71.add(layers.Dense(512, activation='sigmoid', input_shape=(28*28,), name = 'capa1'))\n",
        "network71.add(layers.Dense(10, activation='softmax', name = 'capa2'))\n",
        "network71.summary()\n"
      ],
      "execution_count": 53,
      "outputs": [
        {
          "output_type": "stream",
          "name": "stdout",
          "text": [
            "Model: \"sequential_4\"\n",
            "_________________________________________________________________\n",
            "Layer (type)                 Output Shape              Param #   \n",
            "=================================================================\n",
            "capa1 (Dense)                (None, 512)               401920    \n",
            "_________________________________________________________________\n",
            "capa2 (Dense)                (None, 10)                5130      \n",
            "=================================================================\n",
            "Total params: 407,050\n",
            "Trainable params: 407,050\n",
            "Non-trainable params: 0\n",
            "_________________________________________________________________\n"
          ]
        }
      ]
    },
    {
      "cell_type": "code",
      "metadata": {
        "id": "aBkKH2Ye7cin"
      },
      "source": [
        "network71.compile(optimizer='sgd', \n",
        "                loss='sparse_categorical_crossentropy',\n",
        "                metrics=['accuracy'])"
      ],
      "execution_count": 54,
      "outputs": []
    },
    {
      "cell_type": "code",
      "metadata": {
        "id": "GzK6F8_-78HJ"
      },
      "source": [
        "network71.add(layers.Flatten(input_shape=(28,28)))"
      ],
      "execution_count": 55,
      "outputs": []
    },
    {
      "cell_type": "code",
      "metadata": {
        "id": "GubIGyrW7iJK",
        "outputId": "6679be0b-2d7f-4799-fecf-1e82e8f17c31",
        "colab": {
          "base_uri": "https://localhost:8080/"
        }
      },
      "source": [
        "network71.fit(train_images, train_labels, epochs=25, batch_size=128)"
      ],
      "execution_count": 56,
      "outputs": [
        {
          "output_type": "stream",
          "name": "stdout",
          "text": [
            "Epoch 1/25\n",
            "469/469 [==============================] - 2s 3ms/step - loss: 1.7125 - accuracy: 0.5898\n",
            "Epoch 2/25\n",
            "469/469 [==============================] - 2s 3ms/step - loss: 1.1319 - accuracy: 0.7115\n",
            "Epoch 3/25\n",
            "469/469 [==============================] - 2s 3ms/step - loss: 0.9249 - accuracy: 0.7314\n",
            "Epoch 4/25\n",
            "469/469 [==============================] - 2s 3ms/step - loss: 0.8225 - accuracy: 0.7431\n",
            "Epoch 5/25\n",
            "469/469 [==============================] - 2s 3ms/step - loss: 0.7607 - accuracy: 0.7520\n",
            "Epoch 6/25\n",
            "469/469 [==============================] - 2s 3ms/step - loss: 0.7184 - accuracy: 0.7605\n",
            "Epoch 7/25\n",
            "469/469 [==============================] - 2s 3ms/step - loss: 0.6875 - accuracy: 0.7674\n",
            "Epoch 8/25\n",
            "469/469 [==============================] - 2s 3ms/step - loss: 0.6629 - accuracy: 0.7736\n",
            "Epoch 9/25\n",
            "469/469 [==============================] - 2s 3ms/step - loss: 0.6429 - accuracy: 0.7793\n",
            "Epoch 10/25\n",
            "469/469 [==============================] - 2s 3ms/step - loss: 0.6259 - accuracy: 0.7845\n",
            "Epoch 11/25\n",
            "469/469 [==============================] - 2s 3ms/step - loss: 0.6114 - accuracy: 0.7895\n",
            "Epoch 12/25\n",
            "469/469 [==============================] - 2s 4ms/step - loss: 0.5986 - accuracy: 0.7935\n",
            "Epoch 13/25\n",
            "469/469 [==============================] - 2s 3ms/step - loss: 0.5874 - accuracy: 0.7966\n",
            "Epoch 14/25\n",
            "469/469 [==============================] - 2s 4ms/step - loss: 0.5772 - accuracy: 0.7999\n",
            "Epoch 15/25\n",
            "469/469 [==============================] - 2s 3ms/step - loss: 0.5683 - accuracy: 0.8028\n",
            "Epoch 16/25\n",
            "469/469 [==============================] - 2s 3ms/step - loss: 0.5599 - accuracy: 0.8056\n",
            "Epoch 17/25\n",
            "469/469 [==============================] - 2s 3ms/step - loss: 0.5525 - accuracy: 0.8082\n",
            "Epoch 18/25\n",
            "469/469 [==============================] - 2s 3ms/step - loss: 0.5455 - accuracy: 0.8109\n",
            "Epoch 19/25\n",
            "469/469 [==============================] - 2s 3ms/step - loss: 0.5394 - accuracy: 0.8129\n",
            "Epoch 20/25\n",
            "469/469 [==============================] - 2s 3ms/step - loss: 0.5338 - accuracy: 0.8144\n",
            "Epoch 21/25\n",
            "469/469 [==============================] - 2s 3ms/step - loss: 0.5285 - accuracy: 0.8165\n",
            "Epoch 22/25\n",
            "469/469 [==============================] - 2s 3ms/step - loss: 0.5235 - accuracy: 0.8180\n",
            "Epoch 23/25\n",
            "469/469 [==============================] - 2s 3ms/step - loss: 0.5188 - accuracy: 0.8196\n",
            "Epoch 24/25\n",
            "469/469 [==============================] - 2s 3ms/step - loss: 0.5146 - accuracy: 0.8213\n",
            "Epoch 25/25\n",
            "469/469 [==============================] - 2s 3ms/step - loss: 0.5107 - accuracy: 0.8228\n"
          ]
        },
        {
          "output_type": "execute_result",
          "data": {
            "text/plain": [
              "<keras.callbacks.History at 0x7f8c29096a10>"
            ]
          },
          "metadata": {},
          "execution_count": 56
        }
      ]
    },
    {
      "cell_type": "markdown",
      "metadata": {
        "id": "V6cl9YLlO4BK"
      },
      "source": [
        "Podemos observar que cuantas más iteraciones, más precisión tiene, aunque va aumentando cada vez más lentamente. En cuanto a la pérdida, a más iteraciones, menos pérdida, al igual que con la precisión, cada vez la pérdida aunque se reduce, se reduce menos."
      ]
    },
    {
      "cell_type": "markdown",
      "metadata": {
        "id": "u_ov4KVZ6K6-"
      },
      "source": [
        "#GRAFICAS"
      ]
    },
    {
      "cell_type": "markdown",
      "metadata": {
        "id": "hvjzjUWBA5Ki"
      },
      "source": [
        "Para poder ver como se comporta el modelo respecto a la precisión y pérdida con datos que no ha visto nunca, separamos 10000 imágenes de nuestros datos de entrenamiento y las guardamos como datos de validación, los cuales no forman parte del entrenamiento"
      ]
    },
    {
      "cell_type": "code",
      "metadata": {
        "id": "4zIJJLlK-nAl"
      },
      "source": [
        "import numpy as np\n",
        "\n",
        "x_train = np.asarray(train_images).astype('float32')\n",
        "x_test = np.asarray(test_images).astype('float32')\n",
        "x_train\n",
        "# Convertimos el vector de etiquetas en un tensor Numpy de coma flotante  \n",
        "y_train = np.asarray(train_labels).astype('float32')\n",
        "y_test = np.asarray(test_labels).astype('float32')\n",
        "y_train\n",
        "\n",
        "x_val = x_train[:10000]\n",
        "partial_x_train = x_train[10000:]\n",
        "\n",
        "y_val = y_train[:10000]\n",
        "partial_y_train = y_train[10000:]"
      ],
      "execution_count": 57,
      "outputs": []
    },
    {
      "cell_type": "code",
      "metadata": {
        "id": "Smhmh1W8-qC2",
        "colab": {
          "base_uri": "https://localhost:8080/"
        },
        "outputId": "9f385608-561c-4f7f-a4b6-c2639ef8e646"
      },
      "source": [
        "network7.compile(optimizer='sgd',\n",
        "              loss='sparse_categorical_crossentropy',\n",
        "              metrics=['acc'])\n",
        "\n",
        "history = network7.fit(partial_x_train,\n",
        "                    partial_y_train,\n",
        "                    epochs=50,\n",
        "                    batch_size=512,\n",
        "                    validation_data=(x_val, y_val))"
      ],
      "execution_count": 58,
      "outputs": [
        {
          "output_type": "stream",
          "name": "stdout",
          "text": [
            "Epoch 1/50\n",
            "98/98 [==============================] - 1s 7ms/step - loss: 0.7342 - acc: 0.7568 - val_loss: 0.7295 - val_acc: 0.7594\n",
            "Epoch 2/50\n",
            "98/98 [==============================] - 1s 5ms/step - loss: 0.7260 - acc: 0.7586 - val_loss: 0.7220 - val_acc: 0.7620\n",
            "Epoch 3/50\n",
            "98/98 [==============================] - 1s 5ms/step - loss: 0.7184 - acc: 0.7602 - val_loss: 0.7151 - val_acc: 0.7621\n",
            "Epoch 4/50\n",
            "98/98 [==============================] - 0s 5ms/step - loss: 0.7113 - acc: 0.7618 - val_loss: 0.7084 - val_acc: 0.7645\n",
            "Epoch 5/50\n",
            "98/98 [==============================] - 1s 5ms/step - loss: 0.7045 - acc: 0.7639 - val_loss: 0.7022 - val_acc: 0.7633\n",
            "Epoch 6/50\n",
            "98/98 [==============================] - 1s 5ms/step - loss: 0.6981 - acc: 0.7649 - val_loss: 0.6954 - val_acc: 0.7673\n",
            "Epoch 7/50\n",
            "98/98 [==============================] - 1s 5ms/step - loss: 0.6921 - acc: 0.7662 - val_loss: 0.6898 - val_acc: 0.7671\n",
            "Epoch 8/50\n",
            "98/98 [==============================] - 1s 5ms/step - loss: 0.6864 - acc: 0.7676 - val_loss: 0.6841 - val_acc: 0.7690\n",
            "Epoch 9/50\n",
            "98/98 [==============================] - 1s 5ms/step - loss: 0.6809 - acc: 0.7691 - val_loss: 0.6788 - val_acc: 0.7712\n",
            "Epoch 10/50\n",
            "98/98 [==============================] - 1s 5ms/step - loss: 0.6757 - acc: 0.7702 - val_loss: 0.6738 - val_acc: 0.7724\n",
            "Epoch 11/50\n",
            "98/98 [==============================] - 1s 5ms/step - loss: 0.6707 - acc: 0.7712 - val_loss: 0.6690 - val_acc: 0.7725\n",
            "Epoch 12/50\n",
            "98/98 [==============================] - 1s 5ms/step - loss: 0.6660 - acc: 0.7724 - val_loss: 0.6645 - val_acc: 0.7762\n",
            "Epoch 13/50\n",
            "98/98 [==============================] - 0s 5ms/step - loss: 0.6614 - acc: 0.7740 - val_loss: 0.6600 - val_acc: 0.7760\n",
            "Epoch 14/50\n",
            "98/98 [==============================] - 0s 5ms/step - loss: 0.6569 - acc: 0.7744 - val_loss: 0.6556 - val_acc: 0.7777\n",
            "Epoch 15/50\n",
            "98/98 [==============================] - 1s 5ms/step - loss: 0.6528 - acc: 0.7757 - val_loss: 0.6518 - val_acc: 0.7790\n",
            "Epoch 16/50\n",
            "98/98 [==============================] - 1s 5ms/step - loss: 0.6486 - acc: 0.7766 - val_loss: 0.6478 - val_acc: 0.7800\n",
            "Epoch 17/50\n",
            "98/98 [==============================] - 1s 5ms/step - loss: 0.6447 - acc: 0.7784 - val_loss: 0.6439 - val_acc: 0.7811\n",
            "Epoch 18/50\n",
            "98/98 [==============================] - 1s 5ms/step - loss: 0.6409 - acc: 0.7796 - val_loss: 0.6402 - val_acc: 0.7827\n",
            "Epoch 19/50\n",
            "98/98 [==============================] - 1s 5ms/step - loss: 0.6373 - acc: 0.7807 - val_loss: 0.6365 - val_acc: 0.7841\n",
            "Epoch 20/50\n",
            "98/98 [==============================] - 1s 5ms/step - loss: 0.6337 - acc: 0.7818 - val_loss: 0.6336 - val_acc: 0.7841\n",
            "Epoch 21/50\n",
            "98/98 [==============================] - 1s 5ms/step - loss: 0.6303 - acc: 0.7831 - val_loss: 0.6298 - val_acc: 0.7870\n",
            "Epoch 22/50\n",
            "98/98 [==============================] - 1s 5ms/step - loss: 0.6270 - acc: 0.7837 - val_loss: 0.6265 - val_acc: 0.7866\n",
            "Epoch 23/50\n",
            "98/98 [==============================] - 0s 5ms/step - loss: 0.6238 - acc: 0.7849 - val_loss: 0.6236 - val_acc: 0.7878\n",
            "Epoch 24/50\n",
            "98/98 [==============================] - 1s 5ms/step - loss: 0.6206 - acc: 0.7861 - val_loss: 0.6207 - val_acc: 0.7889\n",
            "Epoch 25/50\n",
            "98/98 [==============================] - 1s 6ms/step - loss: 0.6175 - acc: 0.7870 - val_loss: 0.6176 - val_acc: 0.7897\n",
            "Epoch 26/50\n",
            "98/98 [==============================] - 1s 5ms/step - loss: 0.6146 - acc: 0.7876 - val_loss: 0.6145 - val_acc: 0.7910\n",
            "Epoch 27/50\n",
            "98/98 [==============================] - 1s 5ms/step - loss: 0.6117 - acc: 0.7887 - val_loss: 0.6123 - val_acc: 0.7921\n",
            "Epoch 28/50\n",
            "98/98 [==============================] - 0s 5ms/step - loss: 0.6088 - acc: 0.7891 - val_loss: 0.6095 - val_acc: 0.7943\n",
            "Epoch 29/50\n",
            "98/98 [==============================] - 1s 5ms/step - loss: 0.6062 - acc: 0.7902 - val_loss: 0.6064 - val_acc: 0.7941\n",
            "Epoch 30/50\n",
            "98/98 [==============================] - 1s 5ms/step - loss: 0.6036 - acc: 0.7914 - val_loss: 0.6041 - val_acc: 0.7949\n",
            "Epoch 31/50\n",
            "98/98 [==============================] - 1s 5ms/step - loss: 0.6009 - acc: 0.7923 - val_loss: 0.6011 - val_acc: 0.7952\n",
            "Epoch 32/50\n",
            "98/98 [==============================] - 0s 5ms/step - loss: 0.5984 - acc: 0.7931 - val_loss: 0.5987 - val_acc: 0.7956\n",
            "Epoch 33/50\n",
            "98/98 [==============================] - 1s 5ms/step - loss: 0.5959 - acc: 0.7944 - val_loss: 0.5964 - val_acc: 0.7987\n",
            "Epoch 34/50\n",
            "98/98 [==============================] - 0s 5ms/step - loss: 0.5936 - acc: 0.7948 - val_loss: 0.5940 - val_acc: 0.7977\n",
            "Epoch 35/50\n",
            "98/98 [==============================] - 0s 5ms/step - loss: 0.5912 - acc: 0.7958 - val_loss: 0.5925 - val_acc: 0.7999\n",
            "Epoch 36/50\n",
            "98/98 [==============================] - 1s 5ms/step - loss: 0.5888 - acc: 0.7960 - val_loss: 0.5896 - val_acc: 0.8007\n",
            "Epoch 37/50\n",
            "98/98 [==============================] - 1s 5ms/step - loss: 0.5867 - acc: 0.7971 - val_loss: 0.5874 - val_acc: 0.8002\n",
            "Epoch 38/50\n",
            "98/98 [==============================] - 1s 5ms/step - loss: 0.5844 - acc: 0.7977 - val_loss: 0.5857 - val_acc: 0.8016\n",
            "Epoch 39/50\n",
            "98/98 [==============================] - 1s 5ms/step - loss: 0.5824 - acc: 0.7982 - val_loss: 0.5833 - val_acc: 0.8027\n",
            "Epoch 40/50\n",
            "98/98 [==============================] - 1s 5ms/step - loss: 0.5803 - acc: 0.7990 - val_loss: 0.5821 - val_acc: 0.8029\n",
            "Epoch 41/50\n",
            "98/98 [==============================] - 1s 5ms/step - loss: 0.5782 - acc: 0.7999 - val_loss: 0.5797 - val_acc: 0.8043\n",
            "Epoch 42/50\n",
            "98/98 [==============================] - 1s 5ms/step - loss: 0.5762 - acc: 0.8008 - val_loss: 0.5779 - val_acc: 0.8055\n",
            "Epoch 43/50\n",
            "98/98 [==============================] - 1s 5ms/step - loss: 0.5743 - acc: 0.8008 - val_loss: 0.5751 - val_acc: 0.8045\n",
            "Epoch 44/50\n",
            "98/98 [==============================] - 1s 5ms/step - loss: 0.5724 - acc: 0.8016 - val_loss: 0.5737 - val_acc: 0.8052\n",
            "Epoch 45/50\n",
            "98/98 [==============================] - 1s 5ms/step - loss: 0.5704 - acc: 0.8021 - val_loss: 0.5716 - val_acc: 0.8066\n",
            "Epoch 46/50\n",
            "98/98 [==============================] - 1s 5ms/step - loss: 0.5686 - acc: 0.8031 - val_loss: 0.5696 - val_acc: 0.8065\n",
            "Epoch 47/50\n",
            "98/98 [==============================] - 1s 5ms/step - loss: 0.5668 - acc: 0.8034 - val_loss: 0.5683 - val_acc: 0.8076\n",
            "Epoch 48/50\n",
            "98/98 [==============================] - 1s 5ms/step - loss: 0.5651 - acc: 0.8040 - val_loss: 0.5665 - val_acc: 0.8072\n",
            "Epoch 49/50\n",
            "98/98 [==============================] - 1s 5ms/step - loss: 0.5634 - acc: 0.8050 - val_loss: 0.5648 - val_acc: 0.8076\n",
            "Epoch 50/50\n",
            "98/98 [==============================] - 1s 5ms/step - loss: 0.5617 - acc: 0.8056 - val_loss: 0.5635 - val_acc: 0.8095\n"
          ]
        }
      ]
    },
    {
      "cell_type": "code",
      "metadata": {
        "id": "lpZMVF1Q9-Ix",
        "colab": {
          "base_uri": "https://localhost:8080/"
        },
        "outputId": "7e165afb-87d9-47cb-a4d2-438dc84cfd09"
      },
      "source": [
        "history_dict = history.history\n",
        "history_dict.keys()\n",
        "print(history_dict['loss'])\n",
        "print(history_dict['acc'])\n",
        "print(history_dict['val_loss'])\n",
        "print(history_dict['val_acc'])\n"
      ],
      "execution_count": 59,
      "outputs": [
        {
          "output_type": "stream",
          "name": "stdout",
          "text": [
            "[0.7341910004615784, 0.7259827852249146, 0.7183887362480164, 0.7113189697265625, 0.7045260071754456, 0.6980925798416138, 0.6920812726020813, 0.6863823533058167, 0.6809033751487732, 0.675699770450592, 0.6706951856613159, 0.6659514307975769, 0.6613708734512329, 0.656919002532959, 0.6527507305145264, 0.648609459400177, 0.6446962356567383, 0.6409479975700378, 0.6372568607330322, 0.6336705684661865, 0.6302808523178101, 0.6269596219062805, 0.6237999796867371, 0.6206404566764832, 0.6175423264503479, 0.6145784258842468, 0.6116929650306702, 0.6088354587554932, 0.6061500310897827, 0.6035528779029846, 0.6009118556976318, 0.5984387397766113, 0.5959067940711975, 0.5935890078544617, 0.5911669731140137, 0.5888495445251465, 0.5866613388061523, 0.5844106078147888, 0.5824171304702759, 0.5802563428878784, 0.57816481590271, 0.5762019753456116, 0.57426518201828, 0.5724098086357117, 0.5704374313354492, 0.5686381459236145, 0.5667893290519714, 0.5650614500045776, 0.5633527040481567, 0.5616896748542786]\n",
            "[0.7568399906158447, 0.7586399912834167, 0.7602400183677673, 0.7617999911308289, 0.7638800144195557, 0.7649199962615967, 0.766219973564148, 0.7675600051879883, 0.7690600156784058, 0.7702199816703796, 0.7711600065231323, 0.772379994392395, 0.7740200161933899, 0.7743600010871887, 0.7756800055503845, 0.7765799760818481, 0.7783799767494202, 0.7796000242233276, 0.7807400226593018, 0.7817800045013428, 0.783079981803894, 0.7837200164794922, 0.7849400043487549, 0.7860599756240845, 0.7870200276374817, 0.7876200079917908, 0.7886999845504761, 0.789139986038208, 0.7901800274848938, 0.7914199829101562, 0.7922599911689758, 0.7930799722671509, 0.794439971446991, 0.7948200106620789, 0.7957599759101868, 0.7960000038146973, 0.7971400022506714, 0.7976599931716919, 0.7981799840927124, 0.7990400195121765, 0.7998999953269958, 0.8007599711418152, 0.8008400201797485, 0.801639974117279, 0.8020600080490112, 0.8030800223350525, 0.8034200072288513, 0.8040000200271606, 0.8050199747085571, 0.8055599927902222]\n",
            "[0.7295089960098267, 0.7219737768173218, 0.7151368856430054, 0.7083983421325684, 0.7022033333778381, 0.695351779460907, 0.6898328065872192, 0.6841293573379517, 0.6787869334220886, 0.6738322377204895, 0.6689769625663757, 0.6644790768623352, 0.6600486040115356, 0.65561443567276, 0.6518115997314453, 0.6477919220924377, 0.6439257264137268, 0.6402069330215454, 0.636483907699585, 0.6336401104927063, 0.6297727823257446, 0.6264826059341431, 0.6236470341682434, 0.6207382082939148, 0.6175562739372253, 0.6144531965255737, 0.6122862100601196, 0.6094534397125244, 0.6064468026161194, 0.6041222810745239, 0.6011351943016052, 0.5986591577529907, 0.5963578820228577, 0.5940166115760803, 0.5924808979034424, 0.5895748138427734, 0.5873857140541077, 0.5856853723526001, 0.5833128690719604, 0.5820565223693848, 0.5797136425971985, 0.5778534412384033, 0.5751490592956543, 0.5736509561538696, 0.5715888738632202, 0.5696240663528442, 0.568335771560669, 0.5665208697319031, 0.5647523403167725, 0.5635208487510681]\n",
            "[0.7594000101089478, 0.7620000243186951, 0.7620999813079834, 0.7645000219345093, 0.7633000016212463, 0.767300009727478, 0.7670999765396118, 0.7689999938011169, 0.7712000012397766, 0.7724000215530396, 0.7724999785423279, 0.776199996471405, 0.7760000228881836, 0.7777000069618225, 0.7789999842643738, 0.7799999713897705, 0.7810999751091003, 0.7827000021934509, 0.7840999960899353, 0.7840999960899353, 0.7870000004768372, 0.7865999937057495, 0.7878000140190125, 0.7889000177383423, 0.7896999716758728, 0.7910000085830688, 0.7921000123023987, 0.7943000197410583, 0.7940999865531921, 0.7949000000953674, 0.795199990272522, 0.7955999970436096, 0.7986999750137329, 0.7976999878883362, 0.7998999953269958, 0.8007000088691711, 0.8001999855041504, 0.8015999794006348, 0.8026999831199646, 0.8029000163078308, 0.8043000102043152, 0.8054999709129333, 0.8044999837875366, 0.8051999807357788, 0.8065999746322632, 0.8065000176429749, 0.8076000213623047, 0.807200014591217, 0.8076000213623047, 0.809499979019165]\n"
          ]
        }
      ]
    },
    {
      "cell_type": "code",
      "metadata": {
        "id": "uQM6aNfY_FHg",
        "colab": {
          "base_uri": "https://localhost:8080/",
          "height": 295
        },
        "outputId": "ce33f763-d913-42f4-87dd-892761640fde"
      },
      "source": [
        "import matplotlib.pyplot as plt\n",
        "\n",
        "acc = history.history['acc']\n",
        "val_acc = history.history['val_acc']\n",
        "loss = history.history['loss']\n",
        "val_loss = history.history['val_loss']\n",
        "\n",
        "epochs = range(1, len(acc) + 1)\n",
        "\n",
        "# \"bo\" es para \"punto azun\"\n",
        "plt.plot(epochs, loss, 'bo', label='Pérdida de Entrenamiento')\n",
        "# \"b\" es para \"linea continua azul\"\n",
        "plt.plot(epochs, val_loss, 'b', label='Pérdida de Validación')\n",
        "plt.title('Pérdida de Entrenamiento y Validación')\n",
        "plt.xlabel('Epochs')\n",
        "plt.ylabel('Loss')\n",
        "plt.legend()\n",
        "\n",
        "plt.show()"
      ],
      "execution_count": 60,
      "outputs": [
        {
          "output_type": "display_data",
          "data": {
            "image/png": "[encoded data removed]",
            "text/plain": [
              "<Figure size 432x288 with 1 Axes>"
            ]
          },
          "metadata": {
            "needs_background": "light"
          }
        }
      ]
    },
    {
      "cell_type": "markdown",
      "metadata": {
        "id": "lZ4Pi4aj_Svz"
      },
      "source": [
        "Podemos ver que a más iteraciones en la red 7, menos pérdida tienen tanto los datos de entrenamiento como los datos de validación. En este caso, son prácticamente los mismos valores para ambos conjuntos de datos."
      ]
    },
    {
      "cell_type": "code",
      "metadata": {
        "id": "MKdb2bAcBXFx",
        "colab": {
          "base_uri": "https://localhost:8080/",
          "height": 295
        },
        "outputId": "276a0d1c-9fd4-4a66-f637-c576bf62411d"
      },
      "source": [
        "plt.clf()   # Limpia la figura\n",
        "acc_values = history_dict['acc']\n",
        "val_acc_values = history_dict['val_acc']\n",
        "\n",
        "plt.plot(epochs, acc, 'bo', label='Precisión de Entrenamiento')\n",
        "plt.plot(epochs, val_acc, 'b', label='Precisión de Validación')\n",
        "plt.title('Precisión de Entrenamiento y Valización')\n",
        "plt.xlabel('Epochs')\n",
        "plt.ylabel('Loss')\n",
        "plt.legend()\n",
        "\n",
        "plt.show()"
      ],
      "execution_count": 61,
      "outputs": [
        {
          "output_type": "display_data",
          "data": {
            "image/png": "[encoded data removed]",
            "text/plain": [
              "<Figure size 432x288 with 1 Axes>"
            ]
          },
          "metadata": {
            "needs_background": "light"
          }
        }
      ]
    },
    {
      "cell_type": "markdown",
      "metadata": {
        "id": "yidV7rW9HnJm"
      },
      "source": [
        "En cuanto a la precisión, a más iteraciones, más precisión. En los datos de validación podemos apreciar más picos, pero la tendencia es aumentar la precisión según aumenta la precisión."
      ]
    }
  ]
}