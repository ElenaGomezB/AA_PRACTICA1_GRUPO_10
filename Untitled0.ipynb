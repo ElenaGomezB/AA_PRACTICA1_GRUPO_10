{
  "nbformat": 4,
  "nbformat_minor": 0,
  "metadata": {
    "colab": {
      "name": "Untitled0.ipynb",
      "provenance": [],
      "authorship_tag": "ABX9TyNWJbUAUP09ODSYZn0U3Fk2",
      "include_colab_link": true
    },
    "kernelspec": {
      "name": "python3",
      "display_name": "Python 3"
    },
    "language_info": {
      "name": "python"
    },
    "accelerator": "GPU"
  },
  "cells": [
    {
      "cell_type": "markdown",
      "metadata": {
        "id": "view-in-github",
        "colab_type": "text"
      },
      "source": [
        "<a href=\"https://colab.research.google.com/github/ElenaGomezB/AA_PRACTICA1_GRUPO_10/blob/main/Untitled0.ipynb\" target=\"_parent\"><img src=\"https://colab.research.google.com/assets/colab-badge.svg\" alt=\"Open In Colab\"/></a>"
      ]
    },
    {
      "cell_type": "markdown",
      "metadata": {
        "id": "SAnnkoDQ0o1N"
      },
      "source": [
        "#Grupo 10\n",
        "Elena Gomez \n",
        "\n",
        "Ana Muñoz"
      ]
    },
    {
      "cell_type": "markdown",
      "metadata": {
        "id": "E1ffu0Gu1qr0"
      },
      "source": [
        "##Objeto\n",
        "Crear un modelo de Red de Neuronas Artificiales que sea capaz de reconocer y clasificar imágenes de ropa en sus diferentes tipologías. Este modelo será definido, configurado, entrenado, evaluado y mejorado para posteriormente usarlo para hacer predicciones. \n",
        "\n",
        "El conjunto de datos viene dado en Fashion-MNIST, imágenes de los artículos de Zalando, tienda de moda online alemana especializada en ventas de ropa y zapatos. El conjunto de datos contiene 70K imágenes en escala de grises en 10 categorías. Estas imágenes muestran prendas individuales de ropa en baja resolución (28 x 28 píxeles)\n",
        "\n",
        "Usaremos 60K imágenes para entrenar la red y 10K imágenes para evaluar la precisión con la que la red aprende a clasificar las imágenes."
      ]
    },
    {
      "cell_type": "markdown",
      "metadata": {
        "id": "LmoxxGef222n"
      },
      "source": [
        "Importamos **tensorflow** y comprobamos que su versión es 2.0 superior"
      ]
    },
    {
      "cell_type": "code",
      "metadata": {
        "colab": {
          "base_uri": "https://localhost:8080/"
        },
        "id": "CabHKxmkLANO",
        "outputId": "81f4f9a6-ff38-480b-81b6-7256ae91f695"
      },
      "source": [
        "# 1._ IMPORTAMOS KERAS\n",
        "%tensorflow_version 2.x\n",
        "import tensorflow as tf\n",
        "from tensorflow import keras\n",
        "print(tf.keras.__version__)\n",
        "print(\"GPU Available:\", tf.config.list_physical_devices('GPU'))\n",
        "print(tf.__version__)"
      ],
      "execution_count": 1,
      "outputs": [
        {
          "output_type": "stream",
          "name": "stdout",
          "text": [
            "2.6.0\n",
            "GPU Available: [PhysicalDevice(name='/physical_device:GPU:0', device_type='GPU')]\n",
            "2.6.0\n"
          ]
        }
      ]
    },
    {
      "cell_type": "markdown",
      "metadata": {
        "id": "X_bDPaU33Nmc"
      },
      "source": [
        "A continuación, cargamos las imágenes y creamos un vector del 0 al 9 en el que cada posición de asigna el nombre de cada prenda (class_names)"
      ]
    },
    {
      "cell_type": "code",
      "metadata": {
        "colab": {
          "base_uri": "https://localhost:8080/"
        },
        "id": "r3AzS-hD_3q-",
        "outputId": "7a0e6a19-00df-4f1c-ad3c-31d8171a070c"
      },
      "source": [
        "# 2.- CARGAMOS EL CONJUNTO DE DATOS MINIST EN KERAS\n",
        "\n",
        "from keras.datasets import fashion_mnist\n",
        "\n",
        "(train_images, train_labels), (test_images, test_labels) = fashion_mnist.load_data()"
      ],
      "execution_count": 2,
      "outputs": [
        {
          "output_type": "stream",
          "name": "stdout",
          "text": [
            "Downloading data from https://storage.googleapis.com/tensorflow/tf-keras-datasets/train-labels-idx1-ubyte.gz\n",
            "32768/29515 [=================================] - 0s 0us/step\n",
            "40960/29515 [=========================================] - 0s 0us/step\n",
            "Downloading data from https://storage.googleapis.com/tensorflow/tf-keras-datasets/train-images-idx3-ubyte.gz\n",
            "26427392/26421880 [==============================] - 0s 0us/step\n",
            "26435584/26421880 [==============================] - 0s 0us/step\n",
            "Downloading data from https://storage.googleapis.com/tensorflow/tf-keras-datasets/t10k-labels-idx1-ubyte.gz\n",
            "16384/5148 [===============================================================================================] - 0s 0us/step\n",
            "Downloading data from https://storage.googleapis.com/tensorflow/tf-keras-datasets/t10k-images-idx3-ubyte.gz\n",
            "4423680/4422102 [==============================] - 0s 0us/step\n",
            "4431872/4422102 [==============================] - 0s 0us/step\n"
          ]
        }
      ]
    },
    {
      "cell_type": "code",
      "metadata": {
        "id": "AhEnDfCoChqn"
      },
      "source": [
        "\n",
        "class_names = ['T-shirt/top', 'Trouser', 'Pullover', 'Dress', 'Coat',\n",
        "               'Sandal', 'Shirt', 'Sneaker', 'Bag', 'Ankle boot']"
      ],
      "execution_count": 3,
      "outputs": []
    },
    {
      "cell_type": "markdown",
      "metadata": {
        "id": "YI2gP91VDmyG"
      },
      "source": [
        "Estudiamos y analizamos los datos de entrenamiento"
      ]
    },
    {
      "cell_type": "code",
      "metadata": {
        "colab": {
          "base_uri": "https://localhost:8080/"
        },
        "id": "62qhqxUaBIXC",
        "outputId": "c85e6dd3-91ef-4b27-cf67-f5ccef5f7bfa"
      },
      "source": [
        "print(train_images.shape)"
      ],
      "execution_count": 4,
      "outputs": [
        {
          "output_type": "stream",
          "name": "stdout",
          "text": [
            "(60000, 28, 28)\n"
          ]
        }
      ]
    },
    {
      "cell_type": "code",
      "metadata": {
        "colab": {
          "base_uri": "https://localhost:8080/"
        },
        "id": "e9MZl4k-DvjU",
        "outputId": "5d24c68e-b3ba-4185-a4f2-5872ed77d2da"
      },
      "source": [
        "# Vemos la matriz de la imagen número 5.000 (28x28)\n",
        "train_images[5000]"
      ],
      "execution_count": 5,
      "outputs": [
        {
          "output_type": "execute_result",
          "data": {
            "text/plain": [
              "array([[  0,   0,   0,   0,   0,   0,   0,   0,   0,   0,   0,   0,   0,\n",
              "          0,   0,   0,   0,   0,   0,   1,   0,   0,   0,   0,   0,   0,\n",
              "          0,   0],\n",
              "       [  0,   0,   0,   0,   0,   0,   0,   0,   0,   0,   0,  44, 127,\n",
              "        182, 185, 161, 120,  55,   0,   0,   0,   0,   0,   0,   0,   0,\n",
              "          0,   0],\n",
              "       [  0,   0,   0,   0,   0,   0,   0,   0,   0,  42, 198, 251, 255,\n",
              "        251, 249, 247, 255, 252, 214, 100,   0,   0,   0,   0,   0,   0,\n",
              "          0,   0],\n",
              "       [  0,   0,   0,   0,   0,   0,   2,   0,   0, 233, 252, 237, 239,\n",
              "        234, 237, 235, 237, 237, 254, 227,   0,   0,   0,   0,   1,   0,\n",
              "          0,   0],\n",
              "       [  0,   0,   0,   0,   0,   2,   0,   0,  16, 210, 225, 215, 175,\n",
              "        217, 216, 193, 196, 226, 221, 209,  50,   0,   0,   2,   0,   0,\n",
              "          0,   0],\n",
              "       [  0,   0,   0,   0,   2,   0,   0, 199, 229, 232, 230, 245, 204,\n",
              "        219, 253, 245, 207, 194, 223, 231, 236, 235,   0,   0,   3,   0,\n",
              "          0,   0],\n",
              "       [  0,   0,   0,   0,   1,   0, 137, 235, 204, 209, 201, 209, 234,\n",
              "        190, 234, 218, 215, 238, 239, 204, 189, 224, 154,   0,   0,   0,\n",
              "          0,   0],\n",
              "       [  0,   0,   0,   0,   0,   0, 194, 201, 200, 209, 202, 193, 205,\n",
              "        194, 183, 218, 231, 197, 172, 181, 193, 205, 199,   0,   0,   0,\n",
              "          0,   0],\n",
              "       [  0,   0,   0,   0,   0,   3, 212, 203, 188, 189, 196, 198, 198,\n",
              "        201, 196, 217, 179, 167, 183, 217, 197, 202, 219,  30,   0,   0,\n",
              "          0,   0],\n",
              "       [  0,   0,   0,   0,   0,  34, 225, 200, 194, 190, 188, 192, 196,\n",
              "        192, 170, 202, 190, 201, 195, 200, 201, 209, 227,  50,   0,   0,\n",
              "          0,   0],\n",
              "       [  0,   0,   0,   0,   0,  68, 225, 210, 211, 198, 192, 196, 204,\n",
              "        196, 181, 212, 197, 195, 192, 206, 220, 210, 229,  93,   0,   0,\n",
              "          0,   0],\n",
              "       [  0,   0,   0,   0,   0, 111, 223, 227, 253, 209, 196, 204, 211,\n",
              "        206, 183, 216, 206, 210, 203, 215, 244, 224, 227, 150,   0,   0,\n",
              "          0,   0],\n",
              "       [  0,   0,   0,   0,   0, 139, 225, 224, 255, 202, 206, 212, 209,\n",
              "        211, 190, 213, 202, 207, 206, 222, 255, 230, 220, 190,   0,   0,\n",
              "          0,   0],\n",
              "       [  0,   0,   0,   0,   0, 180, 226, 224, 255, 199, 204, 207, 214,\n",
              "        214, 190, 216, 206, 203, 205, 219, 243, 224, 214, 234,   0,   0,\n",
              "          0,   0],\n",
              "       [  0,   0,   0,   0,   0, 225, 223, 228, 254, 209, 206, 208, 213,\n",
              "        210, 191, 215, 207, 204, 208, 211, 249, 226, 214, 255,  38,   0,\n",
              "          0,   0],\n",
              "       [  0,   0,   0,   0,   0, 250, 232, 240, 239, 211, 203, 209, 205,\n",
              "        211, 197, 215, 208, 208, 214, 213, 239, 231, 219, 255,  81,   0,\n",
              "          0,   0],\n",
              "       [  0,   0,   0,   0,   0, 248, 236, 247, 240, 203, 200, 208, 206,\n",
              "        214, 193, 213, 212, 208, 212, 211, 243, 242, 225, 254,  66,   0,\n",
              "          0,   0],\n",
              "       [  0,   0,   0,   0,   0, 247, 230, 252, 226, 199, 211, 202, 211,\n",
              "        213, 182, 213, 212, 206, 202, 219, 207, 247, 222, 237, 104,   0,\n",
              "          0,   0],\n",
              "       [  0,   0,   0,   0,  10, 244, 219, 250, 205, 199, 209, 202, 209,\n",
              "        211, 189, 214, 206, 210, 200, 212, 154, 240, 208, 219, 140,   0,\n",
              "          0,   0],\n",
              "       [  0,   0,   0,   0,  21, 255, 222, 238, 184, 210, 192, 206, 209,\n",
              "        210, 189, 213, 211, 209, 192, 228, 155, 226, 238, 241, 166,   0,\n",
              "          0,   0],\n",
              "       [  0,   0,   0,   0,  37, 245, 226, 241, 150, 197, 189, 204, 209,\n",
              "        210, 183, 213, 213, 201, 184, 215, 146, 216, 236, 225, 154,   0,\n",
              "          0,   0],\n",
              "       [  0,   0,   0,   0,  58, 239, 227, 255, 158, 193, 195, 204, 209,\n",
              "        213, 180, 207, 217, 199, 194, 211, 158, 219, 236, 216, 151,   0,\n",
              "          0,   0],\n",
              "       [  0,   0,   0,   0,  68, 233, 226, 243, 139, 200, 193, 205, 210,\n",
              "        208, 180, 205, 212, 203, 196, 216, 157, 179, 255, 216, 155,   0,\n",
              "          0,   0],\n",
              "       [  0,   0,   0,   0,  81, 225, 224, 211, 138, 219, 185, 201, 213,\n",
              "        207, 197, 226, 212, 200, 190, 215, 183,  90, 255, 211, 147,   0,\n",
              "          0,   0],\n",
              "       [  0,   0,   0,   0,  91, 210, 230, 158, 114, 205, 187, 208, 209,\n",
              "        206, 193, 210, 211, 204, 195, 204, 181,  23, 255, 213, 158,   0,\n",
              "          0,   0],\n",
              "       [  0,   0,   0,   0,  87, 205, 232, 109, 164, 255, 214, 224, 222,\n",
              "        210, 197, 214, 225, 222, 211, 220, 217,   0, 234, 216, 169,   0,\n",
              "          0,   0],\n",
              "       [  0,   0,   0,   0,  92, 213, 232, 146,   5, 134, 151, 162, 170,\n",
              "        183, 182, 164, 166, 178, 162, 156,  98,   0, 240, 225, 210,   0,\n",
              "          0,   0],\n",
              "       [  0,   0,   0,   0,  43, 164, 206, 141,   0,   0,   0,   0,   0,\n",
              "          0,   0,   0,   0,   0,   0,   0,   0,   0, 127, 125,  76,   0,\n",
              "          0,   0]], dtype=uint8)"
            ]
          },
          "metadata": {},
          "execution_count": 5
        }
      ]
    },
    {
      "cell_type": "code",
      "metadata": {
        "colab": {
          "base_uri": "https://localhost:8080/"
        },
        "id": "WtyF8clTEA3r",
        "outputId": "06d9f604-6098-41dc-f616-de81ac602ba8"
      },
      "source": [
        "# Sacamos la etiqueta de la imagen nº 5000\n",
        "train_labels[5000]"
      ],
      "execution_count": null,
      "outputs": [
        {
          "output_type": "execute_result",
          "data": {
            "text/plain": [
              "4"
            ]
          },
          "metadata": {},
          "execution_count": 7
        }
      ]
    },
    {
      "cell_type": "markdown",
      "metadata": {
        "id": "sYg8Oj-R4MLa"
      },
      "source": [
        "Pintamos la imagen 5000 usando matplotlib y vemos que su imagen corresponde con la etiqueta anterior, en este caso la etiqueta es 4 = Coat."
      ]
    },
    {
      "cell_type": "code",
      "metadata": {
        "colab": {
          "base_uri": "https://localhost:8080/",
          "height": 265
        },
        "id": "pEd7yIheBQM_",
        "outputId": "19cb6ae9-a797-4fda-9841-06b9d13161ba"
      },
      "source": [
        "\n",
        "import matplotlib.pyplot as plt\n",
        "digit = train_images[5000]\n",
        "plt.imshow(digit, cmap=plt.cm.binary)\n",
        "plt.show()"
      ],
      "execution_count": 6,
      "outputs": [
        {
          "output_type": "display_data",
          "data": {
            "image/png": "[encoded data removed]",
            "text/plain": [
              "<Figure size 432x288 with 1 Axes>"
            ]
          },
          "metadata": {
            "needs_background": "light"
          }
        }
      ]
    },
    {
      "cell_type": "code",
      "metadata": {
        "colab": {
          "base_uri": "https://localhost:8080/"
        },
        "id": "VK13H_muCVfB",
        "outputId": "34af592b-a025-472e-fdee-9413d5b6e1b8"
      },
      "source": [
        "#VSacamos las etiquetas de todas las imagenes de entrenamiento\n",
        "train_labels"
      ],
      "execution_count": 7,
      "outputs": [
        {
          "output_type": "execute_result",
          "data": {
            "text/plain": [
              "array([9, 0, 0, ..., 3, 0, 5], dtype=uint8)"
            ]
          },
          "metadata": {},
          "execution_count": 7
        }
      ]
    },
    {
      "cell_type": "markdown",
      "metadata": {
        "id": "ODXEGqJ2FQGj"
      },
      "source": [
        "Estudiamos ahora los datos de prueba"
      ]
    },
    {
      "cell_type": "code",
      "metadata": {
        "colab": {
          "base_uri": "https://localhost:8080/"
        },
        "id": "7AGLoJY6FUro",
        "outputId": "fa691ac0-ce15-4b57-e1fb-5aeac13135a0"
      },
      "source": [
        "print(test_images.shape)"
      ],
      "execution_count": 8,
      "outputs": [
        {
          "output_type": "stream",
          "name": "stdout",
          "text": [
            "(10000, 28, 28)\n"
          ]
        }
      ]
    },
    {
      "cell_type": "code",
      "metadata": {
        "colab": {
          "base_uri": "https://localhost:8080/"
        },
        "id": "Hzpk9clJFhgN",
        "outputId": "dac2250f-a57a-416a-bca7-15976834c1d6"
      },
      "source": [
        "# Vemos la matriz de la imagen número 8.000 (28x28)\n",
        "test_images[8000]"
      ],
      "execution_count": 12,
      "outputs": [
        {
          "output_type": "execute_result",
          "data": {
            "text/plain": [
              "array([[  0,   0,   0,   0,   0,   0,   0,   0,   0,   0,   0,   0,   0,\n",
              "          0,   0,   0,   0,   0,   0,   0,   0,   0,   0,   0,   0,   0,\n",
              "          0,   0],\n",
              "       [  0,   0,   0,   0,   0,   0,   0,   0,   0,   0,   0,   0,   0,\n",
              "          0,   0,   0,   0,   0,   0,   0,   0,   0,   0,   0,   0,   0,\n",
              "          0,   0],\n",
              "       [  0,   0,   0,   0,   0,   0,   0,   0,   0,   0,   0,   0,   0,\n",
              "          0,   0,   0,   0,   0,   0,   0,   0,   0,   0,   0,   0,   0,\n",
              "          0,   0],\n",
              "       [  0,   0,   0,   0,   0,   0,   0,   0,   0,   0,   0,   0,   0,\n",
              "          0,   0,   0,   0,   0,   0,   0,   0,   0,   0,   0,   0,   0,\n",
              "          0,   0],\n",
              "       [  0,   0,   0,   0,   0,   0,   0,   0,   0,   0,   0,   0,   0,\n",
              "          0,   0,   0,   0,   0,   0,   0,   0,   0,   0,   0,   0,   0,\n",
              "          0,   0],\n",
              "       [  0,   0,   0,   0,   0,   0,   0,   0,   0,   0,   0,   0,   0,\n",
              "          0,   0,   0,   0,   0,   0,   0,   0,   0,   0,   0,   0,   0,\n",
              "          0,   0],\n",
              "       [  0,   0,   0,   0,   0,   0,   0,   0,   0,   0,   0,   0,   0,\n",
              "          0,   0,   0,   0,   0,   0,   0,   0,   0,   0,   0,   0,   0,\n",
              "          0,   0],\n",
              "       [  0,   0,   0,   0,   0,   0,   0,   0,   0,   0,   0,   0,   1,\n",
              "          0,   0,   0,  93, 153,   0,   0,   1,   0,   5,   7,   0,   1,\n",
              "          0,   0],\n",
              "       [  0,   0,   0,   0,   0,   0,   0,   0,   0,   0,   6,   0,   0,\n",
              "          0,   0, 148, 213, 229,  63,   0,   0,   0,   0,   0,   0,   0,\n",
              "         19,   0],\n",
              "       [  0,   0,   0,   0,   0,   0,   0,   0,   2,   0,   0,   0,   0,\n",
              "        165, 255, 225, 179, 196,  12,   0,   0,   0,   0, 172, 183, 100,\n",
              "        108,   0],\n",
              "       [  0,   0,   0,   0,   0,   0,   0,   0,   0,   0,  25, 108, 241,\n",
              "        222, 178, 178, 184, 192, 248,  57,   0,   0, 109, 228, 195, 174,\n",
              "          0,   0],\n",
              "       [  1,   0,   0,   0,   2,   3,   4,   0,   0,  97, 244, 215, 179,\n",
              "        152, 186, 207, 226, 217, 209, 255, 158,  96, 234, 201, 191, 191,\n",
              "         21,   0],\n",
              "       [  2,   3,   5,   0,   0,   0,   0,   9, 212, 219, 154, 123, 186,\n",
              "        203, 229, 241, 213, 211, 214, 211, 237, 250, 216, 191, 185, 208,\n",
              "         75,   0],\n",
              "       [  0,   0,   0,   0,   0,  14,  54, 133, 182, 143, 194, 217, 213,\n",
              "        211, 188, 171, 178, 218, 209, 212, 209, 196, 194, 185, 190, 189,\n",
              "         59,   0],\n",
              "       [  0,  28, 158, 198, 230, 210, 213, 200, 207, 218, 205, 197, 197,\n",
              "        205, 180, 214, 199, 208, 212, 214, 208, 194, 197, 202, 199, 182,\n",
              "         54,   0],\n",
              "       [ 66, 165, 169, 153, 168, 176, 173, 199, 203, 199, 196, 204, 213,\n",
              "        218, 218, 229, 226, 222, 222, 216, 202, 202, 199, 200, 194, 208,\n",
              "        156,   0],\n",
              "       [140, 187, 175, 176, 165, 166, 164, 158, 190, 215, 216, 211, 217,\n",
              "        210, 214, 207, 209, 208, 210, 200, 214, 205, 212, 210, 170, 170,\n",
              "        184,   0],\n",
              "       [ 38, 190, 177, 170, 187, 198, 196, 201, 196, 208, 198, 198, 191,\n",
              "        184, 188, 182, 187, 185, 174, 178, 170, 144, 137, 107, 131, 140,\n",
              "         50,   0],\n",
              "       [  0,  98, 183, 189, 178, 172, 164, 163, 164, 156, 115, 111, 104,\n",
              "        109, 132, 127,  96,  79, 112,  78,  96,  88,  90,  61, 102, 110,\n",
              "          0,  36],\n",
              "       [  0,   0,   1,  96, 154, 209, 218, 225, 211, 182, 187, 198, 174,\n",
              "        198, 214, 205, 194, 186, 234, 154, 163, 180, 163, 197, 179, 192,\n",
              "        180,  70],\n",
              "       [  0,   0,   0,   0,   0,   6,  36,  67,  73, 117,  98, 116, 124,\n",
              "        104,  57,  33,  34,  35,  39, 115, 130, 122, 121, 104,  90,  51,\n",
              "          0,   0],\n",
              "       [  0,   0,   0,   0,   0,   0,   0,   0,   0,   0,   0,   0,   0,\n",
              "          0,   0,   0,   0,   0,   0,   0,   0,   0,   0,   0,   0,   0,\n",
              "          0,   0],\n",
              "       [  0,   0,   0,   0,   0,   0,   0,   0,   0,   0,   0,   0,   0,\n",
              "          0,   0,   0,   0,   0,   0,   0,   0,   0,   0,   0,   0,   0,\n",
              "          0,   0],\n",
              "       [  0,   0,   0,   0,   0,   0,   0,   0,   0,   0,   0,   0,   0,\n",
              "          0,   0,   0,   0,   0,   0,   0,   0,   0,   0,   0,   0,   0,\n",
              "          0,   0],\n",
              "       [  0,   0,   0,   0,   0,   0,   0,   0,   0,   0,   0,   0,   0,\n",
              "          0,   0,   0,   0,   0,   0,   0,   0,   0,   0,   0,   0,   0,\n",
              "          0,   0],\n",
              "       [  0,   0,   0,   0,   0,   0,   0,   0,   0,   0,   0,   0,   0,\n",
              "          0,   0,   0,   0,   0,   0,   0,   0,   0,   0,   0,   0,   0,\n",
              "          0,   0],\n",
              "       [  0,   0,   0,   0,   0,   0,   0,   0,   0,   0,   0,   0,   0,\n",
              "          0,   0,   0,   0,   0,   0,   0,   0,   0,   0,   0,   0,   0,\n",
              "          0,   0],\n",
              "       [  0,   0,   0,   0,   0,   0,   0,   0,   0,   0,   0,   0,   0,\n",
              "          0,   0,   0,   0,   0,   0,   0,   0,   0,   0,   0,   0,   0,\n",
              "          0,   0]], dtype=uint8)"
            ]
          },
          "metadata": {},
          "execution_count": 12
        }
      ]
    },
    {
      "cell_type": "code",
      "metadata": {
        "colab": {
          "base_uri": "https://localhost:8080/"
        },
        "id": "CVV_dvK8FoPG",
        "outputId": "ae7fa9f2-dd6e-4209-961a-f40392f9710c"
      },
      "source": [
        "# Vemos su etiqueta \n",
        "test_labels[8000]"
      ],
      "execution_count": 13,
      "outputs": [
        {
          "output_type": "execute_result",
          "data": {
            "text/plain": [
              "7"
            ]
          },
          "metadata": {},
          "execution_count": 13
        }
      ]
    },
    {
      "cell_type": "code",
      "metadata": {
        "colab": {
          "base_uri": "https://localhost:8080/",
          "height": 265
        },
        "id": "4UE6bd_TFu_1",
        "outputId": "8033bb9f-f990-4cb3-b112-da1df9e242e4"
      },
      "source": [
        "# Veamos el elemento 9000 y lo pintamos usando matplotlib\n",
        "import matplotlib.pyplot as plt\n",
        "digit = test_images[8000]\n",
        "plt.imshow(digit, cmap=plt.cm.binary)\n",
        "plt.show()"
      ],
      "execution_count": 14,
      "outputs": [
        {
          "output_type": "display_data",
          "data": {
            "image/png": "[encoded data removed]",
            "text/plain": [
              "<Figure size 432x288 with 1 Axes>"
            ]
          },
          "metadata": {
            "needs_background": "light"
          }
        }
      ]
    },
    {
      "cell_type": "code",
      "metadata": {
        "colab": {
          "base_uri": "https://localhost:8080/"
        },
        "id": "z_LS4pHIF68J",
        "outputId": "d4c3c711-42ef-425d-d200-af7350948ac2"
      },
      "source": [
        "#Vemos las etiquetas de todas las imagenes segun esten ordenadas\n",
        "test_labels"
      ],
      "execution_count": 15,
      "outputs": [
        {
          "output_type": "execute_result",
          "data": {
            "text/plain": [
              "array([9, 2, 1, ..., 8, 1, 5], dtype=uint8)"
            ]
          },
          "metadata": {},
          "execution_count": 15
        }
      ]
    },
    {
      "cell_type": "markdown",
      "metadata": {
        "id": "sWJfN8bZGCPN"
      },
      "source": [
        "#CONSTRUIMOS NUESTRA RNA\n"
      ]
    },
    {
      "cell_type": "markdown",
      "metadata": {
        "id": "U1AM84Qs64A7"
      },
      "source": [
        "Vamos a crear 8 modelos diferentes, para todos la red sera secuencial (sin ciclos) y tendrá dos capas tipo Dense (densamente conectadas). Cambiaremos el optimizador, la función de activación y el número de neuronas de la primera capa.\n",
        "\n",
        "Cada una de las neuronas de la capa de entrada están conectadas con los 784 píxeles = 28*28. Dolo lo definimos para la primera capa; para la segunda capa y posteriores, Keras lo deduce.\n",
        "\n",
        "Para la segunda capa, la función de activación será siempre **softmax** ya que necesitamos la probabilidad de la clase a la que pertenece y 10 neuronas ya que tenemos 10 clases de prendas."
      ]
    },
    {
      "cell_type": "markdown",
      "metadata": {
        "id": "yyplA3cM7-G3"
      },
      "source": [
        "Los cuatro últimos modelos tendrán todos 512 neuronas en la primera capa\n"
      ]
    },
    {
      "cell_type": "markdown",
      "metadata": {
        "id": "oybrQEEm6aes"
      },
      "source": [
        "**Modelo 5**"
      ]
    },
    {
      "cell_type": "code",
      "metadata": {
        "colab": {
          "base_uri": "https://localhost:8080/"
        },
        "id": "sM75Szl7GHFV",
        "outputId": "41b2e3f3-e97b-435a-bb0a-5e96e455ef7f"
      },
      "source": [
        "#Funcion activacion: relu\n",
        "#Optimizador: sgd\n",
        "from keras import models\n",
        "from keras import layers\n",
        "network5 = models.Sequential()\n",
        "network5.add(layers.Dense(512, activation='relu', input_shape=(28*28,), name = 'capa1'))\n",
        "network5.add(layers.Dense(10, activation='softmax', name = 'capa2'))\n",
        "network5.summary()"
      ],
      "execution_count": null,
      "outputs": [
        {
          "output_type": "stream",
          "name": "stdout",
          "text": [
            "Model: \"sequential\"\n",
            "_________________________________________________________________\n",
            "Layer (type)                 Output Shape              Param #   \n",
            "=================================================================\n",
            "capa1 (Dense)                (None, 512)               401920    \n",
            "_________________________________________________________________\n",
            "capa2 (Dense)                (None, 10)                5130      \n",
            "=================================================================\n",
            "Total params: 407,050\n",
            "Trainable params: 407,050\n",
            "Non-trainable params: 0\n",
            "_________________________________________________________________\n"
          ]
        }
      ]
    },
    {
      "cell_type": "markdown",
      "metadata": {
        "id": "wjdmPDoA-gxX"
      },
      "source": [
        "Como podemos ver, de la primera capa salen 401920 resultados; esto se debe a: (28* 28)*512+512"
      ]
    },
    {
      "cell_type": "markdown",
      "metadata": {
        "id": "LNKsLGdv-laI"
      },
      "source": [
        "**Modelo 6**"
      ]
    },
    {
      "cell_type": "code",
      "metadata": {
        "id": "x-vBv9_YP3BX",
        "colab": {
          "base_uri": "https://localhost:8080/"
        },
        "outputId": "fe3305f8-50c1-4203-8894-de9f92514821"
      },
      "source": [
        "#Funcion activacion: relu\n",
        "#Optimizador: rmsprop\n",
        "from keras import models\n",
        "from keras import layers\n",
        "network6 = models.Sequential()\n",
        "network6.add(layers.Dense(512, activation='relu', input_shape=(28*28,), name = 'capa1'))\n",
        "network6.add(layers.Dense(10, activation='softmax', name = 'capa2'))\n",
        "network6.summary()"
      ],
      "execution_count": null,
      "outputs": [
        {
          "output_type": "stream",
          "name": "stdout",
          "text": [
            "Model: \"sequential_1\"\n",
            "_________________________________________________________________\n",
            "Layer (type)                 Output Shape              Param #   \n",
            "=================================================================\n",
            "capa1 (Dense)                (None, 512)               401920    \n",
            "_________________________________________________________________\n",
            "capa2 (Dense)                (None, 10)                5130      \n",
            "=================================================================\n",
            "Total params: 407,050\n",
            "Trainable params: 407,050\n",
            "Non-trainable params: 0\n",
            "_________________________________________________________________\n"
          ]
        }
      ]
    },
    {
      "cell_type": "markdown",
      "metadata": {
        "id": "Mqm3Og5w_CgS"
      },
      "source": [
        "**Modelo 7**"
      ]
    },
    {
      "cell_type": "code",
      "metadata": {
        "id": "uwNV4AraP-lS",
        "colab": {
          "base_uri": "https://localhost:8080/"
        },
        "outputId": "f5a14fb9-ad9a-4f1f-f3dc-16bc443aae79"
      },
      "source": [
        "#Funcion activacion: sigmoid\n",
        "#Optimizador: sgd\n",
        "from keras import models\n",
        "from keras import layers\n",
        "network7 = models.Sequential()\n",
        "network7.add(layers.Dense(512, activation='sigmoid', input_shape=(28*28,), name = 'capa1'))\n",
        "network7.add(layers.Dense(10, activation='softmax', name = 'capa2'))\n",
        "network7.summary()"
      ],
      "execution_count": null,
      "outputs": [
        {
          "output_type": "stream",
          "name": "stdout",
          "text": [
            "Model: \"sequential_2\"\n",
            "_________________________________________________________________\n",
            "Layer (type)                 Output Shape              Param #   \n",
            "=================================================================\n",
            "capa1 (Dense)                (None, 512)               401920    \n",
            "_________________________________________________________________\n",
            "capa2 (Dense)                (None, 10)                5130      \n",
            "=================================================================\n",
            "Total params: 407,050\n",
            "Trainable params: 407,050\n",
            "Non-trainable params: 0\n",
            "_________________________________________________________________\n"
          ]
        }
      ]
    },
    {
      "cell_type": "markdown",
      "metadata": {
        "id": "U8g-bk6n_NgQ"
      },
      "source": [
        "**Modelo 8**"
      ]
    },
    {
      "cell_type": "code",
      "metadata": {
        "id": "hUPJtZ6eQGHH",
        "colab": {
          "base_uri": "https://localhost:8080/"
        },
        "outputId": "a04fd395-10b1-4fb5-f986-e7ce984b0673"
      },
      "source": [
        "#Funcion activacion: sigmoid\n",
        "#Optimizador: rmsprop\n",
        "from keras import models\n",
        "from keras import layers\n",
        "network8 = models.Sequential()\n",
        "network8.add(layers.Dense(512, activation='sigmoid', input_shape=(28*28,), name = 'capa1'))\n",
        "network8.add(layers.Dense(10, activation='softmax', name = 'capa2'))\n",
        "network8.summary()"
      ],
      "execution_count": null,
      "outputs": [
        {
          "output_type": "stream",
          "name": "stdout",
          "text": [
            "Model: \"sequential_3\"\n",
            "_________________________________________________________________\n",
            "Layer (type)                 Output Shape              Param #   \n",
            "=================================================================\n",
            "capa1 (Dense)                (None, 512)               401920    \n",
            "_________________________________________________________________\n",
            "capa2 (Dense)                (None, 10)                5130      \n",
            "=================================================================\n",
            "Total params: 407,050\n",
            "Trainable params: 407,050\n",
            "Non-trainable params: 0\n",
            "_________________________________________________________________\n"
          ]
        }
      ]
    },
    {
      "cell_type": "markdown",
      "metadata": {
        "id": "nrRJmz7_AFun"
      },
      "source": [
        "#**COMPILAMOS**"
      ]
    },
    {
      "cell_type": "markdown",
      "metadata": {
        "id": "-_QD3ftLAzrz"
      },
      "source": [
        "Como algoritmo optimizador usamos tanto **rmsprop** (Root Mean Square Propagation) como **sgd** (Stocastic Gradient Descendent).\n",
        "\n",
        "Para la función de perdida elegimos **categorical_crossentropy** que se utiliza como señal de retroalimentación para aprender los tensores de peso y que la fase de entrenamiento intentará minimizar.\n",
        "\n",
        "Para la precisión utilizaremos **accuracy**: Solo tendremos en cuenta la fracción de imágenes que son correctamente clasificadas "
      ]
    },
    {
      "cell_type": "code",
      "metadata": {
        "id": "d1m6fRte_53v"
      },
      "source": [
        "network5.compile(optimizer='sgd', \n",
        "                loss='categorical_crossentropy',\n",
        "                metrics=['accuracy'])"
      ],
      "execution_count": null,
      "outputs": []
    },
    {
      "cell_type": "code",
      "metadata": {
        "id": "niUJ5Txb_5ur"
      },
      "source": [
        "network6.compile(optimizer='rmsprop', \n",
        "                loss='categorical_crossentropy',\n",
        "                metrics=['accuracy'])"
      ],
      "execution_count": null,
      "outputs": []
    },
    {
      "cell_type": "code",
      "metadata": {
        "id": "UcqqMkwi_5gx"
      },
      "source": [
        "network7.compile(optimizer='sgd', \n",
        "                loss='categorical_crossentropy',\n",
        "                metrics=['accuracy'])"
      ],
      "execution_count": null,
      "outputs": []
    },
    {
      "cell_type": "code",
      "metadata": {
        "id": "rKw6wsvmQkp9"
      },
      "source": [
        "network8.compile(optimizer='rmsprop', \n",
        "                loss='categorical_crossentropy',\n",
        "                metrics=['accuracy'])"
      ],
      "execution_count": null,
      "outputs": []
    },
    {
      "cell_type": "markdown",
      "metadata": {
        "id": "UZqgwKO2Bsfz"
      },
      "source": [
        "##PREPARAMOS LOS DATOS DE IMAGEN CON ALGUNA TRANSFORMACIÓN. NORMALIZACION"
      ]
    },
    {
      "cell_type": "markdown",
      "metadata": {
        "id": "0SVlAHsbB5p_"
      },
      "source": [
        "Antes del entrenamiento, preprocesaremos nuestros datos dándoles la forma que espera la red y escalando para que todos los valores estén en el intervalo [0, 1].Pasando de una matriz de forma (60000, 28, 28) con valores en el intervalo [0, 255] a una matriz de forma float32 con forma (60000, 28 * 28) con valores entre 0 y 1."
      ]
    },
    {
      "cell_type": "code",
      "metadata": {
        "colab": {
          "base_uri": "https://localhost:8080/"
        },
        "id": "VqTUWf0CZZm2",
        "outputId": "bff40e11-555a-48a2-85f5-fdf55f45349e"
      },
      "source": [
        "# Los tensores transformados tienen la misma cantidad de datos total que el \n",
        "# tensor inicial\n",
        "train_images = train_images.reshape((60000, 28 * 28))\n",
        "train_images, len(train_images), train_images.shape, train_images[3000]"
      ],
      "execution_count": null,
      "outputs": [
        {
          "output_type": "execute_result",
          "data": {
            "text/plain": [
              "(array([[0, 0, 0, ..., 0, 0, 0],\n",
              "        [0, 0, 0, ..., 0, 0, 0],\n",
              "        [0, 0, 0, ..., 0, 0, 0],\n",
              "        ...,\n",
              "        [0, 0, 0, ..., 0, 0, 0],\n",
              "        [0, 0, 0, ..., 0, 0, 0],\n",
              "        [0, 0, 0, ..., 0, 0, 0]], dtype=uint8),\n",
              " 60000,\n",
              " (60000, 784),\n",
              " array([  0,   0,   0,   0,   0,   0,   0,   0,   1,   1,   0,   0, 120,\n",
              "        131,  91, 147,  30,   0,   0,   1,   1,   0,   0,   0,   0,   0,\n",
              "          0,   0,   0,   0,   0,   0,   0,   0,   1,   3,   0,   0,   0,\n",
              "          0, 251, 199, 172, 195, 152,   0,   0,   0,   0,   3,   1,   0,\n",
              "          0,   0,   0,   0,   0,   0,   0,   0,   0,   0,   0,   0,   0,\n",
              "         43, 124, 193, 166, 239, 255, 216, 172, 228, 126,  61,   0,   0,\n",
              "          0,   0,   0,   0,   0,   0,   0,   0,   0,   0,   0,   0,   0,\n",
              "         96, 167, 155, 159, 171, 178, 211, 215, 210, 196, 189, 158, 164,\n",
              "        159, 108,   0,   0,   0,   0,   0,   0,   0,   0,   0,   0,   0,\n",
              "          0,  83, 157, 131, 117, 120, 148, 148, 145, 178, 159, 174, 160,\n",
              "        123, 132, 142, 172,  38,   0,   0,   0,   0,   0,   0,   0,   0,\n",
              "          0,   0,   0, 159, 128, 118, 120, 122, 112,  93, 124, 161, 109,\n",
              "        128, 128, 129, 146, 138, 167, 122,   0,   0,   0,   0,   0,   0,\n",
              "          0,   0,   0,   0,   0, 171, 135, 120, 114, 118, 119, 107, 125,\n",
              "        123, 117, 124, 124, 119, 145, 147, 166, 148,   0,   0,   0,   0,\n",
              "          0,   0,   0,   0,   0,   0,   4, 171, 138, 126, 120, 117, 118,\n",
              "        102, 122, 145, 111, 120, 122, 120, 152, 154, 155, 170,   0,   0,\n",
              "          0,   0,   0,   0,   0,   0,   0,   0,  31, 170, 129, 138, 125,\n",
              "        113, 106, 103, 118, 137, 108, 135, 130, 158, 182, 138, 143, 186,\n",
              "          0,   0,   0,   0,   0,   0,   0,   0,   0,   0,  58, 163, 114,\n",
              "        137, 143, 119, 103, 100, 109, 118, 109, 129, 134, 172, 181, 131,\n",
              "        136, 190,   0,   0,   0,   0,   0,   0,   0,   0,   0,   0,  76,\n",
              "        160, 113, 141, 148, 128, 111, 101, 116, 137, 111, 131, 142, 167,\n",
              "        183, 136, 120, 186,  12,   0,   0,   0,   0,   0,   0,   0,   0,\n",
              "          0, 100, 148, 108, 147, 147, 134, 120, 105, 116, 131, 116, 136,\n",
              "        137, 165, 192, 137, 113, 187,  30,   0,   0,   0,   0,   0,   0,\n",
              "          0,   0,   0, 114, 143, 108, 158, 147, 130, 125, 106, 114, 122,\n",
              "        119, 129, 134, 160, 196, 136, 109, 182,  51,   0,   0,   0,   0,\n",
              "          0,   0,   0,   0,   0, 120, 140, 117, 151, 148, 131, 124, 109,\n",
              "        120, 143, 120, 130, 128, 159, 188, 111, 108, 178,  66,   0,   0,\n",
              "          0,   0,   0,   0,   0,   0,   0, 125, 129, 128, 112, 145, 140,\n",
              "        122, 113, 118, 134, 117, 132, 128, 166, 157,  91, 120, 170,  74,\n",
              "          0,   0,   0,   0,   0,   0,   0,   0,   0, 126, 123, 138,  74,\n",
              "        140, 143, 124, 111, 112, 126, 120, 130, 129, 175, 120,  88, 128,\n",
              "        164,  91,   0,   0,   0,   0,   0,   0,   0,   0,   0, 124, 123,\n",
              "        157,  45, 145, 143, 124, 113, 119, 148, 122, 131, 129, 183,  90,\n",
              "         73, 137, 155,  99,   0,   0,   0,   0,   0,   0,   0,   0,   0,\n",
              "        118, 122, 167,   0, 143, 149, 122, 112, 118, 137, 116, 132, 126,\n",
              "        183,  73,  50, 152, 147, 101,   0,   0,   0,   0,   0,   0,   0,\n",
              "          0,   0, 111, 128, 164,   0, 142, 151, 122, 111, 117, 132, 120,\n",
              "        136, 125, 182,  90,  18, 164, 145, 107,   0,   0,   0,   0,   0,\n",
              "          0,   0,   0,   0, 109, 132, 158,   0, 146, 148, 120, 108, 125,\n",
              "        157, 120, 136, 131, 176, 111,   0, 164, 143, 118,   0,   0,   0,\n",
              "          0,   0,   0,   0,   0,   0, 111, 141, 140,   0, 148, 149, 120,\n",
              "        114, 123, 137, 124, 137, 131, 171, 135,   0, 157, 147, 125,   0,\n",
              "          0,   0,   0,   0,   0,   0,   0,   0, 111, 154, 111,   0, 155,\n",
              "        148, 118, 116, 124, 143, 123, 131, 129, 167, 155,   0, 129, 157,\n",
              "        129,   0,   0,   0,   0,   0,   0,   0,   0,   0, 109, 155,  87,\n",
              "          0, 157, 145, 119, 117, 126, 154, 126, 130, 123, 161, 160,   0,\n",
              "         97, 163, 130,   0,   0,   0,   0,   0,   0,   0,   0,   0, 124,\n",
              "        142,  54,   0, 149, 141, 119, 119, 124, 136, 129, 126, 120, 153,\n",
              "        175,   0,  76, 145, 137,   0,   0,   0,   0,   0,   0,   0,   0,\n",
              "          0, 136, 151,  47,   0, 149, 137, 119, 118, 126, 143, 132, 130,\n",
              "        123, 153, 172,   0,  66, 148, 154,   0,   0,   0,   0,   0,   0,\n",
              "          0,   0,   0, 109, 174,  48,   0, 154, 138, 119, 117, 124, 138,\n",
              "        130, 129, 125, 159, 167,   0,  58, 174, 128,   0,   0,   0,   0,\n",
              "          0,   0,   0,   0,   0,   0,   0,   0,   0,  85, 182, 147, 136,\n",
              "        143, 158, 146, 148, 153, 199,  70,   0,   0,   0,   0,   0,   0,\n",
              "          0,   0,   0,   0,   0,   0,   0,   0,   0,   0,   0,   0,  26,\n",
              "         54,  72,  83,  96,  85,  80,  61,  14,   0,   0,   0,   0,   0,\n",
              "          0,   0,   0,   0], dtype=uint8))"
            ]
          },
          "metadata": {},
          "execution_count": 24
        }
      ]
    },
    {
      "cell_type": "code",
      "metadata": {
        "colab": {
          "base_uri": "https://localhost:8080/"
        },
        "id": "2Gv3HJbOZhxd",
        "outputId": "9c13a242-5eb9-4c3c-b3f8-7ad3ef7c33b2"
      },
      "source": [
        "train_images = train_images.astype('float32') / 255\n",
        "train_images, len(train_images), train_images.shape, train_images[3000]"
      ],
      "execution_count": null,
      "outputs": [
        {
          "output_type": "execute_result",
          "data": {
            "text/plain": [
              "(array([[0., 0., 0., ..., 0., 0., 0.],\n",
              "        [0., 0., 0., ..., 0., 0., 0.],\n",
              "        [0., 0., 0., ..., 0., 0., 0.],\n",
              "        ...,\n",
              "        [0., 0., 0., ..., 0., 0., 0.],\n",
              "        [0., 0., 0., ..., 0., 0., 0.],\n",
              "        [0., 0., 0., ..., 0., 0., 0.]], dtype=float32),\n",
              " 60000,\n",
              " (60000, 784),\n",
              " array([0.        , 0.        , 0.        , 0.        , 0.        ,\n",
              "        0.        , 0.        , 0.        , 0.00392157, 0.00392157,\n",
              "        0.        , 0.        , 0.47058824, 0.5137255 , 0.35686275,\n",
              "        0.5764706 , 0.11764706, 0.        , 0.        , 0.00392157,\n",
              "        0.00392157, 0.        , 0.        , 0.        , 0.        ,\n",
              "        0.        , 0.        , 0.        , 0.        , 0.        ,\n",
              "        0.        , 0.        , 0.        , 0.        , 0.00392157,\n",
              "        0.01176471, 0.        , 0.        , 0.        , 0.        ,\n",
              "        0.9843137 , 0.78039217, 0.6745098 , 0.7647059 , 0.59607846,\n",
              "        0.        , 0.        , 0.        , 0.        , 0.01176471,\n",
              "        0.00392157, 0.        , 0.        , 0.        , 0.        ,\n",
              "        0.        , 0.        , 0.        , 0.        , 0.        ,\n",
              "        0.        , 0.        , 0.        , 0.        , 0.        ,\n",
              "        0.16862746, 0.4862745 , 0.75686276, 0.6509804 , 0.9372549 ,\n",
              "        1.        , 0.84705883, 0.6745098 , 0.89411765, 0.49411765,\n",
              "        0.23921569, 0.        , 0.        , 0.        , 0.        ,\n",
              "        0.        , 0.        , 0.        , 0.        , 0.        ,\n",
              "        0.        , 0.        , 0.        , 0.        , 0.        ,\n",
              "        0.        , 0.3764706 , 0.654902  , 0.60784316, 0.62352943,\n",
              "        0.67058825, 0.69803923, 0.827451  , 0.84313726, 0.8235294 ,\n",
              "        0.76862746, 0.7411765 , 0.61960787, 0.6431373 , 0.62352943,\n",
              "        0.42352942, 0.        , 0.        , 0.        , 0.        ,\n",
              "        0.        , 0.        , 0.        , 0.        , 0.        ,\n",
              "        0.        , 0.        , 0.        , 0.3254902 , 0.6156863 ,\n",
              "        0.5137255 , 0.45882353, 0.47058824, 0.5803922 , 0.5803922 ,\n",
              "        0.5686275 , 0.69803923, 0.62352943, 0.68235296, 0.627451  ,\n",
              "        0.48235294, 0.5176471 , 0.5568628 , 0.6745098 , 0.14901961,\n",
              "        0.        , 0.        , 0.        , 0.        , 0.        ,\n",
              "        0.        , 0.        , 0.        , 0.        , 0.        ,\n",
              "        0.        , 0.62352943, 0.5019608 , 0.4627451 , 0.47058824,\n",
              "        0.47843137, 0.4392157 , 0.3647059 , 0.4862745 , 0.6313726 ,\n",
              "        0.42745098, 0.5019608 , 0.5019608 , 0.5058824 , 0.57254905,\n",
              "        0.5411765 , 0.654902  , 0.47843137, 0.        , 0.        ,\n",
              "        0.        , 0.        , 0.        , 0.        , 0.        ,\n",
              "        0.        , 0.        , 0.        , 0.        , 0.67058825,\n",
              "        0.5294118 , 0.47058824, 0.44705883, 0.4627451 , 0.46666667,\n",
              "        0.41960785, 0.49019608, 0.48235294, 0.45882353, 0.4862745 ,\n",
              "        0.4862745 , 0.46666667, 0.5686275 , 0.5764706 , 0.6509804 ,\n",
              "        0.5803922 , 0.        , 0.        , 0.        , 0.        ,\n",
              "        0.        , 0.        , 0.        , 0.        , 0.        ,\n",
              "        0.        , 0.01568628, 0.67058825, 0.5411765 , 0.49411765,\n",
              "        0.47058824, 0.45882353, 0.4627451 , 0.4       , 0.47843137,\n",
              "        0.5686275 , 0.43529412, 0.47058824, 0.47843137, 0.47058824,\n",
              "        0.59607846, 0.6039216 , 0.60784316, 0.6666667 , 0.        ,\n",
              "        0.        , 0.        , 0.        , 0.        , 0.        ,\n",
              "        0.        , 0.        , 0.        , 0.        , 0.12156863,\n",
              "        0.6666667 , 0.5058824 , 0.5411765 , 0.49019608, 0.44313726,\n",
              "        0.41568628, 0.40392157, 0.4627451 , 0.5372549 , 0.42352942,\n",
              "        0.5294118 , 0.50980395, 0.61960787, 0.7137255 , 0.5411765 ,\n",
              "        0.56078434, 0.7294118 , 0.        , 0.        , 0.        ,\n",
              "        0.        , 0.        , 0.        , 0.        , 0.        ,\n",
              "        0.        , 0.        , 0.22745098, 0.6392157 , 0.44705883,\n",
              "        0.5372549 , 0.56078434, 0.46666667, 0.40392157, 0.39215687,\n",
              "        0.42745098, 0.4627451 , 0.42745098, 0.5058824 , 0.5254902 ,\n",
              "        0.6745098 , 0.70980394, 0.5137255 , 0.53333336, 0.74509805,\n",
              "        0.        , 0.        , 0.        , 0.        , 0.        ,\n",
              "        0.        , 0.        , 0.        , 0.        , 0.        ,\n",
              "        0.29803923, 0.627451  , 0.44313726, 0.5529412 , 0.5803922 ,\n",
              "        0.5019608 , 0.43529412, 0.39607844, 0.45490196, 0.5372549 ,\n",
              "        0.43529412, 0.5137255 , 0.5568628 , 0.654902  , 0.7176471 ,\n",
              "        0.53333336, 0.47058824, 0.7294118 , 0.04705882, 0.        ,\n",
              "        0.        , 0.        , 0.        , 0.        , 0.        ,\n",
              "        0.        , 0.        , 0.        , 0.39215687, 0.5803922 ,\n",
              "        0.42352942, 0.5764706 , 0.5764706 , 0.5254902 , 0.47058824,\n",
              "        0.4117647 , 0.45490196, 0.5137255 , 0.45490196, 0.53333336,\n",
              "        0.5372549 , 0.64705884, 0.7529412 , 0.5372549 , 0.44313726,\n",
              "        0.73333335, 0.11764706, 0.        , 0.        , 0.        ,\n",
              "        0.        , 0.        , 0.        , 0.        , 0.        ,\n",
              "        0.        , 0.44705883, 0.56078434, 0.42352942, 0.61960787,\n",
              "        0.5764706 , 0.50980395, 0.49019608, 0.41568628, 0.44705883,\n",
              "        0.47843137, 0.46666667, 0.5058824 , 0.5254902 , 0.627451  ,\n",
              "        0.76862746, 0.53333336, 0.42745098, 0.7137255 , 0.2       ,\n",
              "        0.        , 0.        , 0.        , 0.        , 0.        ,\n",
              "        0.        , 0.        , 0.        , 0.        , 0.47058824,\n",
              "        0.54901963, 0.45882353, 0.5921569 , 0.5803922 , 0.5137255 ,\n",
              "        0.4862745 , 0.42745098, 0.47058824, 0.56078434, 0.47058824,\n",
              "        0.50980395, 0.5019608 , 0.62352943, 0.7372549 , 0.43529412,\n",
              "        0.42352942, 0.69803923, 0.25882354, 0.        , 0.        ,\n",
              "        0.        , 0.        , 0.        , 0.        , 0.        ,\n",
              "        0.        , 0.        , 0.49019608, 0.5058824 , 0.5019608 ,\n",
              "        0.4392157 , 0.5686275 , 0.54901963, 0.47843137, 0.44313726,\n",
              "        0.4627451 , 0.5254902 , 0.45882353, 0.5176471 , 0.5019608 ,\n",
              "        0.6509804 , 0.6156863 , 0.35686275, 0.47058824, 0.6666667 ,\n",
              "        0.2901961 , 0.        , 0.        , 0.        , 0.        ,\n",
              "        0.        , 0.        , 0.        , 0.        , 0.        ,\n",
              "        0.49411765, 0.48235294, 0.5411765 , 0.2901961 , 0.54901963,\n",
              "        0.56078434, 0.4862745 , 0.43529412, 0.4392157 , 0.49411765,\n",
              "        0.47058824, 0.50980395, 0.5058824 , 0.6862745 , 0.47058824,\n",
              "        0.34509805, 0.5019608 , 0.6431373 , 0.35686275, 0.        ,\n",
              "        0.        , 0.        , 0.        , 0.        , 0.        ,\n",
              "        0.        , 0.        , 0.        , 0.4862745 , 0.48235294,\n",
              "        0.6156863 , 0.1764706 , 0.5686275 , 0.56078434, 0.4862745 ,\n",
              "        0.44313726, 0.46666667, 0.5803922 , 0.47843137, 0.5137255 ,\n",
              "        0.5058824 , 0.7176471 , 0.3529412 , 0.28627452, 0.5372549 ,\n",
              "        0.60784316, 0.3882353 , 0.        , 0.        , 0.        ,\n",
              "        0.        , 0.        , 0.        , 0.        , 0.        ,\n",
              "        0.        , 0.4627451 , 0.47843137, 0.654902  , 0.        ,\n",
              "        0.56078434, 0.58431375, 0.47843137, 0.4392157 , 0.4627451 ,\n",
              "        0.5372549 , 0.45490196, 0.5176471 , 0.49411765, 0.7176471 ,\n",
              "        0.28627452, 0.19607843, 0.59607846, 0.5764706 , 0.39607844,\n",
              "        0.        , 0.        , 0.        , 0.        , 0.        ,\n",
              "        0.        , 0.        , 0.        , 0.        , 0.43529412,\n",
              "        0.5019608 , 0.6431373 , 0.        , 0.5568628 , 0.5921569 ,\n",
              "        0.47843137, 0.43529412, 0.45882353, 0.5176471 , 0.47058824,\n",
              "        0.53333336, 0.49019608, 0.7137255 , 0.3529412 , 0.07058824,\n",
              "        0.6431373 , 0.5686275 , 0.41960785, 0.        , 0.        ,\n",
              "        0.        , 0.        , 0.        , 0.        , 0.        ,\n",
              "        0.        , 0.        , 0.42745098, 0.5176471 , 0.61960787,\n",
              "        0.        , 0.57254905, 0.5803922 , 0.47058824, 0.42352942,\n",
              "        0.49019608, 0.6156863 , 0.47058824, 0.53333336, 0.5137255 ,\n",
              "        0.6901961 , 0.43529412, 0.        , 0.6431373 , 0.56078434,\n",
              "        0.4627451 , 0.        , 0.        , 0.        , 0.        ,\n",
              "        0.        , 0.        , 0.        , 0.        , 0.        ,\n",
              "        0.43529412, 0.5529412 , 0.54901963, 0.        , 0.5803922 ,\n",
              "        0.58431375, 0.47058824, 0.44705883, 0.48235294, 0.5372549 ,\n",
              "        0.4862745 , 0.5372549 , 0.5137255 , 0.67058825, 0.5294118 ,\n",
              "        0.        , 0.6156863 , 0.5764706 , 0.49019608, 0.        ,\n",
              "        0.        , 0.        , 0.        , 0.        , 0.        ,\n",
              "        0.        , 0.        , 0.        , 0.43529412, 0.6039216 ,\n",
              "        0.43529412, 0.        , 0.60784316, 0.5803922 , 0.4627451 ,\n",
              "        0.45490196, 0.4862745 , 0.56078434, 0.48235294, 0.5137255 ,\n",
              "        0.5058824 , 0.654902  , 0.60784316, 0.        , 0.5058824 ,\n",
              "        0.6156863 , 0.5058824 , 0.        , 0.        , 0.        ,\n",
              "        0.        , 0.        , 0.        , 0.        , 0.        ,\n",
              "        0.        , 0.42745098, 0.60784316, 0.34117648, 0.        ,\n",
              "        0.6156863 , 0.5686275 , 0.46666667, 0.45882353, 0.49411765,\n",
              "        0.6039216 , 0.49411765, 0.50980395, 0.48235294, 0.6313726 ,\n",
              "        0.627451  , 0.        , 0.38039216, 0.6392157 , 0.50980395,\n",
              "        0.        , 0.        , 0.        , 0.        , 0.        ,\n",
              "        0.        , 0.        , 0.        , 0.        , 0.4862745 ,\n",
              "        0.5568628 , 0.21176471, 0.        , 0.58431375, 0.5529412 ,\n",
              "        0.46666667, 0.46666667, 0.4862745 , 0.53333336, 0.5058824 ,\n",
              "        0.49411765, 0.47058824, 0.6       , 0.6862745 , 0.        ,\n",
              "        0.29803923, 0.5686275 , 0.5372549 , 0.        , 0.        ,\n",
              "        0.        , 0.        , 0.        , 0.        , 0.        ,\n",
              "        0.        , 0.        , 0.53333336, 0.5921569 , 0.18431373,\n",
              "        0.        , 0.58431375, 0.5372549 , 0.46666667, 0.4627451 ,\n",
              "        0.49411765, 0.56078434, 0.5176471 , 0.50980395, 0.48235294,\n",
              "        0.6       , 0.6745098 , 0.        , 0.25882354, 0.5803922 ,\n",
              "        0.6039216 , 0.        , 0.        , 0.        , 0.        ,\n",
              "        0.        , 0.        , 0.        , 0.        , 0.        ,\n",
              "        0.42745098, 0.68235296, 0.1882353 , 0.        , 0.6039216 ,\n",
              "        0.5411765 , 0.46666667, 0.45882353, 0.4862745 , 0.5411765 ,\n",
              "        0.50980395, 0.5058824 , 0.49019608, 0.62352943, 0.654902  ,\n",
              "        0.        , 0.22745098, 0.68235296, 0.5019608 , 0.        ,\n",
              "        0.        , 0.        , 0.        , 0.        , 0.        ,\n",
              "        0.        , 0.        , 0.        , 0.        , 0.        ,\n",
              "        0.        , 0.        , 0.33333334, 0.7137255 , 0.5764706 ,\n",
              "        0.53333336, 0.56078434, 0.61960787, 0.57254905, 0.5803922 ,\n",
              "        0.6       , 0.78039217, 0.27450982, 0.        , 0.        ,\n",
              "        0.        , 0.        , 0.        , 0.        , 0.        ,\n",
              "        0.        , 0.        , 0.        , 0.        , 0.        ,\n",
              "        0.        , 0.        , 0.        , 0.        , 0.        ,\n",
              "        0.        , 0.10196079, 0.21176471, 0.28235295, 0.3254902 ,\n",
              "        0.3764706 , 0.33333334, 0.3137255 , 0.23921569, 0.05490196,\n",
              "        0.        , 0.        , 0.        , 0.        , 0.        ,\n",
              "        0.        , 0.        , 0.        , 0.        ], dtype=float32))"
            ]
          },
          "metadata": {},
          "execution_count": 25
        }
      ]
    },
    {
      "cell_type": "code",
      "metadata": {
        "id": "Ke16AU59ZvNo"
      },
      "source": [
        "test_images = test_images.reshape((10000, 28 * 28))\n",
        "test_images = test_images.astype('float32') / 255"
      ],
      "execution_count": null,
      "outputs": []
    },
    {
      "cell_type": "markdown",
      "metadata": {
        "id": "FSRvw7UXCpLv"
      },
      "source": [
        "##Preparación de etiquetas"
      ]
    },
    {
      "cell_type": "markdown",
      "metadata": {
        "id": "uxRe5M7ACswv"
      },
      "source": [
        "También tenemos que codificar categoricamente las etiquetas. Usaremos el **one-hot encoding**, que consiste en transformar las etiquetas en un vector de tantos ceros como el número de etiquetas distinta, y que contiene el valor de 1 en el índice que le corresponde al valor de la etiqueta:"
      ]
    },
    {
      "cell_type": "code",
      "metadata": {
        "colab": {
          "base_uri": "https://localhost:8080/"
        },
        "id": "zsj-uI7GZ8iA",
        "outputId": "bcd166b2-cf8e-44e0-bbc8-a7d6ca3add30"
      },
      "source": [
        "# from keras import utils\n",
        "# from keras.utils import to_categorical\n",
        "from keras.utils.np_utils import to_categorical\n",
        "train_labels = to_categorical(train_labels)\n",
        "test_labels = to_categorical(test_labels)\n",
        "train_labels[5000] \n"
      ],
      "execution_count": 16,
      "outputs": [
        {
          "output_type": "execute_result",
          "data": {
            "text/plain": [
              "array([0., 0., 0., 0., 1., 0., 0., 0., 0., 0.], dtype=float32)"
            ]
          },
          "metadata": {},
          "execution_count": 16
        }
      ]
    },
    {
      "cell_type": "markdown",
      "metadata": {
        "id": "_hzZ9RxUDDwJ"
      },
      "source": [
        "Como hemos visto antes, la imagen 5000 corresponde con la etiqueta 4, y como podemos observar, el 1 aparece en la posición 4 del vector."
      ]
    },
    {
      "cell_type": "code",
      "metadata": {
        "colab": {
          "base_uri": "https://localhost:8080/"
        },
        "id": "YS-GMLs2aBQz",
        "outputId": "2f415e33-9cf1-494d-a424-c8fe8e653d52"
      },
      "source": [
        "#Caso 5\n",
        "network5.fit(train_images, train_labels, epochs=5, batch_size=128)"
      ],
      "execution_count": null,
      "outputs": [
        {
          "output_type": "stream",
          "name": "stdout",
          "text": [
            "Epoch 1/5\n",
            "469/469 [==============================] - 4s 8ms/step - loss: 0.9968 - accuracy: 0.7040\n",
            "Epoch 2/5\n",
            "469/469 [==============================] - 3s 7ms/step - loss: 0.6536 - accuracy: 0.7928\n",
            "Epoch 3/5\n",
            "469/469 [==============================] - 4s 8ms/step - loss: 0.5785 - accuracy: 0.8123\n",
            "Epoch 4/5\n",
            "469/469 [==============================] - 4s 8ms/step - loss: 0.5384 - accuracy: 0.8222\n",
            "Epoch 5/5\n",
            "469/469 [==============================] - 3s 7ms/step - loss: 0.5123 - accuracy: 0.8299\n"
          ]
        },
        {
          "output_type": "execute_result",
          "data": {
            "text/plain": [
              "<keras.callbacks.History at 0x7f391a2a9850>"
            ]
          },
          "metadata": {},
          "execution_count": 28
        }
      ]
    },
    {
      "cell_type": "code",
      "metadata": {
        "colab": {
          "base_uri": "https://localhost:8080/"
        },
        "id": "fNpPHtf4aQHf",
        "outputId": "33150b27-b3e2-4b27-f888-9ab3f0e5e8eb"
      },
      "source": [
        "network6.fit(train_images, train_labels, epochs=5, batch_size=128)"
      ],
      "execution_count": null,
      "outputs": [
        {
          "output_type": "stream",
          "name": "stdout",
          "text": [
            "Epoch 1/5\n",
            "469/469 [==============================] - 5s 10ms/step - loss: 0.5543 - accuracy: 0.8031\n",
            "Epoch 2/5\n",
            "469/469 [==============================] - 5s 10ms/step - loss: 0.3820 - accuracy: 0.8593\n",
            "Epoch 3/5\n",
            "469/469 [==============================] - 5s 10ms/step - loss: 0.3366 - accuracy: 0.8765\n",
            "Epoch 4/5\n",
            "469/469 [==============================] - 4s 9ms/step - loss: 0.3112 - accuracy: 0.8858\n",
            "Epoch 5/5\n",
            "469/469 [==============================] - 4s 9ms/step - loss: 0.2925 - accuracy: 0.8918\n"
          ]
        },
        {
          "output_type": "execute_result",
          "data": {
            "text/plain": [
              "<keras.callbacks.History at 0x7f3916bc8e90>"
            ]
          },
          "metadata": {},
          "execution_count": 29
        }
      ]
    },
    {
      "cell_type": "code",
      "metadata": {
        "colab": {
          "base_uri": "https://localhost:8080/"
        },
        "id": "y1ReFXMLaTpC",
        "outputId": "632507fc-dcd5-471b-a023-8e6754abf282"
      },
      "source": [
        "network7.fit(train_images, train_labels, epochs=5, batch_size=128)"
      ],
      "execution_count": null,
      "outputs": [
        {
          "output_type": "stream",
          "name": "stdout",
          "text": [
            "Epoch 1/5\n",
            "469/469 [==============================] - 4s 7ms/step - loss: 1.7023 - accuracy: 0.5807\n",
            "Epoch 2/5\n",
            "469/469 [==============================] - 3s 7ms/step - loss: 1.1293 - accuracy: 0.7134\n",
            "Epoch 3/5\n",
            "469/469 [==============================] - 4s 7ms/step - loss: 0.9251 - accuracy: 0.7331\n",
            "Epoch 4/5\n",
            "469/469 [==============================] - 4s 8ms/step - loss: 0.8229 - accuracy: 0.7454\n",
            "Epoch 5/5\n",
            "469/469 [==============================] - 3s 7ms/step - loss: 0.7613 - accuracy: 0.7542\n"
          ]
        },
        {
          "output_type": "execute_result",
          "data": {
            "text/plain": [
              "<keras.callbacks.History at 0x7f391a12ea10>"
            ]
          },
          "metadata": {},
          "execution_count": 30
        }
      ]
    },
    {
      "cell_type": "code",
      "metadata": {
        "colab": {
          "base_uri": "https://localhost:8080/"
        },
        "id": "DL95dy3TaWgb",
        "outputId": "5115dc2d-b7de-4517-c3bc-c3c4c1ec7833"
      },
      "source": [
        "network8.fit(train_images, train_labels, epochs=5, batch_size=128)"
      ],
      "execution_count": null,
      "outputs": [
        {
          "output_type": "stream",
          "name": "stdout",
          "text": [
            "Epoch 1/5\n",
            "469/469 [==============================] - 5s 11ms/step - loss: 0.5915 - accuracy: 0.7901\n",
            "Epoch 2/5\n",
            "469/469 [==============================] - 5s 10ms/step - loss: 0.4271 - accuracy: 0.8449\n",
            "Epoch 3/5\n",
            "469/469 [==============================] - 4s 10ms/step - loss: 0.3859 - accuracy: 0.8593\n",
            "Epoch 4/5\n",
            "469/469 [==============================] - 5s 10ms/step - loss: 0.3589 - accuracy: 0.8691\n",
            "Epoch 5/5\n",
            "469/469 [==============================] - 4s 9ms/step - loss: 0.3389 - accuracy: 0.8759\n"
          ]
        },
        {
          "output_type": "execute_result",
          "data": {
            "text/plain": [
              "<keras.callbacks.History at 0x7f3916bb2b90>"
            ]
          },
          "metadata": {},
          "execution_count": 31
        }
      ]
    },
    {
      "cell_type": "code",
      "metadata": {
        "colab": {
          "base_uri": "https://localhost:8080/"
        },
        "id": "RR11VhpydMrE",
        "outputId": "4de26d2b-e683-4441-b7e6-2ec138baa086"
      },
      "source": [
        "test_loss, test_acc = network5.evaluate(test_images, test_labels)\n",
        "test_loss, test_acc = network6.evaluate(test_images, test_labels)\n",
        "test_loss, test_acc = network7.evaluate(test_images, test_labels)\n",
        "test_loss, test_acc = network8.evaluate(test_images, test_labels)"
      ],
      "execution_count": null,
      "outputs": [
        {
          "output_type": "stream",
          "name": "stdout",
          "text": [
            "313/313 [==============================] - 1s 3ms/step - loss: 0.5264 - accuracy: 0.8218\n",
            "313/313 [==============================] - 1s 3ms/step - loss: 0.3675 - accuracy: 0.8694\n",
            "313/313 [==============================] - 1s 3ms/step - loss: 0.7511 - accuracy: 0.7526\n",
            "313/313 [==============================] - 1s 2ms/step - loss: 0.4055 - accuracy: 0.8538\n"
          ]
        }
      ]
    },
    {
      "cell_type": "code",
      "metadata": {
        "colab": {
          "base_uri": "https://localhost:8080/"
        },
        "id": "gcK6AcBAdef5",
        "outputId": "3b75646a-bb0b-4c0f-801c-2a8566727a23"
      },
      "source": [
        "print('test_acc:', test_acc)"
      ],
      "execution_count": null,
      "outputs": [
        {
          "output_type": "stream",
          "name": "stdout",
          "text": [
            "test_acc: 0.8537999987602234\n"
          ]
        }
      ]
    },
    {
      "cell_type": "code",
      "metadata": {
        "colab": {
          "base_uri": "https://localhost:8080/",
          "height": 265
        },
        "id": "3sepKWtkdtxt",
        "outputId": "93956059-7a75-4775-f26b-08fb7bafdde5"
      },
      "source": [
        "#Predicciones\n",
        "# Veamos el elemento 5 de test y pintémoslo con matplotlib\n",
        "from keras.datasets import fashion_mnist\n",
        "(train_images, train_labels), (test_images, test_labels) = fashion_mnist.load_data()\n",
        "import matplotlib.pyplot as plt\n",
        "digit = test_images[5]\n",
        "plt.imshow(digit, cmap=plt.cm.binary)\n",
        "plt.show()"
      ],
      "execution_count": null,
      "outputs": [
        {
          "output_type": "display_data",
          "data": {
            "image/png": "[encoded data removed]",
            "text/plain": [
              "<Figure size 432x288 with 1 Axes>"
            ]
          },
          "metadata": {
            "needs_background": "light"
          }
        }
      ]
    },
    {
      "cell_type": "code",
      "metadata": {
        "colab": {
          "base_uri": "https://localhost:8080/"
        },
        "id": "25i_zkZwfFL0",
        "outputId": "ef077203-75e6-4dd6-e408-112ee65915e9"
      },
      "source": [
        "train_images = train_images.reshape((60000, 28 * 28))\n",
        "test_images = test_images.reshape((10000, 28 * 28))\n",
        "\n",
        "train_images = train_images.astype('float32') / 255\n",
        "test_images = test_images.astype('float32') / 255\n",
        "\n",
        "import numpy as np\n",
        "from keras.utils.np_utils import to_categorical\n",
        "\n",
        "\n",
        "print(test_labels)\n",
        "# train_labels = to_categorical(train_labels)\n",
        "test_labels = to_categorical(test_labels)\n",
        "print(test_labels)\n",
        "\n",
        "predictions = network5.predict(test_images)\n",
        "print(np.argmax(predictions[5]))\n",
        "print(predictions[5])\n",
        "np.sum(predictions[5])\n",
        "print(predictions)"
      ],
      "execution_count": null,
      "outputs": [
        {
          "output_type": "stream",
          "name": "stdout",
          "text": [
            "[[[[0. 1.]\n",
            "   [1. 0.]]\n",
            "\n",
            "  [[0. 1.]\n",
            "   [1. 0.]]\n",
            "\n",
            "  [[0. 1.]\n",
            "   [1. 0.]]\n",
            "\n",
            "  ...\n",
            "\n",
            "  [[0. 1.]\n",
            "   [1. 0.]]\n",
            "\n",
            "  [[0. 1.]\n",
            "   [1. 0.]]\n",
            "\n",
            "  [[1. 0.]\n",
            "   [0. 1.]]]\n",
            "\n",
            "\n",
            " [[[0. 1.]\n",
            "   [1. 0.]]\n",
            "\n",
            "  [[0. 1.]\n",
            "   [1. 0.]]\n",
            "\n",
            "  [[1. 0.]\n",
            "   [0. 1.]]\n",
            "\n",
            "  ...\n",
            "\n",
            "  [[0. 1.]\n",
            "   [1. 0.]]\n",
            "\n",
            "  [[0. 1.]\n",
            "   [1. 0.]]\n",
            "\n",
            "  [[0. 1.]\n",
            "   [1. 0.]]]\n",
            "\n",
            "\n",
            " [[[0. 1.]\n",
            "   [1. 0.]]\n",
            "\n",
            "  [[1. 0.]\n",
            "   [0. 1.]]\n",
            "\n",
            "  [[0. 1.]\n",
            "   [1. 0.]]\n",
            "\n",
            "  ...\n",
            "\n",
            "  [[0. 1.]\n",
            "   [1. 0.]]\n",
            "\n",
            "  [[0. 1.]\n",
            "   [1. 0.]]\n",
            "\n",
            "  [[0. 1.]\n",
            "   [1. 0.]]]\n",
            "\n",
            "\n",
            " ...\n",
            "\n",
            "\n",
            " [[[0. 1.]\n",
            "   [1. 0.]]\n",
            "\n",
            "  [[0. 1.]\n",
            "   [1. 0.]]\n",
            "\n",
            "  [[0. 1.]\n",
            "   [1. 0.]]\n",
            "\n",
            "  ...\n",
            "\n",
            "  [[0. 1.]\n",
            "   [1. 0.]]\n",
            "\n",
            "  [[1. 0.]\n",
            "   [0. 1.]]\n",
            "\n",
            "  [[0. 1.]\n",
            "   [1. 0.]]]\n",
            "\n",
            "\n",
            " [[[0. 1.]\n",
            "   [1. 0.]]\n",
            "\n",
            "  [[1. 0.]\n",
            "   [0. 1.]]\n",
            "\n",
            "  [[0. 1.]\n",
            "   [1. 0.]]\n",
            "\n",
            "  ...\n",
            "\n",
            "  [[0. 1.]\n",
            "   [1. 0.]]\n",
            "\n",
            "  [[0. 1.]\n",
            "   [1. 0.]]\n",
            "\n",
            "  [[0. 1.]\n",
            "   [1. 0.]]]\n",
            "\n",
            "\n",
            " [[[0. 1.]\n",
            "   [1. 0.]]\n",
            "\n",
            "  [[0. 1.]\n",
            "   [1. 0.]]\n",
            "\n",
            "  [[0. 1.]\n",
            "   [1. 0.]]\n",
            "\n",
            "  ...\n",
            "\n",
            "  [[0. 1.]\n",
            "   [1. 0.]]\n",
            "\n",
            "  [[0. 1.]\n",
            "   [1. 0.]]\n",
            "\n",
            "  [[0. 1.]\n",
            "   [1. 0.]]]]\n",
            "[[[[[1. 0.]\n",
            "    [0. 1.]]\n",
            "\n",
            "   [[0. 1.]\n",
            "    [1. 0.]]]\n",
            "\n",
            "\n",
            "  [[[1. 0.]\n",
            "    [0. 1.]]\n",
            "\n",
            "   [[0. 1.]\n",
            "    [1. 0.]]]\n",
            "\n",
            "\n",
            "  [[[1. 0.]\n",
            "    [0. 1.]]\n",
            "\n",
            "   [[0. 1.]\n",
            "    [1. 0.]]]\n",
            "\n",
            "\n",
            "  ...\n",
            "\n",
            "\n",
            "  [[[1. 0.]\n",
            "    [0. 1.]]\n",
            "\n",
            "   [[0. 1.]\n",
            "    [1. 0.]]]\n",
            "\n",
            "\n",
            "  [[[1. 0.]\n",
            "    [0. 1.]]\n",
            "\n",
            "   [[0. 1.]\n",
            "    [1. 0.]]]\n",
            "\n",
            "\n",
            "  [[[0. 1.]\n",
            "    [1. 0.]]\n",
            "\n",
            "   [[1. 0.]\n",
            "    [0. 1.]]]]\n",
            "\n",
            "\n",
            "\n",
            " [[[[1. 0.]\n",
            "    [0. 1.]]\n",
            "\n",
            "   [[0. 1.]\n",
            "    [1. 0.]]]\n",
            "\n",
            "\n",
            "  [[[1. 0.]\n",
            "    [0. 1.]]\n",
            "\n",
            "   [[0. 1.]\n",
            "    [1. 0.]]]\n",
            "\n",
            "\n",
            "  [[[0. 1.]\n",
            "    [1. 0.]]\n",
            "\n",
            "   [[1. 0.]\n",
            "    [0. 1.]]]\n",
            "\n",
            "\n",
            "  ...\n",
            "\n",
            "\n",
            "  [[[1. 0.]\n",
            "    [0. 1.]]\n",
            "\n",
            "   [[0. 1.]\n",
            "    [1. 0.]]]\n",
            "\n",
            "\n",
            "  [[[1. 0.]\n",
            "    [0. 1.]]\n",
            "\n",
            "   [[0. 1.]\n",
            "    [1. 0.]]]\n",
            "\n",
            "\n",
            "  [[[1. 0.]\n",
            "    [0. 1.]]\n",
            "\n",
            "   [[0. 1.]\n",
            "    [1. 0.]]]]\n",
            "\n",
            "\n",
            "\n",
            " [[[[1. 0.]\n",
            "    [0. 1.]]\n",
            "\n",
            "   [[0. 1.]\n",
            "    [1. 0.]]]\n",
            "\n",
            "\n",
            "  [[[0. 1.]\n",
            "    [1. 0.]]\n",
            "\n",
            "   [[1. 0.]\n",
            "    [0. 1.]]]\n",
            "\n",
            "\n",
            "  [[[1. 0.]\n",
            "    [0. 1.]]\n",
            "\n",
            "   [[0. 1.]\n",
            "    [1. 0.]]]\n",
            "\n",
            "\n",
            "  ...\n",
            "\n",
            "\n",
            "  [[[1. 0.]\n",
            "    [0. 1.]]\n",
            "\n",
            "   [[0. 1.]\n",
            "    [1. 0.]]]\n",
            "\n",
            "\n",
            "  [[[1. 0.]\n",
            "    [0. 1.]]\n",
            "\n",
            "   [[0. 1.]\n",
            "    [1. 0.]]]\n",
            "\n",
            "\n",
            "  [[[1. 0.]\n",
            "    [0. 1.]]\n",
            "\n",
            "   [[0. 1.]\n",
            "    [1. 0.]]]]\n",
            "\n",
            "\n",
            "\n",
            " ...\n",
            "\n",
            "\n",
            "\n",
            " [[[[1. 0.]\n",
            "    [0. 1.]]\n",
            "\n",
            "   [[0. 1.]\n",
            "    [1. 0.]]]\n",
            "\n",
            "\n",
            "  [[[1. 0.]\n",
            "    [0. 1.]]\n",
            "\n",
            "   [[0. 1.]\n",
            "    [1. 0.]]]\n",
            "\n",
            "\n",
            "  [[[1. 0.]\n",
            "    [0. 1.]]\n",
            "\n",
            "   [[0. 1.]\n",
            "    [1. 0.]]]\n",
            "\n",
            "\n",
            "  ...\n",
            "\n",
            "\n",
            "  [[[1. 0.]\n",
            "    [0. 1.]]\n",
            "\n",
            "   [[0. 1.]\n",
            "    [1. 0.]]]\n",
            "\n",
            "\n",
            "  [[[0. 1.]\n",
            "    [1. 0.]]\n",
            "\n",
            "   [[1. 0.]\n",
            "    [0. 1.]]]\n",
            "\n",
            "\n",
            "  [[[1. 0.]\n",
            "    [0. 1.]]\n",
            "\n",
            "   [[0. 1.]\n",
            "    [1. 0.]]]]\n",
            "\n",
            "\n",
            "\n",
            " [[[[1. 0.]\n",
            "    [0. 1.]]\n",
            "\n",
            "   [[0. 1.]\n",
            "    [1. 0.]]]\n",
            "\n",
            "\n",
            "  [[[0. 1.]\n",
            "    [1. 0.]]\n",
            "\n",
            "   [[1. 0.]\n",
            "    [0. 1.]]]\n",
            "\n",
            "\n",
            "  [[[1. 0.]\n",
            "    [0. 1.]]\n",
            "\n",
            "   [[0. 1.]\n",
            "    [1. 0.]]]\n",
            "\n",
            "\n",
            "  ...\n",
            "\n",
            "\n",
            "  [[[1. 0.]\n",
            "    [0. 1.]]\n",
            "\n",
            "   [[0. 1.]\n",
            "    [1. 0.]]]\n",
            "\n",
            "\n",
            "  [[[1. 0.]\n",
            "    [0. 1.]]\n",
            "\n",
            "   [[0. 1.]\n",
            "    [1. 0.]]]\n",
            "\n",
            "\n",
            "  [[[1. 0.]\n",
            "    [0. 1.]]\n",
            "\n",
            "   [[0. 1.]\n",
            "    [1. 0.]]]]\n",
            "\n",
            "\n",
            "\n",
            " [[[[1. 0.]\n",
            "    [0. 1.]]\n",
            "\n",
            "   [[0. 1.]\n",
            "    [1. 0.]]]\n",
            "\n",
            "\n",
            "  [[[1. 0.]\n",
            "    [0. 1.]]\n",
            "\n",
            "   [[0. 1.]\n",
            "    [1. 0.]]]\n",
            "\n",
            "\n",
            "  [[[1. 0.]\n",
            "    [0. 1.]]\n",
            "\n",
            "   [[0. 1.]\n",
            "    [1. 0.]]]\n",
            "\n",
            "\n",
            "  ...\n",
            "\n",
            "\n",
            "  [[[1. 0.]\n",
            "    [0. 1.]]\n",
            "\n",
            "   [[0. 1.]\n",
            "    [1. 0.]]]\n",
            "\n",
            "\n",
            "  [[[1. 0.]\n",
            "    [0. 1.]]\n",
            "\n",
            "   [[0. 1.]\n",
            "    [1. 0.]]]\n",
            "\n",
            "\n",
            "  [[[1. 0.]\n",
            "    [0. 1.]]\n",
            "\n",
            "   [[0. 1.]\n",
            "    [1. 0.]]]]]\n",
            "5\n",
            "[0.10121062 0.08346012 0.08532996 0.09116425 0.06552476 0.22842282\n",
            " 0.10828454 0.0889231  0.08014075 0.06753907]\n",
            "[[0.10121062 0.08346012 0.08532996 ... 0.0889231  0.08014075 0.06753907]\n",
            " [0.10121062 0.08346012 0.08532996 ... 0.0889231  0.08014075 0.06753907]\n",
            " [0.10121062 0.08346012 0.08532996 ... 0.0889231  0.08014075 0.06753907]\n",
            " ...\n",
            " [0.10121062 0.08346012 0.08532996 ... 0.0889231  0.08014075 0.06753907]\n",
            " [0.10121062 0.08346012 0.08532996 ... 0.0889231  0.08014075 0.06753907]\n",
            " [0.10121062 0.08346012 0.08532996 ... 0.0889231  0.08014075 0.06753907]]\n"
          ]
        }
      ]
    },
    {
      "cell_type": "code",
      "metadata": {
        "colab": {
          "base_uri": "https://localhost:8080/",
          "height": 429
        },
        "id": "n7majqJih8Fd",
        "outputId": "acc90479-ae3a-4a2a-c9de-2f14b8cc9f12"
      },
      "source": [
        "#Esto es para el apartado 6\n",
        "i = 0\n",
        "plt.figure(figsize = (6,3))\n",
        "plt.subplot(1, 2, 1)\n",
        "plot_image(i, predictions[i], test_labels, test_images)\n",
        "plt.subplot(1, 2, 2)\n",
        "plot_value_array(i, predictions[i], test_labels)\n",
        "plt.show()\n"
      ],
      "execution_count": null,
      "outputs": [
        {
          "output_type": "error",
          "ename": "NameError",
          "evalue": "ignored",
          "traceback": [
            "\u001b[0;31m---------------------------------------------------------------------------\u001b[0m",
            "\u001b[0;31mNameError\u001b[0m                                 Traceback (most recent call last)",
            "\u001b[0;32m<ipython-input-47-0fa0e8e67443>\u001b[0m in \u001b[0;36m<module>\u001b[0;34m()\u001b[0m\n\u001b[1;32m      2\u001b[0m \u001b[0mplt\u001b[0m\u001b[0;34m.\u001b[0m\u001b[0mfigure\u001b[0m\u001b[0;34m(\u001b[0m\u001b[0mfigsize\u001b[0m \u001b[0;34m=\u001b[0m \u001b[0;34m(\u001b[0m\u001b[0;36m6\u001b[0m\u001b[0;34m,\u001b[0m\u001b[0;36m3\u001b[0m\u001b[0;34m)\u001b[0m\u001b[0;34m)\u001b[0m\u001b[0;34m\u001b[0m\u001b[0;34m\u001b[0m\u001b[0m\n\u001b[1;32m      3\u001b[0m \u001b[0mplt\u001b[0m\u001b[0;34m.\u001b[0m\u001b[0msubplot\u001b[0m\u001b[0;34m(\u001b[0m\u001b[0;36m1\u001b[0m\u001b[0;34m,\u001b[0m \u001b[0;36m2\u001b[0m\u001b[0;34m,\u001b[0m \u001b[0;36m1\u001b[0m\u001b[0;34m)\u001b[0m\u001b[0;34m\u001b[0m\u001b[0;34m\u001b[0m\u001b[0m\n\u001b[0;32m----> 4\u001b[0;31m \u001b[0mplot_image\u001b[0m\u001b[0;34m(\u001b[0m\u001b[0mi\u001b[0m\u001b[0;34m,\u001b[0m \u001b[0mpredictions\u001b[0m\u001b[0;34m[\u001b[0m\u001b[0mi\u001b[0m\u001b[0;34m]\u001b[0m\u001b[0;34m,\u001b[0m \u001b[0mtest_labels\u001b[0m\u001b[0;34m,\u001b[0m \u001b[0mtest_images\u001b[0m\u001b[0;34m)\u001b[0m\u001b[0;34m\u001b[0m\u001b[0;34m\u001b[0m\u001b[0m\n\u001b[0m\u001b[1;32m      5\u001b[0m \u001b[0mplt\u001b[0m\u001b[0;34m.\u001b[0m\u001b[0msubplot\u001b[0m\u001b[0;34m(\u001b[0m\u001b[0;36m1\u001b[0m\u001b[0;34m,\u001b[0m \u001b[0;36m2\u001b[0m\u001b[0;34m,\u001b[0m \u001b[0;36m2\u001b[0m\u001b[0;34m)\u001b[0m\u001b[0;34m\u001b[0m\u001b[0;34m\u001b[0m\u001b[0m\n\u001b[1;32m      6\u001b[0m \u001b[0mplot_value_array\u001b[0m\u001b[0;34m(\u001b[0m\u001b[0mi\u001b[0m\u001b[0;34m,\u001b[0m \u001b[0mpredictions\u001b[0m\u001b[0;34m[\u001b[0m\u001b[0mi\u001b[0m\u001b[0;34m]\u001b[0m\u001b[0;34m,\u001b[0m \u001b[0mtest_labels\u001b[0m\u001b[0;34m)\u001b[0m\u001b[0;34m\u001b[0m\u001b[0;34m\u001b[0m\u001b[0m\n",
            "\u001b[0;31mNameError\u001b[0m: name 'plot_image' is not defined"
          ]
        },
        {
          "output_type": "display_data",
          "data": {
            "image/png": "[encoded data removed]",
            "text/plain": [
              "<Figure size 432x216 with 1 Axes>"
            ]
          },
          "metadata": {
            "needs_background": "light"
          }
        }
      ]
    }
  ]
}