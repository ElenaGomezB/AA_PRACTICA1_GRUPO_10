{
  "nbformat": 4,
  "nbformat_minor": 0,
  "metadata": {
    "colab": {
      "name": "Untitled0.ipynb",
      "provenance": [],
      "authorship_tag": "ABX9TyOHdB1CgHg3OpoErFumGQhV",
      "include_colab_link": true
    },
    "kernelspec": {
      "name": "python3",
      "display_name": "Python 3"
    },
    "language_info": {
      "name": "python"
    },
    "accelerator": "GPU"
  },
  "cells": [
    {
      "cell_type": "markdown",
      "metadata": {
        "id": "view-in-github",
        "colab_type": "text"
      },
      "source": [
        "<a href=\"https://colab.research.google.com/github/ElenaGomezB/AA_PRACTICA1_GRUPO_10/blob/main/Untitled0.ipynb\" target=\"_parent\"><img src=\"https://colab.research.google.com/assets/colab-badge.svg\" alt=\"Open In Colab\"/></a>"
      ]
    },
    {
      "cell_type": "markdown",
      "metadata": {
        "id": "SAnnkoDQ0o1N"
      },
      "source": [
        "#**Grupo 10**\n",
        "\n",
        "`Elena Gomez `\n",
        "\n",
        "`Ana Muñoz`"
      ]
    },
    {
      "cell_type": "markdown",
      "metadata": {
        "id": "E1ffu0Gu1qr0"
      },
      "source": [
        "##Objeto\n",
        "Crear un modelo de Red de Neuronas Artificiales que sea capaz de reconocer y clasificar imágenes de ropa en sus diferentes tipologías. Este modelo será definido, configurado, entrenado, evaluado y mejorado para posteriormente usarlo para hacer predicciones. \n",
        "\n",
        "El conjunto de datos viene dado en Fashion-MNIST, imágenes de los artículos de Zalando, tienda de moda online alemana especializada en ventas de ropa y zapatos. El conjunto de datos contiene 70K imágenes en escala de grises en 10 categorías. Estas imágenes muestran prendas individuales de ropa en baja resolución (28 x 28 píxeles)\n",
        "\n",
        "Usaremos 60K imágenes para entrenar la red y 10K imágenes para evaluar la precisión con la que la red aprende a clasificar las imágenes."
      ]
    },
    {
      "cell_type": "markdown",
      "metadata": {
        "id": "LmoxxGef222n"
      },
      "source": [
        "Importamos **tensorflow** y comprobamos que su versión es 2.0 superior"
      ]
    },
    {
      "cell_type": "code",
      "metadata": {
        "colab": {
          "base_uri": "https://localhost:8080/"
        },
        "id": "CabHKxmkLANO",
        "outputId": "754da7de-3bbd-474e-806d-84dcb6a2acf1"
      },
      "source": [
        "# 1._ IMPORTAMOS KERAS\n",
        "%tensorflow_version 2.x\n",
        "import tensorflow as tf\n",
        "from tensorflow import keras\n",
        "print(tf.keras.__version__)\n",
        "print(\"GPU Available:\", tf.config.list_physical_devices('GPU'))\n",
        "print(tf.__version__)"
      ],
      "execution_count": 1,
      "outputs": [
        {
          "output_type": "stream",
          "name": "stdout",
          "text": [
            "2.6.0\n",
            "GPU Available: [PhysicalDevice(name='/physical_device:GPU:0', device_type='GPU')]\n",
            "2.6.0\n"
          ]
        }
      ]
    },
    {
      "cell_type": "markdown",
      "metadata": {
        "id": "X_bDPaU33Nmc"
      },
      "source": [
        "A continuación, cargamos las imágenes y creamos un vector del 0 al 9 en el que cada posición de asigna el nombre de cada prenda (class_names)"
      ]
    },
    {
      "cell_type": "code",
      "metadata": {
        "id": "r3AzS-hD_3q-"
      },
      "source": [
        "# 2.- CARGAMOS EL CONJUNTO DE DATOS MINIST EN KERAS\n",
        "\n",
        "from keras.datasets import fashion_mnist\n",
        "\n",
        "(train_images, train_labels), (test_images, test_labels) = fashion_mnist.load_data()"
      ],
      "execution_count": 36,
      "outputs": []
    },
    {
      "cell_type": "code",
      "metadata": {
        "id": "AhEnDfCoChqn"
      },
      "source": [
        "\n",
        "class_names = ['T-shirt/top', 'Trouser', 'Pullover', 'Dress', 'Coat',\n",
        "               'Sandal', 'Shirt', 'Sneaker', 'Bag', 'Ankle boot']"
      ],
      "execution_count": null,
      "outputs": []
    },
    {
      "cell_type": "markdown",
      "metadata": {
        "id": "YI2gP91VDmyG"
      },
      "source": [
        "Estudiamos y analizamos los datos de entrenamiento"
      ]
    },
    {
      "cell_type": "code",
      "metadata": {
        "colab": {
          "base_uri": "https://localhost:8080/"
        },
        "id": "62qhqxUaBIXC",
        "outputId": "cd611b96-648b-4bc6-e8d5-f29949628a5a"
      },
      "source": [
        "print(train_images.shape)"
      ],
      "execution_count": 3,
      "outputs": [
        {
          "output_type": "stream",
          "name": "stdout",
          "text": [
            "(60000, 28, 28)\n"
          ]
        }
      ]
    },
    {
      "cell_type": "code",
      "metadata": {
        "colab": {
          "base_uri": "https://localhost:8080/"
        },
        "id": "e9MZl4k-DvjU",
        "outputId": "9659d5fc-b963-4486-a410-09a9e996ecbc"
      },
      "source": [
        "# Vemos la matriz de la imagen número 5.000 (28x28)\n",
        "train_images[5000]"
      ],
      "execution_count": 4,
      "outputs": [
        {
          "output_type": "execute_result",
          "data": {
            "text/plain": [
              "array([[  0,   0,   0,   0,   0,   0,   0,   0,   0,   0,   0,   0,   0,\n",
              "          0,   0,   0,   0,   0,   0,   1,   0,   0,   0,   0,   0,   0,\n",
              "          0,   0],\n",
              "       [  0,   0,   0,   0,   0,   0,   0,   0,   0,   0,   0,  44, 127,\n",
              "        182, 185, 161, 120,  55,   0,   0,   0,   0,   0,   0,   0,   0,\n",
              "          0,   0],\n",
              "       [  0,   0,   0,   0,   0,   0,   0,   0,   0,  42, 198, 251, 255,\n",
              "        251, 249, 247, 255, 252, 214, 100,   0,   0,   0,   0,   0,   0,\n",
              "          0,   0],\n",
              "       [  0,   0,   0,   0,   0,   0,   2,   0,   0, 233, 252, 237, 239,\n",
              "        234, 237, 235, 237, 237, 254, 227,   0,   0,   0,   0,   1,   0,\n",
              "          0,   0],\n",
              "       [  0,   0,   0,   0,   0,   2,   0,   0,  16, 210, 225, 215, 175,\n",
              "        217, 216, 193, 196, 226, 221, 209,  50,   0,   0,   2,   0,   0,\n",
              "          0,   0],\n",
              "       [  0,   0,   0,   0,   2,   0,   0, 199, 229, 232, 230, 245, 204,\n",
              "        219, 253, 245, 207, 194, 223, 231, 236, 235,   0,   0,   3,   0,\n",
              "          0,   0],\n",
              "       [  0,   0,   0,   0,   1,   0, 137, 235, 204, 209, 201, 209, 234,\n",
              "        190, 234, 218, 215, 238, 239, 204, 189, 224, 154,   0,   0,   0,\n",
              "          0,   0],\n",
              "       [  0,   0,   0,   0,   0,   0, 194, 201, 200, 209, 202, 193, 205,\n",
              "        194, 183, 218, 231, 197, 172, 181, 193, 205, 199,   0,   0,   0,\n",
              "          0,   0],\n",
              "       [  0,   0,   0,   0,   0,   3, 212, 203, 188, 189, 196, 198, 198,\n",
              "        201, 196, 217, 179, 167, 183, 217, 197, 202, 219,  30,   0,   0,\n",
              "          0,   0],\n",
              "       [  0,   0,   0,   0,   0,  34, 225, 200, 194, 190, 188, 192, 196,\n",
              "        192, 170, 202, 190, 201, 195, 200, 201, 209, 227,  50,   0,   0,\n",
              "          0,   0],\n",
              "       [  0,   0,   0,   0,   0,  68, 225, 210, 211, 198, 192, 196, 204,\n",
              "        196, 181, 212, 197, 195, 192, 206, 220, 210, 229,  93,   0,   0,\n",
              "          0,   0],\n",
              "       [  0,   0,   0,   0,   0, 111, 223, 227, 253, 209, 196, 204, 211,\n",
              "        206, 183, 216, 206, 210, 203, 215, 244, 224, 227, 150,   0,   0,\n",
              "          0,   0],\n",
              "       [  0,   0,   0,   0,   0, 139, 225, 224, 255, 202, 206, 212, 209,\n",
              "        211, 190, 213, 202, 207, 206, 222, 255, 230, 220, 190,   0,   0,\n",
              "          0,   0],\n",
              "       [  0,   0,   0,   0,   0, 180, 226, 224, 255, 199, 204, 207, 214,\n",
              "        214, 190, 216, 206, 203, 205, 219, 243, 224, 214, 234,   0,   0,\n",
              "          0,   0],\n",
              "       [  0,   0,   0,   0,   0, 225, 223, 228, 254, 209, 206, 208, 213,\n",
              "        210, 191, 215, 207, 204, 208, 211, 249, 226, 214, 255,  38,   0,\n",
              "          0,   0],\n",
              "       [  0,   0,   0,   0,   0, 250, 232, 240, 239, 211, 203, 209, 205,\n",
              "        211, 197, 215, 208, 208, 214, 213, 239, 231, 219, 255,  81,   0,\n",
              "          0,   0],\n",
              "       [  0,   0,   0,   0,   0, 248, 236, 247, 240, 203, 200, 208, 206,\n",
              "        214, 193, 213, 212, 208, 212, 211, 243, 242, 225, 254,  66,   0,\n",
              "          0,   0],\n",
              "       [  0,   0,   0,   0,   0, 247, 230, 252, 226, 199, 211, 202, 211,\n",
              "        213, 182, 213, 212, 206, 202, 219, 207, 247, 222, 237, 104,   0,\n",
              "          0,   0],\n",
              "       [  0,   0,   0,   0,  10, 244, 219, 250, 205, 199, 209, 202, 209,\n",
              "        211, 189, 214, 206, 210, 200, 212, 154, 240, 208, 219, 140,   0,\n",
              "          0,   0],\n",
              "       [  0,   0,   0,   0,  21, 255, 222, 238, 184, 210, 192, 206, 209,\n",
              "        210, 189, 213, 211, 209, 192, 228, 155, 226, 238, 241, 166,   0,\n",
              "          0,   0],\n",
              "       [  0,   0,   0,   0,  37, 245, 226, 241, 150, 197, 189, 204, 209,\n",
              "        210, 183, 213, 213, 201, 184, 215, 146, 216, 236, 225, 154,   0,\n",
              "          0,   0],\n",
              "       [  0,   0,   0,   0,  58, 239, 227, 255, 158, 193, 195, 204, 209,\n",
              "        213, 180, 207, 217, 199, 194, 211, 158, 219, 236, 216, 151,   0,\n",
              "          0,   0],\n",
              "       [  0,   0,   0,   0,  68, 233, 226, 243, 139, 200, 193, 205, 210,\n",
              "        208, 180, 205, 212, 203, 196, 216, 157, 179, 255, 216, 155,   0,\n",
              "          0,   0],\n",
              "       [  0,   0,   0,   0,  81, 225, 224, 211, 138, 219, 185, 201, 213,\n",
              "        207, 197, 226, 212, 200, 190, 215, 183,  90, 255, 211, 147,   0,\n",
              "          0,   0],\n",
              "       [  0,   0,   0,   0,  91, 210, 230, 158, 114, 205, 187, 208, 209,\n",
              "        206, 193, 210, 211, 204, 195, 204, 181,  23, 255, 213, 158,   0,\n",
              "          0,   0],\n",
              "       [  0,   0,   0,   0,  87, 205, 232, 109, 164, 255, 214, 224, 222,\n",
              "        210, 197, 214, 225, 222, 211, 220, 217,   0, 234, 216, 169,   0,\n",
              "          0,   0],\n",
              "       [  0,   0,   0,   0,  92, 213, 232, 146,   5, 134, 151, 162, 170,\n",
              "        183, 182, 164, 166, 178, 162, 156,  98,   0, 240, 225, 210,   0,\n",
              "          0,   0],\n",
              "       [  0,   0,   0,   0,  43, 164, 206, 141,   0,   0,   0,   0,   0,\n",
              "          0,   0,   0,   0,   0,   0,   0,   0,   0, 127, 125,  76,   0,\n",
              "          0,   0]], dtype=uint8)"
            ]
          },
          "metadata": {},
          "execution_count": 4
        }
      ]
    },
    {
      "cell_type": "code",
      "metadata": {
        "colab": {
          "base_uri": "https://localhost:8080/"
        },
        "id": "WtyF8clTEA3r",
        "outputId": "22d64f5e-ffa2-4473-9420-bc8611acf17c"
      },
      "source": [
        "# Sacamos la etiqueta de la imagen nº 5000\n",
        "train_labels[5000]"
      ],
      "execution_count": 5,
      "outputs": [
        {
          "output_type": "execute_result",
          "data": {
            "text/plain": [
              "4"
            ]
          },
          "metadata": {},
          "execution_count": 5
        }
      ]
    },
    {
      "cell_type": "markdown",
      "metadata": {
        "id": "sYg8Oj-R4MLa"
      },
      "source": [
        "Pintamos la imagen 5000 usando matplotlib y vemos que su imagen corresponde con la etiqueta anterior, en este caso la etiqueta es 4 = Coat."
      ]
    },
    {
      "cell_type": "code",
      "metadata": {
        "colab": {
          "base_uri": "https://localhost:8080/",
          "height": 265
        },
        "id": "pEd7yIheBQM_",
        "outputId": "3cb72a21-eef5-48bb-c789-c09a1219d913"
      },
      "source": [
        "\n",
        "import matplotlib.pyplot as plt\n",
        "digit = train_images[5000]\n",
        "plt.imshow(digit, cmap=plt.cm.binary)\n",
        "plt.show()"
      ],
      "execution_count": 6,
      "outputs": [
        {
          "output_type": "display_data",
          "data": {
            "image/png": "[encoded data removed]",
            "text/plain": [
              "<Figure size 432x288 with 1 Axes>"
            ]
          },
          "metadata": {
            "needs_background": "light"
          }
        }
      ]
    },
    {
      "cell_type": "code",
      "metadata": {
        "colab": {
          "base_uri": "https://localhost:8080/"
        },
        "id": "VK13H_muCVfB",
        "outputId": "28e22f3a-2dae-4451-c03f-c602052a2d45"
      },
      "source": [
        "#VSacamos las etiquetas de todas las imagenes de entrenamiento\n",
        "train_labels"
      ],
      "execution_count": 7,
      "outputs": [
        {
          "output_type": "execute_result",
          "data": {
            "text/plain": [
              "array([9, 0, 0, ..., 3, 0, 5], dtype=uint8)"
            ]
          },
          "metadata": {},
          "execution_count": 7
        }
      ]
    },
    {
      "cell_type": "markdown",
      "metadata": {
        "id": "ODXEGqJ2FQGj"
      },
      "source": [
        "Estudiamos ahora los datos de prueba"
      ]
    },
    {
      "cell_type": "code",
      "metadata": {
        "colab": {
          "base_uri": "https://localhost:8080/"
        },
        "id": "7AGLoJY6FUro",
        "outputId": "27fcac96-da66-4867-af98-ebfaf89277f1"
      },
      "source": [
        "print(test_images.shape)"
      ],
      "execution_count": 8,
      "outputs": [
        {
          "output_type": "stream",
          "name": "stdout",
          "text": [
            "(10000, 28, 28)\n"
          ]
        }
      ]
    },
    {
      "cell_type": "code",
      "metadata": {
        "colab": {
          "base_uri": "https://localhost:8080/"
        },
        "id": "Hzpk9clJFhgN",
        "outputId": "fa7a8df9-c411-4173-ba11-3aeb9838501a"
      },
      "source": [
        "# Vemos la matriz de la imagen número 8.000 (28x28)\n",
        "test_images[8000]"
      ],
      "execution_count": 9,
      "outputs": [
        {
          "output_type": "execute_result",
          "data": {
            "text/plain": [
              "array([[  0,   0,   0,   0,   0,   0,   0,   0,   0,   0,   0,   0,   0,\n",
              "          0,   0,   0,   0,   0,   0,   0,   0,   0,   0,   0,   0,   0,\n",
              "          0,   0],\n",
              "       [  0,   0,   0,   0,   0,   0,   0,   0,   0,   0,   0,   0,   0,\n",
              "          0,   0,   0,   0,   0,   0,   0,   0,   0,   0,   0,   0,   0,\n",
              "          0,   0],\n",
              "       [  0,   0,   0,   0,   0,   0,   0,   0,   0,   0,   0,   0,   0,\n",
              "          0,   0,   0,   0,   0,   0,   0,   0,   0,   0,   0,   0,   0,\n",
              "          0,   0],\n",
              "       [  0,   0,   0,   0,   0,   0,   0,   0,   0,   0,   0,   0,   0,\n",
              "          0,   0,   0,   0,   0,   0,   0,   0,   0,   0,   0,   0,   0,\n",
              "          0,   0],\n",
              "       [  0,   0,   0,   0,   0,   0,   0,   0,   0,   0,   0,   0,   0,\n",
              "          0,   0,   0,   0,   0,   0,   0,   0,   0,   0,   0,   0,   0,\n",
              "          0,   0],\n",
              "       [  0,   0,   0,   0,   0,   0,   0,   0,   0,   0,   0,   0,   0,\n",
              "          0,   0,   0,   0,   0,   0,   0,   0,   0,   0,   0,   0,   0,\n",
              "          0,   0],\n",
              "       [  0,   0,   0,   0,   0,   0,   0,   0,   0,   0,   0,   0,   0,\n",
              "          0,   0,   0,   0,   0,   0,   0,   0,   0,   0,   0,   0,   0,\n",
              "          0,   0],\n",
              "       [  0,   0,   0,   0,   0,   0,   0,   0,   0,   0,   0,   0,   1,\n",
              "          0,   0,   0,  93, 153,   0,   0,   1,   0,   5,   7,   0,   1,\n",
              "          0,   0],\n",
              "       [  0,   0,   0,   0,   0,   0,   0,   0,   0,   0,   6,   0,   0,\n",
              "          0,   0, 148, 213, 229,  63,   0,   0,   0,   0,   0,   0,   0,\n",
              "         19,   0],\n",
              "       [  0,   0,   0,   0,   0,   0,   0,   0,   2,   0,   0,   0,   0,\n",
              "        165, 255, 225, 179, 196,  12,   0,   0,   0,   0, 172, 183, 100,\n",
              "        108,   0],\n",
              "       [  0,   0,   0,   0,   0,   0,   0,   0,   0,   0,  25, 108, 241,\n",
              "        222, 178, 178, 184, 192, 248,  57,   0,   0, 109, 228, 195, 174,\n",
              "          0,   0],\n",
              "       [  1,   0,   0,   0,   2,   3,   4,   0,   0,  97, 244, 215, 179,\n",
              "        152, 186, 207, 226, 217, 209, 255, 158,  96, 234, 201, 191, 191,\n",
              "         21,   0],\n",
              "       [  2,   3,   5,   0,   0,   0,   0,   9, 212, 219, 154, 123, 186,\n",
              "        203, 229, 241, 213, 211, 214, 211, 237, 250, 216, 191, 185, 208,\n",
              "         75,   0],\n",
              "       [  0,   0,   0,   0,   0,  14,  54, 133, 182, 143, 194, 217, 213,\n",
              "        211, 188, 171, 178, 218, 209, 212, 209, 196, 194, 185, 190, 189,\n",
              "         59,   0],\n",
              "       [  0,  28, 158, 198, 230, 210, 213, 200, 207, 218, 205, 197, 197,\n",
              "        205, 180, 214, 199, 208, 212, 214, 208, 194, 197, 202, 199, 182,\n",
              "         54,   0],\n",
              "       [ 66, 165, 169, 153, 168, 176, 173, 199, 203, 199, 196, 204, 213,\n",
              "        218, 218, 229, 226, 222, 222, 216, 202, 202, 199, 200, 194, 208,\n",
              "        156,   0],\n",
              "       [140, 187, 175, 176, 165, 166, 164, 158, 190, 215, 216, 211, 217,\n",
              "        210, 214, 207, 209, 208, 210, 200, 214, 205, 212, 210, 170, 170,\n",
              "        184,   0],\n",
              "       [ 38, 190, 177, 170, 187, 198, 196, 201, 196, 208, 198, 198, 191,\n",
              "        184, 188, 182, 187, 185, 174, 178, 170, 144, 137, 107, 131, 140,\n",
              "         50,   0],\n",
              "       [  0,  98, 183, 189, 178, 172, 164, 163, 164, 156, 115, 111, 104,\n",
              "        109, 132, 127,  96,  79, 112,  78,  96,  88,  90,  61, 102, 110,\n",
              "          0,  36],\n",
              "       [  0,   0,   1,  96, 154, 209, 218, 225, 211, 182, 187, 198, 174,\n",
              "        198, 214, 205, 194, 186, 234, 154, 163, 180, 163, 197, 179, 192,\n",
              "        180,  70],\n",
              "       [  0,   0,   0,   0,   0,   6,  36,  67,  73, 117,  98, 116, 124,\n",
              "        104,  57,  33,  34,  35,  39, 115, 130, 122, 121, 104,  90,  51,\n",
              "          0,   0],\n",
              "       [  0,   0,   0,   0,   0,   0,   0,   0,   0,   0,   0,   0,   0,\n",
              "          0,   0,   0,   0,   0,   0,   0,   0,   0,   0,   0,   0,   0,\n",
              "          0,   0],\n",
              "       [  0,   0,   0,   0,   0,   0,   0,   0,   0,   0,   0,   0,   0,\n",
              "          0,   0,   0,   0,   0,   0,   0,   0,   0,   0,   0,   0,   0,\n",
              "          0,   0],\n",
              "       [  0,   0,   0,   0,   0,   0,   0,   0,   0,   0,   0,   0,   0,\n",
              "          0,   0,   0,   0,   0,   0,   0,   0,   0,   0,   0,   0,   0,\n",
              "          0,   0],\n",
              "       [  0,   0,   0,   0,   0,   0,   0,   0,   0,   0,   0,   0,   0,\n",
              "          0,   0,   0,   0,   0,   0,   0,   0,   0,   0,   0,   0,   0,\n",
              "          0,   0],\n",
              "       [  0,   0,   0,   0,   0,   0,   0,   0,   0,   0,   0,   0,   0,\n",
              "          0,   0,   0,   0,   0,   0,   0,   0,   0,   0,   0,   0,   0,\n",
              "          0,   0],\n",
              "       [  0,   0,   0,   0,   0,   0,   0,   0,   0,   0,   0,   0,   0,\n",
              "          0,   0,   0,   0,   0,   0,   0,   0,   0,   0,   0,   0,   0,\n",
              "          0,   0],\n",
              "       [  0,   0,   0,   0,   0,   0,   0,   0,   0,   0,   0,   0,   0,\n",
              "          0,   0,   0,   0,   0,   0,   0,   0,   0,   0,   0,   0,   0,\n",
              "          0,   0]], dtype=uint8)"
            ]
          },
          "metadata": {},
          "execution_count": 9
        }
      ]
    },
    {
      "cell_type": "code",
      "metadata": {
        "colab": {
          "base_uri": "https://localhost:8080/"
        },
        "id": "CVV_dvK8FoPG",
        "outputId": "7823ee61-4b94-4b31-dfbd-d8904bd1b00c"
      },
      "source": [
        "# Vemos su etiqueta \n",
        "test_labels[8000]"
      ],
      "execution_count": 10,
      "outputs": [
        {
          "output_type": "execute_result",
          "data": {
            "text/plain": [
              "7"
            ]
          },
          "metadata": {},
          "execution_count": 10
        }
      ]
    },
    {
      "cell_type": "code",
      "metadata": {
        "colab": {
          "base_uri": "https://localhost:8080/",
          "height": 265
        },
        "id": "4UE6bd_TFu_1",
        "outputId": "9ac7635e-ca91-4b26-ce53-ab66db9207e6"
      },
      "source": [
        "# Veamos el elemento 9000 y lo pintamos usando matplotlib\n",
        "import matplotlib.pyplot as plt\n",
        "digit = test_images[8000]\n",
        "plt.imshow(digit, cmap=plt.cm.binary)\n",
        "plt.show()"
      ],
      "execution_count": 11,
      "outputs": [
        {
          "output_type": "display_data",
          "data": {
            "image/png": "[encoded data removed]",
            "text/plain": [
              "<Figure size 432x288 with 1 Axes>"
            ]
          },
          "metadata": {
            "needs_background": "light"
          }
        }
      ]
    },
    {
      "cell_type": "code",
      "metadata": {
        "colab": {
          "base_uri": "https://localhost:8080/"
        },
        "id": "z_LS4pHIF68J",
        "outputId": "4f591921-7cf3-4882-e9bc-c1817c1b7d58"
      },
      "source": [
        "#Vemos las etiquetas de todas las imagenes segun esten ordenadas\n",
        "test_labels"
      ],
      "execution_count": 12,
      "outputs": [
        {
          "output_type": "execute_result",
          "data": {
            "text/plain": [
              "array([9, 2, 1, ..., 8, 1, 5], dtype=uint8)"
            ]
          },
          "metadata": {},
          "execution_count": 12
        }
      ]
    },
    {
      "cell_type": "markdown",
      "metadata": {
        "id": "sWJfN8bZGCPN"
      },
      "source": [
        "#CONSTRUIMOS NUESTRA RNA\n"
      ]
    },
    {
      "cell_type": "markdown",
      "metadata": {
        "id": "U1AM84Qs64A7"
      },
      "source": [
        "Vamos a crear 8 modelos diferentes, para todos la red sera secuencial (sin ciclos) y tendrá dos capas tipo Dense (densamente conectadas). Cambiaremos el optimizador, la función de activación y el número de neuronas de la primera capa.\n",
        "\n",
        "Cada una de las neuronas de la capa de entrada están conectadas con los 784 píxeles = 28*28. Dolo lo definimos para la primera capa; para la segunda capa y posteriores, Keras lo deduce.\n",
        "\n",
        "Para la segunda capa, la función de activación será siempre **softmax** ya que necesitamos la probabilidad de la clase a la que pertenece y 10 neuronas ya que tenemos 10 clases de prendas."
      ]
    },
    {
      "cell_type": "markdown",
      "metadata": {
        "id": "yyplA3cM7-G3"
      },
      "source": [
        "Los cuatro últimos modelos tendrán todos 512 neuronas en la primera capa\n"
      ]
    },
    {
      "cell_type": "markdown",
      "metadata": {
        "id": "oybrQEEm6aes"
      },
      "source": [
        "**Modelo 5**"
      ]
    },
    {
      "cell_type": "code",
      "metadata": {
        "colab": {
          "base_uri": "https://localhost:8080/"
        },
        "id": "sM75Szl7GHFV",
        "outputId": "28a01573-0699-4c19-86fb-b7c923630d81"
      },
      "source": [
        "#Funcion activacion: relu\n",
        "#Optimizador: sgd\n",
        "from keras import models\n",
        "from keras import layers\n",
        "network5 = models.Sequential()\n",
        "network5.add(layers.Dense(512, activation='relu', input_shape=(28*28,), name = 'capa1'))\n",
        "network5.add(layers.Dense(10, activation='softmax', name = 'capa2'))\n",
        "network5.summary()"
      ],
      "execution_count": 13,
      "outputs": [
        {
          "output_type": "stream",
          "name": "stdout",
          "text": [
            "Model: \"sequential\"\n",
            "_________________________________________________________________\n",
            "Layer (type)                 Output Shape              Param #   \n",
            "=================================================================\n",
            "capa1 (Dense)                (None, 512)               401920    \n",
            "_________________________________________________________________\n",
            "capa2 (Dense)                (None, 10)                5130      \n",
            "=================================================================\n",
            "Total params: 407,050\n",
            "Trainable params: 407,050\n",
            "Non-trainable params: 0\n",
            "_________________________________________________________________\n"
          ]
        }
      ]
    },
    {
      "cell_type": "markdown",
      "metadata": {
        "id": "wjdmPDoA-gxX"
      },
      "source": [
        "Como podemos ver, de la primera capa salen 401920 resultados; esto se debe a: (28* 28)*512+512"
      ]
    },
    {
      "cell_type": "markdown",
      "metadata": {
        "id": "LNKsLGdv-laI"
      },
      "source": [
        "**Modelo 6**"
      ]
    },
    {
      "cell_type": "code",
      "metadata": {
        "id": "x-vBv9_YP3BX",
        "colab": {
          "base_uri": "https://localhost:8080/"
        },
        "outputId": "fbdc4eff-a79e-4adc-c0bd-f5880cc57391"
      },
      "source": [
        "#Funcion activacion: relu\n",
        "#Optimizador: rmsprop\n",
        "from keras import models\n",
        "from keras import layers\n",
        "network6 = models.Sequential()\n",
        "network6.add(layers.Dense(512, activation='relu', input_shape=(28*28,), name = 'capa1'))\n",
        "network6.add(layers.Dense(10, activation='softmax', name = 'capa2'))\n",
        "network6.summary()"
      ],
      "execution_count": 14,
      "outputs": [
        {
          "output_type": "stream",
          "name": "stdout",
          "text": [
            "Model: \"sequential_1\"\n",
            "_________________________________________________________________\n",
            "Layer (type)                 Output Shape              Param #   \n",
            "=================================================================\n",
            "capa1 (Dense)                (None, 512)               401920    \n",
            "_________________________________________________________________\n",
            "capa2 (Dense)                (None, 10)                5130      \n",
            "=================================================================\n",
            "Total params: 407,050\n",
            "Trainable params: 407,050\n",
            "Non-trainable params: 0\n",
            "_________________________________________________________________\n"
          ]
        }
      ]
    },
    {
      "cell_type": "markdown",
      "metadata": {
        "id": "Mqm3Og5w_CgS"
      },
      "source": [
        "**Modelo 7**"
      ]
    },
    {
      "cell_type": "code",
      "metadata": {
        "id": "uwNV4AraP-lS",
        "colab": {
          "base_uri": "https://localhost:8080/"
        },
        "outputId": "29b85b6e-7252-49ec-bf44-1edfe509340c"
      },
      "source": [
        "#Funcion activacion: sigmoid\n",
        "#Optimizador: sgd\n",
        "from keras import models\n",
        "from keras import layers\n",
        "network7 = models.Sequential()\n",
        "network7.add(layers.Dense(512, activation='sigmoid', input_shape=(28*28,), name = 'capa1'))\n",
        "network7.add(layers.Dense(10, activation='softmax', name = 'capa2'))\n",
        "network7.summary()"
      ],
      "execution_count": 15,
      "outputs": [
        {
          "output_type": "stream",
          "name": "stdout",
          "text": [
            "Model: \"sequential_2\"\n",
            "_________________________________________________________________\n",
            "Layer (type)                 Output Shape              Param #   \n",
            "=================================================================\n",
            "capa1 (Dense)                (None, 512)               401920    \n",
            "_________________________________________________________________\n",
            "capa2 (Dense)                (None, 10)                5130      \n",
            "=================================================================\n",
            "Total params: 407,050\n",
            "Trainable params: 407,050\n",
            "Non-trainable params: 0\n",
            "_________________________________________________________________\n"
          ]
        }
      ]
    },
    {
      "cell_type": "markdown",
      "metadata": {
        "id": "U8g-bk6n_NgQ"
      },
      "source": [
        "**Modelo 8**"
      ]
    },
    {
      "cell_type": "code",
      "metadata": {
        "id": "hUPJtZ6eQGHH",
        "colab": {
          "base_uri": "https://localhost:8080/"
        },
        "outputId": "1793151b-37e2-4c53-b074-2588baba22cc"
      },
      "source": [
        "#Funcion activacion: sigmoid\n",
        "#Optimizador: rmsprop\n",
        "from keras import models\n",
        "from keras import layers\n",
        "network8 = models.Sequential()\n",
        "network8.add(layers.Dense(512, activation='sigmoid', input_shape=(28*28,), name = 'capa1'))\n",
        "network8.add(layers.Dense(10, activation='softmax', name = 'capa2'))\n",
        "network8.summary()"
      ],
      "execution_count": 16,
      "outputs": [
        {
          "output_type": "stream",
          "name": "stdout",
          "text": [
            "Model: \"sequential_3\"\n",
            "_________________________________________________________________\n",
            "Layer (type)                 Output Shape              Param #   \n",
            "=================================================================\n",
            "capa1 (Dense)                (None, 512)               401920    \n",
            "_________________________________________________________________\n",
            "capa2 (Dense)                (None, 10)                5130      \n",
            "=================================================================\n",
            "Total params: 407,050\n",
            "Trainable params: 407,050\n",
            "Non-trainable params: 0\n",
            "_________________________________________________________________\n"
          ]
        }
      ]
    },
    {
      "cell_type": "markdown",
      "metadata": {
        "id": "nrRJmz7_AFun"
      },
      "source": [
        "#**COMPILAMOS**"
      ]
    },
    {
      "cell_type": "markdown",
      "metadata": {
        "id": "-_QD3ftLAzrz"
      },
      "source": [
        "Como algoritmo optimizador usamos tanto **rmsprop** (Root Mean Square Propagation) como **sgd** (Stocastic Gradient Descendent).\n",
        "\n",
        "Para la función de perdida elegimos **categorical_crossentropy** que se utiliza como señal de retroalimentación para aprender los tensores de peso y que la fase de entrenamiento intentará minimizar.\n",
        "\n",
        "Para la precisión utilizaremos **accuracy**: Solo tendremos en cuenta la fracción de imágenes que son correctamente clasificadas "
      ]
    },
    {
      "cell_type": "code",
      "metadata": {
        "id": "d1m6fRte_53v"
      },
      "source": [
        "network5.compile(optimizer='sgd', \n",
        "                loss='categorical_crossentropy',\n",
        "                metrics=['accuracy'])"
      ],
      "execution_count": 17,
      "outputs": []
    },
    {
      "cell_type": "code",
      "metadata": {
        "id": "niUJ5Txb_5ur"
      },
      "source": [
        "network6.compile(optimizer='rmsprop', \n",
        "                loss='categorical_crossentropy',\n",
        "                metrics=['accuracy'])"
      ],
      "execution_count": 18,
      "outputs": []
    },
    {
      "cell_type": "code",
      "metadata": {
        "id": "UcqqMkwi_5gx"
      },
      "source": [
        "network7.compile(optimizer='sgd', \n",
        "                loss='categorical_crossentropy',\n",
        "                metrics=['accuracy'])"
      ],
      "execution_count": 19,
      "outputs": []
    },
    {
      "cell_type": "code",
      "metadata": {
        "id": "rKw6wsvmQkp9"
      },
      "source": [
        "network8.compile(optimizer='rmsprop', \n",
        "                loss='categorical_crossentropy',\n",
        "                metrics=['accuracy'])"
      ],
      "execution_count": 20,
      "outputs": []
    },
    {
      "cell_type": "markdown",
      "metadata": {
        "id": "UZqgwKO2Bsfz"
      },
      "source": [
        "##PREPARAMOS LOS DATOS DE IMAGEN CON ALGUNA TRANSFORMACIÓN. NORMALIZACION"
      ]
    },
    {
      "cell_type": "markdown",
      "metadata": {
        "id": "0SVlAHsbB5p_"
      },
      "source": [
        "Antes del entrenamiento, preprocesaremos nuestros datos dándoles la forma que espera la red y escalando para que todos los valores estén en el intervalo [0, 1].Pasando de una matriz de forma (60000, 28, 28) con valores en el intervalo [0, 255] a una matriz de forma float32 con forma (60000, 28 * 28) con valores entre 0 y 1."
      ]
    },
    {
      "cell_type": "code",
      "metadata": {
        "colab": {
          "base_uri": "https://localhost:8080/"
        },
        "id": "VqTUWf0CZZm2",
        "outputId": "ee8693bc-5741-4e4b-97be-473227ea077e"
      },
      "source": [
        "# Los tensores transformados tienen la misma cantidad de datos total que el \n",
        "# tensor inicial\n",
        "train_images = train_images.reshape((60000, 28 * 28))\n",
        "train_images, len(train_images), train_images.shape, train_images[3000]"
      ],
      "execution_count": 21,
      "outputs": [
        {
          "output_type": "execute_result",
          "data": {
            "text/plain": [
              "(array([[0, 0, 0, ..., 0, 0, 0],\n",
              "        [0, 0, 0, ..., 0, 0, 0],\n",
              "        [0, 0, 0, ..., 0, 0, 0],\n",
              "        ...,\n",
              "        [0, 0, 0, ..., 0, 0, 0],\n",
              "        [0, 0, 0, ..., 0, 0, 0],\n",
              "        [0, 0, 0, ..., 0, 0, 0]], dtype=uint8),\n",
              " 60000,\n",
              " (60000, 784),\n",
              " array([  0,   0,   0,   0,   0,   0,   0,   0,   1,   1,   0,   0, 120,\n",
              "        131,  91, 147,  30,   0,   0,   1,   1,   0,   0,   0,   0,   0,\n",
              "          0,   0,   0,   0,   0,   0,   0,   0,   1,   3,   0,   0,   0,\n",
              "          0, 251, 199, 172, 195, 152,   0,   0,   0,   0,   3,   1,   0,\n",
              "          0,   0,   0,   0,   0,   0,   0,   0,   0,   0,   0,   0,   0,\n",
              "         43, 124, 193, 166, 239, 255, 216, 172, 228, 126,  61,   0,   0,\n",
              "          0,   0,   0,   0,   0,   0,   0,   0,   0,   0,   0,   0,   0,\n",
              "         96, 167, 155, 159, 171, 178, 211, 215, 210, 196, 189, 158, 164,\n",
              "        159, 108,   0,   0,   0,   0,   0,   0,   0,   0,   0,   0,   0,\n",
              "          0,  83, 157, 131, 117, 120, 148, 148, 145, 178, 159, 174, 160,\n",
              "        123, 132, 142, 172,  38,   0,   0,   0,   0,   0,   0,   0,   0,\n",
              "          0,   0,   0, 159, 128, 118, 120, 122, 112,  93, 124, 161, 109,\n",
              "        128, 128, 129, 146, 138, 167, 122,   0,   0,   0,   0,   0,   0,\n",
              "          0,   0,   0,   0,   0, 171, 135, 120, 114, 118, 119, 107, 125,\n",
              "        123, 117, 124, 124, 119, 145, 147, 166, 148,   0,   0,   0,   0,\n",
              "          0,   0,   0,   0,   0,   0,   4, 171, 138, 126, 120, 117, 118,\n",
              "        102, 122, 145, 111, 120, 122, 120, 152, 154, 155, 170,   0,   0,\n",
              "          0,   0,   0,   0,   0,   0,   0,   0,  31, 170, 129, 138, 125,\n",
              "        113, 106, 103, 118, 137, 108, 135, 130, 158, 182, 138, 143, 186,\n",
              "          0,   0,   0,   0,   0,   0,   0,   0,   0,   0,  58, 163, 114,\n",
              "        137, 143, 119, 103, 100, 109, 118, 109, 129, 134, 172, 181, 131,\n",
              "        136, 190,   0,   0,   0,   0,   0,   0,   0,   0,   0,   0,  76,\n",
              "        160, 113, 141, 148, 128, 111, 101, 116, 137, 111, 131, 142, 167,\n",
              "        183, 136, 120, 186,  12,   0,   0,   0,   0,   0,   0,   0,   0,\n",
              "          0, 100, 148, 108, 147, 147, 134, 120, 105, 116, 131, 116, 136,\n",
              "        137, 165, 192, 137, 113, 187,  30,   0,   0,   0,   0,   0,   0,\n",
              "          0,   0,   0, 114, 143, 108, 158, 147, 130, 125, 106, 114, 122,\n",
              "        119, 129, 134, 160, 196, 136, 109, 182,  51,   0,   0,   0,   0,\n",
              "          0,   0,   0,   0,   0, 120, 140, 117, 151, 148, 131, 124, 109,\n",
              "        120, 143, 120, 130, 128, 159, 188, 111, 108, 178,  66,   0,   0,\n",
              "          0,   0,   0,   0,   0,   0,   0, 125, 129, 128, 112, 145, 140,\n",
              "        122, 113, 118, 134, 117, 132, 128, 166, 157,  91, 120, 170,  74,\n",
              "          0,   0,   0,   0,   0,   0,   0,   0,   0, 126, 123, 138,  74,\n",
              "        140, 143, 124, 111, 112, 126, 120, 130, 129, 175, 120,  88, 128,\n",
              "        164,  91,   0,   0,   0,   0,   0,   0,   0,   0,   0, 124, 123,\n",
              "        157,  45, 145, 143, 124, 113, 119, 148, 122, 131, 129, 183,  90,\n",
              "         73, 137, 155,  99,   0,   0,   0,   0,   0,   0,   0,   0,   0,\n",
              "        118, 122, 167,   0, 143, 149, 122, 112, 118, 137, 116, 132, 126,\n",
              "        183,  73,  50, 152, 147, 101,   0,   0,   0,   0,   0,   0,   0,\n",
              "          0,   0, 111, 128, 164,   0, 142, 151, 122, 111, 117, 132, 120,\n",
              "        136, 125, 182,  90,  18, 164, 145, 107,   0,   0,   0,   0,   0,\n",
              "          0,   0,   0,   0, 109, 132, 158,   0, 146, 148, 120, 108, 125,\n",
              "        157, 120, 136, 131, 176, 111,   0, 164, 143, 118,   0,   0,   0,\n",
              "          0,   0,   0,   0,   0,   0, 111, 141, 140,   0, 148, 149, 120,\n",
              "        114, 123, 137, 124, 137, 131, 171, 135,   0, 157, 147, 125,   0,\n",
              "          0,   0,   0,   0,   0,   0,   0,   0, 111, 154, 111,   0, 155,\n",
              "        148, 118, 116, 124, 143, 123, 131, 129, 167, 155,   0, 129, 157,\n",
              "        129,   0,   0,   0,   0,   0,   0,   0,   0,   0, 109, 155,  87,\n",
              "          0, 157, 145, 119, 117, 126, 154, 126, 130, 123, 161, 160,   0,\n",
              "         97, 163, 130,   0,   0,   0,   0,   0,   0,   0,   0,   0, 124,\n",
              "        142,  54,   0, 149, 141, 119, 119, 124, 136, 129, 126, 120, 153,\n",
              "        175,   0,  76, 145, 137,   0,   0,   0,   0,   0,   0,   0,   0,\n",
              "          0, 136, 151,  47,   0, 149, 137, 119, 118, 126, 143, 132, 130,\n",
              "        123, 153, 172,   0,  66, 148, 154,   0,   0,   0,   0,   0,   0,\n",
              "          0,   0,   0, 109, 174,  48,   0, 154, 138, 119, 117, 124, 138,\n",
              "        130, 129, 125, 159, 167,   0,  58, 174, 128,   0,   0,   0,   0,\n",
              "          0,   0,   0,   0,   0,   0,   0,   0,   0,  85, 182, 147, 136,\n",
              "        143, 158, 146, 148, 153, 199,  70,   0,   0,   0,   0,   0,   0,\n",
              "          0,   0,   0,   0,   0,   0,   0,   0,   0,   0,   0,   0,  26,\n",
              "         54,  72,  83,  96,  85,  80,  61,  14,   0,   0,   0,   0,   0,\n",
              "          0,   0,   0,   0], dtype=uint8))"
            ]
          },
          "metadata": {},
          "execution_count": 21
        }
      ]
    },
    {
      "cell_type": "code",
      "metadata": {
        "colab": {
          "base_uri": "https://localhost:8080/"
        },
        "id": "2Gv3HJbOZhxd",
        "outputId": "c9442c42-fd4a-471b-883e-ece21c88ac81"
      },
      "source": [
        "train_images = train_images.astype('float32') / 255\n",
        "train_images, len(train_images), train_images.shape, train_images[3000]"
      ],
      "execution_count": 22,
      "outputs": [
        {
          "output_type": "execute_result",
          "data": {
            "text/plain": [
              "(array([[0., 0., 0., ..., 0., 0., 0.],\n",
              "        [0., 0., 0., ..., 0., 0., 0.],\n",
              "        [0., 0., 0., ..., 0., 0., 0.],\n",
              "        ...,\n",
              "        [0., 0., 0., ..., 0., 0., 0.],\n",
              "        [0., 0., 0., ..., 0., 0., 0.],\n",
              "        [0., 0., 0., ..., 0., 0., 0.]], dtype=float32),\n",
              " 60000,\n",
              " (60000, 784),\n",
              " array([0.        , 0.        , 0.        , 0.        , 0.        ,\n",
              "        0.        , 0.        , 0.        , 0.00392157, 0.00392157,\n",
              "        0.        , 0.        , 0.47058824, 0.5137255 , 0.35686275,\n",
              "        0.5764706 , 0.11764706, 0.        , 0.        , 0.00392157,\n",
              "        0.00392157, 0.        , 0.        , 0.        , 0.        ,\n",
              "        0.        , 0.        , 0.        , 0.        , 0.        ,\n",
              "        0.        , 0.        , 0.        , 0.        , 0.00392157,\n",
              "        0.01176471, 0.        , 0.        , 0.        , 0.        ,\n",
              "        0.9843137 , 0.78039217, 0.6745098 , 0.7647059 , 0.59607846,\n",
              "        0.        , 0.        , 0.        , 0.        , 0.01176471,\n",
              "        0.00392157, 0.        , 0.        , 0.        , 0.        ,\n",
              "        0.        , 0.        , 0.        , 0.        , 0.        ,\n",
              "        0.        , 0.        , 0.        , 0.        , 0.        ,\n",
              "        0.16862746, 0.4862745 , 0.75686276, 0.6509804 , 0.9372549 ,\n",
              "        1.        , 0.84705883, 0.6745098 , 0.89411765, 0.49411765,\n",
              "        0.23921569, 0.        , 0.        , 0.        , 0.        ,\n",
              "        0.        , 0.        , 0.        , 0.        , 0.        ,\n",
              "        0.        , 0.        , 0.        , 0.        , 0.        ,\n",
              "        0.        , 0.3764706 , 0.654902  , 0.60784316, 0.62352943,\n",
              "        0.67058825, 0.69803923, 0.827451  , 0.84313726, 0.8235294 ,\n",
              "        0.76862746, 0.7411765 , 0.61960787, 0.6431373 , 0.62352943,\n",
              "        0.42352942, 0.        , 0.        , 0.        , 0.        ,\n",
              "        0.        , 0.        , 0.        , 0.        , 0.        ,\n",
              "        0.        , 0.        , 0.        , 0.3254902 , 0.6156863 ,\n",
              "        0.5137255 , 0.45882353, 0.47058824, 0.5803922 , 0.5803922 ,\n",
              "        0.5686275 , 0.69803923, 0.62352943, 0.68235296, 0.627451  ,\n",
              "        0.48235294, 0.5176471 , 0.5568628 , 0.6745098 , 0.14901961,\n",
              "        0.        , 0.        , 0.        , 0.        , 0.        ,\n",
              "        0.        , 0.        , 0.        , 0.        , 0.        ,\n",
              "        0.        , 0.62352943, 0.5019608 , 0.4627451 , 0.47058824,\n",
              "        0.47843137, 0.4392157 , 0.3647059 , 0.4862745 , 0.6313726 ,\n",
              "        0.42745098, 0.5019608 , 0.5019608 , 0.5058824 , 0.57254905,\n",
              "        0.5411765 , 0.654902  , 0.47843137, 0.        , 0.        ,\n",
              "        0.        , 0.        , 0.        , 0.        , 0.        ,\n",
              "        0.        , 0.        , 0.        , 0.        , 0.67058825,\n",
              "        0.5294118 , 0.47058824, 0.44705883, 0.4627451 , 0.46666667,\n",
              "        0.41960785, 0.49019608, 0.48235294, 0.45882353, 0.4862745 ,\n",
              "        0.4862745 , 0.46666667, 0.5686275 , 0.5764706 , 0.6509804 ,\n",
              "        0.5803922 , 0.        , 0.        , 0.        , 0.        ,\n",
              "        0.        , 0.        , 0.        , 0.        , 0.        ,\n",
              "        0.        , 0.01568628, 0.67058825, 0.5411765 , 0.49411765,\n",
              "        0.47058824, 0.45882353, 0.4627451 , 0.4       , 0.47843137,\n",
              "        0.5686275 , 0.43529412, 0.47058824, 0.47843137, 0.47058824,\n",
              "        0.59607846, 0.6039216 , 0.60784316, 0.6666667 , 0.        ,\n",
              "        0.        , 0.        , 0.        , 0.        , 0.        ,\n",
              "        0.        , 0.        , 0.        , 0.        , 0.12156863,\n",
              "        0.6666667 , 0.5058824 , 0.5411765 , 0.49019608, 0.44313726,\n",
              "        0.41568628, 0.40392157, 0.4627451 , 0.5372549 , 0.42352942,\n",
              "        0.5294118 , 0.50980395, 0.61960787, 0.7137255 , 0.5411765 ,\n",
              "        0.56078434, 0.7294118 , 0.        , 0.        , 0.        ,\n",
              "        0.        , 0.        , 0.        , 0.        , 0.        ,\n",
              "        0.        , 0.        , 0.22745098, 0.6392157 , 0.44705883,\n",
              "        0.5372549 , 0.56078434, 0.46666667, 0.40392157, 0.39215687,\n",
              "        0.42745098, 0.4627451 , 0.42745098, 0.5058824 , 0.5254902 ,\n",
              "        0.6745098 , 0.70980394, 0.5137255 , 0.53333336, 0.74509805,\n",
              "        0.        , 0.        , 0.        , 0.        , 0.        ,\n",
              "        0.        , 0.        , 0.        , 0.        , 0.        ,\n",
              "        0.29803923, 0.627451  , 0.44313726, 0.5529412 , 0.5803922 ,\n",
              "        0.5019608 , 0.43529412, 0.39607844, 0.45490196, 0.5372549 ,\n",
              "        0.43529412, 0.5137255 , 0.5568628 , 0.654902  , 0.7176471 ,\n",
              "        0.53333336, 0.47058824, 0.7294118 , 0.04705882, 0.        ,\n",
              "        0.        , 0.        , 0.        , 0.        , 0.        ,\n",
              "        0.        , 0.        , 0.        , 0.39215687, 0.5803922 ,\n",
              "        0.42352942, 0.5764706 , 0.5764706 , 0.5254902 , 0.47058824,\n",
              "        0.4117647 , 0.45490196, 0.5137255 , 0.45490196, 0.53333336,\n",
              "        0.5372549 , 0.64705884, 0.7529412 , 0.5372549 , 0.44313726,\n",
              "        0.73333335, 0.11764706, 0.        , 0.        , 0.        ,\n",
              "        0.        , 0.        , 0.        , 0.        , 0.        ,\n",
              "        0.        , 0.44705883, 0.56078434, 0.42352942, 0.61960787,\n",
              "        0.5764706 , 0.50980395, 0.49019608, 0.41568628, 0.44705883,\n",
              "        0.47843137, 0.46666667, 0.5058824 , 0.5254902 , 0.627451  ,\n",
              "        0.76862746, 0.53333336, 0.42745098, 0.7137255 , 0.2       ,\n",
              "        0.        , 0.        , 0.        , 0.        , 0.        ,\n",
              "        0.        , 0.        , 0.        , 0.        , 0.47058824,\n",
              "        0.54901963, 0.45882353, 0.5921569 , 0.5803922 , 0.5137255 ,\n",
              "        0.4862745 , 0.42745098, 0.47058824, 0.56078434, 0.47058824,\n",
              "        0.50980395, 0.5019608 , 0.62352943, 0.7372549 , 0.43529412,\n",
              "        0.42352942, 0.69803923, 0.25882354, 0.        , 0.        ,\n",
              "        0.        , 0.        , 0.        , 0.        , 0.        ,\n",
              "        0.        , 0.        , 0.49019608, 0.5058824 , 0.5019608 ,\n",
              "        0.4392157 , 0.5686275 , 0.54901963, 0.47843137, 0.44313726,\n",
              "        0.4627451 , 0.5254902 , 0.45882353, 0.5176471 , 0.5019608 ,\n",
              "        0.6509804 , 0.6156863 , 0.35686275, 0.47058824, 0.6666667 ,\n",
              "        0.2901961 , 0.        , 0.        , 0.        , 0.        ,\n",
              "        0.        , 0.        , 0.        , 0.        , 0.        ,\n",
              "        0.49411765, 0.48235294, 0.5411765 , 0.2901961 , 0.54901963,\n",
              "        0.56078434, 0.4862745 , 0.43529412, 0.4392157 , 0.49411765,\n",
              "        0.47058824, 0.50980395, 0.5058824 , 0.6862745 , 0.47058824,\n",
              "        0.34509805, 0.5019608 , 0.6431373 , 0.35686275, 0.        ,\n",
              "        0.        , 0.        , 0.        , 0.        , 0.        ,\n",
              "        0.        , 0.        , 0.        , 0.4862745 , 0.48235294,\n",
              "        0.6156863 , 0.1764706 , 0.5686275 , 0.56078434, 0.4862745 ,\n",
              "        0.44313726, 0.46666667, 0.5803922 , 0.47843137, 0.5137255 ,\n",
              "        0.5058824 , 0.7176471 , 0.3529412 , 0.28627452, 0.5372549 ,\n",
              "        0.60784316, 0.3882353 , 0.        , 0.        , 0.        ,\n",
              "        0.        , 0.        , 0.        , 0.        , 0.        ,\n",
              "        0.        , 0.4627451 , 0.47843137, 0.654902  , 0.        ,\n",
              "        0.56078434, 0.58431375, 0.47843137, 0.4392157 , 0.4627451 ,\n",
              "        0.5372549 , 0.45490196, 0.5176471 , 0.49411765, 0.7176471 ,\n",
              "        0.28627452, 0.19607843, 0.59607846, 0.5764706 , 0.39607844,\n",
              "        0.        , 0.        , 0.        , 0.        , 0.        ,\n",
              "        0.        , 0.        , 0.        , 0.        , 0.43529412,\n",
              "        0.5019608 , 0.6431373 , 0.        , 0.5568628 , 0.5921569 ,\n",
              "        0.47843137, 0.43529412, 0.45882353, 0.5176471 , 0.47058824,\n",
              "        0.53333336, 0.49019608, 0.7137255 , 0.3529412 , 0.07058824,\n",
              "        0.6431373 , 0.5686275 , 0.41960785, 0.        , 0.        ,\n",
              "        0.        , 0.        , 0.        , 0.        , 0.        ,\n",
              "        0.        , 0.        , 0.42745098, 0.5176471 , 0.61960787,\n",
              "        0.        , 0.57254905, 0.5803922 , 0.47058824, 0.42352942,\n",
              "        0.49019608, 0.6156863 , 0.47058824, 0.53333336, 0.5137255 ,\n",
              "        0.6901961 , 0.43529412, 0.        , 0.6431373 , 0.56078434,\n",
              "        0.4627451 , 0.        , 0.        , 0.        , 0.        ,\n",
              "        0.        , 0.        , 0.        , 0.        , 0.        ,\n",
              "        0.43529412, 0.5529412 , 0.54901963, 0.        , 0.5803922 ,\n",
              "        0.58431375, 0.47058824, 0.44705883, 0.48235294, 0.5372549 ,\n",
              "        0.4862745 , 0.5372549 , 0.5137255 , 0.67058825, 0.5294118 ,\n",
              "        0.        , 0.6156863 , 0.5764706 , 0.49019608, 0.        ,\n",
              "        0.        , 0.        , 0.        , 0.        , 0.        ,\n",
              "        0.        , 0.        , 0.        , 0.43529412, 0.6039216 ,\n",
              "        0.43529412, 0.        , 0.60784316, 0.5803922 , 0.4627451 ,\n",
              "        0.45490196, 0.4862745 , 0.56078434, 0.48235294, 0.5137255 ,\n",
              "        0.5058824 , 0.654902  , 0.60784316, 0.        , 0.5058824 ,\n",
              "        0.6156863 , 0.5058824 , 0.        , 0.        , 0.        ,\n",
              "        0.        , 0.        , 0.        , 0.        , 0.        ,\n",
              "        0.        , 0.42745098, 0.60784316, 0.34117648, 0.        ,\n",
              "        0.6156863 , 0.5686275 , 0.46666667, 0.45882353, 0.49411765,\n",
              "        0.6039216 , 0.49411765, 0.50980395, 0.48235294, 0.6313726 ,\n",
              "        0.627451  , 0.        , 0.38039216, 0.6392157 , 0.50980395,\n",
              "        0.        , 0.        , 0.        , 0.        , 0.        ,\n",
              "        0.        , 0.        , 0.        , 0.        , 0.4862745 ,\n",
              "        0.5568628 , 0.21176471, 0.        , 0.58431375, 0.5529412 ,\n",
              "        0.46666667, 0.46666667, 0.4862745 , 0.53333336, 0.5058824 ,\n",
              "        0.49411765, 0.47058824, 0.6       , 0.6862745 , 0.        ,\n",
              "        0.29803923, 0.5686275 , 0.5372549 , 0.        , 0.        ,\n",
              "        0.        , 0.        , 0.        , 0.        , 0.        ,\n",
              "        0.        , 0.        , 0.53333336, 0.5921569 , 0.18431373,\n",
              "        0.        , 0.58431375, 0.5372549 , 0.46666667, 0.4627451 ,\n",
              "        0.49411765, 0.56078434, 0.5176471 , 0.50980395, 0.48235294,\n",
              "        0.6       , 0.6745098 , 0.        , 0.25882354, 0.5803922 ,\n",
              "        0.6039216 , 0.        , 0.        , 0.        , 0.        ,\n",
              "        0.        , 0.        , 0.        , 0.        , 0.        ,\n",
              "        0.42745098, 0.68235296, 0.1882353 , 0.        , 0.6039216 ,\n",
              "        0.5411765 , 0.46666667, 0.45882353, 0.4862745 , 0.5411765 ,\n",
              "        0.50980395, 0.5058824 , 0.49019608, 0.62352943, 0.654902  ,\n",
              "        0.        , 0.22745098, 0.68235296, 0.5019608 , 0.        ,\n",
              "        0.        , 0.        , 0.        , 0.        , 0.        ,\n",
              "        0.        , 0.        , 0.        , 0.        , 0.        ,\n",
              "        0.        , 0.        , 0.33333334, 0.7137255 , 0.5764706 ,\n",
              "        0.53333336, 0.56078434, 0.61960787, 0.57254905, 0.5803922 ,\n",
              "        0.6       , 0.78039217, 0.27450982, 0.        , 0.        ,\n",
              "        0.        , 0.        , 0.        , 0.        , 0.        ,\n",
              "        0.        , 0.        , 0.        , 0.        , 0.        ,\n",
              "        0.        , 0.        , 0.        , 0.        , 0.        ,\n",
              "        0.        , 0.10196079, 0.21176471, 0.28235295, 0.3254902 ,\n",
              "        0.3764706 , 0.33333334, 0.3137255 , 0.23921569, 0.05490196,\n",
              "        0.        , 0.        , 0.        , 0.        , 0.        ,\n",
              "        0.        , 0.        , 0.        , 0.        ], dtype=float32))"
            ]
          },
          "metadata": {},
          "execution_count": 22
        }
      ]
    },
    {
      "cell_type": "code",
      "metadata": {
        "id": "Ke16AU59ZvNo"
      },
      "source": [
        "test_images = test_images.reshape((10000, 28 * 28))\n",
        "test_images = test_images.astype('float32') / 255"
      ],
      "execution_count": 23,
      "outputs": []
    },
    {
      "cell_type": "markdown",
      "metadata": {
        "id": "FSRvw7UXCpLv"
      },
      "source": [
        "##Preparación de etiquetas"
      ]
    },
    {
      "cell_type": "markdown",
      "metadata": {
        "id": "uxRe5M7ACswv"
      },
      "source": [
        "También tenemos que codificar categoricamente las etiquetas. Usaremos el **one-hot encoding**, que consiste en transformar las etiquetas en un vector de tantos ceros como el número de etiquetas distinta, y que contiene el valor de 1 en el índice que le corresponde al valor de la etiqueta:"
      ]
    },
    {
      "cell_type": "code",
      "metadata": {
        "colab": {
          "base_uri": "https://localhost:8080/"
        },
        "id": "zsj-uI7GZ8iA",
        "outputId": "fa359f47-2e40-4561-ca67-e36fc3064d6d"
      },
      "source": [
        "# from keras import utils\n",
        "# from keras.utils import to_categorical\n",
        "from keras.utils.np_utils import to_categorical\n",
        "train_labels = to_categorical(train_labels)\n",
        "test_labels = to_categorical(test_labels)\n",
        "train_labels[5000] \n"
      ],
      "execution_count": 24,
      "outputs": [
        {
          "output_type": "execute_result",
          "data": {
            "text/plain": [
              "array([0., 0., 0., 0., 1., 0., 0., 0., 0., 0.], dtype=float32)"
            ]
          },
          "metadata": {},
          "execution_count": 24
        }
      ]
    },
    {
      "cell_type": "markdown",
      "metadata": {
        "id": "_hzZ9RxUDDwJ"
      },
      "source": [
        "Como hemos visto antes, la imagen 5000 corresponde con la etiqueta 4, y como podemos observar, el 1 aparece en la posición 4 del vector."
      ]
    },
    {
      "cell_type": "code",
      "metadata": {
        "colab": {
          "base_uri": "https://localhost:8080/"
        },
        "id": "YS-GMLs2aBQz",
        "outputId": "fb2a5678-42bf-4c63-bd62-cbcfbd93aded"
      },
      "source": [
        "#Caso 5\n",
        "network5.fit(train_images, train_labels, epochs=5, batch_size=128)"
      ],
      "execution_count": 25,
      "outputs": [
        {
          "output_type": "stream",
          "name": "stdout",
          "text": [
            "Epoch 1/5\n",
            "469/469 [==============================] - 4s 3ms/step - loss: 1.0272 - accuracy: 0.6890\n",
            "Epoch 2/5\n",
            "469/469 [==============================] - 2s 3ms/step - loss: 0.6597 - accuracy: 0.7891\n",
            "Epoch 3/5\n",
            "469/469 [==============================] - 2s 3ms/step - loss: 0.5820 - accuracy: 0.8117\n",
            "Epoch 4/5\n",
            "469/469 [==============================] - 2s 3ms/step - loss: 0.5404 - accuracy: 0.8219\n",
            "Epoch 5/5\n",
            "469/469 [==============================] - 2s 3ms/step - loss: 0.5133 - accuracy: 0.8300\n"
          ]
        },
        {
          "output_type": "execute_result",
          "data": {
            "text/plain": [
              "<keras.callbacks.History at 0x7fada56ae7d0>"
            ]
          },
          "metadata": {},
          "execution_count": 25
        }
      ]
    },
    {
      "cell_type": "code",
      "metadata": {
        "colab": {
          "base_uri": "https://localhost:8080/"
        },
        "id": "fNpPHtf4aQHf",
        "outputId": "d8bc3483-0bb0-4757-9dd2-e0fe38014bb6"
      },
      "source": [
        "network6.fit(train_images, train_labels, epochs=5, batch_size=128)"
      ],
      "execution_count": 26,
      "outputs": [
        {
          "output_type": "stream",
          "name": "stdout",
          "text": [
            "Epoch 1/5\n",
            "469/469 [==============================] - 2s 4ms/step - loss: 0.5620 - accuracy: 0.8023\n",
            "Epoch 2/5\n",
            "469/469 [==============================] - 2s 4ms/step - loss: 0.3810 - accuracy: 0.8597\n",
            "Epoch 3/5\n",
            "469/469 [==============================] - 2s 4ms/step - loss: 0.3349 - accuracy: 0.8772\n",
            "Epoch 4/5\n",
            "469/469 [==============================] - 2s 4ms/step - loss: 0.3096 - accuracy: 0.8849\n",
            "Epoch 5/5\n",
            "469/469 [==============================] - 2s 4ms/step - loss: 0.2905 - accuracy: 0.8939\n"
          ]
        },
        {
          "output_type": "execute_result",
          "data": {
            "text/plain": [
              "<keras.callbacks.History at 0x7fada55f8050>"
            ]
          },
          "metadata": {},
          "execution_count": 26
        }
      ]
    },
    {
      "cell_type": "code",
      "metadata": {
        "colab": {
          "base_uri": "https://localhost:8080/"
        },
        "id": "y1ReFXMLaTpC",
        "outputId": "d2dc21f6-11ab-4087-ee51-45416e888523"
      },
      "source": [
        "network7.fit(train_images, train_labels, epochs=5, batch_size=128)"
      ],
      "execution_count": 27,
      "outputs": [
        {
          "output_type": "stream",
          "name": "stdout",
          "text": [
            "Epoch 1/5\n",
            "469/469 [==============================] - 2s 3ms/step - loss: 1.6967 - accuracy: 0.5954\n",
            "Epoch 2/5\n",
            "469/469 [==============================] - 2s 3ms/step - loss: 1.1276 - accuracy: 0.7110\n",
            "Epoch 3/5\n",
            "469/469 [==============================] - 2s 3ms/step - loss: 0.9233 - accuracy: 0.7322\n",
            "Epoch 4/5\n",
            "469/469 [==============================] - 2s 3ms/step - loss: 0.8215 - accuracy: 0.7435\n",
            "Epoch 5/5\n",
            "469/469 [==============================] - 2s 3ms/step - loss: 0.7601 - accuracy: 0.7535\n"
          ]
        },
        {
          "output_type": "execute_result",
          "data": {
            "text/plain": [
              "<keras.callbacks.History at 0x7fada5517a10>"
            ]
          },
          "metadata": {},
          "execution_count": 27
        }
      ]
    },
    {
      "cell_type": "code",
      "metadata": {
        "colab": {
          "base_uri": "https://localhost:8080/"
        },
        "id": "DL95dy3TaWgb",
        "outputId": "d5fce23f-70d9-4e79-8845-04a503a6ea8d"
      },
      "source": [
        "network8.fit(train_images, train_labels, epochs=5, batch_size=128)"
      ],
      "execution_count": 28,
      "outputs": [
        {
          "output_type": "stream",
          "name": "stdout",
          "text": [
            "Epoch 1/5\n",
            "469/469 [==============================] - 2s 4ms/step - loss: 0.5849 - accuracy: 0.7932\n",
            "Epoch 2/5\n",
            "469/469 [==============================] - 2s 4ms/step - loss: 0.4271 - accuracy: 0.8448\n",
            "Epoch 3/5\n",
            "469/469 [==============================] - 2s 4ms/step - loss: 0.3872 - accuracy: 0.8601\n",
            "Epoch 4/5\n",
            "469/469 [==============================] - 2s 4ms/step - loss: 0.3600 - accuracy: 0.8685\n",
            "Epoch 5/5\n",
            "469/469 [==============================] - 2s 4ms/step - loss: 0.3378 - accuracy: 0.8759\n"
          ]
        },
        {
          "output_type": "execute_result",
          "data": {
            "text/plain": [
              "<keras.callbacks.History at 0x7fada53fcc50>"
            ]
          },
          "metadata": {},
          "execution_count": 28
        }
      ]
    },
    {
      "cell_type": "code",
      "metadata": {
        "colab": {
          "base_uri": "https://localhost:8080/"
        },
        "id": "RR11VhpydMrE",
        "outputId": "5faf40ba-ff6f-4f7f-b413-7d9e4c32ec8e"
      },
      "source": [
        "test_loss, test_acc = network5.evaluate(test_images, test_labels)\n",
        "test_loss, test_acc = network6.evaluate(test_images, test_labels)\n",
        "test_loss, test_acc = network7.evaluate(test_images, test_labels)\n",
        "test_loss, test_acc = network8.evaluate(test_images, test_labels)"
      ],
      "execution_count": 29,
      "outputs": [
        {
          "output_type": "stream",
          "name": "stdout",
          "text": [
            "313/313 [==============================] - 1s 3ms/step - loss: 0.5265 - accuracy: 0.8216\n",
            "313/313 [==============================] - 1s 3ms/step - loss: 0.4617 - accuracy: 0.8382\n",
            "313/313 [==============================] - 1s 3ms/step - loss: 0.7497 - accuracy: 0.7475\n",
            "313/313 [==============================] - 1s 3ms/step - loss: 0.4478 - accuracy: 0.8296\n"
          ]
        }
      ]
    },
    {
      "cell_type": "code",
      "metadata": {
        "colab": {
          "base_uri": "https://localhost:8080/"
        },
        "id": "gcK6AcBAdef5",
        "outputId": "109b0503-7cee-48c6-ae95-26d760bf238c"
      },
      "source": [
        "print('test_acc:', test_acc)"
      ],
      "execution_count": 30,
      "outputs": [
        {
          "output_type": "stream",
          "name": "stdout",
          "text": [
            "test_acc: 0.8295999765396118\n"
          ]
        }
      ]
    },
    {
      "cell_type": "code",
      "metadata": {
        "colab": {
          "base_uri": "https://localhost:8080/",
          "height": 265
        },
        "id": "3sepKWtkdtxt",
        "outputId": "1fa4452c-49e1-4c73-d2c5-252036ef8ad7"
      },
      "source": [
        "#Predicciones\n",
        "# Veamos el elemento 5 de test y pintémoslo con matplotlib\n",
        "from keras.datasets import fashion_mnist\n",
        "(train_images, train_labels), (test_images, test_labels) = fashion_mnist.load_data()\n",
        "import matplotlib.pyplot as plt\n",
        "digit = test_images[5]\n",
        "plt.imshow(digit, cmap=plt.cm.binary)\n",
        "plt.show()"
      ],
      "execution_count": 40,
      "outputs": [
        {
          "output_type": "display_data",
          "data": {
            "image/png": "[encoded data removed]",
            "text/plain": [
              "<Figure size 432x288 with 1 Axes>"
            ]
          },
          "metadata": {
            "needs_background": "light"
          }
        }
      ]
    },
    {
      "cell_type": "code",
      "metadata": {
        "colab": {
          "base_uri": "https://localhost:8080/"
        },
        "id": "25i_zkZwfFL0",
        "outputId": "5974c2d9-afb9-4d07-9c83-2b290b962a35"
      },
      "source": [
        "train_images = train_images.reshape((60000, 28 * 28))\n",
        "test_images = test_images.reshape((10000, 28 * 28))\n",
        "\n",
        "train_images = train_images.astype('float32') / 255\n",
        "test_images = test_images.astype('float32') / 255\n",
        "\n",
        "import numpy as np\n",
        "from keras.utils.np_utils import to_categorical\n",
        "\n",
        "\n",
        "print(test_labels)\n",
        "# train_labels = to_categorical(train_labels)\n",
        "test_labels = to_categorical(test_labels)\n",
        "print(test_labels)\n",
        "\n",
        "\n",
        "predictions5 = network5.predict(test_images)\n",
        "print(np.argmax(predictions5[5]))\n",
        "print(predictions5[5])\n",
        "np.sum(predictions5[5])\n",
        "print(predictions5)"
      ],
      "execution_count": 42,
      "outputs": [
        {
          "output_type": "stream",
          "name": "stdout",
          "text": [
            "[[0. 0. 0. ... 0. 0. 1.]\n",
            " [0. 0. 1. ... 0. 0. 0.]\n",
            " [0. 1. 0. ... 0. 0. 0.]\n",
            " ...\n",
            " [0. 0. 0. ... 0. 1. 0.]\n",
            " [0. 1. 0. ... 0. 0. 0.]\n",
            " [0. 0. 0. ... 0. 0. 0.]]\n",
            "[[[1. 0.]\n",
            "  [1. 0.]\n",
            "  [1. 0.]\n",
            "  ...\n",
            "  [1. 0.]\n",
            "  [1. 0.]\n",
            "  [0. 1.]]\n",
            "\n",
            " [[1. 0.]\n",
            "  [1. 0.]\n",
            "  [0. 1.]\n",
            "  ...\n",
            "  [1. 0.]\n",
            "  [1. 0.]\n",
            "  [1. 0.]]\n",
            "\n",
            " [[1. 0.]\n",
            "  [0. 1.]\n",
            "  [1. 0.]\n",
            "  ...\n",
            "  [1. 0.]\n",
            "  [1. 0.]\n",
            "  [1. 0.]]\n",
            "\n",
            " ...\n",
            "\n",
            " [[1. 0.]\n",
            "  [1. 0.]\n",
            "  [1. 0.]\n",
            "  ...\n",
            "  [1. 0.]\n",
            "  [0. 1.]\n",
            "  [1. 0.]]\n",
            "\n",
            " [[1. 0.]\n",
            "  [0. 1.]\n",
            "  [1. 0.]\n",
            "  ...\n",
            "  [1. 0.]\n",
            "  [1. 0.]\n",
            "  [1. 0.]]\n",
            "\n",
            " [[1. 0.]\n",
            "  [1. 0.]\n",
            "  [1. 0.]\n",
            "  ...\n",
            "  [1. 0.]\n",
            "  [1. 0.]\n",
            "  [1. 0.]]]\n",
            "5\n",
            "[0.09883583 0.08772808 0.0855669  0.09668187 0.0630434  0.22975191\n",
            " 0.10480449 0.09138629 0.07643458 0.06576665]\n",
            "[[0.09609257 0.08488397 0.08464541 ... 0.09350038 0.07733257 0.06739181]\n",
            " [0.09792704 0.08478578 0.08714494 ... 0.09055074 0.07636566 0.06553239]\n",
            " [0.09883252 0.08851954 0.08550885 ... 0.09161299 0.07651547 0.06586991]\n",
            " ...\n",
            " [0.09816869 0.08525541 0.08469861 ... 0.09172735 0.07769282 0.06629845]\n",
            " [0.09793376 0.08773293 0.08524759 ... 0.09215987 0.07661119 0.06666227]\n",
            " [0.09654991 0.08541445 0.08474465 ... 0.09314653 0.07722444 0.06679917]]\n"
          ]
        }
      ]
    },
    {
      "cell_type": "code",
      "metadata": {
        "colab": {
          "base_uri": "https://localhost:8080/"
        },
        "id": "79QpL5JygMjK",
        "outputId": "ca2d9f96-457d-4b61-b460-f06db35f8a97"
      },
      "source": [
        "predictions6 = network6.predict(test_images)\n",
        "print(np.argmax(predictions6[5]))\n",
        "print(predictions6[5])\n",
        "np.sum(predictions6[5])\n",
        "print(predictions6)"
      ],
      "execution_count": 43,
      "outputs": [
        {
          "output_type": "stream",
          "name": "stdout",
          "text": [
            "5\n",
            "[0.05846153 0.00156308 0.029667   0.03671893 0.00599484 0.7630954\n",
            " 0.06292048 0.02360394 0.01650211 0.00147268]\n",
            "[[0.03321817 0.00075027 0.01806181 ... 0.02264697 0.01198163 0.00131731]\n",
            " [0.05182403 0.00117295 0.03409738 ... 0.02248603 0.01432837 0.00156264]\n",
            " [0.05943114 0.00167974 0.02963774 ... 0.02386019 0.01699133 0.0014934 ]\n",
            " ...\n",
            " [0.04568904 0.00097404 0.02229877 ... 0.02185124 0.01487767 0.0013042 ]\n",
            " [0.0507598  0.00146891 0.02580808 ... 0.02301734 0.01545677 0.00144196]\n",
            " [0.03396448 0.00074904 0.01825185 ... 0.02057517 0.01187885 0.00117535]]\n"
          ]
        }
      ]
    },
    {
      "cell_type": "code",
      "metadata": {
        "colab": {
          "base_uri": "https://localhost:8080/"
        },
        "id": "gc6hz2hzgNnB",
        "outputId": "2ea47504-57fa-47d9-ad4f-e2f794035200"
      },
      "source": [
        "predictions7 = network7.predict(test_images)\n",
        "print(np.argmax(predictions7[5]))\n",
        "print(predictions7[5])\n",
        "np.sum(predictions7[5])\n",
        "print(predictions7)"
      ],
      "execution_count": 44,
      "outputs": [
        {
          "output_type": "stream",
          "name": "stdout",
          "text": [
            "5\n",
            "[0.03457999 0.0364016  0.02133879 0.03134875 0.0068393  0.75311255\n",
            " 0.04149127 0.05535799 0.01263858 0.00689115]\n",
            "[[0.03330374 0.03454473 0.02084019 ... 0.0558015  0.0126175  0.00696068]\n",
            " [0.034564   0.03531347 0.02197103 ... 0.05543905 0.01290152 0.00698824]\n",
            " [0.03450528 0.03672972 0.0213238  ... 0.05547517 0.0126358  0.00689365]\n",
            " ...\n",
            " [0.03421245 0.03509523 0.02103629 ... 0.05519116 0.0127405  0.00688154]\n",
            " [0.03430107 0.03629087 0.0212604  ... 0.05551697 0.01257658 0.00690382]\n",
            " [0.03346018 0.03477861 0.02092003 ... 0.05575559 0.01259853 0.00688998]]\n"
          ]
        }
      ]
    },
    {
      "cell_type": "code",
      "metadata": {
        "colab": {
          "base_uri": "https://localhost:8080/"
        },
        "id": "B2g1_bpNgSpO",
        "outputId": "30bb8a59-c0b6-4f62-f051-2cd4a0490676"
      },
      "source": [
        "predictions8 = network8.predict(test_images)\n",
        "print(np.argmax(predictions8[5]))\n",
        "print(predictions8[5])\n",
        "np.sum(predictions8[5])\n",
        "print(predictions8)"
      ],
      "execution_count": 45,
      "outputs": [
        {
          "output_type": "stream",
          "name": "stdout",
          "text": [
            "5\n",
            "[3.1272564e-02 2.0059774e-04 1.6992789e-03 2.0496571e-03 6.3521857e-04\n",
            " 9.3764520e-01 7.6774573e-03 1.7814159e-02 9.8632346e-04 1.9524552e-05]\n",
            "[[2.4780950e-02 1.4692779e-04 1.3589080e-03 ... 1.6829859e-02\n",
            "  8.6702657e-04 1.9060228e-05]\n",
            " [3.1656127e-02 1.7153438e-04 1.9127898e-03 ... 1.5849248e-02\n",
            "  9.6341898e-04 1.9263016e-05]\n",
            " [3.0810231e-02 2.0471396e-04 1.6760891e-03 ... 1.8097594e-02\n",
            "  9.9369558e-04 1.9545596e-05]\n",
            " ...\n",
            " [2.7881531e-02 1.6066815e-04 1.4863614e-03 ... 1.6838906e-02\n",
            "  9.6250564e-04 1.8179326e-05]\n",
            " [2.8614964e-02 1.9094898e-04 1.5682294e-03 ... 1.7491352e-02\n",
            "  9.3421410e-04 1.9688234e-05]\n",
            " [2.5130831e-02 1.4880685e-04 1.3792290e-03 ... 1.6260482e-02\n",
            "  8.5499702e-04 1.7717191e-05]]\n"
          ]
        }
      ]
    },
    {
      "cell_type": "code",
      "metadata": {
        "id": "n7majqJih8Fd"
      },
      "source": [
        "#Esto es para el apartado 6\n",
        "def plot_image(i, predictions_array, true_label, img):\n",
        "  predictions_array, true_label, img = predictions_array, true_label[i], img[i]\n",
        "  plt.grid(False)\n",
        "  plt.xticks([])\n",
        "  plt.yticks([])\n",
        "\n",
        "  plt.imshow(img, cmap=plt.cm.binary)    \n",
        "\n",
        "  predicted_label = np.argmax(predictions_array)\n",
        "  if predicted_label.all() == true_label.all():\n",
        "    color = 'blue'\n",
        "  else:\n",
        "    color = 'red'\n",
        "\n",
        "  plt.xlabel(\"{} {:2.0f}% ({})\".format(predicted_label,\n",
        "                                100*np.max(predictions_array),\n",
        "                                true_label),\n",
        "                                color=color)\n",
        "\n",
        "def plot_value_array(i, predictions_array, true_label):\n",
        "  predictions_array, true_label = predictions_array, true_label[i]\n",
        "  plt.grid(False)\n",
        "  plt.xticks(range(10))\n",
        "  plt.yticks([])\n",
        "  thisplot = plt.bar(range(10), predictions_array, color=\"#00FF00\")\n",
        "  plt.ylim([0, 1])\n",
        "  predicted_label = np.argmax(predictions_array)\n",
        "\n",
        "  thisplot[predicted_label].set_color('red')\n",
        "  thisplot[true_label].set_color('black')\n",
        "  "
      ],
      "execution_count": 46,
      "outputs": []
    },
    {
      "cell_type": "code",
      "metadata": {
        "colab": {
          "base_uri": "https://localhost:8080/",
          "height": 606
        },
        "id": "SeLfSbaYc_xT",
        "outputId": "4d000c04-bc04-4b3e-841e-ef1c5bfac8c0"
      },
      "source": [
        "i = 5\n",
        "plt.figure(figsize=(6,3))\n",
        "plt.subplot(1,2,1)\n",
        "plot_image(i, predictions5[i], test_labels, test_images.reshape(10000,28,28))\n",
        "plt.subplot(1,2,2)\n",
        "plot_value_array(i, predictions5[i],  test_labels)\n",
        "plt.show()"
      ],
      "execution_count": 49,
      "outputs": [
        {
          "output_type": "error",
          "ename": "TypeError",
          "evalue": "ignored",
          "traceback": [
            "\u001b[0;31m---------------------------------------------------------------------------\u001b[0m",
            "\u001b[0;31mTypeError\u001b[0m                                 Traceback (most recent call last)",
            "\u001b[0;32m<ipython-input-49-5a56b9b86763>\u001b[0m in \u001b[0;36m<module>\u001b[0;34m()\u001b[0m\n\u001b[1;32m      4\u001b[0m \u001b[0mplot_image\u001b[0m\u001b[0;34m(\u001b[0m\u001b[0mi\u001b[0m\u001b[0;34m,\u001b[0m \u001b[0mpredictions5\u001b[0m\u001b[0;34m[\u001b[0m\u001b[0mi\u001b[0m\u001b[0;34m]\u001b[0m\u001b[0;34m,\u001b[0m \u001b[0mtest_labels\u001b[0m\u001b[0;34m,\u001b[0m \u001b[0mtest_images\u001b[0m\u001b[0;34m.\u001b[0m\u001b[0mreshape\u001b[0m\u001b[0;34m(\u001b[0m\u001b[0;36m10000\u001b[0m\u001b[0;34m,\u001b[0m\u001b[0;36m28\u001b[0m\u001b[0;34m,\u001b[0m\u001b[0;36m28\u001b[0m\u001b[0;34m)\u001b[0m\u001b[0;34m)\u001b[0m\u001b[0;34m\u001b[0m\u001b[0;34m\u001b[0m\u001b[0m\n\u001b[1;32m      5\u001b[0m \u001b[0mplt\u001b[0m\u001b[0;34m.\u001b[0m\u001b[0msubplot\u001b[0m\u001b[0;34m(\u001b[0m\u001b[0;36m1\u001b[0m\u001b[0;34m,\u001b[0m\u001b[0;36m2\u001b[0m\u001b[0;34m,\u001b[0m\u001b[0;36m2\u001b[0m\u001b[0;34m)\u001b[0m\u001b[0;34m\u001b[0m\u001b[0;34m\u001b[0m\u001b[0m\n\u001b[0;32m----> 6\u001b[0;31m \u001b[0mplot_value_array\u001b[0m\u001b[0;34m(\u001b[0m\u001b[0mi\u001b[0m\u001b[0;34m,\u001b[0m \u001b[0mpredictions5\u001b[0m\u001b[0;34m[\u001b[0m\u001b[0mi\u001b[0m\u001b[0;34m]\u001b[0m\u001b[0;34m,\u001b[0m  \u001b[0mtest_labels\u001b[0m\u001b[0;34m)\u001b[0m\u001b[0;34m\u001b[0m\u001b[0;34m\u001b[0m\u001b[0m\n\u001b[0m\u001b[1;32m      7\u001b[0m \u001b[0mplt\u001b[0m\u001b[0;34m.\u001b[0m\u001b[0mshow\u001b[0m\u001b[0;34m(\u001b[0m\u001b[0;34m)\u001b[0m\u001b[0;34m\u001b[0m\u001b[0;34m\u001b[0m\u001b[0m\n",
            "\u001b[0;32m<ipython-input-46-6ed942c07f77>\u001b[0m in \u001b[0;36mplot_value_array\u001b[0;34m(i, predictions_array, true_label)\u001b[0m\n\u001b[1;32m     29\u001b[0m \u001b[0;34m\u001b[0m\u001b[0m\n\u001b[1;32m     30\u001b[0m   \u001b[0mthisplot\u001b[0m\u001b[0;34m[\u001b[0m\u001b[0mpredicted_label\u001b[0m\u001b[0;34m]\u001b[0m\u001b[0;34m.\u001b[0m\u001b[0mset_color\u001b[0m\u001b[0;34m(\u001b[0m\u001b[0;34m'red'\u001b[0m\u001b[0;34m)\u001b[0m\u001b[0;34m\u001b[0m\u001b[0;34m\u001b[0m\u001b[0m\n\u001b[0;32m---> 31\u001b[0;31m   \u001b[0mthisplot\u001b[0m\u001b[0;34m[\u001b[0m\u001b[0mtrue_label\u001b[0m\u001b[0;34m]\u001b[0m\u001b[0;34m.\u001b[0m\u001b[0mset_color\u001b[0m\u001b[0;34m(\u001b[0m\u001b[0;34m'black'\u001b[0m\u001b[0;34m)\u001b[0m\u001b[0;34m\u001b[0m\u001b[0;34m\u001b[0m\u001b[0m\n\u001b[0m\u001b[1;32m     32\u001b[0m \u001b[0;34m\u001b[0m\u001b[0m\n",
            "\u001b[0;31mTypeError\u001b[0m: only integer scalar arrays can be converted to a scalar index"
          ]
        },
        {
          "output_type": "display_data",
          "data": {
            "image/png": "[encoded data removed]",
            "text/plain": [
              "<Figure size 432x216 with 2 Axes>"
            ]
          },
          "metadata": {
            "needs_background": "light"
          }
        }
      ]
    },
    {
      "cell_type": "code",
      "metadata": {
        "colab": {
          "base_uri": "https://localhost:8080/",
          "height": 606
        },
        "id": "dZSSh1TpgekF",
        "outputId": "be6626a2-7320-46d9-a1bd-e3211ff56127"
      },
      "source": [
        "i = 5\n",
        "plt.figure(figsize=(6,3))\n",
        "plt.subplot(1,2,1)\n",
        "plot_image(i, predictions6[i], test_labels, test_images.reshape(10000,28,28))\n",
        "plt.subplot(1,2,2)\n",
        "plot_value_array(i, predictions6[i],  test_labels)\n",
        "plt.show()"
      ],
      "execution_count": 50,
      "outputs": [
        {
          "output_type": "error",
          "ename": "TypeError",
          "evalue": "ignored",
          "traceback": [
            "\u001b[0;31m---------------------------------------------------------------------------\u001b[0m",
            "\u001b[0;31mTypeError\u001b[0m                                 Traceback (most recent call last)",
            "\u001b[0;32m<ipython-input-50-99aa7e00eea6>\u001b[0m in \u001b[0;36m<module>\u001b[0;34m()\u001b[0m\n\u001b[1;32m      4\u001b[0m \u001b[0mplot_image\u001b[0m\u001b[0;34m(\u001b[0m\u001b[0mi\u001b[0m\u001b[0;34m,\u001b[0m \u001b[0mpredictions6\u001b[0m\u001b[0;34m[\u001b[0m\u001b[0mi\u001b[0m\u001b[0;34m]\u001b[0m\u001b[0;34m,\u001b[0m \u001b[0mtest_labels\u001b[0m\u001b[0;34m,\u001b[0m \u001b[0mtest_images\u001b[0m\u001b[0;34m.\u001b[0m\u001b[0mreshape\u001b[0m\u001b[0;34m(\u001b[0m\u001b[0;36m10000\u001b[0m\u001b[0;34m,\u001b[0m\u001b[0;36m28\u001b[0m\u001b[0;34m,\u001b[0m\u001b[0;36m28\u001b[0m\u001b[0;34m)\u001b[0m\u001b[0;34m)\u001b[0m\u001b[0;34m\u001b[0m\u001b[0;34m\u001b[0m\u001b[0m\n\u001b[1;32m      5\u001b[0m \u001b[0mplt\u001b[0m\u001b[0;34m.\u001b[0m\u001b[0msubplot\u001b[0m\u001b[0;34m(\u001b[0m\u001b[0;36m1\u001b[0m\u001b[0;34m,\u001b[0m\u001b[0;36m2\u001b[0m\u001b[0;34m,\u001b[0m\u001b[0;36m2\u001b[0m\u001b[0;34m)\u001b[0m\u001b[0;34m\u001b[0m\u001b[0;34m\u001b[0m\u001b[0m\n\u001b[0;32m----> 6\u001b[0;31m \u001b[0mplot_value_array\u001b[0m\u001b[0;34m(\u001b[0m\u001b[0mi\u001b[0m\u001b[0;34m,\u001b[0m \u001b[0mpredictions6\u001b[0m\u001b[0;34m[\u001b[0m\u001b[0mi\u001b[0m\u001b[0;34m]\u001b[0m\u001b[0;34m,\u001b[0m  \u001b[0mtest_labels\u001b[0m\u001b[0;34m)\u001b[0m\u001b[0;34m\u001b[0m\u001b[0;34m\u001b[0m\u001b[0m\n\u001b[0m\u001b[1;32m      7\u001b[0m \u001b[0mplt\u001b[0m\u001b[0;34m.\u001b[0m\u001b[0mshow\u001b[0m\u001b[0;34m(\u001b[0m\u001b[0;34m)\u001b[0m\u001b[0;34m\u001b[0m\u001b[0;34m\u001b[0m\u001b[0m\n",
            "\u001b[0;32m<ipython-input-46-6ed942c07f77>\u001b[0m in \u001b[0;36mplot_value_array\u001b[0;34m(i, predictions_array, true_label)\u001b[0m\n\u001b[1;32m     29\u001b[0m \u001b[0;34m\u001b[0m\u001b[0m\n\u001b[1;32m     30\u001b[0m   \u001b[0mthisplot\u001b[0m\u001b[0;34m[\u001b[0m\u001b[0mpredicted_label\u001b[0m\u001b[0;34m]\u001b[0m\u001b[0;34m.\u001b[0m\u001b[0mset_color\u001b[0m\u001b[0;34m(\u001b[0m\u001b[0;34m'red'\u001b[0m\u001b[0;34m)\u001b[0m\u001b[0;34m\u001b[0m\u001b[0;34m\u001b[0m\u001b[0m\n\u001b[0;32m---> 31\u001b[0;31m   \u001b[0mthisplot\u001b[0m\u001b[0;34m[\u001b[0m\u001b[0mtrue_label\u001b[0m\u001b[0;34m]\u001b[0m\u001b[0;34m.\u001b[0m\u001b[0mset_color\u001b[0m\u001b[0;34m(\u001b[0m\u001b[0;34m'black'\u001b[0m\u001b[0;34m)\u001b[0m\u001b[0;34m\u001b[0m\u001b[0;34m\u001b[0m\u001b[0m\n\u001b[0m\u001b[1;32m     32\u001b[0m \u001b[0;34m\u001b[0m\u001b[0m\n",
            "\u001b[0;31mTypeError\u001b[0m: only integer scalar arrays can be converted to a scalar index"
          ]
        },
        {
          "output_type": "display_data",
          "data": {
            "image/png": "[encoded data removed]",
            "text/plain": [
              "<Figure size 432x216 with 2 Axes>"
            ]
          },
          "metadata": {
            "needs_background": "light"
          }
        }
      ]
    },
    {
      "cell_type": "code",
      "metadata": {
        "colab": {
          "base_uri": "https://localhost:8080/",
          "height": 606
        },
        "id": "bCZV1keKghMJ",
        "outputId": "80d61425-4166-4eef-caf9-708ab0214f79"
      },
      "source": [
        "i = 5\n",
        "plt.figure(figsize=(6,3))\n",
        "plt.subplot(1,2,1)\n",
        "plot_image(i, predictions7[i], test_labels, test_images.reshape(10000,28,28))\n",
        "plt.subplot(1,2,2)\n",
        "plot_value_array(i, predictions7[i],  test_labels)\n",
        "plt.show()"
      ],
      "execution_count": 51,
      "outputs": [
        {
          "output_type": "error",
          "ename": "TypeError",
          "evalue": "ignored",
          "traceback": [
            "\u001b[0;31m---------------------------------------------------------------------------\u001b[0m",
            "\u001b[0;31mTypeError\u001b[0m                                 Traceback (most recent call last)",
            "\u001b[0;32m<ipython-input-51-0ed833afe961>\u001b[0m in \u001b[0;36m<module>\u001b[0;34m()\u001b[0m\n\u001b[1;32m      4\u001b[0m \u001b[0mplot_image\u001b[0m\u001b[0;34m(\u001b[0m\u001b[0mi\u001b[0m\u001b[0;34m,\u001b[0m \u001b[0mpredictions7\u001b[0m\u001b[0;34m[\u001b[0m\u001b[0mi\u001b[0m\u001b[0;34m]\u001b[0m\u001b[0;34m,\u001b[0m \u001b[0mtest_labels\u001b[0m\u001b[0;34m,\u001b[0m \u001b[0mtest_images\u001b[0m\u001b[0;34m.\u001b[0m\u001b[0mreshape\u001b[0m\u001b[0;34m(\u001b[0m\u001b[0;36m10000\u001b[0m\u001b[0;34m,\u001b[0m\u001b[0;36m28\u001b[0m\u001b[0;34m,\u001b[0m\u001b[0;36m28\u001b[0m\u001b[0;34m)\u001b[0m\u001b[0;34m)\u001b[0m\u001b[0;34m\u001b[0m\u001b[0;34m\u001b[0m\u001b[0m\n\u001b[1;32m      5\u001b[0m \u001b[0mplt\u001b[0m\u001b[0;34m.\u001b[0m\u001b[0msubplot\u001b[0m\u001b[0;34m(\u001b[0m\u001b[0;36m1\u001b[0m\u001b[0;34m,\u001b[0m\u001b[0;36m2\u001b[0m\u001b[0;34m,\u001b[0m\u001b[0;36m2\u001b[0m\u001b[0;34m)\u001b[0m\u001b[0;34m\u001b[0m\u001b[0;34m\u001b[0m\u001b[0m\n\u001b[0;32m----> 6\u001b[0;31m \u001b[0mplot_value_array\u001b[0m\u001b[0;34m(\u001b[0m\u001b[0mi\u001b[0m\u001b[0;34m,\u001b[0m \u001b[0mpredictions7\u001b[0m\u001b[0;34m[\u001b[0m\u001b[0mi\u001b[0m\u001b[0;34m]\u001b[0m\u001b[0;34m,\u001b[0m  \u001b[0mtest_labels\u001b[0m\u001b[0;34m)\u001b[0m\u001b[0;34m\u001b[0m\u001b[0;34m\u001b[0m\u001b[0m\n\u001b[0m\u001b[1;32m      7\u001b[0m \u001b[0mplt\u001b[0m\u001b[0;34m.\u001b[0m\u001b[0mshow\u001b[0m\u001b[0;34m(\u001b[0m\u001b[0;34m)\u001b[0m\u001b[0;34m\u001b[0m\u001b[0;34m\u001b[0m\u001b[0m\n",
            "\u001b[0;32m<ipython-input-46-6ed942c07f77>\u001b[0m in \u001b[0;36mplot_value_array\u001b[0;34m(i, predictions_array, true_label)\u001b[0m\n\u001b[1;32m     29\u001b[0m \u001b[0;34m\u001b[0m\u001b[0m\n\u001b[1;32m     30\u001b[0m   \u001b[0mthisplot\u001b[0m\u001b[0;34m[\u001b[0m\u001b[0mpredicted_label\u001b[0m\u001b[0;34m]\u001b[0m\u001b[0;34m.\u001b[0m\u001b[0mset_color\u001b[0m\u001b[0;34m(\u001b[0m\u001b[0;34m'red'\u001b[0m\u001b[0;34m)\u001b[0m\u001b[0;34m\u001b[0m\u001b[0;34m\u001b[0m\u001b[0m\n\u001b[0;32m---> 31\u001b[0;31m   \u001b[0mthisplot\u001b[0m\u001b[0;34m[\u001b[0m\u001b[0mtrue_label\u001b[0m\u001b[0;34m]\u001b[0m\u001b[0;34m.\u001b[0m\u001b[0mset_color\u001b[0m\u001b[0;34m(\u001b[0m\u001b[0;34m'black'\u001b[0m\u001b[0;34m)\u001b[0m\u001b[0;34m\u001b[0m\u001b[0;34m\u001b[0m\u001b[0m\n\u001b[0m\u001b[1;32m     32\u001b[0m \u001b[0;34m\u001b[0m\u001b[0m\n",
            "\u001b[0;31mTypeError\u001b[0m: only integer scalar arrays can be converted to a scalar index"
          ]
        },
        {
          "output_type": "display_data",
          "data": {
            "image/png": "[encoded data removed]",
            "text/plain": [
              "<Figure size 432x216 with 2 Axes>"
            ]
          },
          "metadata": {
            "needs_background": "light"
          }
        }
      ]
    },
    {
      "cell_type": "code",
      "metadata": {
        "colab": {
          "base_uri": "https://localhost:8080/",
          "height": 606
        },
        "id": "nfLDSohrgi_j",
        "outputId": "ef9b4666-8253-4766-9dea-f4d8a6fcc77f"
      },
      "source": [
        "i = 5\n",
        "plt.figure(figsize=(6,3))\n",
        "plt.subplot(1,2,1)\n",
        "plot_image(i, predictions8[i], test_labels, test_images.reshape(10000,28,28))\n",
        "plt.subplot(1,2,2)\n",
        "plot_value_array(i, predictions8[i],  test_labels)\n",
        "plt.show()"
      ],
      "execution_count": 52,
      "outputs": [
        {
          "output_type": "error",
          "ename": "TypeError",
          "evalue": "ignored",
          "traceback": [
            "\u001b[0;31m---------------------------------------------------------------------------\u001b[0m",
            "\u001b[0;31mTypeError\u001b[0m                                 Traceback (most recent call last)",
            "\u001b[0;32m<ipython-input-52-d421d8389a1b>\u001b[0m in \u001b[0;36m<module>\u001b[0;34m()\u001b[0m\n\u001b[1;32m      4\u001b[0m \u001b[0mplot_image\u001b[0m\u001b[0;34m(\u001b[0m\u001b[0mi\u001b[0m\u001b[0;34m,\u001b[0m \u001b[0mpredictions8\u001b[0m\u001b[0;34m[\u001b[0m\u001b[0mi\u001b[0m\u001b[0;34m]\u001b[0m\u001b[0;34m,\u001b[0m \u001b[0mtest_labels\u001b[0m\u001b[0;34m,\u001b[0m \u001b[0mtest_images\u001b[0m\u001b[0;34m.\u001b[0m\u001b[0mreshape\u001b[0m\u001b[0;34m(\u001b[0m\u001b[0;36m10000\u001b[0m\u001b[0;34m,\u001b[0m\u001b[0;36m28\u001b[0m\u001b[0;34m,\u001b[0m\u001b[0;36m28\u001b[0m\u001b[0;34m)\u001b[0m\u001b[0;34m)\u001b[0m\u001b[0;34m\u001b[0m\u001b[0;34m\u001b[0m\u001b[0m\n\u001b[1;32m      5\u001b[0m \u001b[0mplt\u001b[0m\u001b[0;34m.\u001b[0m\u001b[0msubplot\u001b[0m\u001b[0;34m(\u001b[0m\u001b[0;36m1\u001b[0m\u001b[0;34m,\u001b[0m\u001b[0;36m2\u001b[0m\u001b[0;34m,\u001b[0m\u001b[0;36m2\u001b[0m\u001b[0;34m)\u001b[0m\u001b[0;34m\u001b[0m\u001b[0;34m\u001b[0m\u001b[0m\n\u001b[0;32m----> 6\u001b[0;31m \u001b[0mplot_value_array\u001b[0m\u001b[0;34m(\u001b[0m\u001b[0mi\u001b[0m\u001b[0;34m,\u001b[0m \u001b[0mpredictions8\u001b[0m\u001b[0;34m[\u001b[0m\u001b[0mi\u001b[0m\u001b[0;34m]\u001b[0m\u001b[0;34m,\u001b[0m  \u001b[0mtest_labels\u001b[0m\u001b[0;34m)\u001b[0m\u001b[0;34m\u001b[0m\u001b[0;34m\u001b[0m\u001b[0m\n\u001b[0m\u001b[1;32m      7\u001b[0m \u001b[0mplt\u001b[0m\u001b[0;34m.\u001b[0m\u001b[0mshow\u001b[0m\u001b[0;34m(\u001b[0m\u001b[0;34m)\u001b[0m\u001b[0;34m\u001b[0m\u001b[0;34m\u001b[0m\u001b[0m\n",
            "\u001b[0;32m<ipython-input-46-6ed942c07f77>\u001b[0m in \u001b[0;36mplot_value_array\u001b[0;34m(i, predictions_array, true_label)\u001b[0m\n\u001b[1;32m     29\u001b[0m \u001b[0;34m\u001b[0m\u001b[0m\n\u001b[1;32m     30\u001b[0m   \u001b[0mthisplot\u001b[0m\u001b[0;34m[\u001b[0m\u001b[0mpredicted_label\u001b[0m\u001b[0;34m]\u001b[0m\u001b[0;34m.\u001b[0m\u001b[0mset_color\u001b[0m\u001b[0;34m(\u001b[0m\u001b[0;34m'red'\u001b[0m\u001b[0;34m)\u001b[0m\u001b[0;34m\u001b[0m\u001b[0;34m\u001b[0m\u001b[0m\n\u001b[0;32m---> 31\u001b[0;31m   \u001b[0mthisplot\u001b[0m\u001b[0;34m[\u001b[0m\u001b[0mtrue_label\u001b[0m\u001b[0;34m]\u001b[0m\u001b[0;34m.\u001b[0m\u001b[0mset_color\u001b[0m\u001b[0;34m(\u001b[0m\u001b[0;34m'black'\u001b[0m\u001b[0;34m)\u001b[0m\u001b[0;34m\u001b[0m\u001b[0;34m\u001b[0m\u001b[0m\n\u001b[0m\u001b[1;32m     32\u001b[0m \u001b[0;34m\u001b[0m\u001b[0m\n",
            "\u001b[0;31mTypeError\u001b[0m: only integer scalar arrays can be converted to a scalar index"
          ]
        },
        {
          "output_type": "display_data",
          "data": {
            "image/png": "[encoded data removed]",
            "text/plain": [
              "<Figure size 432x216 with 2 Axes>"
            ]
          },
          "metadata": {
            "needs_background": "light"
          }
        }
      ]
    }
  ]
}