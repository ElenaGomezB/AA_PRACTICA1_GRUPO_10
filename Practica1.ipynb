{
  "nbformat": 4,
  "nbformat_minor": 0,
  "metadata": {
    "colab": {
      "name": "Practica1.ipynb",
      "provenance": [],
      "collapsed_sections": [],
      "include_colab_link": true
    },
    "kernelspec": {
      "name": "python3",
      "display_name": "Python 3"
    },
    "language_info": {
      "name": "python"
    }
  },
  "cells": [
    {
      "cell_type": "markdown",
      "metadata": {
        "id": "view-in-github",
        "colab_type": "text"
      },
      "source": [
        "<a href=\"https://colab.research.google.com/github/ElenaGomezB/AA_PRACTICA1_GRUPO_10/blob/main/Practica1.ipynb\" target=\"_parent\"><img src=\"https://colab.research.google.com/assets/colab-badge.svg\" alt=\"Open In Colab\"/></a>"
      ]
    },
    {
      "cell_type": "markdown",
      "metadata": {
        "id": "aWn9f1xC0qKA"
      },
      "source": [
        "# **PRÁCTICA 1**\n",
        "\n",
        "GRUPO 10\n",
        " \n",
        "Elena Gómez\n",
        "\n",
        "Ana Muñoz"
      ]
    },
    {
      "cell_type": "markdown",
      "metadata": {
        "id": "J9EI5S1v1V9M"
      },
      "source": [
        "### **OBJETIVO**\n",
        "\n",
        "Crear un modelo de Red de Neuronas Artificiales que sea capaz de reconocer y clasificar imágenes de ropa en sus diferentes tipologías. Este modelo será definido, configurado, entrenado, evaluado y mejorado para posteriormente usarlo para hacer predicciones. \n",
        "\n",
        "En primer lugar tenemos que crear un modelo en Keras aplicando el conjunto de datos Fashion-MNIST.\n",
        "\n",
        "Fashion-MNIST es un conjunto de datos de las imágenes de los artículos de Zalando, una tienda de moda online alemana especializada en ventas de ropa y zapatos. \n",
        "\n",
        "El conjunto de datos contiene 70K imágenes en escala de grises en 10 categorías. Estas imágenes muestran prendas individuales de ropa en baja resolución (28 x 28 píxeles). Se usan 60K imágenes para entrenar la red y 10K imágenes para evaluar la precisión con la que la red aprende a clasificar las imágenes"
      ]
    },
    {
      "cell_type": "markdown",
      "metadata": {
        "id": "d-7xQYiH2Z_a"
      },
      "source": [
        "- Importamos tensorflow y comprobamos que la versión es 2.0.0 o superior "
      ]
    },
    {
      "cell_type": "code",
      "metadata": {
        "colab": {
          "base_uri": "https://localhost:8080/"
        },
        "id": "jjS0Rz20khEw",
        "outputId": "9d799a0d-41dc-44ed-9186-f08528253e26"
      },
      "source": [
        "%tensorflow_version 2.x\n",
        "import tensorflow as tf\n",
        "from tensorflow import keras\n",
        "print(tf.keras.__version__)\n",
        "print(\"GPU Available:\", tf.config.list_physical_devices('GPU'))\n",
        "print(tf.__version__)"
      ],
      "execution_count": 2,
      "outputs": [
        {
          "output_type": "stream",
          "name": "stdout",
          "text": [
            "2.6.0\n",
            "GPU Available: []\n",
            "2.6.0\n"
          ]
        }
      ]
    },
    {
      "cell_type": "markdown",
      "metadata": {
        "id": "TplU_PZB2wab"
      },
      "source": [
        "- A continuación, cargamos las imágenes y creamos un vector de 10 elementos en el que a cada posición se le asigna el nombre de cada prenda. ('class_names')\n",
        "\n",
        "![tabla1.PNG](data:image/png;base64,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)"
      ]
    },
    {
      "cell_type": "code",
      "metadata": {
        "id": "8IvCzPOlkp0T",
        "colab": {
          "base_uri": "https://localhost:8080/"
        },
        "outputId": "0e707253-4a3d-47e0-b3b5-60df1bc2109e"
      },
      "source": [
        "# Importamos las imágenes\n",
        "from keras.datasets import fashion_mnist\n",
        "\n",
        "(train_images, train_labels), (test_images, test_labels) = fashion_mnist.load_data()\n",
        "\n",
        "# Creamos vector con las prendas\n",
        "class_names = ['T-shirt/top', 'Trouser', 'Pullover', 'Dress', 'Coat',\n",
        "               'Sandal', 'Shirt', 'Sneaker', 'Bag', 'Ankle boot']\n",
        "\n"
      ],
      "execution_count": 3,
      "outputs": [
        {
          "output_type": "stream",
          "name": "stdout",
          "text": [
            "Downloading data from https://storage.googleapis.com/tensorflow/tf-keras-datasets/train-labels-idx1-ubyte.gz\n",
            "32768/29515 [=================================] - 0s 0us/step\n",
            "40960/29515 [=========================================] - 0s 0us/step\n",
            "Downloading data from https://storage.googleapis.com/tensorflow/tf-keras-datasets/train-images-idx3-ubyte.gz\n",
            "26427392/26421880 [==============================] - 0s 0us/step\n",
            "26435584/26421880 [==============================] - 0s 0us/step\n",
            "Downloading data from https://storage.googleapis.com/tensorflow/tf-keras-datasets/t10k-labels-idx1-ubyte.gz\n",
            "16384/5148 [===============================================================================================] - 0s 0us/step\n",
            "Downloading data from https://storage.googleapis.com/tensorflow/tf-keras-datasets/t10k-images-idx3-ubyte.gz\n",
            "4423680/4422102 [==============================] - 0s 0us/step\n",
            "4431872/4422102 [==============================] - 0s 0us/step\n"
          ]
        }
      ]
    },
    {
      "cell_type": "markdown",
      "metadata": {
        "id": "opyZVSAIDJND"
      },
      "source": [
        "\n",
        "- Estudiamos los **datos de entrenamiento**\n"
      ]
    },
    {
      "cell_type": "code",
      "metadata": {
        "id": "DbHjZJhUlZE9",
        "colab": {
          "base_uri": "https://localhost:8080/"
        },
        "outputId": "0cd4eb3b-be2e-49b4-d666-62fe32093122"
      },
      "source": [
        "print(train_images.shape)"
      ],
      "execution_count": 4,
      "outputs": [
        {
          "output_type": "stream",
          "name": "stdout",
          "text": [
            "(60000, 28, 28)\n"
          ]
        }
      ]
    },
    {
      "cell_type": "code",
      "metadata": {
        "id": "m6dzO8pdFCG1",
        "colab": {
          "base_uri": "https://localhost:8080/"
        },
        "outputId": "cb24654e-1509-4f27-a7b2-85024511ef1c"
      },
      "source": [
        "# Vemos la matriz de la imagen 50000 de las imágenes de entrenamiento\n",
        "train_images[5000]"
      ],
      "execution_count": 5,
      "outputs": [
        {
          "output_type": "execute_result",
          "data": {
            "text/plain": [
              "array([[  0,   0,   0,   0,   0,   0,   0,   0,   0,   0,   0,   0,   0,\n",
              "          0,   0,   0,   0,   0,   0,   1,   0,   0,   0,   0,   0,   0,\n",
              "          0,   0],\n",
              "       [  0,   0,   0,   0,   0,   0,   0,   0,   0,   0,   0,  44, 127,\n",
              "        182, 185, 161, 120,  55,   0,   0,   0,   0,   0,   0,   0,   0,\n",
              "          0,   0],\n",
              "       [  0,   0,   0,   0,   0,   0,   0,   0,   0,  42, 198, 251, 255,\n",
              "        251, 249, 247, 255, 252, 214, 100,   0,   0,   0,   0,   0,   0,\n",
              "          0,   0],\n",
              "       [  0,   0,   0,   0,   0,   0,   2,   0,   0, 233, 252, 237, 239,\n",
              "        234, 237, 235, 237, 237, 254, 227,   0,   0,   0,   0,   1,   0,\n",
              "          0,   0],\n",
              "       [  0,   0,   0,   0,   0,   2,   0,   0,  16, 210, 225, 215, 175,\n",
              "        217, 216, 193, 196, 226, 221, 209,  50,   0,   0,   2,   0,   0,\n",
              "          0,   0],\n",
              "       [  0,   0,   0,   0,   2,   0,   0, 199, 229, 232, 230, 245, 204,\n",
              "        219, 253, 245, 207, 194, 223, 231, 236, 235,   0,   0,   3,   0,\n",
              "          0,   0],\n",
              "       [  0,   0,   0,   0,   1,   0, 137, 235, 204, 209, 201, 209, 234,\n",
              "        190, 234, 218, 215, 238, 239, 204, 189, 224, 154,   0,   0,   0,\n",
              "          0,   0],\n",
              "       [  0,   0,   0,   0,   0,   0, 194, 201, 200, 209, 202, 193, 205,\n",
              "        194, 183, 218, 231, 197, 172, 181, 193, 205, 199,   0,   0,   0,\n",
              "          0,   0],\n",
              "       [  0,   0,   0,   0,   0,   3, 212, 203, 188, 189, 196, 198, 198,\n",
              "        201, 196, 217, 179, 167, 183, 217, 197, 202, 219,  30,   0,   0,\n",
              "          0,   0],\n",
              "       [  0,   0,   0,   0,   0,  34, 225, 200, 194, 190, 188, 192, 196,\n",
              "        192, 170, 202, 190, 201, 195, 200, 201, 209, 227,  50,   0,   0,\n",
              "          0,   0],\n",
              "       [  0,   0,   0,   0,   0,  68, 225, 210, 211, 198, 192, 196, 204,\n",
              "        196, 181, 212, 197, 195, 192, 206, 220, 210, 229,  93,   0,   0,\n",
              "          0,   0],\n",
              "       [  0,   0,   0,   0,   0, 111, 223, 227, 253, 209, 196, 204, 211,\n",
              "        206, 183, 216, 206, 210, 203, 215, 244, 224, 227, 150,   0,   0,\n",
              "          0,   0],\n",
              "       [  0,   0,   0,   0,   0, 139, 225, 224, 255, 202, 206, 212, 209,\n",
              "        211, 190, 213, 202, 207, 206, 222, 255, 230, 220, 190,   0,   0,\n",
              "          0,   0],\n",
              "       [  0,   0,   0,   0,   0, 180, 226, 224, 255, 199, 204, 207, 214,\n",
              "        214, 190, 216, 206, 203, 205, 219, 243, 224, 214, 234,   0,   0,\n",
              "          0,   0],\n",
              "       [  0,   0,   0,   0,   0, 225, 223, 228, 254, 209, 206, 208, 213,\n",
              "        210, 191, 215, 207, 204, 208, 211, 249, 226, 214, 255,  38,   0,\n",
              "          0,   0],\n",
              "       [  0,   0,   0,   0,   0, 250, 232, 240, 239, 211, 203, 209, 205,\n",
              "        211, 197, 215, 208, 208, 214, 213, 239, 231, 219, 255,  81,   0,\n",
              "          0,   0],\n",
              "       [  0,   0,   0,   0,   0, 248, 236, 247, 240, 203, 200, 208, 206,\n",
              "        214, 193, 213, 212, 208, 212, 211, 243, 242, 225, 254,  66,   0,\n",
              "          0,   0],\n",
              "       [  0,   0,   0,   0,   0, 247, 230, 252, 226, 199, 211, 202, 211,\n",
              "        213, 182, 213, 212, 206, 202, 219, 207, 247, 222, 237, 104,   0,\n",
              "          0,   0],\n",
              "       [  0,   0,   0,   0,  10, 244, 219, 250, 205, 199, 209, 202, 209,\n",
              "        211, 189, 214, 206, 210, 200, 212, 154, 240, 208, 219, 140,   0,\n",
              "          0,   0],\n",
              "       [  0,   0,   0,   0,  21, 255, 222, 238, 184, 210, 192, 206, 209,\n",
              "        210, 189, 213, 211, 209, 192, 228, 155, 226, 238, 241, 166,   0,\n",
              "          0,   0],\n",
              "       [  0,   0,   0,   0,  37, 245, 226, 241, 150, 197, 189, 204, 209,\n",
              "        210, 183, 213, 213, 201, 184, 215, 146, 216, 236, 225, 154,   0,\n",
              "          0,   0],\n",
              "       [  0,   0,   0,   0,  58, 239, 227, 255, 158, 193, 195, 204, 209,\n",
              "        213, 180, 207, 217, 199, 194, 211, 158, 219, 236, 216, 151,   0,\n",
              "          0,   0],\n",
              "       [  0,   0,   0,   0,  68, 233, 226, 243, 139, 200, 193, 205, 210,\n",
              "        208, 180, 205, 212, 203, 196, 216, 157, 179, 255, 216, 155,   0,\n",
              "          0,   0],\n",
              "       [  0,   0,   0,   0,  81, 225, 224, 211, 138, 219, 185, 201, 213,\n",
              "        207, 197, 226, 212, 200, 190, 215, 183,  90, 255, 211, 147,   0,\n",
              "          0,   0],\n",
              "       [  0,   0,   0,   0,  91, 210, 230, 158, 114, 205, 187, 208, 209,\n",
              "        206, 193, 210, 211, 204, 195, 204, 181,  23, 255, 213, 158,   0,\n",
              "          0,   0],\n",
              "       [  0,   0,   0,   0,  87, 205, 232, 109, 164, 255, 214, 224, 222,\n",
              "        210, 197, 214, 225, 222, 211, 220, 217,   0, 234, 216, 169,   0,\n",
              "          0,   0],\n",
              "       [  0,   0,   0,   0,  92, 213, 232, 146,   5, 134, 151, 162, 170,\n",
              "        183, 182, 164, 166, 178, 162, 156,  98,   0, 240, 225, 210,   0,\n",
              "          0,   0],\n",
              "       [  0,   0,   0,   0,  43, 164, 206, 141,   0,   0,   0,   0,   0,\n",
              "          0,   0,   0,   0,   0,   0,   0,   0,   0, 127, 125,  76,   0,\n",
              "          0,   0]], dtype=uint8)"
            ]
          },
          "metadata": {},
          "execution_count": 5
        }
      ]
    },
    {
      "cell_type": "code",
      "metadata": {
        "id": "ke8WXI0vEpvM",
        "colab": {
          "base_uri": "https://localhost:8080/"
        },
        "outputId": "06798ff3-283d-4cd5-8a22-1ba2dce974f9"
      },
      "source": [
        "print(train_labels)"
      ],
      "execution_count": 6,
      "outputs": [
        {
          "output_type": "stream",
          "name": "stdout",
          "text": [
            "[9 0 0 ... 3 0 5]\n"
          ]
        }
      ]
    },
    {
      "cell_type": "code",
      "metadata": {
        "id": "aQPGl4TkFG5k",
        "colab": {
          "base_uri": "https://localhost:8080/"
        },
        "outputId": "33defcfd-721a-442e-ef77-04194ba9bdc2"
      },
      "source": [
        "#Sacamos la etiqueta de la imagen 50000\n",
        "train_labels[5000]"
      ],
      "execution_count": 7,
      "outputs": [
        {
          "output_type": "execute_result",
          "data": {
            "text/plain": [
              "4"
            ]
          },
          "metadata": {},
          "execution_count": 7
        }
      ]
    },
    {
      "cell_type": "markdown",
      "metadata": {
        "id": "uX5nYOvl34xT"
      },
      "source": [
        "Imprimimos la imagen 5000 por pantalla utilizando matplotlib, y nos damos cuenta que corresponde con el elemento 4 de nuestro vector, es decir, un abrigo."
      ]
    },
    {
      "cell_type": "code",
      "metadata": {
        "colab": {
          "base_uri": "https://localhost:8080/",
          "height": 0
        },
        "id": "i8fB_vCimGO4",
        "outputId": "bcacc5d1-6e22-4dfc-ed1e-eabdf99d388f"
      },
      "source": [
        "import matplotlib.pyplot as plt\n",
        "digit = train_images[5000]\n",
        "plt.imshow(digit, cmap=plt.cm.binary)\n",
        "plt.show()"
      ],
      "execution_count": 8,
      "outputs": [
        {
          "output_type": "display_data",
          "data": {
            "image/png": "[encoded data removed]",
            "text/plain": [
              "<Figure size 432x288 with 1 Axes>"
            ]
          },
          "metadata": {
            "needs_background": "light"
          }
        }
      ]
    },
    {
      "cell_type": "markdown",
      "metadata": {
        "id": "Z0HH3T-6E7lo"
      },
      "source": [
        "- Estudiamos los **datos de prueba**"
      ]
    },
    {
      "cell_type": "code",
      "metadata": {
        "id": "pRBG6B5cE8O6",
        "colab": {
          "base_uri": "https://localhost:8080/"
        },
        "outputId": "b44f9f87-f0e9-4fb5-930c-b80696a2cde8"
      },
      "source": [
        "print(test_images.shape)"
      ],
      "execution_count": 9,
      "outputs": [
        {
          "output_type": "stream",
          "name": "stdout",
          "text": [
            "(10000, 28, 28)\n"
          ]
        }
      ]
    },
    {
      "cell_type": "code",
      "metadata": {
        "id": "aJi4sf8bFE9A",
        "colab": {
          "base_uri": "https://localhost:8080/"
        },
        "outputId": "3da2fa7d-228f-489f-ad10-9d0d7b5b5f6d"
      },
      "source": [
        "# Vemos la matriz de la imagen 8000 de las imágenes de prueba\n",
        "test_images[8000]"
      ],
      "execution_count": 10,
      "outputs": [
        {
          "output_type": "execute_result",
          "data": {
            "text/plain": [
              "array([[  0,   0,   0,   0,   0,   0,   0,   0,   0,   0,   0,   0,   0,\n",
              "          0,   0,   0,   0,   0,   0,   0,   0,   0,   0,   0,   0,   0,\n",
              "          0,   0],\n",
              "       [  0,   0,   0,   0,   0,   0,   0,   0,   0,   0,   0,   0,   0,\n",
              "          0,   0,   0,   0,   0,   0,   0,   0,   0,   0,   0,   0,   0,\n",
              "          0,   0],\n",
              "       [  0,   0,   0,   0,   0,   0,   0,   0,   0,   0,   0,   0,   0,\n",
              "          0,   0,   0,   0,   0,   0,   0,   0,   0,   0,   0,   0,   0,\n",
              "          0,   0],\n",
              "       [  0,   0,   0,   0,   0,   0,   0,   0,   0,   0,   0,   0,   0,\n",
              "          0,   0,   0,   0,   0,   0,   0,   0,   0,   0,   0,   0,   0,\n",
              "          0,   0],\n",
              "       [  0,   0,   0,   0,   0,   0,   0,   0,   0,   0,   0,   0,   0,\n",
              "          0,   0,   0,   0,   0,   0,   0,   0,   0,   0,   0,   0,   0,\n",
              "          0,   0],\n",
              "       [  0,   0,   0,   0,   0,   0,   0,   0,   0,   0,   0,   0,   0,\n",
              "          0,   0,   0,   0,   0,   0,   0,   0,   0,   0,   0,   0,   0,\n",
              "          0,   0],\n",
              "       [  0,   0,   0,   0,   0,   0,   0,   0,   0,   0,   0,   0,   0,\n",
              "          0,   0,   0,   0,   0,   0,   0,   0,   0,   0,   0,   0,   0,\n",
              "          0,   0],\n",
              "       [  0,   0,   0,   0,   0,   0,   0,   0,   0,   0,   0,   0,   1,\n",
              "          0,   0,   0,  93, 153,   0,   0,   1,   0,   5,   7,   0,   1,\n",
              "          0,   0],\n",
              "       [  0,   0,   0,   0,   0,   0,   0,   0,   0,   0,   6,   0,   0,\n",
              "          0,   0, 148, 213, 229,  63,   0,   0,   0,   0,   0,   0,   0,\n",
              "         19,   0],\n",
              "       [  0,   0,   0,   0,   0,   0,   0,   0,   2,   0,   0,   0,   0,\n",
              "        165, 255, 225, 179, 196,  12,   0,   0,   0,   0, 172, 183, 100,\n",
              "        108,   0],\n",
              "       [  0,   0,   0,   0,   0,   0,   0,   0,   0,   0,  25, 108, 241,\n",
              "        222, 178, 178, 184, 192, 248,  57,   0,   0, 109, 228, 195, 174,\n",
              "          0,   0],\n",
              "       [  1,   0,   0,   0,   2,   3,   4,   0,   0,  97, 244, 215, 179,\n",
              "        152, 186, 207, 226, 217, 209, 255, 158,  96, 234, 201, 191, 191,\n",
              "         21,   0],\n",
              "       [  2,   3,   5,   0,   0,   0,   0,   9, 212, 219, 154, 123, 186,\n",
              "        203, 229, 241, 213, 211, 214, 211, 237, 250, 216, 191, 185, 208,\n",
              "         75,   0],\n",
              "       [  0,   0,   0,   0,   0,  14,  54, 133, 182, 143, 194, 217, 213,\n",
              "        211, 188, 171, 178, 218, 209, 212, 209, 196, 194, 185, 190, 189,\n",
              "         59,   0],\n",
              "       [  0,  28, 158, 198, 230, 210, 213, 200, 207, 218, 205, 197, 197,\n",
              "        205, 180, 214, 199, 208, 212, 214, 208, 194, 197, 202, 199, 182,\n",
              "         54,   0],\n",
              "       [ 66, 165, 169, 153, 168, 176, 173, 199, 203, 199, 196, 204, 213,\n",
              "        218, 218, 229, 226, 222, 222, 216, 202, 202, 199, 200, 194, 208,\n",
              "        156,   0],\n",
              "       [140, 187, 175, 176, 165, 166, 164, 158, 190, 215, 216, 211, 217,\n",
              "        210, 214, 207, 209, 208, 210, 200, 214, 205, 212, 210, 170, 170,\n",
              "        184,   0],\n",
              "       [ 38, 190, 177, 170, 187, 198, 196, 201, 196, 208, 198, 198, 191,\n",
              "        184, 188, 182, 187, 185, 174, 178, 170, 144, 137, 107, 131, 140,\n",
              "         50,   0],\n",
              "       [  0,  98, 183, 189, 178, 172, 164, 163, 164, 156, 115, 111, 104,\n",
              "        109, 132, 127,  96,  79, 112,  78,  96,  88,  90,  61, 102, 110,\n",
              "          0,  36],\n",
              "       [  0,   0,   1,  96, 154, 209, 218, 225, 211, 182, 187, 198, 174,\n",
              "        198, 214, 205, 194, 186, 234, 154, 163, 180, 163, 197, 179, 192,\n",
              "        180,  70],\n",
              "       [  0,   0,   0,   0,   0,   6,  36,  67,  73, 117,  98, 116, 124,\n",
              "        104,  57,  33,  34,  35,  39, 115, 130, 122, 121, 104,  90,  51,\n",
              "          0,   0],\n",
              "       [  0,   0,   0,   0,   0,   0,   0,   0,   0,   0,   0,   0,   0,\n",
              "          0,   0,   0,   0,   0,   0,   0,   0,   0,   0,   0,   0,   0,\n",
              "          0,   0],\n",
              "       [  0,   0,   0,   0,   0,   0,   0,   0,   0,   0,   0,   0,   0,\n",
              "          0,   0,   0,   0,   0,   0,   0,   0,   0,   0,   0,   0,   0,\n",
              "          0,   0],\n",
              "       [  0,   0,   0,   0,   0,   0,   0,   0,   0,   0,   0,   0,   0,\n",
              "          0,   0,   0,   0,   0,   0,   0,   0,   0,   0,   0,   0,   0,\n",
              "          0,   0],\n",
              "       [  0,   0,   0,   0,   0,   0,   0,   0,   0,   0,   0,   0,   0,\n",
              "          0,   0,   0,   0,   0,   0,   0,   0,   0,   0,   0,   0,   0,\n",
              "          0,   0],\n",
              "       [  0,   0,   0,   0,   0,   0,   0,   0,   0,   0,   0,   0,   0,\n",
              "          0,   0,   0,   0,   0,   0,   0,   0,   0,   0,   0,   0,   0,\n",
              "          0,   0],\n",
              "       [  0,   0,   0,   0,   0,   0,   0,   0,   0,   0,   0,   0,   0,\n",
              "          0,   0,   0,   0,   0,   0,   0,   0,   0,   0,   0,   0,   0,\n",
              "          0,   0],\n",
              "       [  0,   0,   0,   0,   0,   0,   0,   0,   0,   0,   0,   0,   0,\n",
              "          0,   0,   0,   0,   0,   0,   0,   0,   0,   0,   0,   0,   0,\n",
              "          0,   0]], dtype=uint8)"
            ]
          },
          "metadata": {},
          "execution_count": 10
        }
      ]
    },
    {
      "cell_type": "code",
      "metadata": {
        "colab": {
          "base_uri": "https://localhost:8080/"
        },
        "id": "P5ieGjtRFNyw",
        "outputId": "5bb949ef-dad8-4f42-cc4c-684fb839b92b"
      },
      "source": [
        "test_labels"
      ],
      "execution_count": 11,
      "outputs": [
        {
          "output_type": "execute_result",
          "data": {
            "text/plain": [
              "array([9, 2, 1, ..., 8, 1, 5], dtype=uint8)"
            ]
          },
          "metadata": {},
          "execution_count": 11
        }
      ]
    },
    {
      "cell_type": "code",
      "metadata": {
        "colab": {
          "base_uri": "https://localhost:8080/"
        },
        "id": "kl6a9LjNFQo-",
        "outputId": "70698f62-3414-4e1c-c365-a27cb33d1fb0"
      },
      "source": [
        "#Sacamos la etiqueta de la imagen 8000\n",
        "test_labels[8000]"
      ],
      "execution_count": 12,
      "outputs": [
        {
          "output_type": "execute_result",
          "data": {
            "text/plain": [
              "7"
            ]
          },
          "metadata": {},
          "execution_count": 12
        }
      ]
    },
    {
      "cell_type": "markdown",
      "metadata": {
        "id": "DJyukMImFsmT"
      },
      "source": [
        "Imprimimos la imagen 8000 por pantalla utilizando matplotlib, y vemos que corresponde con el elemento 7 de nuestro vector, una zapatilla."
      ]
    },
    {
      "cell_type": "code",
      "metadata": {
        "colab": {
          "base_uri": "https://localhost:8080/",
          "height": 0
        },
        "id": "Fsnv_tgzFh3V",
        "outputId": "f867514b-225d-4de1-9b61-c433435b0ab6"
      },
      "source": [
        "digit = test_images[8000]\n",
        "plt.imshow(digit, cmap=plt.cm.binary)\n",
        "plt.show()"
      ],
      "execution_count": 13,
      "outputs": [
        {
          "output_type": "display_data",
          "data": {
            "image/png": "[encoded data removed]",
            "text/plain": [
              "<Figure size 432x288 with 1 Axes>"
            ]
          },
          "metadata": {
            "needs_background": "light"
          }
        }
      ]
    },
    {
      "cell_type": "markdown",
      "metadata": {
        "id": "8Otmkuhz-1YN"
      },
      "source": [
        "### **CREAMOS LAS RNA**"
      ]
    },
    {
      "cell_type": "markdown",
      "metadata": {
        "id": "JNIKFYVO7PUD"
      },
      "source": [
        "Una vez estudiado los datos vamos a crear 8 modelos diferentes de RNA,  los cuales van a ser definidos, configurados, entrenados, evaluados y mejorados para posteriormente usarlos para hacer predicciones.\n",
        "\n",
        "Para todos los modelos la red sera secuencial y tendrá dos capas tipo Dense (densamente conectadas). Cambiaremos el optimizador, la función de activación y el número de neuronas de la primera capa."
      ]
    },
    {
      "cell_type": "markdown",
      "metadata": {
        "id": "cIx3STD5G1ao"
      },
      "source": [
        "![Tabla.PNG](data:image/png;base64,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)"
      ]
    },
    {
      "cell_type": "markdown",
      "metadata": {
        "id": "Z-xgVgEK9IuO"
      },
      "source": [
        "Cada una de las neuronas de la capa de entrada están conectadas con los 784 píxeles de cada imagen (28*28). Solo lo \n",
        "definimos para la primera capa, para la segunda capa y posteriores, Keras lo \n",
        "deduce.\n",
        "\n",
        "Para todos los modelos, la segunda capa tendrá la función de activación \"softmax\" de 10 vías (o neuronas), en la que la salida de cada neurona corresponde a la probabilidad estimada de la clase correspondiente. Dada una imagen de entrada, obtendremos las probabilidades de que sea cada uno de las 10 posibles prendas. \n",
        "\n"
      ]
    },
    {
      "cell_type": "markdown",
      "metadata": {
        "id": "KAJ7Ee9z7txz"
      },
      "source": [
        "- Para los cuatro primeros modelos, la primera capa tendrá 10 neuronas."
      ]
    },
    {
      "cell_type": "code",
      "metadata": {
        "id": "-UWOX0bSlmYk"
      },
      "source": [
        "from keras import models\n",
        "from keras import layers"
      ],
      "execution_count": 14,
      "outputs": []
    },
    {
      "cell_type": "markdown",
      "metadata": {
        "id": "bBnpeb5E--Yq"
      },
      "source": [
        "**MODELO 1**"
      ]
    },
    {
      "cell_type": "code",
      "metadata": {
        "id": "GXiioLx3-9k0",
        "colab": {
          "base_uri": "https://localhost:8080/"
        },
        "outputId": "7f0e5eda-1931-43ab-b973-129c0820a70e"
      },
      "source": [
        "#función de activación: relu\n",
        "#optimizador: sgd\n",
        "network1 = models.Sequential()\n",
        "network1.add(layers.Dense(10, activation='relu', input_shape=(28*28,), name = 'capa1'))\n",
        "network1.add(layers.Dense(10, activation='softmax', name = 'capa2'))\n",
        "\n",
        "network1.summary()\n",
        "# 7850 = 784 x 10 + 10 Sesgo\n",
        "# 110 = 10 x 10 + 10 Sesgo\n",
        "# 7960 = 7850 + 110\n"
      ],
      "execution_count": 15,
      "outputs": [
        {
          "output_type": "stream",
          "name": "stdout",
          "text": [
            "Model: \"sequential\"\n",
            "_________________________________________________________________\n",
            "Layer (type)                 Output Shape              Param #   \n",
            "=================================================================\n",
            "capa1 (Dense)                (None, 10)                7850      \n",
            "_________________________________________________________________\n",
            "capa2 (Dense)                (None, 10)                110       \n",
            "=================================================================\n",
            "Total params: 7,960\n",
            "Trainable params: 7,960\n",
            "Non-trainable params: 0\n",
            "_________________________________________________________________\n"
          ]
        }
      ]
    },
    {
      "cell_type": "markdown",
      "metadata": {
        "id": "SeM3b2jDLNG0"
      },
      "source": [
        "**MODELO 2**"
      ]
    },
    {
      "cell_type": "code",
      "metadata": {
        "id": "nGcnSW1vK4wH",
        "colab": {
          "base_uri": "https://localhost:8080/"
        },
        "outputId": "9f6894d9-e78b-4644-81e1-1e08f5447312"
      },
      "source": [
        "#función de activación: relu\n",
        "#optimizador: rmsprop\n",
        "network2 = models.Sequential()\n",
        "network2.add(layers.Dense(10, activation='relu', input_shape=(28*28,), name = 'capa1'))\n",
        "network2.add(layers.Dense(10, activation='softmax', name = 'capa2'))\n",
        "\n",
        "network2.summary()"
      ],
      "execution_count": 16,
      "outputs": [
        {
          "output_type": "stream",
          "name": "stdout",
          "text": [
            "Model: \"sequential_1\"\n",
            "_________________________________________________________________\n",
            "Layer (type)                 Output Shape              Param #   \n",
            "=================================================================\n",
            "capa1 (Dense)                (None, 10)                7850      \n",
            "_________________________________________________________________\n",
            "capa2 (Dense)                (None, 10)                110       \n",
            "=================================================================\n",
            "Total params: 7,960\n",
            "Trainable params: 7,960\n",
            "Non-trainable params: 0\n",
            "_________________________________________________________________\n"
          ]
        }
      ]
    },
    {
      "cell_type": "markdown",
      "metadata": {
        "id": "G7wJ4UJpLIm5"
      },
      "source": [
        "**MODELO 3**"
      ]
    },
    {
      "cell_type": "code",
      "metadata": {
        "id": "cTsmGkh9nJJ8",
        "colab": {
          "base_uri": "https://localhost:8080/"
        },
        "outputId": "ade8896e-fdfb-4ad7-994f-5b0427615ac9"
      },
      "source": [
        "##función de activación: sigmoid\n",
        "#optimizador: sgd\n",
        "network3 = models.Sequential()\n",
        "network3.add(layers.Dense(10, activation='sigmoid', input_shape=(28*28,), name = 'capa1'))\n",
        "network3.add(layers.Dense(10, activation='softmax', name = 'capa2'))\n",
        "\n",
        "network3.summary()"
      ],
      "execution_count": 17,
      "outputs": [
        {
          "output_type": "stream",
          "name": "stdout",
          "text": [
            "Model: \"sequential_2\"\n",
            "_________________________________________________________________\n",
            "Layer (type)                 Output Shape              Param #   \n",
            "=================================================================\n",
            "capa1 (Dense)                (None, 10)                7850      \n",
            "_________________________________________________________________\n",
            "capa2 (Dense)                (None, 10)                110       \n",
            "=================================================================\n",
            "Total params: 7,960\n",
            "Trainable params: 7,960\n",
            "Non-trainable params: 0\n",
            "_________________________________________________________________\n"
          ]
        }
      ]
    },
    {
      "cell_type": "markdown",
      "metadata": {
        "id": "Xg4Q2yzTLSNj"
      },
      "source": [
        "**MODELO 4**"
      ]
    },
    {
      "cell_type": "code",
      "metadata": {
        "id": "_UN1q8TeLRmi",
        "colab": {
          "base_uri": "https://localhost:8080/"
        },
        "outputId": "f301339e-877a-46ed-8041-44f2fec2df07"
      },
      "source": [
        "#función de activación: sigmoid\n",
        "#optimizador: rmsprop\n",
        "network4 = models.Sequential()\n",
        "network4.add(layers.Dense(10, activation='sigmoid', input_shape=(28*28,), name = 'capa1'))\n",
        "network4.add(layers.Dense(10, activation='softmax', name = 'capa2'))\n",
        "\n",
        "network4.summary()"
      ],
      "execution_count": 18,
      "outputs": [
        {
          "output_type": "stream",
          "name": "stdout",
          "text": [
            "Model: \"sequential_3\"\n",
            "_________________________________________________________________\n",
            "Layer (type)                 Output Shape              Param #   \n",
            "=================================================================\n",
            "capa1 (Dense)                (None, 10)                7850      \n",
            "_________________________________________________________________\n",
            "capa2 (Dense)                (None, 10)                110       \n",
            "=================================================================\n",
            "Total params: 7,960\n",
            "Trainable params: 7,960\n",
            "Non-trainable params: 0\n",
            "_________________________________________________________________\n"
          ]
        }
      ]
    },
    {
      "cell_type": "markdown",
      "metadata": {
        "id": "dUChZO0938zT"
      },
      "source": [
        "- Para los cuatro últimos modelos, la primera capa tendrá 512 neuronas."
      ]
    },
    {
      "cell_type": "markdown",
      "metadata": {
        "id": "GXJE9N92xeT9"
      },
      "source": [
        "**MODELO 5**"
      ]
    },
    {
      "cell_type": "code",
      "metadata": {
        "id": "CrAdwvJDxR5K",
        "colab": {
          "base_uri": "https://localhost:8080/"
        },
        "outputId": "f66913c8-a47a-4d63-d50e-a9d0717bf4df"
      },
      "source": [
        "#función de activación: relu\n",
        "#optimizador: sgd\n",
        "network5 = models.Sequential()\n",
        "network5.add(layers.Dense(512, activation='relu', input_shape=(28*28,), name = 'capa1'))\n",
        "network5.add(layers.Dense(10, activation='softmax', name = 'capa2'))\n",
        "\n",
        "network5.summary()\n",
        "# 401920 = 784 x 512 + 512 Sesgo\n",
        "# 5130 = 512 x 512 + 512 Sesgo\n",
        "# 407050 = 401920 + 5130"
      ],
      "execution_count": 19,
      "outputs": [
        {
          "output_type": "stream",
          "name": "stdout",
          "text": [
            "Model: \"sequential_4\"\n",
            "_________________________________________________________________\n",
            "Layer (type)                 Output Shape              Param #   \n",
            "=================================================================\n",
            "capa1 (Dense)                (None, 512)               401920    \n",
            "_________________________________________________________________\n",
            "capa2 (Dense)                (None, 10)                5130      \n",
            "=================================================================\n",
            "Total params: 407,050\n",
            "Trainable params: 407,050\n",
            "Non-trainable params: 0\n",
            "_________________________________________________________________\n"
          ]
        }
      ]
    },
    {
      "cell_type": "markdown",
      "metadata": {
        "id": "2HqXKP0_xh_Y"
      },
      "source": [
        "**MODELO 6**"
      ]
    },
    {
      "cell_type": "code",
      "metadata": {
        "id": "6eHrw4OOxTHL",
        "colab": {
          "base_uri": "https://localhost:8080/"
        },
        "outputId": "ddbc15b8-2704-441f-fc12-e2ffb485bb1e"
      },
      "source": [
        "#función de activación: relu\n",
        "#optimizador: rmsprop\n",
        "network6 = models.Sequential()\n",
        "network6.add(layers.Dense(512, activation='relu', input_shape=(28*28,), name = 'capa1'))\n",
        "network6.add(layers.Dense(10, activation='softmax', name = 'capa2'))\n",
        "\n",
        "network6.summary()"
      ],
      "execution_count": 20,
      "outputs": [
        {
          "output_type": "stream",
          "name": "stdout",
          "text": [
            "Model: \"sequential_5\"\n",
            "_________________________________________________________________\n",
            "Layer (type)                 Output Shape              Param #   \n",
            "=================================================================\n",
            "capa1 (Dense)                (None, 512)               401920    \n",
            "_________________________________________________________________\n",
            "capa2 (Dense)                (None, 10)                5130      \n",
            "=================================================================\n",
            "Total params: 407,050\n",
            "Trainable params: 407,050\n",
            "Non-trainable params: 0\n",
            "_________________________________________________________________\n"
          ]
        }
      ]
    },
    {
      "cell_type": "markdown",
      "metadata": {
        "id": "w6waIY59xsv4"
      },
      "source": [
        "**MODELO 7**"
      ]
    },
    {
      "cell_type": "code",
      "metadata": {
        "id": "tQ1YAKhjxTms",
        "colab": {
          "base_uri": "https://localhost:8080/"
        },
        "outputId": "1e60682f-bea8-40f8-8037-4d9c1f80a691"
      },
      "source": [
        "#función de activación: sigmoid\n",
        "#optimizador: sgd\n",
        "network7 = models.Sequential()\n",
        "network7.add(layers.Dense(512, activation='sigmoid', input_shape=(28*28,), name = 'capa1'))\n",
        "network7.add(layers.Dense(10, activation='softmax', name = 'capa2'))\n",
        "\n",
        "network7.summary()\n"
      ],
      "execution_count": 21,
      "outputs": [
        {
          "output_type": "stream",
          "name": "stdout",
          "text": [
            "Model: \"sequential_6\"\n",
            "_________________________________________________________________\n",
            "Layer (type)                 Output Shape              Param #   \n",
            "=================================================================\n",
            "capa1 (Dense)                (None, 512)               401920    \n",
            "_________________________________________________________________\n",
            "capa2 (Dense)                (None, 10)                5130      \n",
            "=================================================================\n",
            "Total params: 407,050\n",
            "Trainable params: 407,050\n",
            "Non-trainable params: 0\n",
            "_________________________________________________________________\n"
          ]
        }
      ]
    },
    {
      "cell_type": "markdown",
      "metadata": {
        "id": "hnJmJeymxzLY"
      },
      "source": [
        "**MODELO 8**"
      ]
    },
    {
      "cell_type": "code",
      "metadata": {
        "id": "cPjP7v5AxUBx",
        "colab": {
          "base_uri": "https://localhost:8080/"
        },
        "outputId": "e71b661a-7732-442a-cfa7-c4608b667f91"
      },
      "source": [
        "#función de activación: sigmoid\n",
        "#optimizador: rmsprop\n",
        "network8 = models.Sequential()\n",
        "network8.add(layers.Dense(512, activation='sigmoid', input_shape=(28*28,), name = 'capa1'))\n",
        "network8.add(layers.Dense(10, activation='softmax', name = 'capa2'))\n",
        "\n",
        "network8.summary()\n"
      ],
      "execution_count": 22,
      "outputs": [
        {
          "output_type": "stream",
          "name": "stdout",
          "text": [
            "Model: \"sequential_7\"\n",
            "_________________________________________________________________\n",
            "Layer (type)                 Output Shape              Param #   \n",
            "=================================================================\n",
            "capa1 (Dense)                (None, 512)               401920    \n",
            "_________________________________________________________________\n",
            "capa2 (Dense)                (None, 10)                5130      \n",
            "=================================================================\n",
            "Total params: 407,050\n",
            "Trainable params: 407,050\n",
            "Non-trainable params: 0\n",
            "_________________________________________________________________\n"
          ]
        }
      ]
    },
    {
      "cell_type": "markdown",
      "metadata": {
        "id": "vLH3Tx52_stW"
      },
      "source": [
        "**COMPILACIÓN**\n",
        "\n",
        "* Para el algoritmo optimizador utilizamos '**rmsprop**' (Root Mean Square \n",
        "Propagation), o '**sgd**' (Stocastic Gradient Descendent), dependiendo del modelo.\n",
        "\n",
        "* Para la función de pérdida elegimos **spars_categorical_crossentropy** que se utiliza como señal de retroalimentación para aprender los tensores de peso y que la fase de entrenamiento se intente minimizar.\n",
        "\n",
        "* Para la precisión utilizaremos **accuracy**: Solo tendremos en cuenta la fracción de imágenes que son correctamente clasificadas.\n"
      ]
    },
    {
      "cell_type": "code",
      "metadata": {
        "id": "FNiZtwzl_JCa"
      },
      "source": [
        "network1.compile(optimizer='sgd', \n",
        "                loss='sparse_categorical_crossentropy',\n",
        "                metrics=['accuracy'])"
      ],
      "execution_count": 23,
      "outputs": []
    },
    {
      "cell_type": "code",
      "metadata": {
        "id": "r2CCBycG_JdW"
      },
      "source": [
        "network2.compile(optimizer='rmsprop', \n",
        "                loss='sparse_categorical_crossentropy',\n",
        "                metrics=['accuracy'])"
      ],
      "execution_count": 24,
      "outputs": []
    },
    {
      "cell_type": "code",
      "metadata": {
        "id": "GIhhD9OR_J-u"
      },
      "source": [
        "network3.compile(optimizer='sgd', \n",
        "                loss='sparse_categorical_crossentropy',\n",
        "                metrics=['accuracy'])"
      ],
      "execution_count": 25,
      "outputs": []
    },
    {
      "cell_type": "code",
      "metadata": {
        "id": "MtKu5FJRLfpD"
      },
      "source": [
        "network4.compile(optimizer='rmsprop', \n",
        "                loss='sparse_categorical_crossentropy',\n",
        "                metrics=['accuracy'])"
      ],
      "execution_count": 26,
      "outputs": []
    },
    {
      "cell_type": "code",
      "metadata": {
        "id": "ZSa_NASex875"
      },
      "source": [
        "network5.compile(optimizer='sgd', \n",
        "                loss='sparse_categorical_crossentropy',\n",
        "                metrics=['accuracy'])"
      ],
      "execution_count": 27,
      "outputs": []
    },
    {
      "cell_type": "code",
      "metadata": {
        "id": "rvDowZzwx9bu"
      },
      "source": [
        "network6.compile(optimizer='rmsprop', \n",
        "                loss='sparse_categorical_crossentropy',\n",
        "                metrics=['accuracy'])"
      ],
      "execution_count": 28,
      "outputs": []
    },
    {
      "cell_type": "code",
      "metadata": {
        "id": "4ZB7Q2ZVx96-"
      },
      "source": [
        "network7.compile(optimizer='sgd', \n",
        "                loss='sparse_categorical_crossentropy',\n",
        "                metrics=['accuracy'])"
      ],
      "execution_count": 29,
      "outputs": []
    },
    {
      "cell_type": "code",
      "metadata": {
        "id": "yLgRk4Nsx-Z7"
      },
      "source": [
        "network8.compile(optimizer='rmsprop', \n",
        "                loss='sparse_categorical_crossentropy',\n",
        "                metrics=['accuracy'])"
      ],
      "execution_count": 30,
      "outputs": []
    },
    {
      "cell_type": "markdown",
      "metadata": {
        "id": "kTPfIw6tZCL3"
      },
      "source": [
        "### **TRANSFORMACIÓN DATOS**"
      ]
    },
    {
      "cell_type": "markdown",
      "metadata": {
        "id": "6cbb7g61BeaM"
      },
      "source": [
        "Antes del entrenamiento, preprocesaremos nuestros datos dándoles la forma que espera la red y escalando para que todos los valores estén en el intervalo [0, 1]. Pasando de una matriz de forma (60000, 28, 28) con valores en el intervalo [0, 255] a una matriz de forma float32 con forma (60000, 28 * 28) con valores entre 0 y 1"
      ]
    },
    {
      "cell_type": "code",
      "metadata": {
        "id": "pGfryO7SZC7t",
        "colab": {
          "base_uri": "https://localhost:8080/"
        },
        "outputId": "303c6995-439b-45e0-8bee-fa280d58b10b"
      },
      "source": [
        "# PREPARAMOS LOS DATOS DE IMAGEN CON ALGUNA TRANSFORMACIÓN. NORMALIZACION\n",
        "\n",
        "# Cambiamos el tamaño de las imágenes de entrenamiento \n",
        "train_images = train_images.reshape((60000, 28 * 28))\n",
        "train_images, len(train_images), train_images.shape"
      ],
      "execution_count": 31,
      "outputs": [
        {
          "output_type": "execute_result",
          "data": {
            "text/plain": [
              "(array([[0, 0, 0, ..., 0, 0, 0],\n",
              "        [0, 0, 0, ..., 0, 0, 0],\n",
              "        [0, 0, 0, ..., 0, 0, 0],\n",
              "        ...,\n",
              "        [0, 0, 0, ..., 0, 0, 0],\n",
              "        [0, 0, 0, ..., 0, 0, 0],\n",
              "        [0, 0, 0, ..., 0, 0, 0]], dtype=uint8), 60000, (60000, 784))"
            ]
          },
          "metadata": {},
          "execution_count": 31
        }
      ]
    },
    {
      "cell_type": "code",
      "metadata": {
        "id": "sUd3O774Zi8j",
        "colab": {
          "base_uri": "https://localhost:8080/"
        },
        "outputId": "dc204a00-8ce9-4da7-c3eb-0c9cae303ec9"
      },
      "source": [
        "# Convertimos los valores de las matrices en valores entre 0 y 1\n",
        "train_images = train_images.astype('float32') / 255\n",
        "train_images, len(train_images), train_images.shape, train_images[50000]"
      ],
      "execution_count": 32,
      "outputs": [
        {
          "output_type": "execute_result",
          "data": {
            "text/plain": [
              "(array([[0., 0., 0., ..., 0., 0., 0.],\n",
              "        [0., 0., 0., ..., 0., 0., 0.],\n",
              "        [0., 0., 0., ..., 0., 0., 0.],\n",
              "        ...,\n",
              "        [0., 0., 0., ..., 0., 0., 0.],\n",
              "        [0., 0., 0., ..., 0., 0., 0.],\n",
              "        [0., 0., 0., ..., 0., 0., 0.]], dtype=float32),\n",
              " 60000,\n",
              " (60000, 784),\n",
              " array([0.        , 0.        , 0.        , 0.        , 0.        ,\n",
              "        0.        , 0.        , 0.        , 0.        , 0.        ,\n",
              "        0.        , 0.        , 0.        , 0.        , 0.        ,\n",
              "        0.        , 0.        , 0.        , 0.        , 0.        ,\n",
              "        0.        , 0.        , 0.        , 0.        , 0.        ,\n",
              "        0.        , 0.        , 0.        , 0.        , 0.        ,\n",
              "        0.        , 0.        , 0.        , 0.        , 0.        ,\n",
              "        0.        , 0.        , 0.        , 0.        , 0.        ,\n",
              "        0.        , 0.        , 0.        , 0.        , 0.        ,\n",
              "        0.        , 0.        , 0.        , 0.        , 0.        ,\n",
              "        0.        , 0.        , 0.        , 0.        , 0.        ,\n",
              "        0.        , 0.        , 0.        , 0.        , 0.        ,\n",
              "        0.        , 0.        , 0.        , 0.        , 0.        ,\n",
              "        0.        , 0.        , 0.        , 0.        , 0.        ,\n",
              "        0.        , 0.        , 0.        , 0.        , 0.        ,\n",
              "        0.        , 0.        , 0.        , 0.        , 0.        ,\n",
              "        0.        , 0.        , 0.        , 0.        , 0.        ,\n",
              "        0.        , 0.        , 0.        , 0.        , 0.        ,\n",
              "        0.        , 0.        , 0.        , 0.        , 0.        ,\n",
              "        0.        , 0.        , 0.        , 0.        , 0.        ,\n",
              "        0.        , 0.        , 0.        , 0.        , 0.        ,\n",
              "        0.        , 0.        , 0.        , 0.        , 0.        ,\n",
              "        0.        , 0.        , 0.        , 0.        , 0.        ,\n",
              "        0.        , 0.        , 0.        , 0.        , 0.        ,\n",
              "        0.        , 0.00392157, 0.        , 0.        , 0.        ,\n",
              "        0.        , 0.00784314, 0.        , 0.00392157, 0.        ,\n",
              "        0.0627451 , 0.36862746, 0.        , 0.        , 0.00784314,\n",
              "        0.00392157, 0.00392157, 0.        , 0.00392157, 0.        ,\n",
              "        0.        , 0.        , 0.        , 0.        , 0.        ,\n",
              "        0.        , 0.        , 0.        , 0.        , 0.        ,\n",
              "        0.00392157, 0.        , 0.00392157, 0.00392157, 0.        ,\n",
              "        0.        , 0.00392157, 0.        , 0.39607844, 0.76862746,\n",
              "        0.73333335, 0.03137255, 0.        , 0.        , 0.        ,\n",
              "        0.00392157, 0.        , 0.        , 0.        , 0.        ,\n",
              "        0.        , 0.        , 0.        , 0.        , 0.        ,\n",
              "        0.        , 0.        , 0.        , 0.00392157, 0.        ,\n",
              "        0.00392157, 0.00392157, 0.        , 0.00392157, 0.        ,\n",
              "        0.        , 0.6313726 , 0.654902  , 0.6509804 , 0.4392157 ,\n",
              "        0.04313726, 0.00392157, 0.        , 0.        , 0.02352941,\n",
              "        0.        , 0.        , 0.        , 0.        , 0.        ,\n",
              "        0.        , 0.        , 0.        , 0.        , 0.        ,\n",
              "        0.00392157, 0.        , 0.        , 0.        , 0.        ,\n",
              "        0.        , 0.01176471, 0.        , 0.4745098 , 0.8352941 ,\n",
              "        0.73333335, 0.7176471 , 0.7058824 , 0.7019608 , 0.60784316,\n",
              "        0.5764706 , 0.5058824 , 0.6862745 , 0.03137255, 0.        ,\n",
              "        0.        , 0.        , 0.        , 0.        , 0.        ,\n",
              "        0.        , 0.        , 0.        , 0.        , 0.00392157,\n",
              "        0.        , 0.        , 0.00392157, 0.00784314, 0.00392157,\n",
              "        0.        , 0.46666667, 0.7764706 , 0.7176471 , 0.7254902 ,\n",
              "        0.6666667 , 0.7254902 , 0.6745098 , 0.6666667 , 0.6666667 ,\n",
              "        0.57254905, 0.00784314, 0.        , 0.        , 0.        ,\n",
              "        0.        , 0.        , 0.        , 0.        , 0.        ,\n",
              "        0.        , 0.        , 0.        , 0.        , 0.        ,\n",
              "        0.00784314, 0.01176471, 0.        , 0.        , 0.6862745 ,\n",
              "        0.8156863 , 0.6901961 , 0.83137256, 0.7058824 , 0.68235296,\n",
              "        0.6509804 , 0.6431373 , 0.6431373 , 0.5647059 , 0.        ,\n",
              "        0.        , 0.        , 0.        , 0.        , 0.        ,\n",
              "        0.        , 0.        , 0.        , 0.        , 0.        ,\n",
              "        0.        , 0.        , 0.        , 0.00784314, 0.        ,\n",
              "        0.        , 0.28627452, 1.        , 0.7529412 , 0.5254902 ,\n",
              "        0.6862745 , 0.7176471 , 0.7529412 , 0.72156864, 0.7411765 ,\n",
              "        0.7019608 , 0.75686276, 0.        , 0.        , 0.        ,\n",
              "        0.        , 0.        , 0.        , 0.        , 0.        ,\n",
              "        0.        , 0.        , 0.        , 0.        , 0.00784314,\n",
              "        0.00392157, 0.        , 0.        , 0.27450982, 0.7529412 ,\n",
              "        0.6666667 , 0.5254902 , 0.7411765 , 0.7529412 , 0.6862745 ,\n",
              "        0.6156863 , 0.6117647 , 0.67058825, 0.58431375, 0.7058824 ,\n",
              "        0.03137255, 0.        , 0.        , 0.        , 0.00392157,\n",
              "        0.        , 0.        , 0.        , 0.        , 0.        ,\n",
              "        0.00392157, 0.01176471, 0.00392157, 0.        , 0.13725491,\n",
              "        0.3882353 , 0.70980394, 0.7176471 , 0.49411765, 0.6862745 ,\n",
              "        0.77254903, 0.8156863 , 0.79607844, 0.77254903, 0.7372549 ,\n",
              "        0.6862745 , 0.61960787, 0.73333335, 0.05490196, 0.00392157,\n",
              "        0.00392157, 0.        , 0.        , 0.00392157, 0.00392157,\n",
              "        0.00392157, 0.00392157, 0.00784314, 0.00784314, 0.        ,\n",
              "        0.        , 0.27450982, 0.7372549 , 0.7372549 , 0.45490196,\n",
              "        0.5137255 , 0.7058824 , 0.7921569 , 0.74509805, 0.70980394,\n",
              "        0.7372549 , 0.73333335, 0.6862745 , 0.654902  , 0.6117647 ,\n",
              "        0.78039217, 0.13333334, 0.        , 0.        , 0.01176471,\n",
              "        0.01176471, 0.00784314, 0.        , 0.        , 0.        ,\n",
              "        0.        , 0.        , 0.01176471, 0.27058825, 0.7019608 ,\n",
              "        0.41568628, 0.5254902 , 0.5921569 , 0.73333335, 0.7176471 ,\n",
              "        0.69803923, 0.67058825, 0.6627451 , 0.73333335, 0.73333335,\n",
              "        0.7176471 , 0.7372549 , 0.654902  , 0.8235294 , 0.20784314,\n",
              "        0.        , 0.        , 0.        , 0.        , 0.        ,\n",
              "        0.        , 0.00392157, 0.04313726, 0.07450981, 0.22352941,\n",
              "        0.44705883, 0.50980395, 0.49019608, 0.5058824 , 0.627451  ,\n",
              "        0.68235296, 0.69803923, 0.72156864, 0.7254902 , 0.76862746,\n",
              "        0.77254903, 0.7764706 , 0.7529412 , 0.7372549 , 0.7411765 ,\n",
              "        0.6509804 , 0.827451  , 0.20392157, 0.02745098, 0.        ,\n",
              "        0.11372549, 0.34117648, 0.34509805, 0.4117647 , 0.39607844,\n",
              "        0.3882353 , 0.42352942, 0.43137255, 0.43137255, 0.5372549 ,\n",
              "        0.60784316, 0.6509804 , 0.68235296, 0.7019608 , 0.68235296,\n",
              "        0.6901961 , 0.7058824 , 0.70980394, 0.70980394, 0.7058824 ,\n",
              "        0.7058824 , 0.72156864, 0.68235296, 0.6627451 , 0.827451  ,\n",
              "        0.25882354, 0.        , 0.07450981, 0.56078434, 0.46666667,\n",
              "        0.4509804 , 0.45490196, 0.43529412, 0.44705883, 0.46666667,\n",
              "        0.45490196, 0.49019608, 0.54509807, 0.5764706 , 0.60784316,\n",
              "        0.61960787, 0.6313726 , 0.6666667 , 0.6745098 , 0.68235296,\n",
              "        0.68235296, 0.7019608 , 0.7372549 , 0.7529412 , 0.72156864,\n",
              "        0.6666667 , 0.68235296, 0.79607844, 0.33333334, 0.        ,\n",
              "        0.38431373, 0.63529414, 0.5803922 , 0.57254905, 0.54901963,\n",
              "        0.5372549 , 0.57254905, 0.5764706 , 0.59607846, 0.6       ,\n",
              "        0.60784316, 0.61960787, 0.6431373 , 0.6509804 , 0.6627451 ,\n",
              "        0.67058825, 0.6745098 , 0.7019608 , 0.6862745 , 0.6901961 ,\n",
              "        0.7058824 , 0.73333335, 0.7058824 , 0.7058824 , 0.7176471 ,\n",
              "        0.77254903, 0.36078432, 0.19215687, 0.5019608 , 0.52156866,\n",
              "        0.63529414, 0.6862745 , 0.7019608 , 0.69803923, 0.64705884,\n",
              "        0.63529414, 0.6156863 , 0.61960787, 0.64705884, 0.69803923,\n",
              "        0.7058824 , 0.7058824 , 0.73333335, 0.74509805, 0.7607843 ,\n",
              "        0.7921569 , 0.8117647 , 0.8235294 , 0.8039216 , 0.84705883,\n",
              "        0.8509804 , 0.83137256, 0.83137256, 0.84705883, 0.36862746,\n",
              "        0.10980392, 0.5137255 , 0.5411765 , 0.54901963, 0.5647059 ,\n",
              "        0.6313726 , 0.67058825, 0.72156864, 0.76862746, 0.7607843 ,\n",
              "        0.7607843 , 0.77254903, 0.8039216 , 0.8156863 , 0.80784315,\n",
              "        0.7921569 , 0.7882353 , 0.7882353 , 0.77254903, 0.7607843 ,\n",
              "        0.74509805, 0.7058824 , 0.6862745 , 0.64705884, 0.59607846,\n",
              "        0.5764706 , 0.6156863 , 0.4392157 , 0.        , 0.        ,\n",
              "        0.1882353 , 0.45490196, 0.61960787, 0.6431373 , 0.5921569 ,\n",
              "        0.6156863 , 0.627451  , 0.6627451 , 0.6745098 , 0.6745098 ,\n",
              "        0.6745098 , 0.7176471 , 0.7254902 , 0.7921569 , 0.70980394,\n",
              "        0.67058825, 0.59607846, 0.6666667 , 0.6666667 , 0.63529414,\n",
              "        0.654902  , 0.6862745 , 0.6666667 , 0.63529414, 0.6156863 ,\n",
              "        0.48235294, 0.01176471, 0.        , 0.        , 0.        ,\n",
              "        0.02352941, 0.20784314, 0.4117647 , 0.56078434, 0.6627451 ,\n",
              "        0.64705884, 0.7254902 , 0.7176471 , 0.7607843 , 0.6745098 ,\n",
              "        0.27058825, 0.14901961, 0.07843138, 0.00392157, 0.        ,\n",
              "        0.2627451 , 0.84705883, 0.8352941 , 0.7921569 , 0.8235294 ,\n",
              "        0.8156863 , 0.7764706 , 0.7529412 , 0.5254902 , 0.        ,\n",
              "        0.00784314, 0.00784314, 0.        , 0.        , 0.        ,\n",
              "        0.        , 0.        , 0.        , 0.        , 0.        ,\n",
              "        0.        , 0.01960784, 0.00392157, 0.        , 0.        ,\n",
              "        0.        , 0.00392157, 0.        , 0.        , 0.18431373,\n",
              "        0.21960784, 0.1882353 , 0.16078432, 0.16862746, 0.15294118,\n",
              "        0.13725491, 0.00392157, 0.        , 0.        , 0.        ,\n",
              "        0.        , 0.        , 0.        , 0.        , 0.        ,\n",
              "        0.        , 0.        , 0.        , 0.        , 0.        ,\n",
              "        0.        , 0.        , 0.        , 0.        , 0.        ,\n",
              "        0.        , 0.        , 0.        , 0.        , 0.        ,\n",
              "        0.        , 0.        , 0.        , 0.        , 0.        ,\n",
              "        0.        , 0.        , 0.        , 0.        , 0.        ,\n",
              "        0.        , 0.        , 0.        , 0.        , 0.        ,\n",
              "        0.        , 0.        , 0.        , 0.        , 0.        ,\n",
              "        0.        , 0.        , 0.        , 0.        , 0.        ,\n",
              "        0.        , 0.        , 0.        , 0.        , 0.        ,\n",
              "        0.        , 0.        , 0.        , 0.        , 0.        ,\n",
              "        0.        , 0.        , 0.        , 0.        , 0.        ,\n",
              "        0.        , 0.        , 0.        , 0.        , 0.        ,\n",
              "        0.        , 0.        , 0.        , 0.        , 0.        ,\n",
              "        0.        , 0.        , 0.        , 0.        , 0.        ,\n",
              "        0.        , 0.        , 0.        , 0.        , 0.        ,\n",
              "        0.        , 0.        , 0.        , 0.        , 0.        ,\n",
              "        0.        , 0.        , 0.        , 0.        , 0.        ,\n",
              "        0.        , 0.        , 0.        , 0.        , 0.        ,\n",
              "        0.        , 0.        , 0.        , 0.        , 0.        ,\n",
              "        0.        , 0.        , 0.        , 0.        , 0.        ,\n",
              "        0.        , 0.        , 0.        , 0.        ], dtype=float32))"
            ]
          },
          "metadata": {},
          "execution_count": 32
        }
      ]
    },
    {
      "cell_type": "code",
      "metadata": {
        "id": "-KG9BOFLZnLk"
      },
      "source": [
        "# Repetimos los pasos anteriores para las imágenes de prueba\n",
        "test_images = test_images.reshape((10000, 28 * 28))\n",
        "test_images = test_images.astype('float32') / 255"
      ],
      "execution_count": 33,
      "outputs": []
    },
    {
      "cell_type": "markdown",
      "metadata": {
        "id": "Vx9-JX0X5Np1"
      },
      "source": [
        "### **PREPARACIÓN DE ETIQUETAS**"
      ]
    },
    {
      "cell_type": "markdown",
      "metadata": {
        "id": "1VcrbmKsKI4h"
      },
      "source": [
        "Como hemos elegido la función de pérdida **spars_categorical_cossentropy** no necesitamos preprocesamiento de los datos, es decir, nos permite usar numeros enteros, por ello usamos la función Flatten.\n",
        "\n",
        "La función `Flatten`, transforma el vector de entrada en uno unidimensional, manteniendo todos los valores en el vector. \n",
        "\n",
        "Por ejemplo, un vector (muestras, 10, 20, 1) se aplanará a (muestras, 10 * 20 * 1).\n",
        "\n"
      ]
    },
    {
      "cell_type": "code",
      "metadata": {
        "id": "rUX69CgzZskU"
      },
      "source": [
        "network1.add(layers.Flatten(input_shape=(28,28)))\n",
        "network2.add(layers.Flatten(input_shape=(28,28)))\n",
        "network3.add(layers.Flatten(input_shape=(28,28)))\n",
        "network4.add(layers.Flatten(input_shape=(28,28)))\n",
        "network5.add(layers.Flatten(input_shape=(28,28)))\n",
        "network6.add(layers.Flatten(input_shape=(28,28)))\n",
        "network7.add(layers.Flatten(input_shape=(28,28)))\n",
        "network8.add(layers.Flatten(input_shape=(28,28)))"
      ],
      "execution_count": 34,
      "outputs": []
    },
    {
      "cell_type": "markdown",
      "metadata": {
        "id": "QepOz3kqsj4b"
      },
      "source": [
        "### **Entrenamos las redes de neuronas**\n",
        "\n",
        "Utilizamos la función `fit` que devuelve los valores de pérdida y de precisión de la red para las imágenes de entrenamiento.\n"
      ]
    },
    {
      "cell_type": "code",
      "metadata": {
        "id": "H4TLE9XyZw5_",
        "colab": {
          "base_uri": "https://localhost:8080/"
        },
        "outputId": "9e0a7ebb-0e3a-42b2-c724-7d9ef22f820d"
      },
      "source": [
        "network1.fit(train_images, train_labels, epochs=5, batch_size=128)"
      ],
      "execution_count": 35,
      "outputs": [
        {
          "output_type": "stream",
          "name": "stdout",
          "text": [
            "Epoch 1/5\n",
            "469/469 [==============================] - 2s 2ms/step - loss: 1.5351 - accuracy: 0.4669\n",
            "Epoch 2/5\n",
            "469/469 [==============================] - 1s 2ms/step - loss: 0.9113 - accuracy: 0.6781\n",
            "Epoch 3/5\n",
            "469/469 [==============================] - 1s 2ms/step - loss: 0.7575 - accuracy: 0.7361\n",
            "Epoch 4/5\n",
            "469/469 [==============================] - 1s 2ms/step - loss: 0.6777 - accuracy: 0.7698\n",
            "Epoch 5/5\n",
            "469/469 [==============================] - 1s 2ms/step - loss: 0.6268 - accuracy: 0.7876\n"
          ]
        },
        {
          "output_type": "execute_result",
          "data": {
            "text/plain": [
              "<keras.callbacks.History at 0x7f3eabdc5e90>"
            ]
          },
          "metadata": {},
          "execution_count": 35
        }
      ]
    },
    {
      "cell_type": "code",
      "metadata": {
        "id": "glafWhSCsU72",
        "colab": {
          "base_uri": "https://localhost:8080/"
        },
        "outputId": "01c196b7-9fad-4b6c-c9db-b5c91a445848"
      },
      "source": [
        "network2.fit(train_images, train_labels, epochs=5, batch_size=128)"
      ],
      "execution_count": 36,
      "outputs": [
        {
          "output_type": "stream",
          "name": "stdout",
          "text": [
            "Epoch 1/5\n",
            "469/469 [==============================] - 2s 3ms/step - loss: 0.8990 - accuracy: 0.7058\n",
            "Epoch 2/5\n",
            "469/469 [==============================] - 1s 3ms/step - loss: 0.5343 - accuracy: 0.8174\n",
            "Epoch 3/5\n",
            "469/469 [==============================] - 1s 3ms/step - loss: 0.4816 - accuracy: 0.8328\n",
            "Epoch 4/5\n",
            "469/469 [==============================] - 1s 3ms/step - loss: 0.4551 - accuracy: 0.8435\n",
            "Epoch 5/5\n",
            "469/469 [==============================] - 1s 3ms/step - loss: 0.4384 - accuracy: 0.8480\n"
          ]
        },
        {
          "output_type": "execute_result",
          "data": {
            "text/plain": [
              "<keras.callbacks.History at 0x7f3ea86ce5d0>"
            ]
          },
          "metadata": {},
          "execution_count": 36
        }
      ]
    },
    {
      "cell_type": "code",
      "metadata": {
        "id": "k2HEa5TesXDb",
        "colab": {
          "base_uri": "https://localhost:8080/"
        },
        "outputId": "7d47a5f7-20b9-4c01-d885-917fe00ceebb"
      },
      "source": [
        "network3.fit(train_images, train_labels, epochs=5, batch_size=128)"
      ],
      "execution_count": 37,
      "outputs": [
        {
          "output_type": "stream",
          "name": "stdout",
          "text": [
            "Epoch 1/5\n",
            "469/469 [==============================] - 1s 2ms/step - loss: 2.1402 - accuracy: 0.2905\n",
            "Epoch 2/5\n",
            "469/469 [==============================] - 1s 2ms/step - loss: 1.8530 - accuracy: 0.5263\n",
            "Epoch 3/5\n",
            "469/469 [==============================] - 1s 2ms/step - loss: 1.6700 - accuracy: 0.6239\n",
            "Epoch 4/5\n",
            "469/469 [==============================] - 1s 2ms/step - loss: 1.5174 - accuracy: 0.6492\n",
            "Epoch 5/5\n",
            "469/469 [==============================] - 1s 2ms/step - loss: 1.3897 - accuracy: 0.6645\n"
          ]
        },
        {
          "output_type": "execute_result",
          "data": {
            "text/plain": [
              "<keras.callbacks.History at 0x7f3eabc36910>"
            ]
          },
          "metadata": {},
          "execution_count": 37
        }
      ]
    },
    {
      "cell_type": "code",
      "metadata": {
        "id": "xPdr2LILsZQg",
        "colab": {
          "base_uri": "https://localhost:8080/"
        },
        "outputId": "b1b53379-d4c5-481c-f5ca-c8b493c9a6cc"
      },
      "source": [
        "network4.fit(train_images, train_labels, epochs=5, batch_size=128)"
      ],
      "execution_count": 38,
      "outputs": [
        {
          "output_type": "stream",
          "name": "stdout",
          "text": [
            "Epoch 1/5\n",
            "469/469 [==============================] - 2s 2ms/step - loss: 1.4322 - accuracy: 0.6036\n",
            "Epoch 2/5\n",
            "469/469 [==============================] - 1s 3ms/step - loss: 0.8670 - accuracy: 0.7339\n",
            "Epoch 3/5\n",
            "469/469 [==============================] - 1s 2ms/step - loss: 0.6690 - accuracy: 0.8015\n",
            "Epoch 4/5\n",
            "469/469 [==============================] - 1s 3ms/step - loss: 0.5641 - accuracy: 0.8259\n",
            "Epoch 5/5\n",
            "469/469 [==============================] - 1s 2ms/step - loss: 0.5053 - accuracy: 0.8375\n"
          ]
        },
        {
          "output_type": "execute_result",
          "data": {
            "text/plain": [
              "<keras.callbacks.History at 0x7f3eabb8fd90>"
            ]
          },
          "metadata": {},
          "execution_count": 38
        }
      ]
    },
    {
      "cell_type": "code",
      "metadata": {
        "id": "XYjvEWp8ychs",
        "colab": {
          "base_uri": "https://localhost:8080/"
        },
        "outputId": "752fd635-f935-4ad5-90f8-36f13585cf27"
      },
      "source": [
        "network5.fit(train_images, train_labels, epochs=5, batch_size=128)"
      ],
      "execution_count": 39,
      "outputs": [
        {
          "output_type": "stream",
          "name": "stdout",
          "text": [
            "Epoch 1/5\n",
            "469/469 [==============================] - 4s 8ms/step - loss: 1.0166 - accuracy: 0.6818\n",
            "Epoch 2/5\n",
            "469/469 [==============================] - 4s 8ms/step - loss: 0.6631 - accuracy: 0.7850\n",
            "Epoch 3/5\n",
            "469/469 [==============================] - 4s 8ms/step - loss: 0.5833 - accuracy: 0.8104\n",
            "Epoch 4/5\n",
            "469/469 [==============================] - 4s 8ms/step - loss: 0.5401 - accuracy: 0.8212\n",
            "Epoch 5/5\n",
            "469/469 [==============================] - 4s 8ms/step - loss: 0.5123 - accuracy: 0.8292\n"
          ]
        },
        {
          "output_type": "execute_result",
          "data": {
            "text/plain": [
              "<keras.callbacks.History at 0x7f3eaba98810>"
            ]
          },
          "metadata": {},
          "execution_count": 39
        }
      ]
    },
    {
      "cell_type": "code",
      "metadata": {
        "id": "b6nc6MfQycWP",
        "colab": {
          "base_uri": "https://localhost:8080/"
        },
        "outputId": "10a25200-bc27-40e5-a34a-4459fb43f3dc"
      },
      "source": [
        "network6.fit(train_images, train_labels, epochs=5, batch_size=128)"
      ],
      "execution_count": 40,
      "outputs": [
        {
          "output_type": "stream",
          "name": "stdout",
          "text": [
            "Epoch 1/5\n",
            "469/469 [==============================] - 5s 10ms/step - loss: 0.5522 - accuracy: 0.8052\n",
            "Epoch 2/5\n",
            "469/469 [==============================] - 5s 10ms/step - loss: 0.3812 - accuracy: 0.8610\n",
            "Epoch 3/5\n",
            "469/469 [==============================] - 5s 10ms/step - loss: 0.3343 - accuracy: 0.8773\n",
            "Epoch 4/5\n",
            "469/469 [==============================] - 5s 10ms/step - loss: 0.3083 - accuracy: 0.8872\n",
            "Epoch 5/5\n",
            "469/469 [==============================] - 5s 10ms/step - loss: 0.2897 - accuracy: 0.8932\n"
          ]
        },
        {
          "output_type": "execute_result",
          "data": {
            "text/plain": [
              "<keras.callbacks.History at 0x7f3eab979790>"
            ]
          },
          "metadata": {},
          "execution_count": 40
        }
      ]
    },
    {
      "cell_type": "code",
      "metadata": {
        "id": "Tw_pkf0sycE0",
        "colab": {
          "base_uri": "https://localhost:8080/"
        },
        "outputId": "f2def6bf-bcac-4783-94ea-987a90c09595"
      },
      "source": [
        "network7.fit(train_images, train_labels, epochs=5, batch_size=128)"
      ],
      "execution_count": 41,
      "outputs": [
        {
          "output_type": "stream",
          "name": "stdout",
          "text": [
            "Epoch 1/5\n",
            "469/469 [==============================] - 4s 8ms/step - loss: 1.7031 - accuracy: 0.5843\n",
            "Epoch 2/5\n",
            "469/469 [==============================] - 4s 8ms/step - loss: 1.1285 - accuracy: 0.7084\n",
            "Epoch 3/5\n",
            "469/469 [==============================] - 4s 8ms/step - loss: 0.9251 - accuracy: 0.7295\n",
            "Epoch 4/5\n",
            "469/469 [==============================] - 4s 8ms/step - loss: 0.8243 - accuracy: 0.7420\n",
            "Epoch 5/5\n",
            "469/469 [==============================] - 4s 8ms/step - loss: 0.7630 - accuracy: 0.7523\n"
          ]
        },
        {
          "output_type": "execute_result",
          "data": {
            "text/plain": [
              "<keras.callbacks.History at 0x7f3eaba837d0>"
            ]
          },
          "metadata": {},
          "execution_count": 41
        }
      ]
    },
    {
      "cell_type": "code",
      "metadata": {
        "id": "Pt6UwSERybpx",
        "colab": {
          "base_uri": "https://localhost:8080/"
        },
        "outputId": "62702b33-6e8f-4310-f9fe-9e540ea2c998"
      },
      "source": [
        "network8.fit(train_images, train_labels, epochs=5, batch_size=128)"
      ],
      "execution_count": 42,
      "outputs": [
        {
          "output_type": "stream",
          "name": "stdout",
          "text": [
            "Epoch 1/5\n",
            "469/469 [==============================] - 5s 10ms/step - loss: 0.5926 - accuracy: 0.7918\n",
            "Epoch 2/5\n",
            "469/469 [==============================] - 5s 10ms/step - loss: 0.4281 - accuracy: 0.8450\n",
            "Epoch 3/5\n",
            "469/469 [==============================] - 5s 10ms/step - loss: 0.3867 - accuracy: 0.8591\n",
            "Epoch 4/5\n",
            "469/469 [==============================] - 5s 10ms/step - loss: 0.3592 - accuracy: 0.8691\n",
            "Epoch 5/5\n",
            "469/469 [==============================] - 5s 10ms/step - loss: 0.3411 - accuracy: 0.8748\n"
          ]
        },
        {
          "output_type": "execute_result",
          "data": {
            "text/plain": [
              "<keras.callbacks.History at 0x7f3eae56aa10>"
            ]
          },
          "metadata": {},
          "execution_count": 42
        }
      ]
    },
    {
      "cell_type": "markdown",
      "metadata": {
        "id": "mzPnyVQEscl1"
      },
      "source": [
        "**Verificamos nuestros modelo ya entrenado**\n",
        "\n",
        "Ahora verificamos que nuestros modelos también funcionan bien para los datos de prueba"
      ]
    },
    {
      "cell_type": "code",
      "metadata": {
        "id": "C8UupVX7cyBc",
        "colab": {
          "base_uri": "https://localhost:8080/"
        },
        "outputId": "c01c5cc3-46f5-4434-d734-e383ad89651e"
      },
      "source": [
        "test_loss1, test_acc1 = network1.evaluate(test_images, test_labels)"
      ],
      "execution_count": 43,
      "outputs": [
        {
          "output_type": "stream",
          "name": "stdout",
          "text": [
            "313/313 [==============================] - 1s 1ms/step - loss: 0.6316 - accuracy: 0.7823\n"
          ]
        }
      ]
    },
    {
      "cell_type": "code",
      "metadata": {
        "id": "eYKGBXMDhdxn",
        "colab": {
          "base_uri": "https://localhost:8080/"
        },
        "outputId": "87bda6fc-46a5-4492-865b-15acf84f5697"
      },
      "source": [
        "test_loss2, test_acc2 = network2.evaluate(test_images, test_labels)"
      ],
      "execution_count": 44,
      "outputs": [
        {
          "output_type": "stream",
          "name": "stdout",
          "text": [
            "313/313 [==============================] - 0s 1ms/step - loss: 0.4761 - accuracy: 0.8352\n"
          ]
        }
      ]
    },
    {
      "cell_type": "code",
      "metadata": {
        "id": "7kporJR0hdi9",
        "colab": {
          "base_uri": "https://localhost:8080/"
        },
        "outputId": "3b8c70e3-d588-44e0-c117-b73ef5995394"
      },
      "source": [
        "test_loss3, test_acc3 = network3.evaluate(test_images, test_labels)"
      ],
      "execution_count": 45,
      "outputs": [
        {
          "output_type": "stream",
          "name": "stdout",
          "text": [
            "313/313 [==============================] - 0s 1ms/step - loss: 1.3421 - accuracy: 0.6656\n"
          ]
        }
      ]
    },
    {
      "cell_type": "code",
      "metadata": {
        "id": "xUWHsmkAhdBq",
        "colab": {
          "base_uri": "https://localhost:8080/"
        },
        "outputId": "dc2b5cbd-2fa9-4e01-d4b6-98fb5c0dc96b"
      },
      "source": [
        "test_loss4, test_acc4 = network4.evaluate(test_images, test_labels)"
      ],
      "execution_count": 46,
      "outputs": [
        {
          "output_type": "stream",
          "name": "stdout",
          "text": [
            "313/313 [==============================] - 1s 1ms/step - loss: 0.5160 - accuracy: 0.8293\n"
          ]
        }
      ]
    },
    {
      "cell_type": "code",
      "metadata": {
        "id": "mqPxkfAsylHL",
        "colab": {
          "base_uri": "https://localhost:8080/"
        },
        "outputId": "9e92666d-c364-47f3-f991-0a9d4a79cc32"
      },
      "source": [
        "test_loss5, test_acc5 = network5.evaluate(test_images, test_labels)"
      ],
      "execution_count": 47,
      "outputs": [
        {
          "output_type": "stream",
          "name": "stdout",
          "text": [
            "313/313 [==============================] - 1s 3ms/step - loss: 0.5261 - accuracy: 0.8215\n"
          ]
        }
      ]
    },
    {
      "cell_type": "code",
      "metadata": {
        "id": "CSQyfmV_yk-B",
        "colab": {
          "base_uri": "https://localhost:8080/"
        },
        "outputId": "9561817d-cb59-4748-f076-fee518b1c5e1"
      },
      "source": [
        "test_loss6, test_acc6 = network6.evaluate(test_images, test_labels)"
      ],
      "execution_count": 48,
      "outputs": [
        {
          "output_type": "stream",
          "name": "stdout",
          "text": [
            "313/313 [==============================] - 1s 2ms/step - loss: 0.3669 - accuracy: 0.8719\n"
          ]
        }
      ]
    },
    {
      "cell_type": "code",
      "metadata": {
        "id": "NSwCQxjzyk2z",
        "colab": {
          "base_uri": "https://localhost:8080/"
        },
        "outputId": "02af3813-99bb-4156-ba9a-8080c923bd75"
      },
      "source": [
        "test_loss7, test_acc7 = network7.evaluate(test_images, test_labels)"
      ],
      "execution_count": 49,
      "outputs": [
        {
          "output_type": "stream",
          "name": "stdout",
          "text": [
            "313/313 [==============================] - 1s 3ms/step - loss: 0.7532 - accuracy: 0.7465\n"
          ]
        }
      ]
    },
    {
      "cell_type": "code",
      "metadata": {
        "id": "bodDggBDykt-",
        "colab": {
          "base_uri": "https://localhost:8080/"
        },
        "outputId": "972cfb84-ab02-458d-c9fa-4d0ab8cfae37"
      },
      "source": [
        "test_loss8, test_acc8 = network8.evaluate(test_images, test_labels)"
      ],
      "execution_count": 50,
      "outputs": [
        {
          "output_type": "stream",
          "name": "stdout",
          "text": [
            "313/313 [==============================] - 1s 3ms/step - loss: 0.3995 - accuracy: 0.8522\n"
          ]
        }
      ]
    },
    {
      "cell_type": "markdown",
      "metadata": {
        "id": "cCmVMEh7wo0k"
      },
      "source": [
        "Vemos que los modelo 3 y 7 (sigmoid, sgd) son los peores ya que tienen la mayor pérdida y es bastante alta (1.3897, 0.7630)\n",
        "\n",
        "Por otro lado, podemos observar que los mejores modelos son aquellos cuyo optimizador es rmsprop, por tanto, deducimos que para nuestro caso, es mejor utilizar dicho optimizador antes que sgd.\n",
        "\n",
        "También nos fijamos que lo modelos cuya función de activación es relu, son mejores frente a aquellos cuya función de activación es sigmoid.\n",
        "\n",
        "**En conclusión, los mejores modelos son el 2 y el 6, que coinciden con la función de activación relu y optimizador rmsprop**\n"
      ]
    },
    {
      "cell_type": "markdown",
      "metadata": {
        "id": "8x_LfXJ4JEfF"
      },
      "source": [
        "\n",
        "###**CASO 2 Y 7 MULTIPLICANDO POR 5 LAS ÉPOCAS DE ENTRENAMIENTO**\n"
      ]
    },
    {
      "cell_type": "markdown",
      "metadata": {
        "id": "CKuZzHs_tSyN"
      },
      "source": [
        "Creamos una \"copia\" de las redes 2 y 7 para poder hacer las 25 iteraciones, si le aplicamos las 25 iteraciones a la red, al ya estar entrenada no empieza desde 0, en nuestro caso, empieza con las 5 iteraciones ya hechas, por lo que no estaría haciendo 25 sino 30."
      ]
    },
    {
      "cell_type": "markdown",
      "metadata": {
        "id": "5DOrBwt9JcPZ"
      },
      "source": [
        "**MODELO 2**"
      ]
    },
    {
      "cell_type": "code",
      "metadata": {
        "id": "gSMDIEclJTz0",
        "colab": {
          "base_uri": "https://localhost:8080/"
        },
        "outputId": "728dd3dd-d4b5-4937-a9cc-88983f3c5ce9"
      },
      "source": [
        "network22 = models.Sequential()\n",
        "network22.add(layers.Dense(10, activation='relu', input_shape=(28*28,), name = 'capa1'))\n",
        "network22.add(layers.Dense(10, activation='softmax', name = 'capa2'))\n",
        "\n",
        "network22.summary()"
      ],
      "execution_count": 51,
      "outputs": [
        {
          "output_type": "stream",
          "name": "stdout",
          "text": [
            "Model: \"sequential_8\"\n",
            "_________________________________________________________________\n",
            "Layer (type)                 Output Shape              Param #   \n",
            "=================================================================\n",
            "capa1 (Dense)                (None, 10)                7850      \n",
            "_________________________________________________________________\n",
            "capa2 (Dense)                (None, 10)                110       \n",
            "=================================================================\n",
            "Total params: 7,960\n",
            "Trainable params: 7,960\n",
            "Non-trainable params: 0\n",
            "_________________________________________________________________\n"
          ]
        }
      ]
    },
    {
      "cell_type": "code",
      "metadata": {
        "id": "0Bxp7qr5JUQw"
      },
      "source": [
        "network22.compile(optimizer='rmsprop', \n",
        "                loss='sparse_categorical_crossentropy',\n",
        "                metrics=['accuracy'])"
      ],
      "execution_count": 52,
      "outputs": []
    },
    {
      "cell_type": "code",
      "metadata": {
        "id": "0yfmc74oJUuZ"
      },
      "source": [
        "network22.add(layers.Flatten(input_shape=(28,28)))"
      ],
      "execution_count": 53,
      "outputs": []
    },
    {
      "cell_type": "code",
      "metadata": {
        "id": "i74Z7IIIJvR_",
        "colab": {
          "base_uri": "https://localhost:8080/"
        },
        "outputId": "9aa4c086-600b-4a76-ea87-b9cc99b6de7a"
      },
      "source": [
        "network22.fit(train_images, train_labels, epochs=25, batch_size=128)"
      ],
      "execution_count": 54,
      "outputs": [
        {
          "output_type": "stream",
          "name": "stdout",
          "text": [
            "Epoch 1/25\n",
            "469/469 [==============================] - 2s 2ms/step - loss: 0.8300 - accuracy: 0.7206\n",
            "Epoch 2/25\n",
            "469/469 [==============================] - 1s 2ms/step - loss: 0.5279 - accuracy: 0.8187\n",
            "Epoch 3/25\n",
            "469/469 [==============================] - 1s 2ms/step - loss: 0.4829 - accuracy: 0.8324\n",
            "Epoch 4/25\n",
            "469/469 [==============================] - 1s 2ms/step - loss: 0.4590 - accuracy: 0.8403\n",
            "Epoch 5/25\n",
            "469/469 [==============================] - 1s 2ms/step - loss: 0.4448 - accuracy: 0.8456\n",
            "Epoch 6/25\n",
            "469/469 [==============================] - 1s 2ms/step - loss: 0.4334 - accuracy: 0.8486\n",
            "Epoch 7/25\n",
            "469/469 [==============================] - 1s 2ms/step - loss: 0.4253 - accuracy: 0.8512\n",
            "Epoch 8/25\n",
            "469/469 [==============================] - 1s 2ms/step - loss: 0.4181 - accuracy: 0.8533\n",
            "Epoch 9/25\n",
            "469/469 [==============================] - 1s 2ms/step - loss: 0.4128 - accuracy: 0.8544\n",
            "Epoch 10/25\n",
            "469/469 [==============================] - 1s 2ms/step - loss: 0.4089 - accuracy: 0.8558\n",
            "Epoch 11/25\n",
            "469/469 [==============================] - 1s 2ms/step - loss: 0.4042 - accuracy: 0.8578\n",
            "Epoch 12/25\n",
            "469/469 [==============================] - 1s 2ms/step - loss: 0.4014 - accuracy: 0.8594\n",
            "Epoch 13/25\n",
            "469/469 [==============================] - 1s 2ms/step - loss: 0.3976 - accuracy: 0.8601\n",
            "Epoch 14/25\n",
            "469/469 [==============================] - 1s 2ms/step - loss: 0.3932 - accuracy: 0.8610\n",
            "Epoch 15/25\n",
            "469/469 [==============================] - 1s 2ms/step - loss: 0.3914 - accuracy: 0.8632\n",
            "Epoch 16/25\n",
            "469/469 [==============================] - 1s 2ms/step - loss: 0.3879 - accuracy: 0.8628\n",
            "Epoch 17/25\n",
            "469/469 [==============================] - 1s 2ms/step - loss: 0.3856 - accuracy: 0.8653\n",
            "Epoch 18/25\n",
            "469/469 [==============================] - 1s 2ms/step - loss: 0.3833 - accuracy: 0.8649\n",
            "Epoch 19/25\n",
            "469/469 [==============================] - 1s 3ms/step - loss: 0.3813 - accuracy: 0.8663\n",
            "Epoch 20/25\n",
            "469/469 [==============================] - 1s 2ms/step - loss: 0.3792 - accuracy: 0.8669\n",
            "Epoch 21/25\n",
            "469/469 [==============================] - 1s 2ms/step - loss: 0.3771 - accuracy: 0.8676\n",
            "Epoch 22/25\n",
            "469/469 [==============================] - 1s 2ms/step - loss: 0.3768 - accuracy: 0.8683\n",
            "Epoch 23/25\n",
            "469/469 [==============================] - 1s 2ms/step - loss: 0.3743 - accuracy: 0.8682\n",
            "Epoch 24/25\n",
            "469/469 [==============================] - 1s 2ms/step - loss: 0.3730 - accuracy: 0.8688\n",
            "Epoch 25/25\n",
            "469/469 [==============================] - 1s 3ms/step - loss: 0.3707 - accuracy: 0.8698\n"
          ]
        },
        {
          "output_type": "execute_result",
          "data": {
            "text/plain": [
              "<keras.callbacks.History at 0x7f3eab584950>"
            ]
          },
          "metadata": {},
          "execution_count": 54
        }
      ]
    },
    {
      "cell_type": "markdown",
      "metadata": {
        "id": "2N-QKyOkJ0mU"
      },
      "source": [
        "Aunque esperabamos un sobreentrenamiento del modelo, vemos que lo que ocurre es que a partir de la vuelta 13/14, el valor de pérdida y de precisión apenas varían."
      ]
    },
    {
      "cell_type": "markdown",
      "metadata": {
        "id": "wSAtDWvXJ12i"
      },
      "source": [
        "**MODELO 7**"
      ]
    },
    {
      "cell_type": "code",
      "metadata": {
        "id": "fQUUfv83J4ur",
        "colab": {
          "base_uri": "https://localhost:8080/"
        },
        "outputId": "e7e5a5a3-d9f8-4d1b-ac6d-cce8bca377a0"
      },
      "source": [
        "network77 = models.Sequential()\n",
        "network77.add(layers.Dense(512, activation='relu', input_shape=(28*28,), name = 'capa1'))\n",
        "network77.add(layers.Dense(10, activation='softmax', name = 'capa2'))\n",
        "\n",
        "network77.summary()"
      ],
      "execution_count": 55,
      "outputs": [
        {
          "output_type": "stream",
          "name": "stdout",
          "text": [
            "Model: \"sequential_9\"\n",
            "_________________________________________________________________\n",
            "Layer (type)                 Output Shape              Param #   \n",
            "=================================================================\n",
            "capa1 (Dense)                (None, 512)               401920    \n",
            "_________________________________________________________________\n",
            "capa2 (Dense)                (None, 10)                5130      \n",
            "=================================================================\n",
            "Total params: 407,050\n",
            "Trainable params: 407,050\n",
            "Non-trainable params: 0\n",
            "_________________________________________________________________\n"
          ]
        }
      ]
    },
    {
      "cell_type": "code",
      "metadata": {
        "id": "w9T4iESyJ5XK"
      },
      "source": [
        "network77.compile(optimizer='sgd', \n",
        "                loss='sparse_categorical_crossentropy',\n",
        "                metrics=['accuracy'])"
      ],
      "execution_count": 56,
      "outputs": []
    },
    {
      "cell_type": "code",
      "metadata": {
        "id": "vRXW0FTvJ8Nr"
      },
      "source": [
        "network77.add(layers.Flatten(input_shape=(28,28)))"
      ],
      "execution_count": 57,
      "outputs": []
    },
    {
      "cell_type": "code",
      "metadata": {
        "id": "Zj5BpfT8J8BS",
        "colab": {
          "base_uri": "https://localhost:8080/"
        },
        "outputId": "67060094-01cc-45c7-9a14-05a4d518fb21"
      },
      "source": [
        "network77.fit(train_images, train_labels, epochs=25, batch_size=128)"
      ],
      "execution_count": 58,
      "outputs": [
        {
          "output_type": "stream",
          "name": "stdout",
          "text": [
            "Epoch 1/25\n",
            "469/469 [==============================] - 4s 8ms/step - loss: 1.0151 - accuracy: 0.6961\n",
            "Epoch 2/25\n",
            "469/469 [==============================] - 4s 8ms/step - loss: 0.6570 - accuracy: 0.7911\n",
            "Epoch 3/25\n",
            "469/469 [==============================] - 4s 8ms/step - loss: 0.5798 - accuracy: 0.8120\n",
            "Epoch 4/25\n",
            "469/469 [==============================] - 4s 8ms/step - loss: 0.5388 - accuracy: 0.8220\n",
            "Epoch 5/25\n",
            "469/469 [==============================] - 4s 8ms/step - loss: 0.5126 - accuracy: 0.8292\n",
            "Epoch 6/25\n",
            "469/469 [==============================] - 4s 8ms/step - loss: 0.4935 - accuracy: 0.8343\n",
            "Epoch 7/25\n",
            "469/469 [==============================] - 4s 8ms/step - loss: 0.4786 - accuracy: 0.8383\n",
            "Epoch 8/25\n",
            "469/469 [==============================] - 4s 8ms/step - loss: 0.4668 - accuracy: 0.8419\n",
            "Epoch 9/25\n",
            "469/469 [==============================] - 4s 8ms/step - loss: 0.4569 - accuracy: 0.8450\n",
            "Epoch 10/25\n",
            "469/469 [==============================] - 4s 8ms/step - loss: 0.4491 - accuracy: 0.8473\n",
            "Epoch 11/25\n",
            "469/469 [==============================] - 4s 8ms/step - loss: 0.4411 - accuracy: 0.8499\n",
            "Epoch 12/25\n",
            "469/469 [==============================] - 4s 8ms/step - loss: 0.4349 - accuracy: 0.8525\n",
            "Epoch 13/25\n",
            "469/469 [==============================] - 4s 8ms/step - loss: 0.4287 - accuracy: 0.8530\n",
            "Epoch 14/25\n",
            "469/469 [==============================] - 4s 8ms/step - loss: 0.4234 - accuracy: 0.8550\n",
            "Epoch 15/25\n",
            "469/469 [==============================] - 4s 8ms/step - loss: 0.4180 - accuracy: 0.8574\n",
            "Epoch 16/25\n",
            "469/469 [==============================] - 4s 8ms/step - loss: 0.4136 - accuracy: 0.8583\n",
            "Epoch 17/25\n",
            "469/469 [==============================] - 4s 8ms/step - loss: 0.4095 - accuracy: 0.8600\n",
            "Epoch 18/25\n",
            "469/469 [==============================] - 4s 8ms/step - loss: 0.4059 - accuracy: 0.8607\n",
            "Epoch 19/25\n",
            "469/469 [==============================] - 4s 8ms/step - loss: 0.4014 - accuracy: 0.8623\n",
            "Epoch 20/25\n",
            "469/469 [==============================] - 4s 8ms/step - loss: 0.3980 - accuracy: 0.8641\n",
            "Epoch 21/25\n",
            "469/469 [==============================] - 4s 8ms/step - loss: 0.3947 - accuracy: 0.8642\n",
            "Epoch 22/25\n",
            "469/469 [==============================] - 4s 8ms/step - loss: 0.3916 - accuracy: 0.8659\n",
            "Epoch 23/25\n",
            "469/469 [==============================] - 4s 8ms/step - loss: 0.3883 - accuracy: 0.8669\n",
            "Epoch 24/25\n",
            "469/469 [==============================] - 4s 8ms/step - loss: 0.3850 - accuracy: 0.8677\n",
            "Epoch 25/25\n",
            "469/469 [==============================] - 4s 8ms/step - loss: 0.3824 - accuracy: 0.8682\n"
          ]
        },
        {
          "output_type": "execute_result",
          "data": {
            "text/plain": [
              "<keras.callbacks.History at 0x7f3ea157c990>"
            ]
          },
          "metadata": {},
          "execution_count": 58
        }
      ]
    },
    {
      "cell_type": "markdown",
      "metadata": {
        "id": "X9irdGshKAIn"
      },
      "source": [
        "Del mismo modo, podemos observar que cuantas más iteraciones, más precisión tiene, aunque va aumentando cada vez más lentamente. En cuanto a la pérdida, a más iteraciones, menos pérdida, al igual que con la precisión, cada vez la pérdida aunque se reduce, se reduce menos."
      ]
    },
    {
      "cell_type": "markdown",
      "metadata": {
        "id": "Cog3gsUtt866"
      },
      "source": [
        "### **PREDICCIONES**"
      ]
    },
    {
      "cell_type": "code",
      "metadata": {
        "id": "NvWwLKiqdRJ2",
        "colab": {
          "base_uri": "https://localhost:8080/",
          "height": 265
        },
        "outputId": "6f4d4b37-d0c0-426b-8df8-f7e808e62f20"
      },
      "source": [
        "# Veamos el elemento 6 de test y pintémoslo con matplotlib\n",
        "from keras.datasets import fashion_mnist\n",
        "(train_images, train_labels), (test_images, test_labels) = fashion_mnist.load_data()\n",
        "import matplotlib.pyplot as plt\n",
        "digit = test_images[5]\n",
        "plt.imshow(digit, cmap=plt.cm.binary)\n",
        "plt.show()"
      ],
      "execution_count": 59,
      "outputs": [
        {
          "output_type": "display_data",
          "data": {
            "image/png": "[encoded data removed]",
            "text/plain": [
              "<Figure size 432x288 with 1 Axes>"
            ]
          },
          "metadata": {
            "needs_background": "light"
          }
        }
      ]
    },
    {
      "cell_type": "code",
      "metadata": {
        "id": "o1mpvfN5uCg_",
        "colab": {
          "base_uri": "https://localhost:8080/"
        },
        "outputId": "1fff1c60-c27c-4fbd-b72b-e53a9f595b70"
      },
      "source": [
        "train_images = train_images.reshape((60000, 28 * 28))\n",
        "test_images = test_images.reshape((10000, 28 * 28))\n",
        "\n",
        "train_images = train_images.astype('float32') / 255\n",
        "test_images = test_images.astype('float32') / 255\n",
        "\n",
        "from keras.utils.np_utils import to_categorical\n",
        "\n",
        "print(test_labels)\n",
        "test_labels = to_categorical(test_labels)\n",
        "print(test_labels)\n"
      ],
      "execution_count": 60,
      "outputs": [
        {
          "output_type": "stream",
          "name": "stdout",
          "text": [
            "[9 2 1 ... 8 1 5]\n",
            "[[0. 0. 0. ... 0. 0. 1.]\n",
            " [0. 0. 1. ... 0. 0. 0.]\n",
            " [0. 1. 0. ... 0. 0. 0.]\n",
            " ...\n",
            " [0. 0. 0. ... 0. 1. 0.]\n",
            " [0. 1. 0. ... 0. 0. 0.]\n",
            " [0. 0. 0. ... 0. 0. 0.]]\n"
          ]
        }
      ]
    },
    {
      "cell_type": "markdown",
      "metadata": {
        "id": "Q7PXgK5ExLQ_"
      },
      "source": [
        "Hacemos predicciones sobre la 6ª imagen de test en cada modelo"
      ]
    },
    {
      "cell_type": "markdown",
      "metadata": {
        "id": "Tn6vm7xQuTL2"
      },
      "source": [
        "**MODELO 1**"
      ]
    },
    {
      "cell_type": "code",
      "metadata": {
        "id": "fZmWQ8a6uNnA",
        "colab": {
          "base_uri": "https://localhost:8080/"
        },
        "outputId": "882b721e-044a-4181-ba1e-6e3c3a76f47e"
      },
      "source": [
        "import numpy as np\n",
        "predictions1 = network1.predict(test_images)\n",
        "print(np.argmax(predictions1[5]))\n",
        "print(predictions1[5])\n",
        "np.sum(predictions1[5])\n",
        "print(predictions1)"
      ],
      "execution_count": 61,
      "outputs": [
        {
          "output_type": "stream",
          "name": "stdout",
          "text": [
            "1\n",
            "[4.57584672e-03 9.57561672e-01 1.17161395e-02 5.48321893e-03\n",
            " 1.89757403e-02 3.14253441e-07 1.66998606e-03 1.55387458e-09\n",
            " 1.59456522e-05 1.05232675e-06]\n",
            "[[4.81662777e-04 5.87862473e-07 2.09963345e-03 ... 2.56746858e-01\n",
            "  1.33376308e-02 5.23105621e-01]\n",
            " [1.75426219e-04 1.77687150e-04 8.40542734e-01 ... 3.68993739e-07\n",
            "  1.22555508e-03 8.50545985e-06]\n",
            " [1.13147806e-04 9.97199416e-01 1.44434010e-03 ... 3.04906382e-12\n",
            "  9.32128685e-08 4.16304857e-08]\n",
            " ...\n",
            " [8.38505328e-02 1.51233852e-03 3.91100980e-02 ... 1.21854274e-02\n",
            "  5.35209656e-01 1.77057751e-03]\n",
            " [7.73800653e-04 9.53541934e-01 1.22808497e-02 ... 9.94029836e-09\n",
            "  8.74784575e-07 8.99420047e-06]\n",
            " [5.09297708e-03 3.10392534e-05 1.43285068e-02 ... 3.68812323e-01\n",
            "  1.17394008e-01 8.91956612e-02]]\n"
          ]
        }
      ]
    },
    {
      "cell_type": "markdown",
      "metadata": {
        "id": "eYn_vr4-uW-1"
      },
      "source": [
        "**MODELO 2**"
      ]
    },
    {
      "cell_type": "code",
      "metadata": {
        "id": "89jxp6RUuXfP",
        "colab": {
          "base_uri": "https://localhost:8080/"
        },
        "outputId": "18067af2-41aa-464a-8b26-aad733fcd3f7"
      },
      "source": [
        "predictions2 = network2.predict(test_images)\n",
        "print(np.argmax(predictions2[5]))\n",
        "print(predictions2[5])\n",
        "np.sum(predictions2[5])\n",
        "print(predictions2)"
      ],
      "execution_count": 62,
      "outputs": [
        {
          "output_type": "stream",
          "name": "stdout",
          "text": [
            "1\n",
            "[1.4289540e-03 9.7334564e-01 1.0690044e-02 1.3007351e-02 1.4724879e-03\n",
            " 9.2362923e-11 4.8939386e-05 3.4511758e-09 3.9354159e-06 2.5873285e-06]\n",
            "[[1.62940864e-07 8.87510936e-08 1.48565618e-07 ... 2.12024778e-01\n",
            "  4.71936958e-03 6.54584706e-01]\n",
            " [3.47700203e-04 2.26535326e-06 9.29808319e-01 ... 4.91215202e-09\n",
            "  7.54589390e-04 4.10245882e-08]\n",
            " [3.13707073e-06 9.99545276e-01 3.01062886e-04 ... 1.33837841e-12\n",
            "  8.09150613e-09 9.07542841e-09]\n",
            " ...\n",
            " [4.13915478e-02 2.93603080e-06 2.22830730e-03 ... 7.54975554e-05\n",
            "  7.22184420e-01 8.99337556e-06]\n",
            " [6.15583167e-06 9.95542943e-01 2.69825716e-04 ... 4.74372173e-11\n",
            "  2.02551043e-08 7.74892555e-07]\n",
            " [1.56860879e-05 2.81674920e-06 2.08387592e-05 ... 5.75927272e-02\n",
            "  1.27933305e-02 3.82067985e-03]]\n"
          ]
        }
      ]
    },
    {
      "cell_type": "markdown",
      "metadata": {
        "id": "E5Jkzy26uYAX"
      },
      "source": [
        "**MODELO 3**"
      ]
    },
    {
      "cell_type": "code",
      "metadata": {
        "id": "X1Rkfe9zuYpU",
        "colab": {
          "base_uri": "https://localhost:8080/"
        },
        "outputId": "e05d2de5-f8ff-4af5-a771-ec80d5e86c9b"
      },
      "source": [
        "predictions3 = network3.predict(test_images)\n",
        "print(np.argmax(predictions3[5]))\n",
        "print(predictions3[5])\n",
        "np.sum(predictions3[5])\n",
        "print(predictions3)"
      ],
      "execution_count": 63,
      "outputs": [
        {
          "output_type": "stream",
          "name": "stdout",
          "text": [
            "1\n",
            "[0.14196047 0.38312048 0.04736675 0.23000926 0.05074067 0.03034669\n",
            " 0.06805602 0.01579951 0.02107084 0.01152934]\n",
            "[[0.042873   0.0122388  0.06591626 ... 0.1847762  0.11985838 0.23824795]\n",
            " [0.07758359 0.02499128 0.3054458  ... 0.01849477 0.11550385 0.07960677]\n",
            " [0.10007446 0.5107268  0.033713   ... 0.01170934 0.01442807 0.00703251]\n",
            " ...\n",
            " [0.17785858 0.06237302 0.07416976 ... 0.04684654 0.12625556 0.03864946]\n",
            " [0.11162487 0.43088812 0.03371412 ... 0.01769736 0.01753897 0.00839514]\n",
            " [0.03070033 0.01449844 0.06204083 ... 0.24196161 0.14300668 0.10553344]]\n"
          ]
        }
      ]
    },
    {
      "cell_type": "markdown",
      "metadata": {
        "id": "FevttEucugd4"
      },
      "source": [
        "**MODELO 4**"
      ]
    },
    {
      "cell_type": "code",
      "metadata": {
        "id": "-1RTWXJ0ug64",
        "colab": {
          "base_uri": "https://localhost:8080/"
        },
        "outputId": "cd46016f-9e1f-4316-de3f-fceb44f513db"
      },
      "source": [
        "predictions4 = network4.predict(test_images)\n",
        "print(np.argmax(predictions3[5]))\n",
        "print(predictions4[5])\n",
        "np.sum(predictions4[5])\n",
        "print(predictions4)"
      ],
      "execution_count": 64,
      "outputs": [
        {
          "output_type": "stream",
          "name": "stdout",
          "text": [
            "1\n",
            "[2.1147321e-03 9.8472703e-01 2.8661971e-03 2.5613990e-03 2.6889646e-03\n",
            " 1.8240251e-03 2.1669532e-03 5.9482089e-04 2.7283755e-04 1.8305014e-04]\n",
            "[[2.17316812e-03 3.01961182e-03 4.49272135e-04 ... 1.00386657e-01\n",
            "  1.32719828e-02 5.92463791e-01]\n",
            " [1.97679382e-02 2.27689720e-03 7.14752436e-01 ... 4.46733693e-03\n",
            "  7.60912010e-03 2.41100934e-05]\n",
            " [6.24921988e-04 9.91909683e-01 8.26079107e-04 ... 1.21092366e-04\n",
            "  8.76987324e-05 1.57383314e-04]\n",
            " ...\n",
            " [2.97402162e-02 1.88512553e-04 3.34573444e-03 ... 3.31028961e-02\n",
            "  6.90950096e-01 5.50823249e-02]\n",
            " [6.15781813e-04 9.87015247e-01 6.54961390e-04 ... 7.71520063e-05\n",
            "  4.92019062e-05 3.12254444e-04]\n",
            " [1.34877639e-03 3.60444398e-03 4.69415309e-03 ... 1.47855803e-01\n",
            "  1.73701309e-02 1.59400869e-02]]\n"
          ]
        }
      ]
    },
    {
      "cell_type": "markdown",
      "metadata": {
        "id": "ULjEs5HMzBXn"
      },
      "source": [
        "**MODELO 5**"
      ]
    },
    {
      "cell_type": "code",
      "metadata": {
        "id": "A3wMftNkzCdi",
        "colab": {
          "base_uri": "https://localhost:8080/"
        },
        "outputId": "a76b60c9-760f-4a12-def9-3bb4b687362f"
      },
      "source": [
        "predictions5 = network5.predict(test_images)\n",
        "print(np.argmax(predictions5[5]))\n",
        "print(predictions5[5])\n",
        "np.sum(predictions5[5])\n",
        "print(predictions5)"
      ],
      "execution_count": 65,
      "outputs": [
        {
          "output_type": "stream",
          "name": "stdout",
          "text": [
            "1\n",
            "[6.5452820e-03 9.7689921e-01 9.7827381e-04 2.2948540e-03 1.1857779e-02\n",
            " 3.6779813e-06 1.3866732e-03 4.6008454e-06 2.6885589e-05 2.7956496e-06]\n",
            "[[7.2433497e-05 4.4076238e-05 2.3894176e-04 ... 2.9736105e-01\n",
            "  1.4778769e-02 5.1926583e-01]\n",
            " [4.0427668e-04 2.8658475e-05 9.2729753e-01 ... 5.9345926e-08\n",
            "  1.4708239e-04 5.5032950e-07]\n",
            " [1.4034878e-04 9.9942976e-01 3.1114865e-05 ... 4.6947505e-07\n",
            "  1.0793844e-06 7.6255127e-08]\n",
            " ...\n",
            " [6.1439462e-02 3.3683798e-04 3.6428426e-03 ... 1.3764290e-03\n",
            "  7.3554260e-01 1.4265543e-03]\n",
            " [5.3743715e-04 9.7516632e-01 4.9533776e-04 ... 4.3668486e-05\n",
            "  2.7038874e-05 3.8117796e-05]\n",
            " [1.3886178e-03 1.8531781e-03 3.1517399e-03 ... 4.0151885e-01\n",
            "  5.8055457e-02 5.6709915e-02]]\n"
          ]
        }
      ]
    },
    {
      "cell_type": "markdown",
      "metadata": {
        "id": "Vx-MQgYGzDFX"
      },
      "source": [
        "**MODELO 6**"
      ]
    },
    {
      "cell_type": "code",
      "metadata": {
        "id": "yqt4C1gozDoQ",
        "colab": {
          "base_uri": "https://localhost:8080/"
        },
        "outputId": "a4aa74f3-9a3e-4b43-f4db-c2ce0e0ea355"
      },
      "source": [
        "predictions6 = network6.predict(test_images)\n",
        "print(np.argmax(predictions6[5]))\n",
        "print(predictions6[5])\n",
        "np.sum(predictions6[5])\n",
        "print(predictions6)"
      ],
      "execution_count": 66,
      "outputs": [
        {
          "output_type": "stream",
          "name": "stdout",
          "text": [
            "1\n",
            "[1.9043448e-05 9.9997354e-01 1.5701872e-08 5.5595974e-06 6.5588176e-07\n",
            " 1.4874293e-11 1.1031443e-06 2.4770360e-15 3.5692824e-10 8.6342032e-15]\n",
            "[[3.50710962e-07 2.75519652e-09 7.44792246e-08 ... 5.44877164e-02\n",
            "  4.92656909e-05 8.77751887e-01]\n",
            " [1.64891208e-05 8.32166114e-10 9.98878181e-01 ... 1.39096301e-09\n",
            "  1.59784737e-08 2.23114647e-12]\n",
            " [1.30951435e-07 9.99998927e-01 1.83962706e-11 ... 3.93746864e-18\n",
            "  1.76114921e-11 9.14040698e-18]\n",
            " ...\n",
            " [1.05395029e-05 1.82571406e-13 9.72151793e-06 ... 5.12073314e-07\n",
            "  9.99869704e-01 2.05631467e-09]\n",
            " [1.25541888e-07 9.99701083e-01 8.48043080e-10 ... 2.89614708e-12\n",
            "  3.59007721e-08 5.70272432e-12]\n",
            " [7.49261608e-06 1.37960342e-07 1.65450601e-05 ... 1.51993865e-02\n",
            "  3.51147261e-03 5.77830833e-05]]\n"
          ]
        }
      ]
    },
    {
      "cell_type": "markdown",
      "metadata": {
        "id": "m_k6BiC4zcNp"
      },
      "source": [
        "**MODELO 7**"
      ]
    },
    {
      "cell_type": "code",
      "metadata": {
        "id": "6kmwVSjNzSRk",
        "colab": {
          "base_uri": "https://localhost:8080/"
        },
        "outputId": "dbf70793-0922-475d-b5cf-33a3129c7528"
      },
      "source": [
        "predictions7 = network7.predict(test_images)\n",
        "print(np.argmax(predictions7[5]))\n",
        "print(predictions7[5])\n",
        "np.sum(predictions7[5])\n",
        "print(predictions7)"
      ],
      "execution_count": 67,
      "outputs": [
        {
          "output_type": "stream",
          "name": "stdout",
          "text": [
            "1\n",
            "[5.1464576e-02 8.0932301e-01 1.3398713e-02 6.3444711e-02 3.1846289e-02\n",
            " 8.0115563e-04 2.8479286e-02 3.4834765e-04 7.2070904e-04 1.7319663e-04]\n",
            "[[1.3840484e-03 6.5404014e-04 3.7166476e-03 ... 1.9444622e-01\n",
            "  5.7564843e-02 3.4157076e-01]\n",
            " [5.6278515e-03 1.4697560e-04 7.7022308e-01 ... 6.0605467e-05\n",
            "  7.3519414e-03 6.8162853e-04]\n",
            " [4.2025954e-03 9.6610492e-01 1.3343536e-03 ... 7.9848091e-05\n",
            "  8.5481937e-05 2.8067407e-05]\n",
            " ...\n",
            " [2.5199804e-01 1.4673478e-02 1.3302451e-02 ... 5.6836419e-03\n",
            "  1.8867862e-01 1.0881095e-02]\n",
            " [1.3014290e-02 7.3091745e-01 3.7723908e-03 ... 1.0362023e-03\n",
            "  4.8980303e-04 6.1116897e-04]\n",
            " [5.1575620e-03 4.6468484e-03 1.5408709e-02 ... 2.9648420e-01\n",
            "  6.3655846e-02 5.2879177e-02]]\n"
          ]
        }
      ]
    },
    {
      "cell_type": "markdown",
      "metadata": {
        "id": "-XZqp0KYzeUw"
      },
      "source": [
        "**MODELO 8**"
      ]
    },
    {
      "cell_type": "code",
      "metadata": {
        "id": "V1QtcgdFzSGb",
        "colab": {
          "base_uri": "https://localhost:8080/"
        },
        "outputId": "8bd7b3e6-dfd6-452f-eaca-44d533b032bf"
      },
      "source": [
        "predictions8 = network8.predict(test_images)\n",
        "print(np.argmax(predictions8[5]))\n",
        "print(predictions8[5])\n",
        "np.sum(predictions8[5])\n",
        "print(predictions8)"
      ],
      "execution_count": 68,
      "outputs": [
        {
          "output_type": "stream",
          "name": "stdout",
          "text": [
            "1\n",
            "[5.0932947e-03 9.9353653e-01 2.1551183e-04 2.3484071e-04 6.0005061e-04\n",
            " 5.1979470e-09 3.0699422e-04 1.5849013e-06 1.1133656e-05 1.0174156e-08]\n",
            "[[1.00734826e-06 1.61051634e-08 3.45911099e-06 ... 2.53447667e-02\n",
            "  2.54774466e-04 9.56466377e-01]\n",
            " [1.31156098e-03 3.73205665e-07 9.64600325e-01 ... 3.46235396e-08\n",
            "  3.17581253e-05 2.29520349e-08]\n",
            " [1.40154822e-04 9.99783337e-01 1.50026199e-05 ... 6.51708319e-07\n",
            "  1.31522586e-06 1.58402413e-09]\n",
            " ...\n",
            " [1.25734825e-02 1.66995832e-07 1.12156349e-03 ... 2.65490264e-04\n",
            "  9.45598960e-01 4.56374266e-07]\n",
            " [4.26727001e-06 9.99679565e-01 3.59186629e-06 ... 1.56349847e-06\n",
            "  3.36326366e-07 4.90570642e-07]\n",
            " [1.47826031e-05 2.16423217e-07 2.12589628e-04 ... 1.40142478e-02\n",
            "  2.11254647e-03 1.43088575e-04]]\n"
          ]
        }
      ]
    },
    {
      "cell_type": "markdown",
      "metadata": {
        "id": "PWyurnYKKhFN"
      },
      "source": [
        "Se puede comprobar que todos los modelos predicen de manera correcta que la imagen 6 es el elemento 1 de nuestro vector (pantalones), pero si nos fijamos en el vector de probabilidades, obeservamos que en todos excepto el 3 y el 7, la probabilidad de que sea 1 es bastante más grande que el resto de probabilidades"
      ]
    },
    {
      "cell_type": "markdown",
      "metadata": {
        "id": "-qzQH7E4zrcV"
      },
      "source": [
        "Ahora vamos a graficar las predicciones de la imagen 6 en cada modelo"
      ]
    },
    {
      "cell_type": "code",
      "metadata": {
        "id": "pI3XE5ABu7UQ"
      },
      "source": [
        "def plot_image(i, predictions_array, true_label, img):\n",
        "  predictions_array, true_label, img = predictions_array, true_label[i], img[i]\n",
        "  plt.grid(False)\n",
        "  plt.xticks([])\n",
        "  plt.yticks([])\n",
        "\n",
        "  plt.imshow(img, cmap=plt.cm.binary)    \n",
        "\n",
        "  predicted_label = np.argmax(predictions_array)\n",
        "  if predicted_label.all() == true_label.all():\n",
        "    color = 'blue'\n",
        "  else:\n",
        "    color = 'red'\n",
        "\n",
        "  plt.xlabel(\"{} {:2.0f}% ({})\".format(predicted_label,\n",
        "                                100*np.max(predictions_array),\n",
        "                                true_label),\n",
        "                                color=color)\n",
        "\n",
        "def plot_value_array(i, predictions_array, true_label):\n",
        "  predictions_array, true_label = predictions_array, true_label[i]\n",
        "  plt.grid(False)\n",
        "  plt.xticks(range(10))\n",
        "  plt.yticks([])\n",
        "  thisplot = plt.bar(range(10), predictions_array, color=\"#00FF00\")\n",
        "  plt.ylim([0, 1])\n",
        "  predicted_label = np.argmax(predictions_array)\n",
        "\n",
        "  thisplot[predicted_label].set_color('red')\n",
        "  thisplot[true_label].set_color('black')"
      ],
      "execution_count": 69,
      "outputs": []
    },
    {
      "cell_type": "code",
      "metadata": {
        "id": "AaAtWuFpKzIM"
      },
      "source": [
        "from keras.datasets import fashion_mnist\n",
        "(train_images, train_labels), (test_images, test_labels) = fashion_mnist.load_data()\n",
        "train_images = train_images.reshape((60000, 28 * 28))\n",
        "test_images = test_images.reshape((10000, 28 * 28))\n",
        "\n",
        "train_images = train_images.astype('float32') / 255\n",
        "test_images = test_images.astype('float32') / 255\n",
        "\n",
        "\n",
        "predictions1 = network1.predict(test_images)\n",
        "predictions2 = network2.predict(test_images)\n",
        "predictions3 = network3.predict(test_images)\n",
        "predictions4 = network4.predict(test_images)\n",
        "predictions5 = network5.predict(test_images)\n",
        "predictions6 = network6.predict(test_images)\n",
        "predictions7 = network7.predict(test_images)\n",
        "predictions8 = network8.predict(test_images)\n"
      ],
      "execution_count": 70,
      "outputs": []
    },
    {
      "cell_type": "markdown",
      "metadata": {
        "id": "euGpBO1_vBMp"
      },
      "source": [
        "**Graficamos las predicciones**"
      ]
    },
    {
      "cell_type": "code",
      "metadata": {
        "id": "tjFyUaMKvGVx",
        "colab": {
          "base_uri": "https://localhost:8080/",
          "height": 211
        },
        "outputId": "83891712-3e96-408c-f4e7-f9f7f5eb9309"
      },
      "source": [
        "i = 5\n",
        "plt.figure(figsize=(6,3))\n",
        "plt.subplot(1,2,1)\n",
        "plot_image(i, predictions1[i], test_labels, test_images.reshape(10000,28,28))\n",
        "plt.subplot(1,2,2)\n",
        "plot_value_array(i, predictions1[i],  test_labels)\n",
        "plt.show()"
      ],
      "execution_count": 71,
      "outputs": [
        {
          "output_type": "display_data",
          "data": {
            "image/png": "[encoded data removed]",
            "text/plain": [
              "<Figure size 432x216 with 2 Axes>"
            ]
          },
          "metadata": {
            "needs_background": "light"
          }
        }
      ]
    },
    {
      "cell_type": "code",
      "metadata": {
        "id": "OPT0ZZhLvKq9",
        "colab": {
          "base_uri": "https://localhost:8080/",
          "height": 211
        },
        "outputId": "417ec889-8db4-4937-c4a4-f4d3901bce71"
      },
      "source": [
        "i = 5\n",
        "plt.figure(figsize=(6,3))\n",
        "plt.subplot(1,2,1)\n",
        "plot_image(i, predictions2[i], test_labels, test_images.reshape(10000,28,28))\n",
        "plt.subplot(1,2,2)\n",
        "plot_value_array(i, predictions2[i],  test_labels)\n",
        "plt.show()\n"
      ],
      "execution_count": 72,
      "outputs": [
        {
          "output_type": "display_data",
          "data": {
            "image/png": "[encoded data removed]",
            "text/plain": [
              "<Figure size 432x216 with 2 Axes>"
            ]
          },
          "metadata": {
            "needs_background": "light"
          }
        }
      ]
    },
    {
      "cell_type": "code",
      "metadata": {
        "id": "Bq5STgZjvSaI",
        "colab": {
          "base_uri": "https://localhost:8080/",
          "height": 211
        },
        "outputId": "e6f44043-a933-4f20-b5be-4f3cf8cafdd5"
      },
      "source": [
        "i = 5\n",
        "plt.figure(figsize=(6,3))\n",
        "plt.subplot(1,2,1)\n",
        "plot_image(i, predictions3[i], test_labels, test_images.reshape(10000,28,28))\n",
        "plt.subplot(1,2,2)\n",
        "plot_value_array(i, predictions3[i],  test_labels)\n",
        "plt.show()"
      ],
      "execution_count": 73,
      "outputs": [
        {
          "output_type": "display_data",
          "data": {
            "image/png": "[encoded data removed]",
            "text/plain": [
              "<Figure size 432x216 with 2 Axes>"
            ]
          },
          "metadata": {
            "needs_background": "light"
          }
        }
      ]
    },
    {
      "cell_type": "code",
      "metadata": {
        "id": "CRfYDhXlvURi",
        "colab": {
          "base_uri": "https://localhost:8080/",
          "height": 211
        },
        "outputId": "c33e6ddb-d314-4db1-8550-b8562dcf81f7"
      },
      "source": [
        "i = 5\n",
        "plt.figure(figsize=(6,3))\n",
        "plt.subplot(1,2,1)\n",
        "plot_image(i, predictions4[i], test_labels, test_images.reshape(10000,28,28))\n",
        "plt.subplot(1,2,2)\n",
        "plot_value_array(i, predictions4[i],  test_labels)\n",
        "plt.show()"
      ],
      "execution_count": 74,
      "outputs": [
        {
          "output_type": "display_data",
          "data": {
            "image/png": "[encoded data removed]",
            "text/plain": [
              "<Figure size 432x216 with 2 Axes>"
            ]
          },
          "metadata": {
            "needs_background": "light"
          }
        }
      ]
    },
    {
      "cell_type": "code",
      "metadata": {
        "id": "Fl_xTdhdz6D1",
        "colab": {
          "base_uri": "https://localhost:8080/",
          "height": 211
        },
        "outputId": "322ff145-c27c-46a5-9777-e0c19d8e6f36"
      },
      "source": [
        "i = 5\n",
        "plt.figure(figsize=(6,3))\n",
        "plt.subplot(1,2,1)\n",
        "plot_image(i, predictions5[i], test_labels, test_images.reshape(10000,28,28))\n",
        "plt.subplot(1,2,2)\n",
        "plot_value_array(i, predictions5[i],  test_labels)\n",
        "plt.show()"
      ],
      "execution_count": 75,
      "outputs": [
        {
          "output_type": "display_data",
          "data": {
            "image/png": "[encoded data removed]",
            "text/plain": [
              "<Figure size 432x216 with 2 Axes>"
            ]
          },
          "metadata": {
            "needs_background": "light"
          }
        }
      ]
    },
    {
      "cell_type": "code",
      "metadata": {
        "id": "ev1f7Ur4z55M",
        "colab": {
          "base_uri": "https://localhost:8080/",
          "height": 211
        },
        "outputId": "72f8cbbd-5a7c-4861-ad41-68983f2a6871"
      },
      "source": [
        "i = 5\n",
        "plt.figure(figsize=(6,3))\n",
        "plt.subplot(1,2,1)\n",
        "plot_image(i, predictions6[i], test_labels, test_images.reshape(10000,28,28))\n",
        "plt.subplot(1,2,2)\n",
        "plot_value_array(i, predictions6[i],  test_labels)\n",
        "plt.show()"
      ],
      "execution_count": 76,
      "outputs": [
        {
          "output_type": "display_data",
          "data": {
            "image/png": "[encoded data removed]",
            "text/plain": [
              "<Figure size 432x216 with 2 Axes>"
            ]
          },
          "metadata": {
            "needs_background": "light"
          }
        }
      ]
    },
    {
      "cell_type": "code",
      "metadata": {
        "id": "hZTwU-2Pz5wQ",
        "colab": {
          "base_uri": "https://localhost:8080/",
          "height": 211
        },
        "outputId": "1578ac28-bc5b-4e7f-95e1-f9f35419f010"
      },
      "source": [
        "i = 5\n",
        "plt.figure(figsize=(6,3))\n",
        "plt.subplot(1,2,1)\n",
        "plot_image(i, predictions7[i], test_labels, test_images.reshape(10000,28,28))\n",
        "plt.subplot(1,2,2)\n",
        "plot_value_array(i, predictions7[i],  test_labels)\n",
        "plt.show()"
      ],
      "execution_count": 77,
      "outputs": [
        {
          "output_type": "display_data",
          "data": {
            "image/png": "[encoded data removed]",
            "text/plain": [
              "<Figure size 432x216 with 2 Axes>"
            ]
          },
          "metadata": {
            "needs_background": "light"
          }
        }
      ]
    },
    {
      "cell_type": "code",
      "metadata": {
        "id": "LUQdJY96z5nL",
        "colab": {
          "base_uri": "https://localhost:8080/",
          "height": 211
        },
        "outputId": "cc2a22ed-81cc-4a60-8247-315691f893a4"
      },
      "source": [
        "i = 5\n",
        "plt.figure(figsize=(6,3))\n",
        "plt.subplot(1,2,1)\n",
        "plot_image(i, predictions8[i], test_labels, test_images.reshape(10000,28,28))\n",
        "plt.subplot(1,2,2)\n",
        "plot_value_array(i, predictions8[i],  test_labels)\n",
        "plt.show()"
      ],
      "execution_count": 78,
      "outputs": [
        {
          "output_type": "display_data",
          "data": {
            "image/png": "[encoded data removed]",
            "text/plain": [
              "<Figure size 432x216 with 2 Axes>"
            ]
          },
          "metadata": {
            "needs_background": "light"
          }
        }
      ]
    },
    {
      "cell_type": "markdown",
      "metadata": {
        "id": "YVFregV-LLlQ"
      },
      "source": [
        "Como hemos explicado antes, en estos gráficos observamos de nuevo que el modelo 3 predice de manera correcta que prenda es, pero con un porcentaje relativamente bajo."
      ]
    },
    {
      "cell_type": "markdown",
      "metadata": {
        "id": "P6GplpnHEPKE"
      },
      "source": [
        "### **PREDICCIONES DE LAS 10 PRIMERAS IMÁGENES**\n",
        "\n"
      ]
    },
    {
      "cell_type": "markdown",
      "metadata": {
        "id": "MkSQb5GgEU4R"
      },
      "source": [
        "Vemos la predicción, igual que el gráfico anterior, de las 10 primeras imágenes del conjunto de test, para cada uno de los 8 casos."
      ]
    },
    {
      "cell_type": "code",
      "metadata": {
        "id": "bUWu8-RiEdU_",
        "colab": {
          "base_uri": "https://localhost:8080/",
          "height": 1000
        },
        "outputId": "537273bf-95d5-4ba8-92f1-76c4e7996a36"
      },
      "source": [
        "for i in range(10):\n",
        "    plt.figure(figsize=(6,3))\n",
        "    plt.subplot(1,2,1)\n",
        "    plot_image(i, predictions1[i], test_labels, test_images.reshape(10000,28,28))\n",
        "    plt.subplot(1,2,2)\n",
        "    plot_value_array(i, predictions1[i],  test_labels)\n",
        "    plt.show()\n",
        "    plt.clf()\n",
        "    "
      ],
      "execution_count": 79,
      "outputs": [
        {
          "output_type": "display_data",
          "data": {
            "image/png": "[encoded data removed]",
            "text/plain": [
              "<Figure size 432x216 with 2 Axes>"
            ]
          },
          "metadata": {
            "needs_background": "light"
          }
        },
        {
          "output_type": "display_data",
          "data": {
            "text/plain": [
              "<Figure size 432x288 with 0 Axes>"
            ]
          },
          "metadata": {}
        },
        {
          "output_type": "display_data",
          "data": {
            "image/png": "[encoded data removed]",
            "text/plain": [
              "<Figure size 432x216 with 2 Axes>"
            ]
          },
          "metadata": {
            "needs_background": "light"
          }
        },
        {
          "output_type": "display_data",
          "data": {
            "text/plain": [
              "<Figure size 432x288 with 0 Axes>"
            ]
          },
          "metadata": {}
        },
        {
          "output_type": "display_data",
          "data": {
            "image/png": "[encoded data removed]",
            "text/plain": [
              "<Figure size 432x216 with 2 Axes>"
            ]
          },
          "metadata": {
            "needs_background": "light"
          }
        },
        {
          "output_type": "display_data",
          "data": {
            "text/plain": [
              "<Figure size 432x288 with 0 Axes>"
            ]
          },
          "metadata": {}
        },
        {
          "output_type": "display_data",
          "data": {
            "image/png": "[encoded data removed]",
            "text/plain": [
              "<Figure size 432x216 with 2 Axes>"
            ]
          },
          "metadata": {
            "needs_background": "light"
          }
        },
        {
          "output_type": "display_data",
          "data": {
            "text/plain": [
              "<Figure size 432x288 with 0 Axes>"
            ]
          },
          "metadata": {}
        },
        {
          "output_type": "display_data",
          "data": {
            "image/png": "[encoded data removed]",
            "text/plain": [
              "<Figure size 432x216 with 2 Axes>"
            ]
          },
          "metadata": {
            "needs_background": "light"
          }
        },
        {
          "output_type": "display_data",
          "data": {
            "text/plain": [
              "<Figure size 432x288 with 0 Axes>"
            ]
          },
          "metadata": {}
        },
        {
          "output_type": "display_data",
          "data": {
            "image/png": "[encoded data removed]",
            "text/plain": [
              "<Figure size 432x216 with 2 Axes>"
            ]
          },
          "metadata": {
            "needs_background": "light"
          }
        },
        {
          "output_type": "display_data",
          "data": {
            "text/plain": [
              "<Figure size 432x288 with 0 Axes>"
            ]
          },
          "metadata": {}
        },
        {
          "output_type": "display_data",
          "data": {
            "image/png": "[encoded data removed]",
            "text/plain": [
              "<Figure size 432x216 with 2 Axes>"
            ]
          },
          "metadata": {
            "needs_background": "light"
          }
        },
        {
          "output_type": "display_data",
          "data": {
            "text/plain": [
              "<Figure size 432x288 with 0 Axes>"
            ]
          },
          "metadata": {}
        },
        {
          "output_type": "display_data",
          "data": {
            "image/png": "[encoded data removed]",
            "text/plain": [
              "<Figure size 432x216 with 2 Axes>"
            ]
          },
          "metadata": {
            "needs_background": "light"
          }
        },
        {
          "output_type": "display_data",
          "data": {
            "text/plain": [
              "<Figure size 432x288 with 0 Axes>"
            ]
          },
          "metadata": {}
        },
        {
          "output_type": "display_data",
          "data": {
            "image/png": "[encoded data removed]",
            "text/plain": [
              "<Figure size 432x216 with 2 Axes>"
            ]
          },
          "metadata": {
            "needs_background": "light"
          }
        },
        {
          "output_type": "display_data",
          "data": {
            "text/plain": [
              "<Figure size 432x288 with 0 Axes>"
            ]
          },
          "metadata": {}
        },
        {
          "output_type": "display_data",
          "data": {
            "image/png": "[encoded data removed]",
            "text/plain": [
              "<Figure size 432x216 with 2 Axes>"
            ]
          },
          "metadata": {
            "needs_background": "light"
          }
        },
        {
          "output_type": "display_data",
          "data": {
            "text/plain": [
              "<Figure size 432x288 with 0 Axes>"
            ]
          },
          "metadata": {}
        }
      ]
    },
    {
      "cell_type": "markdown",
      "metadata": {
        "id": "7Zcs2qXhAe49"
      },
      "source": [
        "En este modelo, aunque la precisión era alta, la pérdida era de aproximadamente 0.6, lo cual explica que en el caso de la penúltima imagen llegue a cometer error. \n",
        "\n",
        "Por otra parte, el optimizador de este modelo es sgd, que como hemos explicado antes, para nuestro caso, es peor que rmsprop."
      ]
    },
    {
      "cell_type": "code",
      "metadata": {
        "id": "Luv-pNMQkvR7",
        "colab": {
          "base_uri": "https://localhost:8080/",
          "height": 1000
        },
        "outputId": "fe27d1cd-3e08-4ed5-ee88-55703e893020"
      },
      "source": [
        "for i in range(10):\n",
        "    plt.figure(figsize=(6,3))\n",
        "    plt.subplot(1,2,1)\n",
        "    plot_image(i, predictions2[i], test_labels, test_images.reshape(10000,28,28))\n",
        "    plt.subplot(1,2,2)\n",
        "    plot_value_array(i, predictions2[i],  test_labels)\n",
        "    plt.show()\n",
        "    plt.clf()"
      ],
      "execution_count": 80,
      "outputs": [
        {
          "output_type": "display_data",
          "data": {
            "image/png": "[encoded data removed]",
            "text/plain": [
              "<Figure size 432x216 with 2 Axes>"
            ]
          },
          "metadata": {
            "needs_background": "light"
          }
        },
        {
          "output_type": "display_data",
          "data": {
            "text/plain": [
              "<Figure size 432x288 with 0 Axes>"
            ]
          },
          "metadata": {}
        },
        {
          "output_type": "display_data",
          "data": {
            "image/png": "[encoded data removed]",
            "text/plain": [
              "<Figure size 432x216 with 2 Axes>"
            ]
          },
          "metadata": {
            "needs_background": "light"
          }
        },
        {
          "output_type": "display_data",
          "data": {
            "text/plain": [
              "<Figure size 432x288 with 0 Axes>"
            ]
          },
          "metadata": {}
        },
        {
          "output_type": "display_data",
          "data": {
            "image/png": "[encoded data removed]",
            "text/plain": [
              "<Figure size 432x216 with 2 Axes>"
            ]
          },
          "metadata": {
            "needs_background": "light"
          }
        },
        {
          "output_type": "display_data",
          "data": {
            "text/plain": [
              "<Figure size 432x288 with 0 Axes>"
            ]
          },
          "metadata": {}
        },
        {
          "output_type": "display_data",
          "data": {
            "image/png": "[encoded data removed]",
            "text/plain": [
              "<Figure size 432x216 with 2 Axes>"
            ]
          },
          "metadata": {
            "needs_background": "light"
          }
        },
        {
          "output_type": "display_data",
          "data": {
            "text/plain": [
              "<Figure size 432x288 with 0 Axes>"
            ]
          },
          "metadata": {}
        },
        {
          "output_type": "display_data",
          "data": {
            "image/png": "[encoded data removed]",
            "text/plain": [
              "<Figure size 432x216 with 2 Axes>"
            ]
          },
          "metadata": {
            "needs_background": "light"
          }
        },
        {
          "output_type": "display_data",
          "data": {
            "text/plain": [
              "<Figure size 432x288 with 0 Axes>"
            ]
          },
          "metadata": {}
        },
        {
          "output_type": "display_data",
          "data": {
            "image/png": "[encoded data removed]",
            "text/plain": [
              "<Figure size 432x216 with 2 Axes>"
            ]
          },
          "metadata": {
            "needs_background": "light"
          }
        },
        {
          "output_type": "display_data",
          "data": {
            "text/plain": [
              "<Figure size 432x288 with 0 Axes>"
            ]
          },
          "metadata": {}
        },
        {
          "output_type": "display_data",
          "data": {
            "image/png": "[encoded data removed]",
            "text/plain": [
              "<Figure size 432x216 with 2 Axes>"
            ]
          },
          "metadata": {
            "needs_background": "light"
          }
        },
        {
          "output_type": "display_data",
          "data": {
            "text/plain": [
              "<Figure size 432x288 with 0 Axes>"
            ]
          },
          "metadata": {}
        },
        {
          "output_type": "display_data",
          "data": {
            "image/png": "[encoded data removed]",
            "text/plain": [
              "<Figure size 432x216 with 2 Axes>"
            ]
          },
          "metadata": {
            "needs_background": "light"
          }
        },
        {
          "output_type": "display_data",
          "data": {
            "text/plain": [
              "<Figure size 432x288 with 0 Axes>"
            ]
          },
          "metadata": {}
        },
        {
          "output_type": "display_data",
          "data": {
            "image/png": "[encoded data removed]",
            "text/plain": [
              "<Figure size 432x216 with 2 Axes>"
            ]
          },
          "metadata": {
            "needs_background": "light"
          }
        },
        {
          "output_type": "display_data",
          "data": {
            "text/plain": [
              "<Figure size 432x288 with 0 Axes>"
            ]
          },
          "metadata": {}
        },
        {
          "output_type": "display_data",
          "data": {
            "image/png": "[encoded data removed]",
            "text/plain": [
              "<Figure size 432x216 with 2 Axes>"
            ]
          },
          "metadata": {
            "needs_background": "light"
          }
        },
        {
          "output_type": "display_data",
          "data": {
            "text/plain": [
              "<Figure size 432x288 with 0 Axes>"
            ]
          },
          "metadata": {}
        }
      ]
    },
    {
      "cell_type": "markdown",
      "metadata": {
        "id": "3ziq5P9cBjU9"
      },
      "source": [
        "En el modelo dos, observamos que en la mayoría acierta con más de un 90% de precisión, llegando al 100% en algunos casos."
      ]
    },
    {
      "cell_type": "code",
      "metadata": {
        "id": "N1HM_86ukzvU",
        "colab": {
          "base_uri": "https://localhost:8080/",
          "height": 1000
        },
        "outputId": "62067d6c-0356-4140-c71b-659a55fce2f7"
      },
      "source": [
        "for i in range(10):\n",
        "    plt.figure(figsize=(6,3))\n",
        "    plt.subplot(1,2,1)\n",
        "    plot_image(i, predictions3[i], test_labels, test_images.reshape(10000,28,28))\n",
        "    plt.subplot(1,2,2)\n",
        "    plot_value_array(i, predictions3[i],  test_labels)\n",
        "    plt.show()\n",
        "    plt.clf()"
      ],
      "execution_count": 81,
      "outputs": [
        {
          "output_type": "display_data",
          "data": {
            "image/png": "[encoded data removed]",
            "text/plain": [
              "<Figure size 432x216 with 2 Axes>"
            ]
          },
          "metadata": {
            "needs_background": "light"
          }
        },
        {
          "output_type": "display_data",
          "data": {
            "text/plain": [
              "<Figure size 432x288 with 0 Axes>"
            ]
          },
          "metadata": {}
        },
        {
          "output_type": "display_data",
          "data": {
            "image/png": "[encoded data removed]",
            "text/plain": [
              "<Figure size 432x216 with 2 Axes>"
            ]
          },
          "metadata": {
            "needs_background": "light"
          }
        },
        {
          "output_type": "display_data",
          "data": {
            "text/plain": [
              "<Figure size 432x288 with 0 Axes>"
            ]
          },
          "metadata": {}
        },
        {
          "output_type": "display_data",
          "data": {
            "image/png": "[encoded data removed]",
            "text/plain": [
              "<Figure size 432x216 with 2 Axes>"
            ]
          },
          "metadata": {
            "needs_background": "light"
          }
        },
        {
          "output_type": "display_data",
          "data": {
            "text/plain": [
              "<Figure size 432x288 with 0 Axes>"
            ]
          },
          "metadata": {}
        },
        {
          "output_type": "display_data",
          "data": {
            "image/png": "[encoded data removed]",
            "text/plain": [
              "<Figure size 432x216 with 2 Axes>"
            ]
          },
          "metadata": {
            "needs_background": "light"
          }
        },
        {
          "output_type": "display_data",
          "data": {
            "text/plain": [
              "<Figure size 432x288 with 0 Axes>"
            ]
          },
          "metadata": {}
        },
        {
          "output_type": "display_data",
          "data": {
            "image/png": "[encoded data removed]",
            "text/plain": [
              "<Figure size 432x216 with 2 Axes>"
            ]
          },
          "metadata": {
            "needs_background": "light"
          }
        },
        {
          "output_type": "display_data",
          "data": {
            "text/plain": [
              "<Figure size 432x288 with 0 Axes>"
            ]
          },
          "metadata": {}
        },
        {
          "output_type": "display_data",
          "data": {
            "image/png": "[encoded data removed]",
            "text/plain": [
              "<Figure size 432x216 with 2 Axes>"
            ]
          },
          "metadata": {
            "needs_background": "light"
          }
        },
        {
          "output_type": "display_data",
          "data": {
            "text/plain": [
              "<Figure size 432x288 with 0 Axes>"
            ]
          },
          "metadata": {}
        },
        {
          "output_type": "display_data",
          "data": {
            "image/png": "[encoded data removed]",
            "text/plain": [
              "<Figure size 432x216 with 2 Axes>"
            ]
          },
          "metadata": {
            "needs_background": "light"
          }
        },
        {
          "output_type": "display_data",
          "data": {
            "text/plain": [
              "<Figure size 432x288 with 0 Axes>"
            ]
          },
          "metadata": {}
        },
        {
          "output_type": "display_data",
          "data": {
            "image/png": "[encoded data removed]",
            "text/plain": [
              "<Figure size 432x216 with 2 Axes>"
            ]
          },
          "metadata": {
            "needs_background": "light"
          }
        },
        {
          "output_type": "display_data",
          "data": {
            "text/plain": [
              "<Figure size 432x288 with 0 Axes>"
            ]
          },
          "metadata": {}
        },
        {
          "output_type": "display_data",
          "data": {
            "image/png": "[encoded data removed]",
            "text/plain": [
              "<Figure size 432x216 with 2 Axes>"
            ]
          },
          "metadata": {
            "needs_background": "light"
          }
        },
        {
          "output_type": "display_data",
          "data": {
            "text/plain": [
              "<Figure size 432x288 with 0 Axes>"
            ]
          },
          "metadata": {}
        },
        {
          "output_type": "display_data",
          "data": {
            "image/png": "[encoded data removed]",
            "text/plain": [
              "<Figure size 432x216 with 2 Axes>"
            ]
          },
          "metadata": {
            "needs_background": "light"
          }
        },
        {
          "output_type": "display_data",
          "data": {
            "text/plain": [
              "<Figure size 432x288 with 0 Axes>"
            ]
          },
          "metadata": {}
        }
      ]
    },
    {
      "cell_type": "markdown",
      "metadata": {
        "id": "kIhF1vVp-uH_"
      },
      "source": [
        "\n",
        "En el caso del modelo 3, podemos ver que en varias predicciones llega a confundir algunas prendas con otras. El caso más destacable es el penúltimo, en el que confunde una sandalia con una zapatilla."
      ]
    },
    {
      "cell_type": "code",
      "metadata": {
        "id": "gYbRLwAYk4uw",
        "colab": {
          "base_uri": "https://localhost:8080/",
          "height": 1000
        },
        "outputId": "df8a1d13-30df-41c1-b6ba-72bfa685614f"
      },
      "source": [
        "for i in range(10):\n",
        "    plt.figure(figsize=(6,3))\n",
        "    plt.subplot(1,2,1)\n",
        "    plot_image(i, predictions4[i], test_labels, test_images.reshape(10000,28,28))\n",
        "    plt.subplot(1,2,2)\n",
        "    plot_value_array(i, predictions4[i],  test_labels)\n",
        "    plt.show()\n",
        "    plt.clf()"
      ],
      "execution_count": 82,
      "outputs": [
        {
          "output_type": "display_data",
          "data": {
            "image/png": "[encoded data removed]",
            "text/plain": [
              "<Figure size 432x216 with 2 Axes>"
            ]
          },
          "metadata": {
            "needs_background": "light"
          }
        },
        {
          "output_type": "display_data",
          "data": {
            "text/plain": [
              "<Figure size 432x288 with 0 Axes>"
            ]
          },
          "metadata": {}
        },
        {
          "output_type": "display_data",
          "data": {
            "image/png": "[encoded data removed]",
            "text/plain": [
              "<Figure size 432x216 with 2 Axes>"
            ]
          },
          "metadata": {
            "needs_background": "light"
          }
        },
        {
          "output_type": "display_data",
          "data": {
            "text/plain": [
              "<Figure size 432x288 with 0 Axes>"
            ]
          },
          "metadata": {}
        },
        {
          "output_type": "display_data",
          "data": {
            "image/png": "[encoded data removed]",
            "text/plain": [
              "<Figure size 432x216 with 2 Axes>"
            ]
          },
          "metadata": {
            "needs_background": "light"
          }
        },
        {
          "output_type": "display_data",
          "data": {
            "text/plain": [
              "<Figure size 432x288 with 0 Axes>"
            ]
          },
          "metadata": {}
        },
        {
          "output_type": "display_data",
          "data": {
            "image/png": "[encoded data removed]",
            "text/plain": [
              "<Figure size 432x216 with 2 Axes>"
            ]
          },
          "metadata": {
            "needs_background": "light"
          }
        },
        {
          "output_type": "display_data",
          "data": {
            "text/plain": [
              "<Figure size 432x288 with 0 Axes>"
            ]
          },
          "metadata": {}
        },
        {
          "output_type": "display_data",
          "data": {
            "image/png": "[encoded data removed]",
            "text/plain": [
              "<Figure size 432x216 with 2 Axes>"
            ]
          },
          "metadata": {
            "needs_background": "light"
          }
        },
        {
          "output_type": "display_data",
          "data": {
            "text/plain": [
              "<Figure size 432x288 with 0 Axes>"
            ]
          },
          "metadata": {}
        },
        {
          "output_type": "display_data",
          "data": {
            "image/png": "[encoded data removed]",
            "text/plain": [
              "<Figure size 432x216 with 2 Axes>"
            ]
          },
          "metadata": {
            "needs_background": "light"
          }
        },
        {
          "output_type": "display_data",
          "data": {
            "text/plain": [
              "<Figure size 432x288 with 0 Axes>"
            ]
          },
          "metadata": {}
        },
        {
          "output_type": "display_data",
          "data": {
            "image/png": "[encoded data removed]",
            "text/plain": [
              "<Figure size 432x216 with 2 Axes>"
            ]
          },
          "metadata": {
            "needs_background": "light"
          }
        },
        {
          "output_type": "display_data",
          "data": {
            "text/plain": [
              "<Figure size 432x288 with 0 Axes>"
            ]
          },
          "metadata": {}
        },
        {
          "output_type": "display_data",
          "data": {
            "image/png": "[encoded data removed]",
            "text/plain": [
              "<Figure size 432x216 with 2 Axes>"
            ]
          },
          "metadata": {
            "needs_background": "light"
          }
        },
        {
          "output_type": "display_data",
          "data": {
            "text/plain": [
              "<Figure size 432x288 with 0 Axes>"
            ]
          },
          "metadata": {}
        },
        {
          "output_type": "display_data",
          "data": {
            "image/png": "[encoded data removed]",
            "text/plain": [
              "<Figure size 432x216 with 2 Axes>"
            ]
          },
          "metadata": {
            "needs_background": "light"
          }
        },
        {
          "output_type": "display_data",
          "data": {
            "text/plain": [
              "<Figure size 432x288 with 0 Axes>"
            ]
          },
          "metadata": {}
        },
        {
          "output_type": "display_data",
          "data": {
            "image/png": "[encoded data removed]",
            "text/plain": [
              "<Figure size 432x216 with 2 Axes>"
            ]
          },
          "metadata": {
            "needs_background": "light"
          }
        },
        {
          "output_type": "display_data",
          "data": {
            "text/plain": [
              "<Figure size 432x288 with 0 Axes>"
            ]
          },
          "metadata": {}
        }
      ]
    },
    {
      "cell_type": "code",
      "metadata": {
        "id": "cYwQUaMe9pSb",
        "colab": {
          "base_uri": "https://localhost:8080/",
          "height": 1000
        },
        "outputId": "dc8509b1-c834-4720-e4fe-cd5e2066e948"
      },
      "source": [
        "for i in range(10):\n",
        "  plt.figure(figsize=(6,3))\n",
        "  plt.subplot(1,2,1)\n",
        "  plot_image(i, predictions5[i], test_labels, test_images.reshape(10000,28,28))\n",
        "  plt.subplot(1,2,2)\n",
        "  plot_value_array(i, predictions5[i],  test_labels)\n",
        "  plt.show()\n",
        "  plt.clf()"
      ],
      "execution_count": 83,
      "outputs": [
        {
          "output_type": "display_data",
          "data": {
            "image/png": "[encoded data removed]",
            "text/plain": [
              "<Figure size 432x216 with 2 Axes>"
            ]
          },
          "metadata": {
            "needs_background": "light"
          }
        },
        {
          "output_type": "display_data",
          "data": {
            "text/plain": [
              "<Figure size 432x288 with 0 Axes>"
            ]
          },
          "metadata": {}
        },
        {
          "output_type": "display_data",
          "data": {
            "image/png": "[encoded data removed]",
            "text/plain": [
              "<Figure size 432x216 with 2 Axes>"
            ]
          },
          "metadata": {
            "needs_background": "light"
          }
        },
        {
          "output_type": "display_data",
          "data": {
            "text/plain": [
              "<Figure size 432x288 with 0 Axes>"
            ]
          },
          "metadata": {}
        },
        {
          "output_type": "display_data",
          "data": {
            "image/png": "[encoded data removed]",
            "text/plain": [
              "<Figure size 432x216 with 2 Axes>"
            ]
          },
          "metadata": {
            "needs_background": "light"
          }
        },
        {
          "output_type": "display_data",
          "data": {
            "text/plain": [
              "<Figure size 432x288 with 0 Axes>"
            ]
          },
          "metadata": {}
        },
        {
          "output_type": "display_data",
          "data": {
            "image/png": "[encoded data removed]",
            "text/plain": [
              "<Figure size 432x216 with 2 Axes>"
            ]
          },
          "metadata": {
            "needs_background": "light"
          }
        },
        {
          "output_type": "display_data",
          "data": {
            "text/plain": [
              "<Figure size 432x288 with 0 Axes>"
            ]
          },
          "metadata": {}
        },
        {
          "output_type": "display_data",
          "data": {
            "image/png": "[encoded data removed]",
            "text/plain": [
              "<Figure size 432x216 with 2 Axes>"
            ]
          },
          "metadata": {
            "needs_background": "light"
          }
        },
        {
          "output_type": "display_data",
          "data": {
            "text/plain": [
              "<Figure size 432x288 with 0 Axes>"
            ]
          },
          "metadata": {}
        },
        {
          "output_type": "display_data",
          "data": {
            "image/png": "[encoded data removed]",
            "text/plain": [
              "<Figure size 432x216 with 2 Axes>"
            ]
          },
          "metadata": {
            "needs_background": "light"
          }
        },
        {
          "output_type": "display_data",
          "data": {
            "text/plain": [
              "<Figure size 432x288 with 0 Axes>"
            ]
          },
          "metadata": {}
        },
        {
          "output_type": "display_data",
          "data": {
            "image/png": "[encoded data removed]",
            "text/plain": [
              "<Figure size 432x216 with 2 Axes>"
            ]
          },
          "metadata": {
            "needs_background": "light"
          }
        },
        {
          "output_type": "display_data",
          "data": {
            "text/plain": [
              "<Figure size 432x288 with 0 Axes>"
            ]
          },
          "metadata": {}
        },
        {
          "output_type": "display_data",
          "data": {
            "image/png": "[encoded data removed]",
            "text/plain": [
              "<Figure size 432x216 with 2 Axes>"
            ]
          },
          "metadata": {
            "needs_background": "light"
          }
        },
        {
          "output_type": "display_data",
          "data": {
            "text/plain": [
              "<Figure size 432x288 with 0 Axes>"
            ]
          },
          "metadata": {}
        },
        {
          "output_type": "display_data",
          "data": {
            "image/png": "[encoded data removed]",
            "text/plain": [
              "<Figure size 432x216 with 2 Axes>"
            ]
          },
          "metadata": {
            "needs_background": "light"
          }
        },
        {
          "output_type": "display_data",
          "data": {
            "text/plain": [
              "<Figure size 432x288 with 0 Axes>"
            ]
          },
          "metadata": {}
        },
        {
          "output_type": "display_data",
          "data": {
            "image/png": "[encoded data removed]",
            "text/plain": [
              "<Figure size 432x216 with 2 Axes>"
            ]
          },
          "metadata": {
            "needs_background": "light"
          }
        },
        {
          "output_type": "display_data",
          "data": {
            "text/plain": [
              "<Figure size 432x288 with 0 Axes>"
            ]
          },
          "metadata": {}
        }
      ]
    },
    {
      "cell_type": "code",
      "metadata": {
        "id": "cc-YbZqK9pEs",
        "colab": {
          "base_uri": "https://localhost:8080/",
          "height": 1000
        },
        "outputId": "c5084d61-bad1-4ef6-c4e1-df72c9741968"
      },
      "source": [
        "for i in range(10):\n",
        "  plt.figure(figsize=(6,3))\n",
        "  plt.subplot(1,2,1)\n",
        "  plot_image(i, predictions6[i], test_labels, test_images.reshape(10000,28,28))\n",
        "  plt.subplot(1,2,2)\n",
        "  plot_value_array(i, predictions6[i],  test_labels)\n",
        "  plt.show()\n",
        "  plt.clf()"
      ],
      "execution_count": 84,
      "outputs": [
        {
          "output_type": "display_data",
          "data": {
            "image/png": "[encoded data removed]",
            "text/plain": [
              "<Figure size 432x216 with 2 Axes>"
            ]
          },
          "metadata": {
            "needs_background": "light"
          }
        },
        {
          "output_type": "display_data",
          "data": {
            "text/plain": [
              "<Figure size 432x288 with 0 Axes>"
            ]
          },
          "metadata": {}
        },
        {
          "output_type": "display_data",
          "data": {
            "image/png": "[encoded data removed]",
            "text/plain": [
              "<Figure size 432x216 with 2 Axes>"
            ]
          },
          "metadata": {
            "needs_background": "light"
          }
        },
        {
          "output_type": "display_data",
          "data": {
            "text/plain": [
              "<Figure size 432x288 with 0 Axes>"
            ]
          },
          "metadata": {}
        },
        {
          "output_type": "display_data",
          "data": {
            "image/png": "[encoded data removed]",
            "text/plain": [
              "<Figure size 432x216 with 2 Axes>"
            ]
          },
          "metadata": {
            "needs_background": "light"
          }
        },
        {
          "output_type": "display_data",
          "data": {
            "text/plain": [
              "<Figure size 432x288 with 0 Axes>"
            ]
          },
          "metadata": {}
        },
        {
          "output_type": "display_data",
          "data": {
            "image/png": "[encoded data removed]",
            "text/plain": [
              "<Figure size 432x216 with 2 Axes>"
            ]
          },
          "metadata": {
            "needs_background": "light"
          }
        },
        {
          "output_type": "display_data",
          "data": {
            "text/plain": [
              "<Figure size 432x288 with 0 Axes>"
            ]
          },
          "metadata": {}
        },
        {
          "output_type": "display_data",
          "data": {
            "image/png": "[encoded data removed]",
            "text/plain": [
              "<Figure size 432x216 with 2 Axes>"
            ]
          },
          "metadata": {
            "needs_background": "light"
          }
        },
        {
          "output_type": "display_data",
          "data": {
            "text/plain": [
              "<Figure size 432x288 with 0 Axes>"
            ]
          },
          "metadata": {}
        },
        {
          "output_type": "display_data",
          "data": {
            "image/png": "[encoded data removed]",
            "text/plain": [
              "<Figure size 432x216 with 2 Axes>"
            ]
          },
          "metadata": {
            "needs_background": "light"
          }
        },
        {
          "output_type": "display_data",
          "data": {
            "text/plain": [
              "<Figure size 432x288 with 0 Axes>"
            ]
          },
          "metadata": {}
        },
        {
          "output_type": "display_data",
          "data": {
            "image/png": "[encoded data removed]",
            "text/plain": [
              "<Figure size 432x216 with 2 Axes>"
            ]
          },
          "metadata": {
            "needs_background": "light"
          }
        },
        {
          "output_type": "display_data",
          "data": {
            "text/plain": [
              "<Figure size 432x288 with 0 Axes>"
            ]
          },
          "metadata": {}
        },
        {
          "output_type": "display_data",
          "data": {
            "image/png": "[encoded data removed]",
            "text/plain": [
              "<Figure size 432x216 with 2 Axes>"
            ]
          },
          "metadata": {
            "needs_background": "light"
          }
        },
        {
          "output_type": "display_data",
          "data": {
            "text/plain": [
              "<Figure size 432x288 with 0 Axes>"
            ]
          },
          "metadata": {}
        },
        {
          "output_type": "display_data",
          "data": {
            "image/png": "[encoded data removed]",
            "text/plain": [
              "<Figure size 432x216 with 2 Axes>"
            ]
          },
          "metadata": {
            "needs_background": "light"
          }
        },
        {
          "output_type": "display_data",
          "data": {
            "text/plain": [
              "<Figure size 432x288 with 0 Axes>"
            ]
          },
          "metadata": {}
        },
        {
          "output_type": "display_data",
          "data": {
            "image/png": "[encoded data removed]",
            "text/plain": [
              "<Figure size 432x216 with 2 Axes>"
            ]
          },
          "metadata": {
            "needs_background": "light"
          }
        },
        {
          "output_type": "display_data",
          "data": {
            "text/plain": [
              "<Figure size 432x288 with 0 Axes>"
            ]
          },
          "metadata": {}
        }
      ]
    },
    {
      "cell_type": "markdown",
      "metadata": {
        "id": "157XKfTN-daj"
      },
      "source": [
        "Observamos que el modelo de la red neuronal 6 hace muy buenas predicciones, si nos fijamos su precisión al entrenarla era de 0.8932 y su pérdida de 0.2897. \n",
        "\n",
        "Vemos que en lo que más se confunde es entre camisetas y camisas, lo cual es lógico ya que tienen mucho parecido; en lo demás lo predice casi al 100% correctamente."
      ]
    },
    {
      "cell_type": "code",
      "metadata": {
        "id": "lmKavIPn9o9u",
        "colab": {
          "base_uri": "https://localhost:8080/",
          "height": 1000
        },
        "outputId": "a1b88c69-0eb0-4149-b4bc-23fbdcd74dd1"
      },
      "source": [
        "for i in range(10):\n",
        "  plt.figure(figsize=(6,3))\n",
        "  plt.subplot(1,2,1)\n",
        "  plot_image(i, predictions7[i], test_labels, test_images.reshape(10000,28,28))\n",
        "  plt.subplot(1,2,2)\n",
        "  plot_value_array(i, predictions7[i],  test_labels)\n",
        "  plt.show()\n",
        "  plt.clf()"
      ],
      "execution_count": 85,
      "outputs": [
        {
          "output_type": "display_data",
          "data": {
            "image/png": "[encoded data removed]",
            "text/plain": [
              "<Figure size 432x216 with 2 Axes>"
            ]
          },
          "metadata": {
            "needs_background": "light"
          }
        },
        {
          "output_type": "display_data",
          "data": {
            "text/plain": [
              "<Figure size 432x288 with 0 Axes>"
            ]
          },
          "metadata": {}
        },
        {
          "output_type": "display_data",
          "data": {
            "image/png": "[encoded data removed]",
            "text/plain": [
              "<Figure size 432x216 with 2 Axes>"
            ]
          },
          "metadata": {
            "needs_background": "light"
          }
        },
        {
          "output_type": "display_data",
          "data": {
            "text/plain": [
              "<Figure size 432x288 with 0 Axes>"
            ]
          },
          "metadata": {}
        },
        {
          "output_type": "display_data",
          "data": {
            "image/png": "[encoded data removed]",
            "text/plain": [
              "<Figure size 432x216 with 2 Axes>"
            ]
          },
          "metadata": {
            "needs_background": "light"
          }
        },
        {
          "output_type": "display_data",
          "data": {
            "text/plain": [
              "<Figure size 432x288 with 0 Axes>"
            ]
          },
          "metadata": {}
        },
        {
          "output_type": "display_data",
          "data": {
            "image/png": "[encoded data removed]",
            "text/plain": [
              "<Figure size 432x216 with 2 Axes>"
            ]
          },
          "metadata": {
            "needs_background": "light"
          }
        },
        {
          "output_type": "display_data",
          "data": {
            "text/plain": [
              "<Figure size 432x288 with 0 Axes>"
            ]
          },
          "metadata": {}
        },
        {
          "output_type": "display_data",
          "data": {
            "image/png": "[encoded data removed]",
            "text/plain": [
              "<Figure size 432x216 with 2 Axes>"
            ]
          },
          "metadata": {
            "needs_background": "light"
          }
        },
        {
          "output_type": "display_data",
          "data": {
            "text/plain": [
              "<Figure size 432x288 with 0 Axes>"
            ]
          },
          "metadata": {}
        },
        {
          "output_type": "display_data",
          "data": {
            "image/png": "[encoded data removed]",
            "text/plain": [
              "<Figure size 432x216 with 2 Axes>"
            ]
          },
          "metadata": {
            "needs_background": "light"
          }
        },
        {
          "output_type": "display_data",
          "data": {
            "text/plain": [
              "<Figure size 432x288 with 0 Axes>"
            ]
          },
          "metadata": {}
        },
        {
          "output_type": "display_data",
          "data": {
            "image/png": "[encoded data removed]",
            "text/plain": [
              "<Figure size 432x216 with 2 Axes>"
            ]
          },
          "metadata": {
            "needs_background": "light"
          }
        },
        {
          "output_type": "display_data",
          "data": {
            "text/plain": [
              "<Figure size 432x288 with 0 Axes>"
            ]
          },
          "metadata": {}
        },
        {
          "output_type": "display_data",
          "data": {
            "image/png": "[encoded data removed]",
            "text/plain": [
              "<Figure size 432x216 with 2 Axes>"
            ]
          },
          "metadata": {
            "needs_background": "light"
          }
        },
        {
          "output_type": "display_data",
          "data": {
            "text/plain": [
              "<Figure size 432x288 with 0 Axes>"
            ]
          },
          "metadata": {}
        },
        {
          "output_type": "display_data",
          "data": {
            "image/png": "[encoded data removed]",
            "text/plain": [
              "<Figure size 432x216 with 2 Axes>"
            ]
          },
          "metadata": {
            "needs_background": "light"
          }
        },
        {
          "output_type": "display_data",
          "data": {
            "text/plain": [
              "<Figure size 432x288 with 0 Axes>"
            ]
          },
          "metadata": {}
        },
        {
          "output_type": "display_data",
          "data": {
            "image/png": "[encoded data removed]",
            "text/plain": [
              "<Figure size 432x216 with 2 Axes>"
            ]
          },
          "metadata": {
            "needs_background": "light"
          }
        },
        {
          "output_type": "display_data",
          "data": {
            "text/plain": [
              "<Figure size 432x288 with 0 Axes>"
            ]
          },
          "metadata": {}
        }
      ]
    },
    {
      "cell_type": "markdown",
      "metadata": {
        "id": "Wjnhj00l-mR-"
      },
      "source": [
        "Como podemos ver, esta red tenía: loss: 0.7630 y accuracy: 0.7523; a esto se debe que confunde varias imagenes como puede ser las camisetas con chaquetas, camisas o jerseys.\n"
      ]
    },
    {
      "cell_type": "code",
      "metadata": {
        "id": "g_-3vO2P9o2W",
        "colab": {
          "base_uri": "https://localhost:8080/",
          "height": 1000
        },
        "outputId": "4fc96693-6702-4674-855e-1bac38b66f3c"
      },
      "source": [
        "for i in range(10):\n",
        "  plt.figure(figsize=(6,3))\n",
        "  plt.subplot(1,2,1)\n",
        "  plot_image(i, predictions8[i], test_labels, test_images.reshape(10000,28,28))\n",
        "  plt.subplot(1,2,2)\n",
        "  plot_value_array(i, predictions8[i],  test_labels)\n",
        "  plt.show()\n",
        "  plt.clf()"
      ],
      "execution_count": 86,
      "outputs": [
        {
          "output_type": "display_data",
          "data": {
            "image/png": "[encoded data removed]",
            "text/plain": [
              "<Figure size 432x216 with 2 Axes>"
            ]
          },
          "metadata": {
            "needs_background": "light"
          }
        },
        {
          "output_type": "display_data",
          "data": {
            "text/plain": [
              "<Figure size 432x288 with 0 Axes>"
            ]
          },
          "metadata": {}
        },
        {
          "output_type": "display_data",
          "data": {
            "image/png": "[encoded data removed]",
            "text/plain": [
              "<Figure size 432x216 with 2 Axes>"
            ]
          },
          "metadata": {
            "needs_background": "light"
          }
        },
        {
          "output_type": "display_data",
          "data": {
            "text/plain": [
              "<Figure size 432x288 with 0 Axes>"
            ]
          },
          "metadata": {}
        },
        {
          "output_type": "display_data",
          "data": {
            "image/png": "[encoded data removed]",
            "text/plain": [
              "<Figure size 432x216 with 2 Axes>"
            ]
          },
          "metadata": {
            "needs_background": "light"
          }
        },
        {
          "output_type": "display_data",
          "data": {
            "text/plain": [
              "<Figure size 432x288 with 0 Axes>"
            ]
          },
          "metadata": {}
        },
        {
          "output_type": "display_data",
          "data": {
            "image/png": "[encoded data removed]",
            "text/plain": [
              "<Figure size 432x216 with 2 Axes>"
            ]
          },
          "metadata": {
            "needs_background": "light"
          }
        },
        {
          "output_type": "display_data",
          "data": {
            "text/plain": [
              "<Figure size 432x288 with 0 Axes>"
            ]
          },
          "metadata": {}
        },
        {
          "output_type": "display_data",
          "data": {
            "image/png": "[encoded data removed]",
            "text/plain": [
              "<Figure size 432x216 with 2 Axes>"
            ]
          },
          "metadata": {
            "needs_background": "light"
          }
        },
        {
          "output_type": "display_data",
          "data": {
            "text/plain": [
              "<Figure size 432x288 with 0 Axes>"
            ]
          },
          "metadata": {}
        },
        {
          "output_type": "display_data",
          "data": {
            "image/png": "[encoded data removed]",
            "text/plain": [
              "<Figure size 432x216 with 2 Axes>"
            ]
          },
          "metadata": {
            "needs_background": "light"
          }
        },
        {
          "output_type": "display_data",
          "data": {
            "text/plain": [
              "<Figure size 432x288 with 0 Axes>"
            ]
          },
          "metadata": {}
        },
        {
          "output_type": "display_data",
          "data": {
            "image/png": "[encoded data removed]",
            "text/plain": [
              "<Figure size 432x216 with 2 Axes>"
            ]
          },
          "metadata": {
            "needs_background": "light"
          }
        },
        {
          "output_type": "display_data",
          "data": {
            "text/plain": [
              "<Figure size 432x288 with 0 Axes>"
            ]
          },
          "metadata": {}
        },
        {
          "output_type": "display_data",
          "data": {
            "image/png": "[encoded data removed]",
            "text/plain": [
              "<Figure size 432x216 with 2 Axes>"
            ]
          },
          "metadata": {
            "needs_background": "light"
          }
        },
        {
          "output_type": "display_data",
          "data": {
            "text/plain": [
              "<Figure size 432x288 with 0 Axes>"
            ]
          },
          "metadata": {}
        },
        {
          "output_type": "display_data",
          "data": {
            "image/png": "[encoded data removed]",
            "text/plain": [
              "<Figure size 432x216 with 2 Axes>"
            ]
          },
          "metadata": {
            "needs_background": "light"
          }
        },
        {
          "output_type": "display_data",
          "data": {
            "text/plain": [
              "<Figure size 432x288 with 0 Axes>"
            ]
          },
          "metadata": {}
        },
        {
          "output_type": "display_data",
          "data": {
            "image/png": "[encoded data removed]",
            "text/plain": [
              "<Figure size 432x216 with 2 Axes>"
            ]
          },
          "metadata": {
            "needs_background": "light"
          }
        },
        {
          "output_type": "display_data",
          "data": {
            "text/plain": [
              "<Figure size 432x288 with 0 Axes>"
            ]
          },
          "metadata": {}
        }
      ]
    },
    {
      "cell_type": "markdown",
      "metadata": {
        "id": "GwBoOChQ1VH-"
      },
      "source": [
        "### **OPTIMIZADOR ADAM**"
      ]
    },
    {
      "cell_type": "markdown",
      "metadata": {
        "id": "8LbUkwgb1M4w"
      },
      "source": [
        "Mejoramos el modelo usando el de la configuración del caso 3, pero cambiando el optimizador por **adam**."
      ]
    },
    {
      "cell_type": "code",
      "metadata": {
        "id": "Pe9OYoTC1ZbD"
      },
      "source": [
        "##función de activación: sigmoid\n",
        "##optimizador: sgd\n",
        "network31 = models.Sequential()\n",
        "network31.add(layers.Dense(10, activation='sigmoid', input_shape=(28*28,), name = 'capa1'))\n",
        "network31.add(layers.Dense(10, activation='softmax', name = 'capa2'))"
      ],
      "execution_count": 87,
      "outputs": []
    },
    {
      "cell_type": "code",
      "metadata": {
        "id": "vCIi3NXK1uLy"
      },
      "source": [
        "network31.compile(optimizer='adam', \n",
        "                loss='sparse_categorical_crossentropy',\n",
        "                metrics=['accuracy'])"
      ],
      "execution_count": 88,
      "outputs": []
    },
    {
      "cell_type": "code",
      "metadata": {
        "id": "UJNihuEB-tMb"
      },
      "source": [
        "network31.add(layers.Flatten(input_shape=(28,28)))"
      ],
      "execution_count": 89,
      "outputs": []
    },
    {
      "cell_type": "code",
      "metadata": {
        "id": "KAjug0sq19_e",
        "colab": {
          "base_uri": "https://localhost:8080/"
        },
        "outputId": "70f40cd0-eefe-428e-bff9-89ec7ec81750"
      },
      "source": [
        "network31.fit(train_images, train_labels, epochs=5, batch_size=128)"
      ],
      "execution_count": 90,
      "outputs": [
        {
          "output_type": "stream",
          "name": "stdout",
          "text": [
            "Epoch 1/5\n",
            "469/469 [==============================] - 2s 3ms/step - loss: 1.4907 - accuracy: 0.5967\n",
            "Epoch 2/5\n",
            "469/469 [==============================] - 1s 3ms/step - loss: 0.8651 - accuracy: 0.7837\n",
            "Epoch 3/5\n",
            "469/469 [==============================] - 1s 3ms/step - loss: 0.6648 - accuracy: 0.8139\n",
            "Epoch 4/5\n",
            "469/469 [==============================] - 1s 2ms/step - loss: 0.5751 - accuracy: 0.8260\n",
            "Epoch 5/5\n",
            "469/469 [==============================] - 1s 2ms/step - loss: 0.5242 - accuracy: 0.8343\n"
          ]
        },
        {
          "output_type": "execute_result",
          "data": {
            "text/plain": [
              "<keras.callbacks.History at 0x7f3ea06c2510>"
            ]
          },
          "metadata": {},
          "execution_count": 90
        }
      ]
    },
    {
      "cell_type": "markdown",
      "metadata": {
        "id": "06gtDMltIkaT"
      },
      "source": [
        "Cambiando el optimizador, podemos comprobar que el modelo mejora con diferencia\n",
        "\n",
        "**Adam** (Adaptive moment estimation)\n",
        "\n",
        "El algoritmo de Adam es diferente del sgd. El sgd mantiene una tasa de aprendizaje única (alfa) para actualizar todos los pesos, y la tasa de aprendizaje no cambia durante el proceso de entrenamiento, Mientras que Adam calcula una tasa de aprendizaje diferente para cada peso.\n",
        "\n",
        "El algoritmo de Adam obtiene las ventajas de los algoritmos AdaGrad y RMSProp. Adam no solo calcula la tasa de aprendizaje de parámetros adaptativos en función del valor medio del primer momento como el algoritmo RMSProp, sino que también hace un uso completo del valor medio del segundo momento del gradiente (es decir, la varianza no centrada). \n",
        "\n",
        "\n",
        "La función de pérdida es la misma que hemos utlizado anteriormente **spars_categorical_crossentropy** que se utiliza como señal de retroalimentación para aprender los tensores de peso."
      ]
    },
    {
      "cell_type": "markdown",
      "metadata": {
        "id": "TWMIAyHb_VQq"
      },
      "source": [
        "### **MATRIZ DE CONFUSIÓN**"
      ]
    },
    {
      "cell_type": "code",
      "metadata": {
        "id": "uDs60mC7_WVJ"
      },
      "source": [
        "#import matplotlib.pyplot as plt\n",
        "def plot_confusion_matrix(cm, classes,\n",
        "                          normalize=False,\n",
        "                          title='Confusion matrix',\n",
        "                          cmap=plt.cm.Blues):\n",
        "    \"\"\"\n",
        "    This function prints and plots the confusion matrix.\n",
        "    Normalization can be applied by setting `normalize=True`.\n",
        "    \"\"\"\n",
        "    plt.imshow(cm, interpolation='nearest', cmap=cmap)\n",
        "    plt.title(title)\n",
        "    plt.colorbar()\n",
        "    tick_marks = np.arange(len(classes))\n",
        "    plt.xticks(tick_marks, classes, rotation=45)\n",
        "    plt.yticks(tick_marks, classes)\n",
        "\n",
        "    if normalize:\n",
        "        cm = cm.astype('float') / cm.sum(axis=1)[:, np.newaxis]\n",
        "\n",
        "    thresh = cm.max() / 2.\n",
        "    for i, j in itertools.product(range(cm.shape[0]), range(cm.shape[1])):\n",
        "        plt.text(j, i, cm[i, j],\n",
        "                 horizontalalignment=\"center\",\n",
        "                 color=\"white\" if cm[i, j] > thresh else \"black\")\n",
        "\n",
        "    plt.tight_layout()\n",
        "    plt.ylabel('Observación')\n",
        "    plt.xlabel('Predicción')"
      ],
      "execution_count": 91,
      "outputs": []
    },
    {
      "cell_type": "code",
      "metadata": {
        "id": "T1_Rn4oL_tRO"
      },
      "source": [
        "from collections import Counter\n",
        "from sklearn.metrics import confusion_matrix\n",
        "import itertools\n",
        "import numpy as np\n",
        "from keras.utils.np_utils import to_categorical\n",
        "test_labels = to_categorical(test_labels)"
      ],
      "execution_count": 92,
      "outputs": []
    },
    {
      "cell_type": "markdown",
      "metadata": {
        "id": "vF_fv5KHEaep"
      },
      "source": [
        "Vamos a ver las matrices de confusión para el mejor y el peor caso de nuestros modelos, tanto con 10 neuronas de entrada como con 512"
      ]
    },
    {
      "cell_type": "markdown",
      "metadata": {
        "id": "PCMlmLZ7xqoH"
      },
      "source": [
        "**Matriz modelo 2**\n",
        "\n",
        "Mejor caso para 10 neuronas"
      ]
    },
    {
      "cell_type": "code",
      "metadata": {
        "id": "kU66BEljxrPW",
        "colab": {
          "base_uri": "https://localhost:8080/",
          "height": 311
        },
        "outputId": "2c7a3870-d91b-40e8-e218-e058a2d11f73"
      },
      "source": [
        "# Predict the values from the validation dataset\n",
        "Y_pred2 = network2.predict(test_images)\n",
        "Y_pred_classes2 = np.argmax(Y_pred2, axis = 1) \n",
        "Y_true2 = np.argmax(test_labels, axis = 1) \n",
        "confusion_mtx2 = confusion_matrix(Y_true2, Y_pred_classes2) \n",
        "plot_confusion_matrix(confusion_mtx2, classes = range(10))"
      ],
      "execution_count": 93,
      "outputs": [
        {
          "output_type": "display_data",
          "data": {
            "image/png": "[encoded data removed]",
            "text/plain": [
              "<Figure size 432x288 with 2 Axes>"
            ]
          },
          "metadata": {
            "needs_background": "light"
          }
        }
      ]
    },
    {
      "cell_type": "markdown",
      "metadata": {
        "id": "NInfIJ7cFhw6"
      },
      "source": [
        "Observamos que en la diagonal se encuentran los valores más altos, es decir que su precisión es bastante buena. Esto significa que la imagen que corresponde a la etiqueta número x, el modelo predice que es x.\n",
        "\n",
        "Por ejemplo, la imagen 8 (bolsa) es la que mejor predice, ya que de 1000 casos, ha acertado 964, 6 lo ha confundido con jersey, 8 con una vestido y 12 con camisa"
      ]
    },
    {
      "cell_type": "markdown",
      "metadata": {
        "id": "gngTFJr1xugc"
      },
      "source": [
        "**Matriz modelo 3**\n",
        "\n",
        "Peor modelo para 10 neuronas"
      ]
    },
    {
      "cell_type": "code",
      "metadata": {
        "id": "MXg1gr1_xvJq",
        "colab": {
          "base_uri": "https://localhost:8080/",
          "height": 311
        },
        "outputId": "9e7b31d7-7f30-4da2-aa2d-9b35e2ae553e"
      },
      "source": [
        "Y_pred3 = network3.predict(test_images)\n",
        "Y_pred_classes3 = np.argmax(Y_pred3, axis = 1) \n",
        "Y_true3 = np.argmax(test_labels, axis = 1) \n",
        "confusion_mtx3 = confusion_matrix(Y_true3, Y_pred_classes3) \n",
        "plot_confusion_matrix(confusion_mtx3, classes = range(10))"
      ],
      "execution_count": 94,
      "outputs": [
        {
          "output_type": "display_data",
          "data": {
            "image/png": "[encoded data removed]",
            "text/plain": [
              "<Figure size 432x288 with 2 Axes>"
            ]
          },
          "metadata": {
            "needs_background": "light"
          }
        }
      ]
    },
    {
      "cell_type": "markdown",
      "metadata": {
        "id": "IX1braMfG9JJ"
      },
      "source": [
        "En este caso, observamos que en la diagonal ya no se encuentran los valores más altos.\n",
        "\n",
        "La imagen 6(camisa), se piensa que es un jersey ya que de los mil casos, 303 ha dicho que era un jersey y sólo 72 ha dicho que era una camisa."
      ]
    },
    {
      "cell_type": "markdown",
      "metadata": {
        "id": "dcZ6TBRNxvk9"
      },
      "source": [
        "**Matriz modelo 6**\n",
        "\n",
        "Mejor caso para 512 neuronas"
      ]
    },
    {
      "cell_type": "code",
      "metadata": {
        "id": "zzNR-KrKFFS3",
        "colab": {
          "base_uri": "https://localhost:8080/",
          "height": 311
        },
        "outputId": "4c30b16f-b4eb-4cd5-9692-d314cb53c363"
      },
      "source": [
        "Y_pred6 = network6.predict(test_images)\n",
        "Y_pred_classes6 = np.argmax(Y_pred6, axis = 1) \n",
        "Y_true6 = np.argmax(test_labels, axis = 1) \n",
        "confusion_mtx6 = confusion_matrix(Y_true6, Y_pred_classes6) \n",
        "plot_confusion_matrix(confusion_mtx6, classes = range(10))"
      ],
      "execution_count": 95,
      "outputs": [
        {
          "output_type": "display_data",
          "data": {
            "image/png": "[encoded data removed]",
            "text/plain": [
              "<Figure size 432x288 with 2 Axes>"
            ]
          },
          "metadata": {
            "needs_background": "light"
          }
        }
      ]
    },
    {
      "cell_type": "markdown",
      "metadata": {
        "id": "Tsvx3L72Hpmk"
      },
      "source": [
        "Al igual que en el modelo 2, los valores más altos se encuentran en la diagonal, por lo que está prediciendo bien las imágenes.\n"
      ]
    },
    {
      "cell_type": "markdown",
      "metadata": {
        "id": "RQPG7xr3FPjo"
      },
      "source": [
        "**Matriz modelo 7**\n",
        "\n",
        "Peor caso para 512 neuronas"
      ]
    },
    {
      "cell_type": "code",
      "metadata": {
        "id": "mEIhrNnmFP89",
        "colab": {
          "base_uri": "https://localhost:8080/",
          "height": 311
        },
        "outputId": "ea61a1c9-9684-443a-ce5a-8f1c9ab3a134"
      },
      "source": [
        "Y_pred7 = network7.predict(test_images)\n",
        "Y_pred_classes7 = np.argmax(Y_pred7, axis = 1) \n",
        "Y_true7 = np.argmax(test_labels, axis = 1) \n",
        "confusion_mtx7 = confusion_matrix(Y_true7, Y_pred_classes7) \n",
        "plot_confusion_matrix(confusion_mtx7, classes = range(10))"
      ],
      "execution_count": 96,
      "outputs": [
        {
          "output_type": "display_data",
          "data": {
            "image/png": "[encoded data removed]",
            "text/plain": [
              "<Figure size 432x288 with 2 Axes>"
            ]
          },
          "metadata": {
            "needs_background": "light"
          }
        }
      ]
    },
    {
      "cell_type": "markdown",
      "metadata": {
        "id": "wMp8_EYzIU1V"
      },
      "source": [
        "Vemos que en la diagonal están los valores más altos, pero el número de errores que ha cometido a su vez también es muy alto."
      ]
    },
    {
      "cell_type": "markdown",
      "metadata": {
        "id": "IXIztTx1KdZa"
      },
      "source": [
        "### **GRÁFICAS**"
      ]
    },
    {
      "cell_type": "markdown",
      "metadata": {
        "id": "07NamC1NOOR2"
      },
      "source": [
        "Para poder ver como se comporta el modelo respecto a la precisión y pérdida con datos que no ha visto nunca, separamos 10000 imágenes de nuestros datos de entrenamiento y las guardamos como datos de validación, los cuales no forman parte del entrenamiento"
      ]
    },
    {
      "cell_type": "code",
      "metadata": {
        "id": "2Y4F4wzlKnIo"
      },
      "source": [
        "import numpy as np\n",
        "\n",
        "x_train = np.asarray(train_images).astype('float32')\n",
        "x_test = np.asarray(test_images).astype('float32')\n",
        "x_train\n",
        "# Convertimos el vector de etiquetas en un tensor Numpy de coma flotante  \n",
        "y_train = np.asarray(train_labels).astype('float32')\n",
        "y_test = np.asarray(test_labels).astype('float32')\n",
        "y_train\n",
        "\n",
        "x_val = x_train[:10000]\n",
        "partial_x_train = x_train[10000:]\n",
        "\n",
        "y_val = y_train[:10000]\n",
        "partial_y_train = y_train[10000:]"
      ],
      "execution_count": 97,
      "outputs": []
    },
    {
      "cell_type": "code",
      "metadata": {
        "id": "BNx9FIYqOTJo",
        "colab": {
          "base_uri": "https://localhost:8080/"
        },
        "outputId": "bf5767a3-f0d0-4460-93ba-c8f0eda1df63"
      },
      "source": [
        "network7.compile(optimizer='sgd',\n",
        "              loss='sparse_categorical_crossentropy',\n",
        "              metrics=['acc'])\n",
        "\n",
        "history = network7.fit(partial_x_train,\n",
        "                    partial_y_train,\n",
        "                    epochs=50,\n",
        "                    batch_size=512,\n",
        "                    validation_data=(x_val, y_val))"
      ],
      "execution_count": 98,
      "outputs": [
        {
          "output_type": "stream",
          "name": "stdout",
          "text": [
            "Epoch 1/50\n",
            "98/98 [==============================] - 3s 24ms/step - loss: 0.7347 - acc: 0.7566 - val_loss: 0.7305 - val_acc: 0.7608\n",
            "Epoch 2/50\n",
            "98/98 [==============================] - 2s 23ms/step - loss: 0.7265 - acc: 0.7589 - val_loss: 0.7224 - val_acc: 0.7614\n",
            "Epoch 3/50\n",
            "98/98 [==============================] - 2s 23ms/step - loss: 0.7190 - acc: 0.7607 - val_loss: 0.7151 - val_acc: 0.7629\n",
            "Epoch 4/50\n",
            "98/98 [==============================] - 2s 23ms/step - loss: 0.7119 - acc: 0.7617 - val_loss: 0.7084 - val_acc: 0.7654\n",
            "Epoch 5/50\n",
            "98/98 [==============================] - 2s 23ms/step - loss: 0.7051 - acc: 0.7640 - val_loss: 0.7020 - val_acc: 0.7678\n",
            "Epoch 6/50\n",
            "98/98 [==============================] - 2s 23ms/step - loss: 0.6986 - acc: 0.7648 - val_loss: 0.6956 - val_acc: 0.7691\n",
            "Epoch 7/50\n",
            "98/98 [==============================] - 2s 23ms/step - loss: 0.6926 - acc: 0.7657 - val_loss: 0.6902 - val_acc: 0.7687\n",
            "Epoch 8/50\n",
            "98/98 [==============================] - 2s 23ms/step - loss: 0.6869 - acc: 0.7679 - val_loss: 0.6846 - val_acc: 0.7714\n",
            "Epoch 9/50\n",
            "98/98 [==============================] - 2s 23ms/step - loss: 0.6814 - acc: 0.7683 - val_loss: 0.6796 - val_acc: 0.7721\n",
            "Epoch 10/50\n",
            "98/98 [==============================] - 2s 23ms/step - loss: 0.6761 - acc: 0.7706 - val_loss: 0.6742 - val_acc: 0.7740\n",
            "Epoch 11/50\n",
            "98/98 [==============================] - 2s 23ms/step - loss: 0.6711 - acc: 0.7714 - val_loss: 0.6693 - val_acc: 0.7751\n",
            "Epoch 12/50\n",
            "98/98 [==============================] - 2s 23ms/step - loss: 0.6663 - acc: 0.7733 - val_loss: 0.6649 - val_acc: 0.7758\n",
            "Epoch 13/50\n",
            "98/98 [==============================] - 2s 22ms/step - loss: 0.6617 - acc: 0.7743 - val_loss: 0.6608 - val_acc: 0.7754\n",
            "Epoch 14/50\n",
            "98/98 [==============================] - 2s 23ms/step - loss: 0.6573 - acc: 0.7755 - val_loss: 0.6561 - val_acc: 0.7777\n",
            "Epoch 15/50\n",
            "98/98 [==============================] - 2s 23ms/step - loss: 0.6530 - acc: 0.7769 - val_loss: 0.6520 - val_acc: 0.7799\n",
            "Epoch 16/50\n",
            "98/98 [==============================] - 2s 23ms/step - loss: 0.6489 - acc: 0.7774 - val_loss: 0.6484 - val_acc: 0.7804\n",
            "Epoch 17/50\n",
            "98/98 [==============================] - 2s 23ms/step - loss: 0.6450 - acc: 0.7792 - val_loss: 0.6443 - val_acc: 0.7824\n",
            "Epoch 18/50\n",
            "98/98 [==============================] - 2s 23ms/step - loss: 0.6411 - acc: 0.7808 - val_loss: 0.6403 - val_acc: 0.7848\n",
            "Epoch 19/50\n",
            "98/98 [==============================] - 2s 23ms/step - loss: 0.6374 - acc: 0.7816 - val_loss: 0.6367 - val_acc: 0.7855\n",
            "Epoch 20/50\n",
            "98/98 [==============================] - 2s 23ms/step - loss: 0.6339 - acc: 0.7831 - val_loss: 0.6337 - val_acc: 0.7852\n",
            "Epoch 21/50\n",
            "98/98 [==============================] - 2s 23ms/step - loss: 0.6304 - acc: 0.7840 - val_loss: 0.6305 - val_acc: 0.7873\n",
            "Epoch 22/50\n",
            "98/98 [==============================] - 2s 23ms/step - loss: 0.6270 - acc: 0.7846 - val_loss: 0.6272 - val_acc: 0.7890\n",
            "Epoch 23/50\n",
            "98/98 [==============================] - 2s 23ms/step - loss: 0.6237 - acc: 0.7862 - val_loss: 0.6238 - val_acc: 0.7896\n",
            "Epoch 24/50\n",
            "98/98 [==============================] - 2s 23ms/step - loss: 0.6206 - acc: 0.7865 - val_loss: 0.6207 - val_acc: 0.7904\n",
            "Epoch 25/50\n",
            "98/98 [==============================] - 2s 23ms/step - loss: 0.6176 - acc: 0.7880 - val_loss: 0.6178 - val_acc: 0.7917\n",
            "Epoch 26/50\n",
            "98/98 [==============================] - 2s 24ms/step - loss: 0.6146 - acc: 0.7894 - val_loss: 0.6152 - val_acc: 0.7909\n",
            "Epoch 27/50\n",
            "98/98 [==============================] - 2s 22ms/step - loss: 0.6117 - acc: 0.7901 - val_loss: 0.6123 - val_acc: 0.7927\n",
            "Epoch 28/50\n",
            "98/98 [==============================] - 2s 23ms/step - loss: 0.6089 - acc: 0.7907 - val_loss: 0.6093 - val_acc: 0.7945\n",
            "Epoch 29/50\n",
            "98/98 [==============================] - 2s 23ms/step - loss: 0.6061 - acc: 0.7922 - val_loss: 0.6065 - val_acc: 0.7952\n",
            "Epoch 30/50\n",
            "98/98 [==============================] - 2s 23ms/step - loss: 0.6034 - acc: 0.7929 - val_loss: 0.6045 - val_acc: 0.7943\n",
            "Epoch 31/50\n",
            "98/98 [==============================] - 2s 23ms/step - loss: 0.6008 - acc: 0.7935 - val_loss: 0.6016 - val_acc: 0.7975\n",
            "Epoch 32/50\n",
            "98/98 [==============================] - 2s 23ms/step - loss: 0.5983 - acc: 0.7946 - val_loss: 0.5994 - val_acc: 0.7974\n",
            "Epoch 33/50\n",
            "98/98 [==============================] - 2s 23ms/step - loss: 0.5958 - acc: 0.7954 - val_loss: 0.5966 - val_acc: 0.7984\n",
            "Epoch 34/50\n",
            "98/98 [==============================] - 2s 22ms/step - loss: 0.5935 - acc: 0.7963 - val_loss: 0.5940 - val_acc: 0.8000\n",
            "Epoch 35/50\n",
            "98/98 [==============================] - 2s 23ms/step - loss: 0.5911 - acc: 0.7974 - val_loss: 0.5922 - val_acc: 0.7998\n",
            "Epoch 36/50\n",
            "98/98 [==============================] - 2s 23ms/step - loss: 0.5888 - acc: 0.7978 - val_loss: 0.5904 - val_acc: 0.7995\n",
            "Epoch 37/50\n",
            "98/98 [==============================] - 2s 23ms/step - loss: 0.5864 - acc: 0.7980 - val_loss: 0.5876 - val_acc: 0.8011\n",
            "Epoch 38/50\n",
            "98/98 [==============================] - 2s 23ms/step - loss: 0.5843 - acc: 0.7990 - val_loss: 0.5853 - val_acc: 0.8028\n",
            "Epoch 39/50\n",
            "98/98 [==============================] - 2s 23ms/step - loss: 0.5821 - acc: 0.8004 - val_loss: 0.5834 - val_acc: 0.8031\n",
            "Epoch 40/50\n",
            "98/98 [==============================] - 2s 23ms/step - loss: 0.5801 - acc: 0.8009 - val_loss: 0.5814 - val_acc: 0.8040\n",
            "Epoch 41/50\n",
            "98/98 [==============================] - 2s 23ms/step - loss: 0.5780 - acc: 0.8009 - val_loss: 0.5792 - val_acc: 0.8036\n",
            "Epoch 42/50\n",
            "98/98 [==============================] - 2s 23ms/step - loss: 0.5759 - acc: 0.8022 - val_loss: 0.5775 - val_acc: 0.8039\n",
            "Epoch 43/50\n",
            "98/98 [==============================] - 2s 22ms/step - loss: 0.5740 - acc: 0.8022 - val_loss: 0.5752 - val_acc: 0.8050\n",
            "Epoch 44/50\n",
            "98/98 [==============================] - 2s 23ms/step - loss: 0.5721 - acc: 0.8029 - val_loss: 0.5736 - val_acc: 0.8054\n",
            "Epoch 45/50\n",
            "98/98 [==============================] - 2s 23ms/step - loss: 0.5702 - acc: 0.8036 - val_loss: 0.5715 - val_acc: 0.8063\n",
            "Epoch 46/50\n",
            "98/98 [==============================] - 2s 23ms/step - loss: 0.5684 - acc: 0.8045 - val_loss: 0.5698 - val_acc: 0.8067\n",
            "Epoch 47/50\n",
            "98/98 [==============================] - 2s 23ms/step - loss: 0.5666 - acc: 0.8048 - val_loss: 0.5680 - val_acc: 0.8078\n",
            "Epoch 48/50\n",
            "98/98 [==============================] - 2s 23ms/step - loss: 0.5648 - acc: 0.8056 - val_loss: 0.5668 - val_acc: 0.8078\n",
            "Epoch 49/50\n",
            "98/98 [==============================] - 2s 23ms/step - loss: 0.5631 - acc: 0.8053 - val_loss: 0.5646 - val_acc: 0.8088\n",
            "Epoch 50/50\n",
            "98/98 [==============================] - 2s 23ms/step - loss: 0.5614 - acc: 0.8068 - val_loss: 0.5627 - val_acc: 0.8092\n"
          ]
        }
      ]
    },
    {
      "cell_type": "markdown",
      "metadata": {
        "id": "gzUI-kKKs-wl"
      },
      "source": [
        "Como con 25 iteraciones hemos visto que no se produce sobreentrenamiento, aplicamos 50 para ver como se comporta (epochs = 50)."
      ]
    },
    {
      "cell_type": "code",
      "metadata": {
        "id": "jqm63-ggOXcw",
        "colab": {
          "base_uri": "https://localhost:8080/"
        },
        "outputId": "7683e78c-32e2-473c-d77e-cfe07eda934d"
      },
      "source": [
        "history_dict = history.history\n",
        "history_dict.keys()\n",
        "print(history_dict['loss'])\n",
        "print(history_dict['acc'])\n",
        "print(history_dict['val_loss'])\n",
        "print(history_dict['val_acc'])"
      ],
      "execution_count": 99,
      "outputs": [
        {
          "output_type": "stream",
          "name": "stdout",
          "text": [
            "[0.7346899509429932, 0.7265082597732544, 0.7190191149711609, 0.7118527889251709, 0.7050682902336121, 0.6986331939697266, 0.6926467418670654, 0.6868607997894287, 0.6813501715660095, 0.6761451363563538, 0.6710982322692871, 0.6662700772285461, 0.6617090106010437, 0.6572924256324768, 0.652971625328064, 0.6489179134368896, 0.6449756622314453, 0.6411089301109314, 0.6373603343963623, 0.6339022517204285, 0.6303884983062744, 0.6270440220832825, 0.623734712600708, 0.6205991506576538, 0.6175686717033386, 0.6146089434623718, 0.6117305755615234, 0.6088586449623108, 0.6061351299285889, 0.6034170985221863, 0.6008180975914001, 0.598322331905365, 0.5957929491996765, 0.5934730172157288, 0.5910623669624329, 0.5887588858604431, 0.5864320397377014, 0.5842713713645935, 0.5821366906166077, 0.5800656080245972, 0.5779945254325867, 0.5759332180023193, 0.573989748954773, 0.5721009969711304, 0.570210337638855, 0.5683971047401428, 0.5665728449821472, 0.5648103356361389, 0.5630649328231812, 0.5614060163497925]\n",
            "[0.7566199898719788, 0.7588599920272827, 0.7607399821281433, 0.7616599798202515, 0.7640399932861328, 0.7647600173950195, 0.7656999826431274, 0.7679200172424316, 0.768339991569519, 0.7706199884414673, 0.771399974822998, 0.7733200192451477, 0.7742800116539001, 0.7754799723625183, 0.7768999934196472, 0.777400016784668, 0.7791600227355957, 0.7807599902153015, 0.7816200256347656, 0.7831400036811829, 0.7839599847793579, 0.7845600247383118, 0.7861999869346619, 0.7864800095558167, 0.7879800200462341, 0.7894399762153625, 0.7901399731636047, 0.79066002368927, 0.7922000288963318, 0.7929400205612183, 0.7935199737548828, 0.7946199774742126, 0.7954199910163879, 0.796280026435852, 0.7973999977111816, 0.7978000044822693, 0.7979599833488464, 0.7990400195121765, 0.8003600239753723, 0.8008999824523926, 0.8009200096130371, 0.8022000193595886, 0.8022400140762329, 0.8029000163078308, 0.8035600185394287, 0.8044999837875366, 0.8048400282859802, 0.8055999875068665, 0.8052800297737122, 0.8067600131034851]\n",
            "[0.7304563522338867, 0.7223590016365051, 0.7151382565498352, 0.7084211111068726, 0.7020240426063538, 0.6956082582473755, 0.6901947259902954, 0.6845785975456238, 0.6796236634254456, 0.6742129325866699, 0.6693404912948608, 0.6648748517036438, 0.660770833492279, 0.65614914894104, 0.6519699096679688, 0.6484355926513672, 0.6442816257476807, 0.6403199434280396, 0.6366797089576721, 0.6337324380874634, 0.6304857134819031, 0.6271660327911377, 0.6238346695899963, 0.6207294464111328, 0.6177615523338318, 0.6152388453483582, 0.6123085021972656, 0.6093480587005615, 0.606468915939331, 0.604475200176239, 0.6015589237213135, 0.5993987917900085, 0.596580445766449, 0.5940161943435669, 0.5921896696090698, 0.5903555750846863, 0.587607204914093, 0.5852886438369751, 0.583406388759613, 0.5814359188079834, 0.5792091488838196, 0.5775120854377747, 0.5751946568489075, 0.573645830154419, 0.5715400576591492, 0.5698202848434448, 0.5680131316184998, 0.566764235496521, 0.5645827651023865, 0.5627122521400452]\n",
            "[0.7608000040054321, 0.7613999843597412, 0.7628999948501587, 0.7653999924659729, 0.767799973487854, 0.76910001039505, 0.7687000036239624, 0.771399974822998, 0.7720999717712402, 0.7739999890327454, 0.7750999927520752, 0.7757999897003174, 0.7753999829292297, 0.7777000069618225, 0.7799000144004822, 0.7803999781608582, 0.7824000120162964, 0.7847999930381775, 0.7854999899864197, 0.7851999998092651, 0.7872999906539917, 0.7889999747276306, 0.7896000146865845, 0.7904000282287598, 0.791700005531311, 0.7908999919891357, 0.7926999926567078, 0.7944999933242798, 0.795199990272522, 0.7943000197410583, 0.7975000143051147, 0.7973999977111816, 0.7983999848365784, 0.800000011920929, 0.7997999787330627, 0.7994999885559082, 0.8011000156402588, 0.8027999997138977, 0.8030999898910522, 0.8040000200271606, 0.803600013256073, 0.8039000034332275, 0.8050000071525574, 0.805400013923645, 0.8062999844551086, 0.8066999912261963, 0.8077999949455261, 0.8077999949455261, 0.8087999820709229, 0.8091999888420105]\n"
          ]
        }
      ]
    },
    {
      "cell_type": "code",
      "metadata": {
        "id": "JFq7Q_iyOaPA",
        "colab": {
          "base_uri": "https://localhost:8080/",
          "height": 295
        },
        "outputId": "bc32edf6-d44c-42fc-a477-564f5b1815b7"
      },
      "source": [
        "import matplotlib.pyplot as plt\n",
        "\n",
        "acc = history.history['acc']\n",
        "val_acc = history.history['val_acc']\n",
        "loss = history.history['loss']\n",
        "val_loss = history.history['val_loss']\n",
        "\n",
        "epochs = range(1, len(acc) + 1)\n",
        "\n",
        "# \"bo\" es para \"punto azun\"\n",
        "plt.plot(epochs, loss, 'bo', label='Pérdida de Entrenamiento')\n",
        "# \"b\" es para \"linea continua azul\"\n",
        "plt.plot(epochs, val_loss, 'b', label='Pérdida de Validación')\n",
        "plt.title('Pérdida de Entrenamiento y Validación')\n",
        "plt.xlabel('Epochs')\n",
        "plt.ylabel('Loss')\n",
        "plt.legend()\n",
        "\n",
        "plt.show()"
      ],
      "execution_count": 100,
      "outputs": [
        {
          "output_type": "display_data",
          "data": {
            "image/png": "[encoded data removed]",
            "text/plain": [
              "<Figure size 432x288 with 1 Axes>"
            ]
          },
          "metadata": {
            "needs_background": "light"
          }
        }
      ]
    },
    {
      "cell_type": "markdown",
      "metadata": {
        "id": "sfk-TsCrOd62"
      },
      "source": [
        "Podemos ver que a más iteraciones en la red 7, menos pérdida tienen tanto los datos de entrenamiento como los datos de validación. En este caso, son prácticamente los mismos valores para ambos conjuntos de datos."
      ]
    },
    {
      "cell_type": "code",
      "metadata": {
        "id": "F4OvBJaROgGD",
        "colab": {
          "base_uri": "https://localhost:8080/",
          "height": 295
        },
        "outputId": "51d8b327-79dc-40c4-f71c-810a2156d8fe"
      },
      "source": [
        "plt.clf()   # Limpia la figura\n",
        "acc_values = history_dict['acc']\n",
        "val_acc_values = history_dict['val_acc']\n",
        "\n",
        "plt.plot(epochs, acc, 'bo', label='Precisión de Entrenamiento')\n",
        "plt.plot(epochs, val_acc, 'b', label='Precisión de Validación')\n",
        "plt.title('Precisión de Entrenamiento y Valización')\n",
        "plt.xlabel('Epochs')\n",
        "plt.ylabel('Loss')\n",
        "plt.legend()\n",
        "\n",
        "plt.show()"
      ],
      "execution_count": 101,
      "outputs": [
        {
          "output_type": "display_data",
          "data": {
            "image/png": "[encoded data removed]",
            "text/plain": [
              "<Figure size 432x288 with 1 Axes>"
            ]
          },
          "metadata": {
            "needs_background": "light"
          }
        }
      ]
    },
    {
      "cell_type": "markdown",
      "metadata": {
        "id": "t6a1fc3VOiVj"
      },
      "source": [
        "En cuanto a la precisión, a más iteraciones, más precisión. En los datos de validación podemos apreciar más picos, pero la tendencia es aumentar la precisión según aumenta la precisión."
      ]
    },
    {
      "cell_type": "markdown",
      "metadata": {
        "id": "lUJOXHNDnX0f"
      },
      "source": [
        "### **CONCLUSIONES**"
      ]
    },
    {
      "cell_type": "markdown",
      "metadata": {
        "id": "wBU51qsxnd1b"
      },
      "source": [
        "Como resumen, nos damos cuenta que la función relu mejora significativamente nuestros modelos al igual que el optimizador rmsprop. \n",
        "\n",
        "La función de activación *relu* ayuda a las redes neuronales a formar modelos de aprendizaje profundo, esto permite que el modelo funcione mejor y aprenda más rápido.\n",
        "\n",
        "También vemos que en un rango de 25-50 iteraciones, aunque podríamos esperar un sobreentrenamiento, esto no sucede, lo que sí ocurre es que la precisión cada vez aumenta más lentamente y la perdida se reduce menos cada vez.\n",
        "Aún asi, vemos que a partir de la iteración 18 el valor no cambia significativamente, por lo que podríamos ahorrarnos esas iteraciones ya que realmente no están mejorando el sistema y el tiempo de ejecución si que aumenta."
      ]
    }
  ]
}